{
 "cells": [
  {
   "cell_type": "markdown",
   "metadata": {},
   "source": [
    "# Single QPU VQE experiment\n",
    "\n",
    "This notebook goes through the running of a VQE algorithm using interlin-q. For simplicity, we only try out using one QPU. This notebook differs from the manual version in the manner it calculates the expectation value. Here, the controller host sends the hamiltonian to the computing hosts, and then asks it for the expectation value later through interlin-q API. This approach should scale up with the increasing number of computing hosts.\n",
    "\n",
    "This notebook also won't include the 'single-step' implementation."
   ]
  },
  {
   "cell_type": "markdown",
   "metadata": {},
   "source": [
    "## Step 1: Import libraries.\n",
    "\n",
    "First we import all the necessary libraries. Interlin-q is build using the python framework [QuNetSim](https://arxiv.org/abs/2003.06397) which is a python software framework that can be used to simulate quantum networks up to the network layer. We also need PennyLane's chemistry library for decomposing the Hamiltonian. We would also use PennyLane for the optimiser component"
   ]
  },
  {
   "cell_type": "code",
   "execution_count": 1,
   "metadata": {},
   "outputs": [],
   "source": [
    "%load_ext autoreload\n",
    "\n",
    "%autoreload 2\n",
    "\n",
    "# Basic Libraries\n",
    "import sys\n",
    "from pennylane import numpy as np\n",
    "sys.path.append(\"../../\")\n",
    "\n",
    "# QuNetSim Components\n",
    "from qunetsim.components import Network\n",
    "from qunetsim.objects import Logger\n",
    "from qunetsim.backends.qutip_backend import QuTipBackend\n",
    "\n",
    "# Interlin-q Components\n",
    "from interlinq import (ControllerHost, Constants, Clock,\n",
    "Circuit, Layer, ComputingHost, Operation)\n",
    "\n",
    "# Extra needed components\n",
    "from pennylane import GradientDescentOptimizer\n",
    "from hamiltonian_decomposition import decompose\n",
    "\n",
    "Logger.DISABLED = False"
   ]
  },
  {
   "cell_type": "markdown",
   "metadata": {},
   "source": [
    "## Step 2: Decompose the Hamiltonian."
   ]
  },
  {
   "cell_type": "code",
   "execution_count": 2,
   "metadata": {},
   "outputs": [],
   "source": [
    "geometry = 'h2.xyz'\n",
    "charge = 0\n",
    "multiplicity = 1\n",
    "basis_set = 'sto-3g'\n",
    "name = 'h2'"
   ]
  },
  {
   "cell_type": "code",
   "execution_count": 3,
   "metadata": {},
   "outputs": [
    {
     "data": {
      "text/plain": [
       "[(-0.04207897647782276, [('Identity', 0)]),\n",
       " (0.17771287465139946, [('PauliZ', 0)]),\n",
       " (0.1777128746513994, [('PauliZ', 1)]),\n",
       " (-0.24274280513140462, [('PauliZ', 2)]),\n",
       " (-0.24274280513140462, [('PauliZ', 3)]),\n",
       " (0.17059738328801052, [('PauliZ', 0), ('PauliZ', 1)]),\n",
       " (0.04475014401535161,\n",
       "  [('PauliY', 0), ('PauliX', 1), ('PauliX', 2), ('PauliY', 3)]),\n",
       " (-0.04475014401535161,\n",
       "  [('PauliY', 0), ('PauliY', 1), ('PauliX', 2), ('PauliX', 3)]),\n",
       " (-0.04475014401535161,\n",
       "  [('PauliX', 0), ('PauliX', 1), ('PauliY', 2), ('PauliY', 3)]),\n",
       " (0.04475014401535161,\n",
       "  [('PauliX', 0), ('PauliY', 1), ('PauliY', 2), ('PauliX', 3)]),\n",
       " (0.12293305056183798, [('PauliZ', 0), ('PauliZ', 2)]),\n",
       " (0.1676831945771896, [('PauliZ', 0), ('PauliZ', 3)]),\n",
       " (0.1676831945771896, [('PauliZ', 1), ('PauliZ', 2)]),\n",
       " (0.12293305056183798, [('PauliZ', 1), ('PauliZ', 3)]),\n",
       " (0.17627640804319591, [('PauliZ', 2), ('PauliZ', 3)])]"
      ]
     },
     "execution_count": 3,
     "metadata": {},
     "output_type": "execute_result"
    }
   ],
   "source": [
    "coefficients, observables, qubit_num = decompose(name, geometry, charge, multiplicity, basis_set)\n",
    "terms = list(zip(coefficients, observables))\n",
    "\n",
    "terms"
   ]
  },
  {
   "cell_type": "markdown",
   "metadata": {},
   "source": [
    "## Step 3: Prepare Circuit for Given Parameters"
   ]
  },
  {
   "cell_type": "markdown",
   "metadata": {},
   "source": [
    "The circuit can be prepared using two different ways: either as one circuit, or several circuits run sequentially. The former approach is simpler and generally better for the optimisation function. The latter is better for debugging and for dynamic components of a quantum circuit (i.e. circuits that have a lot of changing operations)."
   ]
  },
  {
   "cell_type": "markdown",
   "metadata": {},
   "source": [
    "### Main Blocks"
   ]
  },
  {
   "cell_type": "code",
   "execution_count": 4,
   "metadata": {},
   "outputs": [],
   "source": [
    "def rotational_gate(params):\n",
    "    phi, theta, omega = params\n",
    "    cos = np.cos(theta / 2)\n",
    "    sin = np.sin(theta / 2)\n",
    "    \n",
    "    res = np.array([[np.exp(-1j * (phi + omega) / 2) * cos, -np.exp(1j * (phi - omega) / 2) * sin], \n",
    "                     [np.exp(-1j * (phi - omega) / 2) * sin, np.exp(1j * (phi + omega) / 2) * cos]])\n",
    "    \n",
    "    return res.unwrap()"
   ]
  },
  {
   "cell_type": "code",
   "execution_count": 5,
   "metadata": {},
   "outputs": [],
   "source": [
    "def initialisation_operations(q_map):\n",
    "    ops = []\n",
    "    host_id = list(q_map.keys())[0]\n",
    "    \n",
    "    op = Operation(\n",
    "        name=Constants.PREPARE_QUBITS,\n",
    "        qids=q_map[host_id],\n",
    "        computing_host_ids=[host_id])\n",
    "    ops.append(op)\n",
    "    \n",
    "    # Prepare the qubits on the computing host\n",
    "    op = Operation(\n",
    "        name=Constants.SINGLE,\n",
    "        qids=[q_map[host_id][0]],\n",
    "        gate=Operation.X,\n",
    "        computing_host_ids=[host_id])\n",
    "    ops.append(op)\n",
    "    \n",
    "    op = Operation(\n",
    "        name=Constants.SINGLE,\n",
    "        qids=[q_map[host_id][1]],\n",
    "        gate=Operation.X,\n",
    "        computing_host_ids=[host_id])\n",
    "    ops.append(op)\n",
    "    \n",
    "    return Layer(ops)"
   ]
  },
  {
   "cell_type": "code",
   "execution_count": 6,
   "metadata": {},
   "outputs": [],
   "source": [
    "def ansatz_operations(q_map, parameters):\n",
    "    layers = []\n",
    "    host_id = list(q_map.keys())[0]\n",
    "    \n",
    "    ops = []\n",
    "    \n",
    "    for i in range(len(q_map[host_id])):\n",
    "        op = Operation(\n",
    "            name=Constants.SINGLE,\n",
    "            qids=[q_map[host_id][i]],\n",
    "            gate=Operation.CUSTOM,\n",
    "            gate_param=rotational_gate(parameters[i]),\n",
    "            computing_host_ids=[host_id])\n",
    "        \n",
    "        ops.append(op)\n",
    "        \n",
    "    layers.append(Layer(ops))\n",
    "    \n",
    "    op = Operation(\n",
    "        name=Constants.TWO_QUBIT,\n",
    "        qids=[q_map[host_id][2], q_map[host_id][3]],\n",
    "        gate=Operation.CNOT,\n",
    "        computing_host_ids=[host_id])\n",
    "    \n",
    "    layers.append(Layer([op]))\n",
    "    \n",
    "    op = Operation(\n",
    "        name=Constants.TWO_QUBIT,\n",
    "        qids=[q_map[host_id][2], q_map[host_id][0]],\n",
    "        gate=Operation.CNOT,\n",
    "        computing_host_ids=[host_id])\n",
    "    \n",
    "    layers.append(Layer([op]))\n",
    "    \n",
    "    op = Operation(\n",
    "        name=Constants.TWO_QUBIT,\n",
    "        qids=[q_map[host_id][3], q_map[host_id][1]],\n",
    "        gate=Operation.CNOT,\n",
    "        computing_host_ids=[host_id])\n",
    "    \n",
    "    layers.append(Layer([op]))\n",
    "        \n",
    "    return layers"
   ]
  },
  {
   "cell_type": "code",
   "execution_count": 7,
   "metadata": {},
   "outputs": [],
   "source": [
    "def measurement_operations(q_map):\n",
    "    ops = []\n",
    "    # Measuring only the first qubit\n",
    "    op = Operation(\n",
    "        name=Constants.MEASURE,\n",
    "        qids=['q_0_0'],\n",
    "        cids=['q_0_0'],\n",
    "        computing_host_ids=[host_id])\n",
    "    ops.append(op)\n",
    "    layers.append(Layer(ops))\n",
    "    \n",
    "    # Measuring all qubits\n",
    "    q_ids = q_map[host_id].copy()\n",
    "    ops = []\n",
    "    for q_id in q_ids:\n",
    "        op = Operation(\n",
    "            name=Constants.MEASURE,\n",
    "            qids=[q_id],\n",
    "            cids=[q_id],\n",
    "            computing_host_ids=[computing_host_ids[0]])\n",
    "        ops.append(op)\n",
    "        \n",
    "    return Layer(ops)"
   ]
  },
  {
   "cell_type": "markdown",
   "metadata": {},
   "source": [
    "### The Protocols"
   ]
  },
  {
   "cell_type": "markdown",
   "metadata": {},
   "source": [
    "#### The Controller Protocols "
   ]
  },
  {
   "cell_type": "code",
   "execution_count": 8,
   "metadata": {},
   "outputs": [],
   "source": [
    "def prepare_qubits(q_map): \n",
    "    circuit = Circuit(q_map, [initialisation_operations(q_map)])\n",
    "    return circuit"
   ]
  },
  {
   "cell_type": "code",
   "execution_count": 9,
   "metadata": {},
   "outputs": [],
   "source": [
    "def apply_ansatz(q_map, parameters):\n",
    "    circuit = Circuit(q_map, ansatz_operations(q_map, parameters))\n",
    "    return circuit"
   ]
  },
  {
   "cell_type": "code",
   "execution_count": 10,
   "metadata": {},
   "outputs": [],
   "source": [
    "def controller_host_protocol_preparation(host, q_map, params):\n",
    "    \"\"\"\n",
    "    Protocol for the controller host\n",
    "    \"\"\"\n",
    "    host.generate_and_send_schedules(prepare_qubits(q_map))"
   ]
  },
  {
   "cell_type": "code",
   "execution_count": 11,
   "metadata": {},
   "outputs": [],
   "source": [
    "def controller_host_protocol_ansatz(host, q_map, params):\n",
    "    \"\"\"\n",
    "    Protocol for the controller host\n",
    "    \"\"\"\n",
    "    host.generate_and_send_schedules(apply_ansatz(q_map, params))"
   ]
  },
  {
   "cell_type": "code",
   "execution_count": 12,
   "metadata": {},
   "outputs": [],
   "source": [
    "def controller_host_protocol_expectation_schedule(host, q_map, terms):\n",
    "    \"\"\"\n",
    "    Protocol for the controller host\n",
    "    \"\"\"\n",
    "    host.schedule_expectation_terms(terms, q_map)\n",
    "    \n",
    "    host.dispatch_hamiltonian_schedules(q_map)"
   ]
  },
  {
   "cell_type": "code",
   "execution_count": 13,
   "metadata": {},
   "outputs": [],
   "source": [
    "def controller_host_protocol_expectation_collection(host, q_map, terms):\n",
    "    \"\"\"\n",
    "    Protocol for the controller host\n",
    "    \"\"\"\n",
    "    host.ask_for_expectation_values(q_map)\n",
    "    \n",
    "    host.receive_results()"
   ]
  },
  {
   "cell_type": "markdown",
   "metadata": {},
   "source": [
    "#### The Computing Protocols"
   ]
  },
  {
   "cell_type": "code",
   "execution_count": 14,
   "metadata": {},
   "outputs": [],
   "source": [
    "def computing_host_protocol(host):\n",
    "    host.receive_schedule()"
   ]
  },
  {
   "cell_type": "code",
   "execution_count": 15,
   "metadata": {},
   "outputs": [],
   "source": [
    "def computing_host_protocol_send_results(host):\n",
    "    host.receive_schedule()\n",
    "    \n",
    "    host.send_results('expectation')"
   ]
  },
  {
   "cell_type": "markdown",
   "metadata": {},
   "source": [
    "## Step 4: Run the circuit and get the Expectation Value"
   ]
  },
  {
   "cell_type": "code",
   "execution_count": 15,
   "metadata": {},
   "outputs": [],
   "source": [
    "def init_network():\n",
    "    network = Network.get_instance()\n",
    "    network.delay = 0\n",
    "    network.start()\n",
    "\n",
    "    clock = Clock()\n",
    "\n",
    "    qutip = QuTipBackend()\n",
    "\n",
    "    controller_host = ControllerHost(\n",
    "        host_id=\"host_1\",\n",
    "        clock=clock, \n",
    "        backend=qutip\n",
    "    )\n",
    "\n",
    "    computing_hosts, q_map = controller_host.create_distributed_network(\n",
    "        num_computing_hosts=1,\n",
    "        num_qubits_per_host=4)\n",
    "    controller_host.start()\n",
    "\n",
    "    network.add_hosts([controller_host])\n",
    "    \n",
    "    network.add_hosts(computing_hosts)\n",
    "    \n",
    "    return clock, controller_host, computing_hosts, q_map"
   ]
  },
  {
   "cell_type": "code",
   "execution_count": 16,
   "metadata": {},
   "outputs": [],
   "source": [
    "params = np.random.rand(4, 3)"
   ]
  },
  {
   "cell_type": "markdown",
   "metadata": {},
   "source": [
    "### Running the circuit"
   ]
  },
  {
   "cell_type": "code",
   "execution_count": 17,
   "metadata": {},
   "outputs": [
    {
     "name": "stderr",
     "output_type": "stream",
     "text": [
      "INFO:qu_net_sim:Host QPU_0 started processing\n",
      "INFO:qu_net_sim:Host host_1 started processing\n"
     ]
    }
   ],
   "source": [
    "clock, controller_host, computing_hosts, q_map = init_network()"
   ]
  },
  {
   "cell_type": "code",
   "execution_count": 18,
   "metadata": {},
   "outputs": [
    {
     "name": "stderr",
     "output_type": "stream",
     "text": [
      "INFO:qu_net_sim:host_1 sends BROADCAST message\n",
      "INFO:qu_net_sim:sending ACK:1 from QPU_0 to host_1\n",
      "INFO:qu_net_sim:QPU_0 received {\"QPU_0\": [{\"name\": \"PREPARE_QUBITS\", \"qids\": [\"q_0_0\", \"q_0_1\", \"q_0_2\", \"q_0_3\"], \"cids\": null, \"gate\": null, \"gate_param\": null, \"computing_host_ids\": [\"QPU_0\"], \"pre_allocated_qubits\": false, \"layer_end\": 0}, {\"name\": \"SINGLE\", \"qids\": [\"q_0_0\"], \"cids\": null, \"gate\": \"X\", \"gate_param\": null, \"computing_host_ids\": [\"QPU_0\"], \"pre_allocated_qubits\": false, \"layer_end\": 0}, {\"name\": \"SINGLE\", \"qids\": [\"q_0_1\"], \"cids\": null, \"gate\": \"X\", \"gate_param\": null, \"computing_host_ids\": [\"QPU_0\"], \"pre_allocated_qubits\": false, \"layer_end\": 0}]} with sequence number 0\n",
      "INFO:qu_net_sim:QPU_0 sends CLASSICAL to host_1 with sequence 0\n",
      "INFO:qu_net_sim:host_1 received ACK from QPU_0 with sequence number 0\n",
      "INFO:qu_net_sim:QPU_0 awaits classical ACK from host_1 with sequence 0\n",
      "INFO:qu_net_sim:sending ACK:1 from host_1 to QPU_0\n",
      "INFO:qu_net_sim:host_1 received ACK with sequence number 0\n",
      "INFO:qu_net_sim:QPU_0 received ACK from host_1 with sequence number 0\n"
     ]
    }
   ],
   "source": [
    "t1 = controller_host.run_protocol(\n",
    "    controller_host_protocol_preparation,\n",
    "    (q_map, params))\n",
    "t2 = computing_hosts[0].run_protocol(computing_host_protocol)\n",
    "\n",
    "t1.join()\n",
    "t2.join()"
   ]
  },
  {
   "cell_type": "code",
   "execution_count": 19,
   "metadata": {},
   "outputs": [
    {
     "data": {
      "text/plain": [
       "2"
      ]
     },
     "execution_count": 19,
     "metadata": {},
     "output_type": "execute_result"
    }
   ],
   "source": [
    "clock.ticks"
   ]
  },
  {
   "cell_type": "code",
   "execution_count": 20,
   "metadata": {},
   "outputs": [
    {
     "name": "stderr",
     "output_type": "stream",
     "text": [
      "INFO:qu_net_sim:host_1 sends BROADCAST message\n",
      "INFO:qu_net_sim:sending ACK:2 from QPU_0 to host_1\n",
      "INFO:qu_net_sim:QPU_0 received {\"QPU_0\": [{\"name\": \"SINGLE\", \"qids\": [\"q_0_0\"], \"cids\": null, \"gate\": \"custom_gate\", \"gate_param\": [[[0.7797332733245818, -0.5454497675834412], [-0.29534300451558604, 0.08528237331013755]], [[0.29534300451558604, 0.08528237331013755], [0.7797332733245818, 0.5454497675834412]]], \"computing_host_ids\": [\"QPU_0\"], \"pre_allocated_qubits\": false, \"layer_end\": 2}, {\"name\": \"SINGLE\", \"qids\": [\"q_0_1\"], \"cids\": null, \"gate\": \"custom_gate\", \"gate_param\": [[[0.9154102304549301, -0.37478225442009233], [-0.13921115392080424, 0.04671858703217794]], [[0.13921115392080424, 0.04671858703217794], [0.9154102304549301, 0.37478225442009233]]], \"computing_host_ids\": [\"QPU_0\"], \"pre_allocated_qubits\": false, \"layer_end\": 2}, {\"name\": \"SINGLE\", \"qids\": [\"q_0_2\"], \"cids\": null, \"gate\": \"custom_gate\", \"gate_param\": [[[0.7603881644935007, -0.6162734967135605], [-0.2001219158402687, -0.04436254441605775]], [[0.2001219158402687, -0.04436254441605775], [0.7603881644935007, 0.6162734967135605]]], \"computing_host_ids\": [\"QPU_0\"], \"pre_allocated_qubits\": false, \"layer_end\": 2}, {\"name\": \"SINGLE\", \"qids\": [\"q_0_3\"], \"cids\": null, \"gate\": \"custom_gate\", \"gate_param\": [[[0.7664110679438901, -0.6122602610137127], [-0.18756717164053147, 0.05069520528903824]], [[0.18756717164053147, 0.05069520528903824], [0.7664110679438901, 0.6122602610137127]]], \"computing_host_ids\": [\"QPU_0\"], \"pre_allocated_qubits\": false, \"layer_end\": 2}, {\"name\": \"TWO_QUBIT\", \"qids\": [\"q_0_2\", \"q_0_3\"], \"cids\": null, \"gate\": \"cnot\", \"gate_param\": null, \"computing_host_ids\": [\"QPU_0\"], \"pre_allocated_qubits\": false, \"layer_end\": 3}, {\"name\": \"TWO_QUBIT\", \"qids\": [\"q_0_2\", \"q_0_0\"], \"cids\": null, \"gate\": \"cnot\", \"gate_param\": null, \"computing_host_ids\": [\"QPU_0\"], \"pre_allocated_qubits\": false, \"layer_end\": 4}, {\"name\": \"TWO_QUBIT\", \"qids\": [\"q_0_3\", \"q_0_1\"], \"cids\": null, \"gate\": \"cnot\", \"gate_param\": null, \"computing_host_ids\": [\"QPU_0\"], \"pre_allocated_qubits\": false, \"layer_end\": 5}]} with sequence number 1\n",
      "INFO:qu_net_sim:host_1 received ACK from QPU_0 with sequence number 1\n",
      "INFO:qu_net_sim:QPU_0 sends CLASSICAL to host_1 with sequence 1\n",
      "INFO:qu_net_sim:QPU_0 awaits classical ACK from host_1 with sequence 1\n",
      "INFO:qu_net_sim:sending ACK:2 from host_1 to QPU_0\n",
      "INFO:qu_net_sim:host_1 received ACK with sequence number 1\n",
      "INFO:qu_net_sim:QPU_0 received ACK from host_1 with sequence number 1\n"
     ]
    }
   ],
   "source": [
    "t1 = controller_host.run_protocol(\n",
    "    controller_host_protocol_ansatz,\n",
    "    (q_map, params))\n",
    "t2 = computing_hosts[0].run_protocol(computing_host_protocol)\n",
    "\n",
    "t1.join()\n",
    "t2.join()"
   ]
  },
  {
   "cell_type": "code",
   "execution_count": 21,
   "metadata": {},
   "outputs": [
    {
     "data": {
      "text/plain": [
       "7"
      ]
     },
     "execution_count": 21,
     "metadata": {},
     "output_type": "execute_result"
    }
   ],
   "source": [
    "clock.ticks"
   ]
  },
  {
   "cell_type": "code",
   "execution_count": 22,
   "metadata": {},
   "outputs": [
    {
     "name": "stderr",
     "output_type": "stream",
     "text": [
      "INFO:qu_net_sim:host_1 sends BROADCAST message\n",
      "INFO:qu_net_sim:sending ACK:3 from QPU_0 to host_1\n",
      "INFO:qu_net_sim:QPU_0 received {\"QPU_0\": [{\"name\": \"REC_HAMILTON\", \"qids\": null, \"cids\": null, \"gate\": null, \"gate_param\": null, \"computing_host_ids\": [\"QPU_0\"], \"pre_allocated_qubits\": false, \"hamiltonian\": [[-0.04207897647782276, [[\"Identity\", 0]]], [0.17771287465139946, [[\"PauliZ\", 0]]], [0.1777128746513994, [[\"PauliZ\", 1]]], [-0.24274280513140462, [[\"PauliZ\", 2]]], [-0.24274280513140462, [[\"PauliZ\", 3]]], [0.17059738328801052, [[\"PauliZ\", 0], [\"PauliZ\", 1]]], [0.04475014401535161, [[\"PauliY\", 0], [\"PauliX\", 1], [\"PauliX\", 2], [\"PauliY\", 3]]], [-0.04475014401535161, [[\"PauliY\", 0], [\"PauliY\", 1], [\"PauliX\", 2], [\"PauliX\", 3]]], [-0.04475014401535161, [[\"PauliX\", 0], [\"PauliX\", 1], [\"PauliY\", 2], [\"PauliY\", 3]]], [0.04475014401535161, [[\"PauliX\", 0], [\"PauliY\", 1], [\"PauliY\", 2], [\"PauliX\", 3]]], [0.12293305056183798, [[\"PauliZ\", 0], [\"PauliZ\", 2]]], [0.1676831945771896, [[\"PauliZ\", 0], [\"PauliZ\", 3]]], [0.1676831945771896, [[\"PauliZ\", 1], [\"PauliZ\", 2]]], [0.12293305056183798, [[\"PauliZ\", 1], [\"PauliZ\", 3]]], [0.17627640804319591, [[\"PauliZ\", 2], [\"PauliZ\", 3]]]], \"layer_end\": 7}]} with sequence number 2\n",
      "INFO:qu_net_sim:QPU_0 sends CLASSICAL to host_1 with sequence 2\n",
      "INFO:qu_net_sim:host_1 received ACK from QPU_0 with sequence number 2\n",
      "INFO:qu_net_sim:QPU_0 awaits classical ACK from host_1 with sequence 2\n",
      "INFO:qu_net_sim:sending ACK:3 from host_1 to QPU_0\n",
      "INFO:qu_net_sim:host_1 received ACK with sequence number 2\n",
      "INFO:qu_net_sim:QPU_0 received ACK from host_1 with sequence number 2\n"
     ]
    }
   ],
   "source": [
    "t1 = controller_host.run_protocol(\n",
    "    controller_host_protocol_expectation_schedule,\n",
    "    (q_map, terms))\n",
    "t2 = computing_hosts[0].run_protocol(computing_host_protocol)\n",
    "\n",
    "t1.join()\n",
    "t2.join()"
   ]
  },
  {
   "cell_type": "code",
   "execution_count": 23,
   "metadata": {},
   "outputs": [
    {
     "data": {
      "text/plain": [
       "9"
      ]
     },
     "execution_count": 23,
     "metadata": {},
     "output_type": "execute_result"
    }
   ],
   "source": [
    "clock.ticks"
   ]
  },
  {
   "cell_type": "code",
   "execution_count": null,
   "metadata": {},
   "outputs": [
    {
     "name": "stderr",
     "output_type": "stream",
     "text": [
      "INFO:qu_net_sim:host_1 sends BROADCAST message\n",
      "INFO:qu_net_sim:sending ACK:4 from QPU_0 to host_1\n",
      "INFO:qu_net_sim:QPU_0 received {\"QPU_0\": [{\"name\": \"SEND_EXP\", \"qids\": null, \"cids\": null, \"gate\": null, \"gate_param\": null, \"computing_host_ids\": [\"QPU_0\"], \"pre_allocated_qubits\": false, \"layer_end\": 9}]} with sequence number 3\n",
      "INFO:qu_net_sim:host_1 received ACK from QPU_0 with sequence number 3\n",
      "INFO:qu_net_sim:QPU_0 sends CLASSICAL to host_1 with sequence 3\n",
      "INFO:qu_net_sim:QPU_0 awaits classical ACK from host_1 with sequence 3\n",
      "INFO:qu_net_sim:sending ACK:4 from host_1 to QPU_0\n",
      "INFO:qu_net_sim:host_1 received ACK with sequence number 3\n",
      "INFO:qu_net_sim:QPU_0 received ACK from host_1 with sequence number 3\n"
     ]
    }
   ],
   "source": [
    "t1 = controller_host.run_protocol(\n",
    "    controller_host_protocol_expectation_collection,\n",
    "    (q_map, terms))\n",
    "t2 = computing_hosts[0].run_protocol(computing_host_protocol_send_results)\n",
    "\n",
    "t1.join()\n",
    "t2.join()"
   ]
  },
  {
   "cell_type": "code",
   "execution_count": 26,
   "metadata": {},
   "outputs": [
    {
     "data": {
      "text/plain": [
       "11"
      ]
     },
     "execution_count": 26,
     "metadata": {},
     "output_type": "execute_result"
    }
   ],
   "source": [
    "clock.ticks"
   ]
  },
  {
   "cell_type": "markdown",
   "metadata": {},
   "source": [
    "## Optimise"
   ]
  },
  {
   "cell_type": "code",
   "execution_count": 33,
   "metadata": {},
   "outputs": [],
   "source": [
    "def cost_fn(params):\n",
    "    params = params.reshape(4, 3)\n",
    "    \n",
    "    network = Network.get_instance()\n",
    "    network.delay = 0\n",
    "    network.start()\n",
    "\n",
    "    clock = Clock()\n",
    "\n",
    "    qutip = QuTipBackend()\n",
    "\n",
    "    controller_host = ControllerHost(\n",
    "        host_id=\"host_1\",\n",
    "        clock=clock, \n",
    "        backend=qutip\n",
    "    )\n",
    "\n",
    "    computing_hosts, q_map = controller_host.create_distributed_network(\n",
    "        num_computing_hosts=1,\n",
    "        num_qubits_per_host=4)\n",
    "    controller_host.start()\n",
    "\n",
    "    network.add_hosts([\n",
    "        computing_hosts[0],\n",
    "        controller_host])\n",
    "    \n",
    "    t1 = controller_host.run_protocol(controller_host_protocol_preparation, (q_map, params))\n",
    "    t2 = computing_hosts[0].run_protocol(computing_host_protocol)\n",
    "\n",
    "    t1.join()\n",
    "    t2.join()\n",
    "    \n",
    "    t1 = controller_host.run_protocol(controller_host_protocol_ansatz, (q_map, params))\n",
    "    t2 = computing_hosts[0].run_protocol(computing_host_protocol)\n",
    "\n",
    "    t1.join()\n",
    "    t2.join()\n",
    "    \n",
    "    t1 = controller_host.run_protocol(controller_host_protocol_expectation_schedule, (q_map, terms))\n",
    "    t2 = computing_hosts[0].run_protocol(computing_host_protocol)\n",
    "\n",
    "    t1.join()\n",
    "    t2.join()\n",
    "        \n",
    "    t1 = controller_host.run_protocol(controller_host_protocol_expectation_collection, (q_map, terms))\n",
    "    t2 = computing_hosts[0].run_protocol(computing_host_protocol_send_results)\n",
    "\n",
    "    t1.join()\n",
    "    t2.join()\n",
    "\n",
    "    network.remove_host(computing_hosts[0])\n",
    "    network.remove_host(controller_host)\n",
    "    \n",
    "    total_exp = 0\n",
    "    for host in controller_host.computing_host_ids:\n",
    "        total_exp += controller_host.results[host]['bits']\n",
    "    \n",
    "    return total_exp"
   ]
  },
  {
   "cell_type": "code",
   "execution_count": 28,
   "metadata": {},
   "outputs": [
    {
     "data": {
      "text/plain": [
       "tensor([[ 1.02025713,  2.75143507,  0.35108503],\n",
       "        [-5.90293328, -0.499001  ,  1.29220997],\n",
       "        [-0.73486447,  0.27990438,  1.26653549],\n",
       "        [ 4.59111796,  2.23811977, -5.28321501]], requires_grad=True)"
      ]
     },
     "execution_count": 28,
     "metadata": {},
     "output_type": "execute_result"
    }
   ],
   "source": [
    "# np.random.seed(0)\n",
    "params = np.random.normal(0, np.pi, (4, 3))\n",
    "\n",
    "params"
   ]
  },
  {
   "cell_type": "code",
   "execution_count": 29,
   "metadata": {},
   "outputs": [
    {
     "name": "stderr",
     "output_type": "stream",
     "text": [
      "INFO:qu_net_sim:Host QPU_0 started processing\n",
      "INFO:qu_net_sim:Host host_1 started processing\n",
      "INFO:qu_net_sim:host_1 sends BROADCAST message\n",
      "INFO:qu_net_sim:sending ACK:1 from QPU_0 to host_1\n",
      "INFO:qu_net_sim:QPU_0 received {\"QPU_0\": [{\"name\": \"PREPARE_QUBITS\", \"qids\": [\"q_0_0\", \"q_0_1\", \"q_0_2\", \"q_0_3\"], \"cids\": null, \"gate\": null, \"gate_param\": null, \"computing_host_ids\": [\"QPU_0\"], \"pre_allocated_qubits\": false, \"layer_end\": 0}, {\"name\": \"SINGLE\", \"qids\": [\"q_0_0\"], \"cids\": null, \"gate\": \"X\", \"gate_param\": null, \"computing_host_ids\": [\"QPU_0\"], \"pre_allocated_qubits\": false, \"layer_end\": 0}, {\"name\": \"SINGLE\", \"qids\": [\"q_0_1\"], \"cids\": null, \"gate\": \"X\", \"gate_param\": null, \"computing_host_ids\": [\"QPU_0\"], \"pre_allocated_qubits\": false, \"layer_end\": 0}]} with sequence number 0\n",
      "INFO:qu_net_sim:QPU_0 sends CLASSICAL to host_1 with sequence 0\n",
      "INFO:qu_net_sim:host_1 received ACK from QPU_0 with sequence number 0\n",
      "INFO:qu_net_sim:QPU_0 awaits classical ACK from host_1 with sequence 0\n",
      "INFO:qu_net_sim:sending ACK:1 from host_1 to QPU_0\n",
      "INFO:qu_net_sim:host_1 received ACK with sequence number 0\n",
      "INFO:qu_net_sim:QPU_0 received ACK from host_1 with sequence number 0\n",
      "INFO:qu_net_sim:host_1 sends BROADCAST message\n"
     ]
    },
    {
     "name": "stdout",
     "output_type": "stream",
     "text": [
      "here\n"
     ]
    },
    {
     "name": "stderr",
     "output_type": "stream",
     "text": [
      "INFO:qu_net_sim:sending ACK:2 from QPU_0 to host_1\n",
      "INFO:qu_net_sim:QPU_0 received {\"QPU_0\": [{\"name\": \"SINGLE\", \"qids\": [\"q_0_0\"], \"cids\": null, \"gate\": \"custom_gate\", \"gate_param\": [[[0.15003402056456178, -0.12274047369376546], [-0.9266305457792057, -0.32214965531503265]], [[0.9266305457792057, -0.32214965531503265], [0.15003402056456178, 0.12274047369376546]]], \"computing_host_ids\": [\"QPU_0\"], \"pre_allocated_qubits\": false, \"layer_end\": 2}, {\"name\": \"SINGLE\", \"qids\": [\"q_0_1\"], \"cids\": null, \"gate\": \"custom_gate\", \"gate_param\": [[[-0.6495104830710016, 0.7191430088320073], [-0.22169223831714102, 0.10872909775610923]], [[0.22169223831714102, 0.10872909775610923], [-0.6495104830710016, -0.7191430088320073]]], \"computing_host_ids\": [\"QPU_0\"], \"pre_allocated_qubits\": false, \"layer_end\": 2}, {\"name\": \"SINGLE\", \"qids\": [\"q_0_2\"], \"cids\": null, \"gate\": \"custom_gate\", \"gate_param\": [[[0.9554394479857654, -0.2601468641479068], [-0.07528770407574095, 0.11743437282870041]], [[0.07528770407574095, 0.11743437282870041], [0.9554394479857654, 0.2601468641479068]]], \"computing_host_ids\": [\"QPU_0\"], \"pre_allocated_qubits\": false, \"layer_end\": 2}, {\"name\": \"SINGLE\", \"qids\": [\"q_0_3\"], \"cids\": null, \"gate\": \"custom_gate\", \"gate_param\": [[[0.4106511885648392, 0.1480631305056437], [-0.200531529970866, 0.8770575900148732]], [[0.200531529970866, 0.8770575900148732], [0.4106511885648392, -0.1480631305056437]]], \"computing_host_ids\": [\"QPU_0\"], \"pre_allocated_qubits\": false, \"layer_end\": 2}, {\"name\": \"TWO_QUBIT\", \"qids\": [\"q_0_2\", \"q_0_3\"], \"cids\": null, \"gate\": \"cnot\", \"gate_param\": null, \"computing_host_ids\": [\"QPU_0\"], \"pre_allocated_qubits\": false, \"layer_end\": 3}, {\"name\": \"TWO_QUBIT\", \"qids\": [\"q_0_2\", \"q_0_0\"], \"cids\": null, \"gate\": \"cnot\", \"gate_param\": null, \"computing_host_ids\": [\"QPU_0\"], \"pre_allocated_qubits\": false, \"layer_end\": 4}, {\"name\": \"TWO_QUBIT\", \"qids\": [\"q_0_3\", \"q_0_1\"], \"cids\": null, \"gate\": \"cnot\", \"gate_param\": null, \"computing_host_ids\": [\"QPU_0\"], \"pre_allocated_qubits\": false, \"layer_end\": 5}]} with sequence number 1\n",
      "INFO:qu_net_sim:QPU_0 sends CLASSICAL to host_1 with sequence 1\n",
      "INFO:qu_net_sim:host_1 received ACK from QPU_0 with sequence number 1\n",
      "INFO:qu_net_sim:QPU_0 awaits classical ACK from host_1 with sequence 1\n",
      "INFO:qu_net_sim:sending ACK:2 from host_1 to QPU_0\n",
      "INFO:qu_net_sim:host_1 received ACK with sequence number 1\n",
      "INFO:qu_net_sim:QPU_0 received ACK from host_1 with sequence number 1\n",
      "INFO:qu_net_sim:host_1 sends BROADCAST message\n",
      "INFO:qu_net_sim:sending ACK:3 from QPU_0 to host_1\n",
      "INFO:qu_net_sim:QPU_0 received {\"QPU_0\": [{\"name\": \"REC_HAMILTON\", \"qids\": null, \"cids\": null, \"gate\": null, \"gate_param\": null, \"computing_host_ids\": [\"QPU_0\"], \"pre_allocated_qubits\": false, \"hamiltonian\": [[-0.04207897647782276, [[\"Identity\", 0]]], [0.17771287465139946, [[\"PauliZ\", 0]]], [0.1777128746513994, [[\"PauliZ\", 1]]], [-0.24274280513140462, [[\"PauliZ\", 2]]], [-0.24274280513140462, [[\"PauliZ\", 3]]], [0.17059738328801052, [[\"PauliZ\", 0], [\"PauliZ\", 1]]], [0.04475014401535161, [[\"PauliY\", 0], [\"PauliX\", 1], [\"PauliX\", 2], [\"PauliY\", 3]]], [-0.04475014401535161, [[\"PauliY\", 0], [\"PauliY\", 1], [\"PauliX\", 2], [\"PauliX\", 3]]], [-0.04475014401535161, [[\"PauliX\", 0], [\"PauliX\", 1], [\"PauliY\", 2], [\"PauliY\", 3]]], [0.04475014401535161, [[\"PauliX\", 0], [\"PauliY\", 1], [\"PauliY\", 2], [\"PauliX\", 3]]], [0.12293305056183798, [[\"PauliZ\", 0], [\"PauliZ\", 2]]], [0.1676831945771896, [[\"PauliZ\", 0], [\"PauliZ\", 3]]], [0.1676831945771896, [[\"PauliZ\", 1], [\"PauliZ\", 2]]], [0.12293305056183798, [[\"PauliZ\", 1], [\"PauliZ\", 3]]], [0.17627640804319591, [[\"PauliZ\", 2], [\"PauliZ\", 3]]]], \"layer_end\": 7}]} with sequence number 2\n",
      "INFO:qu_net_sim:QPU_0 sends CLASSICAL to host_1 with sequence 2\n",
      "INFO:qu_net_sim:host_1 received ACK from QPU_0 with sequence number 2\n",
      "INFO:qu_net_sim:QPU_0 awaits classical ACK from host_1 with sequence 2\n",
      "INFO:qu_net_sim:sending ACK:3 from host_1 to QPU_0\n",
      "INFO:qu_net_sim:host_1 received ACK with sequence number 2\n",
      "INFO:qu_net_sim:QPU_0 received ACK from host_1 with sequence number 2\n",
      "INFO:qu_net_sim:host_1 sends BROADCAST message\n",
      "INFO:qu_net_sim:sending ACK:4 from QPU_0 to host_1\n",
      "INFO:qu_net_sim:QPU_0 received {\"QPU_0\": [{\"name\": \"SEND_EXP\", \"qids\": null, \"cids\": null, \"gate\": null, \"gate_param\": null, \"computing_host_ids\": [\"QPU_0\"], \"pre_allocated_qubits\": false, \"layer_end\": 9}]} with sequence number 3\n",
      "INFO:qu_net_sim:QPU_0 sends CLASSICAL to host_1 with sequence 3\n",
      "INFO:qu_net_sim:host_1 received ACK from QPU_0 with sequence number 3\n",
      "INFO:qu_net_sim:QPU_0 awaits classical ACK from host_1 with sequence 3\n",
      "INFO:qu_net_sim:sending ACK:4 from host_1 to QPU_0\n",
      "INFO:qu_net_sim:host_1 received ACK with sequence number 3\n",
      "INFO:qu_net_sim:QPU_0 received ACK from host_1 with sequence number 3\n",
      "INFO:qu_net_sim:QPU_0 sends CLASSICAL to host_1 with sequence 4\n",
      "INFO:qu_net_sim:QPU_0 awaits classical ACK from host_1 with sequence 4\n",
      "INFO:qu_net_sim:sending ACK:5 from host_1 to QPU_0\n",
      "INFO:qu_net_sim:host_1 received {\"QPU_0\": {\"type\": \"expectation_value\", \"bits\": 0.8509328247483128}} with sequence number 4\n",
      "INFO:qu_net_sim:QPU_0 received ACK from host_1 with sequence number 4\n"
     ]
    },
    {
     "data": {
      "text/plain": [
       "0.8509328247483128"
      ]
     },
     "execution_count": 29,
     "metadata": {},
     "output_type": "execute_result"
    }
   ],
   "source": [
    "cost_fn(params)"
   ]
  },
  {
   "cell_type": "code",
   "execution_count": 30,
   "metadata": {},
   "outputs": [],
   "source": [
    "Logger.DISABLED = True"
   ]
  },
  {
   "cell_type": "markdown",
   "metadata": {},
   "source": [
    "### SciPy Optimisers"
   ]
  },
  {
   "cell_type": "code",
   "execution_count": 31,
   "metadata": {},
   "outputs": [
    {
     "name": "stdout",
     "output_type": "stream",
     "text": [
      "here\n",
      "here\n",
      "here\n",
      "here\n",
      "here\n",
      "here\n",
      "here\n",
      "here\n",
      "here\n",
      "here\n",
      "here\n",
      "here\n",
      "here\n",
      "here\n",
      "here\n",
      "here\n",
      "here\n",
      "here\n",
      "here\n",
      "here\n",
      "here\n",
      "here\n",
      "here\n",
      "here\n",
      "here\n",
      "here\n",
      "here\n",
      "here\n",
      "here\n",
      "here\n",
      "here\n",
      "here\n",
      "here\n",
      "here\n",
      "here\n",
      "here\n",
      "here\n",
      "here\n",
      "here\n",
      "here\n",
      "here\n",
      "here\n",
      "here\n",
      "here\n",
      "here\n",
      "here\n",
      "here\n",
      "here\n",
      "here\n",
      "here\n",
      "here\n",
      "here\n",
      "here\n",
      "here\n",
      "here\n",
      "here\n",
      "here\n",
      "here\n",
      "here\n",
      "here\n",
      "here\n",
      "here\n",
      "here\n",
      "here\n",
      "here\n",
      "here\n",
      "here\n",
      "here\n",
      "here\n",
      "here\n",
      "here\n",
      "here\n",
      "here\n",
      "here\n",
      "here\n",
      "here\n",
      "here\n",
      "here\n",
      "here\n",
      "here\n",
      "here\n",
      "here\n",
      "here\n",
      "here\n",
      "here\n",
      "here\n",
      "here\n",
      "here\n",
      "here\n",
      "here\n",
      "here\n",
      "here\n",
      "here\n",
      "here\n",
      "here\n",
      "here\n",
      "here\n",
      "here\n",
      "here\n",
      "here\n",
      "here\n",
      "here\n",
      "here\n",
      "here\n",
      "here\n",
      "here\n",
      "here\n",
      "here\n",
      "here\n",
      "here\n",
      "here\n",
      "here\n",
      "here\n",
      "here\n",
      "here\n",
      "here\n",
      "here\n",
      "here\n",
      "here\n",
      "here\n",
      "here\n",
      "here\n",
      "here\n",
      "here\n",
      "here\n",
      "here\n",
      "here\n",
      "here\n",
      "here\n",
      "here\n",
      "here\n",
      "here\n",
      "here\n",
      "here\n",
      "here\n",
      "here\n",
      "here\n",
      "here\n",
      "here\n",
      "here\n",
      "here\n",
      "here\n",
      "here\n",
      "here\n",
      "here\n",
      "here\n",
      "here\n",
      "here\n",
      "here\n",
      "here\n",
      "here\n",
      "here\n",
      "here\n",
      "here\n",
      "here\n",
      "here\n",
      "here\n",
      "here\n",
      "here\n",
      "here\n",
      "here\n",
      "here\n",
      "here\n",
      "here\n",
      "here\n",
      "here\n",
      "here\n",
      "here\n",
      "here\n",
      "here\n",
      "here\n",
      "here\n",
      "here\n",
      "here\n",
      "here\n",
      "here\n",
      "here\n",
      "here\n",
      "here\n",
      "here\n",
      "here\n",
      "here\n"
     ]
    },
    {
     "data": {
      "text/plain": [
       "      fun: -1.4585438011944087\n",
       " hess_inv: array([[ 1.00000000e+00,  7.31877655e-07,  3.36177045e-12,\n",
       "         3.53135002e-12, -1.06938794e-06,  3.51985157e-12,\n",
       "        -2.41685467e-12, -6.05781090e-07, -2.41685467e-12,\n",
       "        -5.85385239e-13,  5.34605201e-07, -5.60978918e-13],\n",
       "       [ 7.31877655e-07,  1.58289426e+00,  7.04610575e-07,\n",
       "         9.39402238e-07, -1.82778972e-02,  9.30713117e-07,\n",
       "         3.92140213e-07,  1.35605677e-02,  3.92140213e-07,\n",
       "         1.40924663e-07, -2.06039583e-02,  1.64494210e-07],\n",
       "       [ 3.36177045e-12,  7.04610575e-07,  1.00000000e+00,\n",
       "         3.49792993e-12, -1.04060305e-06,  3.48684807e-12,\n",
       "        -2.41541428e-12, -6.03337570e-07, -2.41541428e-12,\n",
       "        -5.85170365e-13,  5.38585721e-07, -5.60831909e-13],\n",
       "       [ 3.53135002e-12,  9.39402238e-07,  3.49792993e-12,\n",
       "         1.00000000e+00, -1.21774218e-06,  3.68336952e-12,\n",
       "        -2.41501231e-12, -5.55136367e-07, -2.41501231e-12,\n",
       "        -6.05045170e-13,  5.46340644e-07, -5.77009024e-13],\n",
       "       [-1.06938794e-06, -1.82778972e-02, -1.04060305e-06,\n",
       "        -1.21774218e-06,  2.15694432e+00, -1.19810602e-06,\n",
       "         6.99846431e-07, -3.49669026e-02,  6.99846431e-07,\n",
       "         3.24659252e-07, -7.48283930e-03,  3.43481069e-07],\n",
       "       [ 3.51985157e-12,  9.30713117e-07,  3.48684807e-12,\n",
       "         3.68336952e-12, -1.19810602e-06,  1.00000000e+00,\n",
       "        -2.40985073e-12, -5.59009017e-07, -2.40985073e-12,\n",
       "        -6.00577213e-13,  5.42548542e-07, -5.72577657e-13],\n",
       "       [-2.41685467e-12,  3.92140213e-07, -2.41541428e-12,\n",
       "        -2.41501231e-12,  6.99846431e-07, -2.40985073e-12,\n",
       "         1.00000000e+00, -2.61718090e-08,  7.83238080e-13,\n",
       "         3.59112836e-13, -5.26239371e-07,  3.55449766e-13],\n",
       "       [-6.05781090e-07,  1.35605677e-02, -6.03337570e-07,\n",
       "        -5.55136367e-07, -3.49669026e-02, -5.59009017e-07,\n",
       "        -2.61718090e-08,  7.24781697e-01, -2.61718094e-08,\n",
       "        -6.57856831e-08, -2.00835701e-02, -7.47821565e-08],\n",
       "       [-2.41685467e-12,  3.92140213e-07, -2.41541428e-12,\n",
       "        -2.41501231e-12,  6.99846431e-07, -2.40985073e-12,\n",
       "         7.83238080e-13, -2.61718094e-08,  1.00000000e+00,\n",
       "         3.59112836e-13, -5.26239372e-07,  3.55449766e-13],\n",
       "       [-5.85385239e-13,  1.40924663e-07, -5.85170365e-13,\n",
       "        -6.05045170e-13,  3.24659252e-07, -6.00577213e-13,\n",
       "         3.59112836e-13, -6.57856831e-08,  3.59112836e-13,\n",
       "         1.00000000e+00, -7.21355802e-07,  9.05250493e-14],\n",
       "       [ 5.34605201e-07, -2.06039583e-02,  5.38585721e-07,\n",
       "         5.46340644e-07, -7.48283930e-03,  5.42548542e-07,\n",
       "        -5.26239371e-07, -2.00835701e-02, -5.26239372e-07,\n",
       "        -7.21355802e-07,  1.40101620e+00, -6.75744676e-07],\n",
       "       [-5.60978918e-13,  1.64494210e-07, -5.60831909e-13,\n",
       "        -5.77009024e-13,  3.43481069e-07, -5.72577657e-13,\n",
       "         3.55449766e-13, -7.47821565e-08,  3.55449766e-13,\n",
       "         9.05250493e-14, -6.75744676e-07,  1.00000000e+00]])\n",
       "      jac: array([-1.49011612e-08, -7.15255737e-06, -1.49011612e-08,  0.00000000e+00,\n",
       "       -1.32769346e-05,  0.00000000e+00,  0.00000000e+00, -1.06245279e-05,\n",
       "        0.00000000e+00,  0.00000000e+00, -1.21444464e-05,  0.00000000e+00])\n",
       "  message: 'Optimization terminated successfully.'\n",
       "     nfev: 182\n",
       "      nit: 12\n",
       "     njev: 14\n",
       "   status: 0\n",
       "  success: True\n",
       "        x: array([ 1.02025731e+00, -1.12461219e-05,  3.51085249e-01, -5.90293337e+00,\n",
       "       -2.83175206e-05,  1.29220990e+00, -7.34864514e-01, -7.50651418e-06,\n",
       "        1.26653544e+00,  4.59111810e+00, -1.70873340e-05, -5.28321502e+00])"
      ]
     },
     "execution_count": 31,
     "metadata": {},
     "output_type": "execute_result"
    }
   ],
   "source": [
    "from scipy.optimize import minimize\n",
    "minimum_bfgs = minimize(cost_fn, params, method=\"BFGS\", tol=1e-4)\n",
    "\n",
    "minimum_bfgs"
   ]
  },
  {
   "cell_type": "code",
   "execution_count": 32,
   "metadata": {},
   "outputs": [
    {
     "data": {
      "text/plain": [
       "array([[ 1.02025731e+00, -1.12461219e-05,  3.51085249e-01],\n",
       "       [-5.90293337e+00, -2.83175206e-05,  1.29220990e+00],\n",
       "       [-7.34864514e-01, -7.50651418e-06,  1.26653544e+00],\n",
       "       [ 4.59111810e+00, -1.70873340e-05, -5.28321502e+00]])"
      ]
     },
     "execution_count": 32,
     "metadata": {},
     "output_type": "execute_result"
    }
   ],
   "source": [
    "minimum_bfgs.x.reshape(4,3)"
   ]
  },
  {
   "cell_type": "code",
   "execution_count": 64,
   "metadata": {},
   "outputs": [],
   "source": [
    "from scipy.optimize import minimize\n",
    "minimum_powell = minimize(cost_fn, params, method=\"Powell\", tol=1e-4)\n",
    "\n",
    "minimum_powell"
   ]
  },
  {
   "cell_type": "code",
   "execution_count": 35,
   "metadata": {},
   "outputs": [
    {
     "data": {
      "text/plain": [
       "array([[ 8.64960745e+00, -3.37645419e-06,  6.50184703e+00],\n",
       "       [ 1.04498037e+01,  6.28318531e+00,  4.49597326e-01],\n",
       "       [ 4.05775526e+00, -8.15788377e-11,  2.26365738e+00],\n",
       "       [ 6.37968963e-01,  2.44609655e-10,  6.60317682e+00]])"
      ]
     },
     "execution_count": 35,
     "metadata": {},
     "output_type": "execute_result"
    }
   ],
   "source": [
    "minimum_powell.x.reshape(4,3)"
   ]
  },
  {
   "cell_type": "code",
   "execution_count": 34,
   "metadata": {},
   "outputs": [
    {
     "name": "stderr",
     "output_type": "stream",
     "text": [
      "Exception in thread Thread-11357:\n",
      "Traceback (most recent call last):\n",
      "  File \"/usr/lib/python3.8/threading.py\", line 932, in _bootstrap_inner\n",
      "    self.run()\n",
      "  File \"/usr/lib/python3.8/threading.py\", line 870, in run\n",
      "    self._target(*self._args, **self._kwargs)\n",
      "  File \"<ipython-input-15-902721c51af7>\", line 4, in computing_host_protocol_send_results\n",
      "  File \"../../interlinq/components/computing_host.py\", line 645, in send_results\n",
      "    'bits': self.exp\n",
      "AttributeError: 'ComputingHost' object has no attribute 'exp'\n"
     ]
    },
    {
     "ename": "KeyboardInterrupt",
     "evalue": "",
     "output_type": "error",
     "traceback": [
      "\u001b[0;31m---------------------------------------------------------------------------\u001b[0m",
      "\u001b[0;31mKeyboardInterrupt\u001b[0m                         Traceback (most recent call last)",
      "\u001b[0;32m<ipython-input-34-9912f7a18380>\u001b[0m in \u001b[0;36m<module>\u001b[0;34m\u001b[0m\n\u001b[1;32m      1\u001b[0m \u001b[0;32mfrom\u001b[0m \u001b[0mscipy\u001b[0m\u001b[0;34m.\u001b[0m\u001b[0moptimize\u001b[0m \u001b[0;32mimport\u001b[0m \u001b[0mminimize\u001b[0m\u001b[0;34m\u001b[0m\u001b[0;34m\u001b[0m\u001b[0m\n\u001b[0;32m----> 2\u001b[0;31m \u001b[0mminimum_cobyla\u001b[0m \u001b[0;34m=\u001b[0m \u001b[0mminimize\u001b[0m\u001b[0;34m(\u001b[0m\u001b[0mcost_fn\u001b[0m\u001b[0;34m,\u001b[0m \u001b[0mparams\u001b[0m\u001b[0;34m,\u001b[0m \u001b[0mmethod\u001b[0m\u001b[0;34m=\u001b[0m\u001b[0;34m\"COBYLA\"\u001b[0m\u001b[0;34m,\u001b[0m \u001b[0mtol\u001b[0m\u001b[0;34m=\u001b[0m\u001b[0;36m1e-4\u001b[0m\u001b[0;34m)\u001b[0m\u001b[0;34m\u001b[0m\u001b[0;34m\u001b[0m\u001b[0m\n\u001b[0m\u001b[1;32m      3\u001b[0m \u001b[0;34m\u001b[0m\u001b[0m\n\u001b[1;32m      4\u001b[0m \u001b[0mminimum_cobyla\u001b[0m\u001b[0;34m\u001b[0m\u001b[0;34m\u001b[0m\u001b[0m\n",
      "\u001b[0;32m~/.local/lib/python3.8/site-packages/scipy/optimize/_minimize.py\u001b[0m in \u001b[0;36mminimize\u001b[0;34m(fun, x0, args, method, jac, hess, hessp, bounds, constraints, tol, callback, options)\u001b[0m\n\u001b[1;32m    623\u001b[0m                              **options)\n\u001b[1;32m    624\u001b[0m     \u001b[0;32melif\u001b[0m \u001b[0mmeth\u001b[0m \u001b[0;34m==\u001b[0m \u001b[0;34m'cobyla'\u001b[0m\u001b[0;34m:\u001b[0m\u001b[0;34m\u001b[0m\u001b[0;34m\u001b[0m\u001b[0m\n\u001b[0;32m--> 625\u001b[0;31m         \u001b[0;32mreturn\u001b[0m \u001b[0m_minimize_cobyla\u001b[0m\u001b[0;34m(\u001b[0m\u001b[0mfun\u001b[0m\u001b[0;34m,\u001b[0m \u001b[0mx0\u001b[0m\u001b[0;34m,\u001b[0m \u001b[0margs\u001b[0m\u001b[0;34m,\u001b[0m \u001b[0mconstraints\u001b[0m\u001b[0;34m,\u001b[0m \u001b[0;34m**\u001b[0m\u001b[0moptions\u001b[0m\u001b[0;34m)\u001b[0m\u001b[0;34m\u001b[0m\u001b[0;34m\u001b[0m\u001b[0m\n\u001b[0m\u001b[1;32m    626\u001b[0m     \u001b[0;32melif\u001b[0m \u001b[0mmeth\u001b[0m \u001b[0;34m==\u001b[0m \u001b[0;34m'slsqp'\u001b[0m\u001b[0;34m:\u001b[0m\u001b[0;34m\u001b[0m\u001b[0;34m\u001b[0m\u001b[0m\n\u001b[1;32m    627\u001b[0m         return _minimize_slsqp(fun, x0, args, jac, bounds,\n",
      "\u001b[0;32m~/.local/lib/python3.8/site-packages/scipy/optimize/cobyla.py\u001b[0m in \u001b[0;36mwrapper\u001b[0;34m(*args, **kwargs)\u001b[0m\n\u001b[1;32m     32\u001b[0m     \u001b[0;32mdef\u001b[0m \u001b[0mwrapper\u001b[0m\u001b[0;34m(\u001b[0m\u001b[0;34m*\u001b[0m\u001b[0margs\u001b[0m\u001b[0;34m,\u001b[0m \u001b[0;34m**\u001b[0m\u001b[0mkwargs\u001b[0m\u001b[0;34m)\u001b[0m\u001b[0;34m:\u001b[0m\u001b[0;34m\u001b[0m\u001b[0;34m\u001b[0m\u001b[0m\n\u001b[1;32m     33\u001b[0m         \u001b[0;32mwith\u001b[0m \u001b[0m_module_lock\u001b[0m\u001b[0;34m:\u001b[0m\u001b[0;34m\u001b[0m\u001b[0;34m\u001b[0m\u001b[0m\n\u001b[0;32m---> 34\u001b[0;31m             \u001b[0;32mreturn\u001b[0m \u001b[0mfunc\u001b[0m\u001b[0;34m(\u001b[0m\u001b[0;34m*\u001b[0m\u001b[0margs\u001b[0m\u001b[0;34m,\u001b[0m \u001b[0;34m**\u001b[0m\u001b[0mkwargs\u001b[0m\u001b[0;34m)\u001b[0m\u001b[0;34m\u001b[0m\u001b[0;34m\u001b[0m\u001b[0m\n\u001b[0m\u001b[1;32m     35\u001b[0m     \u001b[0;32mreturn\u001b[0m \u001b[0mwrapper\u001b[0m\u001b[0;34m\u001b[0m\u001b[0;34m\u001b[0m\u001b[0m\n\u001b[1;32m     36\u001b[0m \u001b[0;34m\u001b[0m\u001b[0m\n",
      "\u001b[0;32m~/.local/lib/python3.8/site-packages/scipy/optimize/cobyla.py\u001b[0m in \u001b[0;36m_minimize_cobyla\u001b[0;34m(fun, x0, args, constraints, rhobeg, tol, maxiter, disp, catol, **unknown_options)\u001b[0m\n\u001b[1;32m    258\u001b[0m \u001b[0;34m\u001b[0m\u001b[0m\n\u001b[1;32m    259\u001b[0m     \u001b[0minfo\u001b[0m \u001b[0;34m=\u001b[0m \u001b[0mnp\u001b[0m\u001b[0;34m.\u001b[0m\u001b[0mzeros\u001b[0m\u001b[0;34m(\u001b[0m\u001b[0;36m4\u001b[0m\u001b[0;34m,\u001b[0m \u001b[0mnp\u001b[0m\u001b[0;34m.\u001b[0m\u001b[0mfloat64\u001b[0m\u001b[0;34m)\u001b[0m\u001b[0;34m\u001b[0m\u001b[0;34m\u001b[0m\u001b[0m\n\u001b[0;32m--> 260\u001b[0;31m     xopt, info = _cobyla.minimize(calcfc, m=m, x=np.copy(x0), rhobeg=rhobeg,\n\u001b[0m\u001b[1;32m    261\u001b[0m                                   \u001b[0mrhoend\u001b[0m\u001b[0;34m=\u001b[0m\u001b[0mrhoend\u001b[0m\u001b[0;34m,\u001b[0m \u001b[0miprint\u001b[0m\u001b[0;34m=\u001b[0m\u001b[0miprint\u001b[0m\u001b[0;34m,\u001b[0m \u001b[0mmaxfun\u001b[0m\u001b[0;34m=\u001b[0m\u001b[0mmaxfun\u001b[0m\u001b[0;34m,\u001b[0m\u001b[0;34m\u001b[0m\u001b[0;34m\u001b[0m\u001b[0m\n\u001b[1;32m    262\u001b[0m                                   dinfo=info)\n",
      "\u001b[0;32m~/.local/lib/python3.8/site-packages/scipy/optimize/cobyla.py\u001b[0m in \u001b[0;36mcalcfc\u001b[0;34m(x, con)\u001b[0m\n\u001b[1;32m    250\u001b[0m \u001b[0;34m\u001b[0m\u001b[0m\n\u001b[1;32m    251\u001b[0m     \u001b[0;32mdef\u001b[0m \u001b[0mcalcfc\u001b[0m\u001b[0;34m(\u001b[0m\u001b[0mx\u001b[0m\u001b[0;34m,\u001b[0m \u001b[0mcon\u001b[0m\u001b[0;34m)\u001b[0m\u001b[0;34m:\u001b[0m\u001b[0;34m\u001b[0m\u001b[0;34m\u001b[0m\u001b[0m\n\u001b[0;32m--> 252\u001b[0;31m         \u001b[0mf\u001b[0m \u001b[0;34m=\u001b[0m \u001b[0mfun\u001b[0m\u001b[0;34m(\u001b[0m\u001b[0mx\u001b[0m\u001b[0;34m,\u001b[0m \u001b[0;34m*\u001b[0m\u001b[0margs\u001b[0m\u001b[0;34m)\u001b[0m\u001b[0;34m\u001b[0m\u001b[0;34m\u001b[0m\u001b[0m\n\u001b[0m\u001b[1;32m    253\u001b[0m         \u001b[0mi\u001b[0m \u001b[0;34m=\u001b[0m \u001b[0;36m0\u001b[0m\u001b[0;34m\u001b[0m\u001b[0;34m\u001b[0m\u001b[0m\n\u001b[1;32m    254\u001b[0m         \u001b[0;32mfor\u001b[0m \u001b[0msize\u001b[0m\u001b[0;34m,\u001b[0m \u001b[0mc\u001b[0m \u001b[0;32min\u001b[0m \u001b[0mizip\u001b[0m\u001b[0;34m(\u001b[0m\u001b[0mcons_lengths\u001b[0m\u001b[0;34m,\u001b[0m \u001b[0mconstraints\u001b[0m\u001b[0;34m)\u001b[0m\u001b[0;34m:\u001b[0m\u001b[0;34m\u001b[0m\u001b[0;34m\u001b[0m\u001b[0m\n",
      "\u001b[0;32m<ipython-input-33-642aef7fdc33>\u001b[0m in \u001b[0;36mcost_fn\u001b[0;34m(params)\u001b[0m\n\u001b[1;32m     46\u001b[0m     \u001b[0mt2\u001b[0m \u001b[0;34m=\u001b[0m \u001b[0mcomputing_hosts\u001b[0m\u001b[0;34m[\u001b[0m\u001b[0;36m0\u001b[0m\u001b[0;34m]\u001b[0m\u001b[0;34m.\u001b[0m\u001b[0mrun_protocol\u001b[0m\u001b[0;34m(\u001b[0m\u001b[0mcomputing_host_protocol_send_results\u001b[0m\u001b[0;34m)\u001b[0m\u001b[0;34m\u001b[0m\u001b[0;34m\u001b[0m\u001b[0m\n\u001b[1;32m     47\u001b[0m \u001b[0;34m\u001b[0m\u001b[0m\n\u001b[0;32m---> 48\u001b[0;31m     \u001b[0mt1\u001b[0m\u001b[0;34m.\u001b[0m\u001b[0mjoin\u001b[0m\u001b[0;34m(\u001b[0m\u001b[0;34m)\u001b[0m\u001b[0;34m\u001b[0m\u001b[0;34m\u001b[0m\u001b[0m\n\u001b[0m\u001b[1;32m     49\u001b[0m     \u001b[0mt2\u001b[0m\u001b[0;34m.\u001b[0m\u001b[0mjoin\u001b[0m\u001b[0;34m(\u001b[0m\u001b[0;34m)\u001b[0m\u001b[0;34m\u001b[0m\u001b[0;34m\u001b[0m\u001b[0m\n\u001b[1;32m     50\u001b[0m \u001b[0;34m\u001b[0m\u001b[0m\n",
      "\u001b[0;32m/usr/lib/python3.8/threading.py\u001b[0m in \u001b[0;36mjoin\u001b[0;34m(self, timeout)\u001b[0m\n\u001b[1;32m   1009\u001b[0m \u001b[0;34m\u001b[0m\u001b[0m\n\u001b[1;32m   1010\u001b[0m         \u001b[0;32mif\u001b[0m \u001b[0mtimeout\u001b[0m \u001b[0;32mis\u001b[0m \u001b[0;32mNone\u001b[0m\u001b[0;34m:\u001b[0m\u001b[0;34m\u001b[0m\u001b[0;34m\u001b[0m\u001b[0m\n\u001b[0;32m-> 1011\u001b[0;31m             \u001b[0mself\u001b[0m\u001b[0;34m.\u001b[0m\u001b[0m_wait_for_tstate_lock\u001b[0m\u001b[0;34m(\u001b[0m\u001b[0;34m)\u001b[0m\u001b[0;34m\u001b[0m\u001b[0;34m\u001b[0m\u001b[0m\n\u001b[0m\u001b[1;32m   1012\u001b[0m         \u001b[0;32melse\u001b[0m\u001b[0;34m:\u001b[0m\u001b[0;34m\u001b[0m\u001b[0;34m\u001b[0m\u001b[0m\n\u001b[1;32m   1013\u001b[0m             \u001b[0;31m# the behavior of a negative timeout isn't documented, but\u001b[0m\u001b[0;34m\u001b[0m\u001b[0;34m\u001b[0m\u001b[0;34m\u001b[0m\u001b[0m\n",
      "\u001b[0;32m/usr/lib/python3.8/threading.py\u001b[0m in \u001b[0;36m_wait_for_tstate_lock\u001b[0;34m(self, block, timeout)\u001b[0m\n\u001b[1;32m   1025\u001b[0m         \u001b[0;32mif\u001b[0m \u001b[0mlock\u001b[0m \u001b[0;32mis\u001b[0m \u001b[0;32mNone\u001b[0m\u001b[0;34m:\u001b[0m  \u001b[0;31m# already determined that the C code is done\u001b[0m\u001b[0;34m\u001b[0m\u001b[0;34m\u001b[0m\u001b[0m\n\u001b[1;32m   1026\u001b[0m             \u001b[0;32massert\u001b[0m \u001b[0mself\u001b[0m\u001b[0;34m.\u001b[0m\u001b[0m_is_stopped\u001b[0m\u001b[0;34m\u001b[0m\u001b[0;34m\u001b[0m\u001b[0m\n\u001b[0;32m-> 1027\u001b[0;31m         \u001b[0;32melif\u001b[0m \u001b[0mlock\u001b[0m\u001b[0;34m.\u001b[0m\u001b[0macquire\u001b[0m\u001b[0;34m(\u001b[0m\u001b[0mblock\u001b[0m\u001b[0;34m,\u001b[0m \u001b[0mtimeout\u001b[0m\u001b[0;34m)\u001b[0m\u001b[0;34m:\u001b[0m\u001b[0;34m\u001b[0m\u001b[0;34m\u001b[0m\u001b[0m\n\u001b[0m\u001b[1;32m   1028\u001b[0m             \u001b[0mlock\u001b[0m\u001b[0;34m.\u001b[0m\u001b[0mrelease\u001b[0m\u001b[0;34m(\u001b[0m\u001b[0;34m)\u001b[0m\u001b[0;34m\u001b[0m\u001b[0;34m\u001b[0m\u001b[0m\n\u001b[1;32m   1029\u001b[0m             \u001b[0mself\u001b[0m\u001b[0;34m.\u001b[0m\u001b[0m_stop\u001b[0m\u001b[0;34m(\u001b[0m\u001b[0;34m)\u001b[0m\u001b[0;34m\u001b[0m\u001b[0;34m\u001b[0m\u001b[0m\n",
      "\u001b[0;31mKeyboardInterrupt\u001b[0m: "
     ]
    }
   ],
   "source": [
    "from scipy.optimize import minimize\n",
    "minimum_cobyla = minimize(cost_fn, params, method=\"COBYLA\", tol=1e-4)\n",
    "\n",
    "minimum_cobyla"
   ]
  },
  {
   "cell_type": "code",
   "execution_count": 37,
   "metadata": {},
   "outputs": [
    {
     "data": {
      "text/plain": [
       "array([[ 5.55694514e+00, -7.61630109e-06,  4.28383432e+00],\n",
       "       [ 6.28318768e+00,  5.80744365e+00, -3.31610951e+00],\n",
       "       [ 2.96686515e+00, -1.04722187e+00,  1.59533893e-05],\n",
       "       [ 9.63660043e-01,  4.09808099e-05,  4.04340722e+00]])"
      ]
     },
     "execution_count": 37,
     "metadata": {},
     "output_type": "execute_result"
    }
   ],
   "source": [
    "minimum_cobyla.x.reshape(4,3)"
   ]
  },
  {
   "cell_type": "markdown",
   "metadata": {},
   "source": [
    "### Scikit-Quant Optimisers"
   ]
  },
  {
   "cell_type": "code",
   "execution_count": 35,
   "metadata": {},
   "outputs": [],
   "source": [
    "from skquant.interop.scipy import *"
   ]
  },
  {
   "cell_type": "code",
   "execution_count": 36,
   "metadata": {},
   "outputs": [],
   "source": [
    "bounds = np.array([-3*np.pi, 3*np.pi])\n",
    "bounds = np.tile(bounds, (4*3, 1))\n",
    "\n",
    "flattened_parameters = params.flatten()"
   ]
  },
  {
   "cell_type": "code",
   "execution_count": 39,
   "metadata": {},
   "outputs": [
    {
     "data": {
      "text/plain": [
       "     fun: -1.3256110073898835\n",
       " message: 'completed'\n",
       "    nfev: 184\n",
       "  status: 0\n",
       " success: True\n",
       "       x: array([ 1.02025713, -9.42477796,  0.35108503, -5.90293328,  0.        ,\n",
       "        1.29220997, -0.73486447, -9.42477796,  1.26653549,  4.59111796,\n",
       "       -9.42477796, -5.28321501])"
      ]
     },
     "execution_count": 39,
     "metadata": {},
     "output_type": "execute_result"
    }
   ],
   "source": [
    "budget = 200\n",
    "minimum_imfil = minimize(cost_fn, flattened_parameters, method=imfil, bounds=bounds, options={'budget' : budget})\n",
    "\n",
    "minimum_imfil"
   ]
  },
  {
   "cell_type": "code",
   "execution_count": 38,
   "metadata": {},
   "outputs": [
    {
     "data": {
      "text/plain": [
       "     fun: -1.0362649459088442\n",
       " message: 'completed'\n",
       "    nfev: 100\n",
       "  status: 0\n",
       " success: True\n",
       "       x: array([ 1.64397148,  0.72117066, -0.27262932, -5.27921892, -0.9354028 ,\n",
       "        1.91592432, -0.11115012,  0.33157929,  1.89024984,  5.21483232,\n",
       "        0.24504781, -4.65950066])"
      ]
     },
     "execution_count": 38,
     "metadata": {},
     "output_type": "execute_result"
    }
   ],
   "source": [
    "budget = 100\n",
    "minimum_bobyqa = minimize(cost_fn, flattened_parameters, method=pybobyqa, bounds=bounds, options={'budget' : budget})\n",
    "\n",
    "minimum_bobyqa"
   ]
  },
  {
   "cell_type": "code",
   "execution_count": 61,
   "metadata": {},
   "outputs": [
    {
     "data": {
      "text/plain": [
       "     fun: -1.3371320476152808\n",
       " message: 'completed'\n",
       "    nfev: 211\n",
       "  status: 0\n",
       " success: True\n",
       "       x: array([-5.50011192,  0.33891502, -4.96874294,  4.34972352, -6.29650566,\n",
       "       -4.42851467,  1.59863084, -5.96739241, -3.51657315,  3.89921914,\n",
       "       -6.50648971, -6.01809772])"
      ]
     },
     "execution_count": 61,
     "metadata": {},
     "output_type": "execute_result"
    }
   ],
   "source": [
    "budget = 200\n",
    "minimum_snobfit = minimize(cost_fn, flattened_parameters, method=snobfit, bounds=bounds, options={'budget' : budget})\n",
    "\n",
    "minimum_snobfit"
   ]
  },
  {
   "cell_type": "markdown",
   "metadata": {},
   "source": [
    "### Gradient Descent Optimisers "
   ]
  },
  {
   "cell_type": "code",
   "execution_count": 38,
   "metadata": {},
   "outputs": [
    {
     "name": "stderr",
     "output_type": "stream",
     "text": [
      "ERROR:root:No traceback has been produced, nothing to debug.\n"
     ]
    }
   ],
   "source": [
    "%debug\n",
    "#max_iterations = 200\n",
    "#conv_tol = 1e-06\n",
    "\n",
    "#for n in range(max_iterations):\n",
    "#    params, prev_energy = opt.step_and_cost(cost_fn, params)\n",
    "#    energy = cost_fn(params)\n",
    "#    conv = np.abs(energy - prev_energy)\n",
    "\n",
    "#    if n % 20 == 0:\n",
    "#        print('Iteration = {:},  Energy = {:.8f} Ha'.format(n, energy))\n",
    "\n",
    "#    if conv <= conv_tol:\n",
    "#        break"
   ]
  }
 ],
 "metadata": {
  "kernelspec": {
   "display_name": "Python 3",
   "language": "python",
   "name": "python3"
  },
  "language_info": {
   "codemirror_mode": {
    "name": "ipython",
    "version": 3
   },
   "file_extension": ".py",
   "mimetype": "text/x-python",
   "name": "python",
   "nbconvert_exporter": "python",
   "pygments_lexer": "ipython3",
   "version": "3.8.5"
  }
 },
 "nbformat": 4,
 "nbformat_minor": 2
}
