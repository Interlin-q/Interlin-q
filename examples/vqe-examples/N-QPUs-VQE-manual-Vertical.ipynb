{
 "cells": [
  {
   "cell_type": "markdown",
   "metadata": {},
   "source": [
    "# $N$-QPU VQE - Vertical Speedup\n",
    "\n",
    "This notebook implements routines for running a VQE ansatz on several Quantum Computers of smaller size, which are connected both quantumly and classically, thus achieving a vertical speedup, using Interlin-q. Here, we first use a greedy algorithm to see how many qubits from each QPU do we need, and then use this information to build our parallel schedule accordingly. The controller host then takes care of sending the schedule to the different QPU so that each one knows their respective tasks. Since the networking overhead in this approach is relatively big, we will manually retrieve the statevector from the QPU network and calculate the expecation value ourselves."
   ]
  },
  {
   "cell_type": "markdown",
   "metadata": {},
   "source": [
    "In this notebook, we will be applying VQE for the Hamiltonian of the Hydrogen molecule, which requires a maximum of 4 qubits for its ansatz, which is displayed below:"
   ]
  },
  {
   "cell_type": "markdown",
   "metadata": {},
   "source": [
    "<img src=\"https://pennylane.ai/qml/_images/sketch_circuit.png\" alt=\"H2 ansatz\" style=\"width:700px;\"/>"
   ]
  },
  {
   "cell_type": "markdown",
   "metadata": {},
   "source": [
    "## Step 1: Import libraries.\n",
    "\n",
    "First we import all the necessary libraries. Interlin-q is built using the Python framework [QuNetSim](https://arxiv.org/abs/2003.06397) which is a software framework for simulating quantum networks up to the network layer. We also need PennyLane's chemistry library for decomposing the Hamiltonian. In addition, we import the scheduling algorithm which is based on Algorithm 1 from this [paper](https://arxiv.org/pdf/2101.02504.pdf)."
   ]
  },
  {
   "cell_type": "code",
   "execution_count": 1,
   "metadata": {},
   "outputs": [],
   "source": [
    "%load_ext autoreload\n",
    "%autoreload 2\n",
    "\n",
    "# Basic Libraries\n",
    "import sys\n",
    "import numpy as np\n",
    "\n",
    "sys.path.append(\"../../\")\n",
    "\n",
    "# QuNetSim Components\n",
    "from qunetsim.components import Network\n",
    "from qunetsim.objects import Logger\n",
    "from qunetsim.backends.eqsn_backend import EQSNBackend\n",
    "\n",
    "# Interlin-q Components\n",
    "from interlinq import (ControllerHost, Constants, Clock,\n",
    "Circuit, Layer, ComputingHost, Operation)\n",
    "\n",
    "# Extra needed components\n",
    "from hamiltonian_decomposition import decompose\n",
    "from general_scheduler import HardwareConfig, GreedySchedule\n",
    "\n",
    "Logger.DISABLED = False"
   ]
  },
  {
   "cell_type": "code",
   "execution_count": 2,
   "metadata": {},
   "outputs": [
    {
     "data": {
      "text/plain": [
       "'0.15.1'"
      ]
     },
     "execution_count": 2,
     "metadata": {},
     "output_type": "execute_result"
    }
   ],
   "source": [
    "import pennylane as qml\n",
    "qml.version() # should be 0.15.1. Higher versions are not integrated with the notebook yet"
   ]
  },
  {
   "cell_type": "markdown",
   "metadata": {},
   "source": [
    "## Step 2: Decompose the Hamiltonian."
   ]
  },
  {
   "cell_type": "code",
   "execution_count": 3,
   "metadata": {},
   "outputs": [],
   "source": [
    "# These parameters are mentioned in PennyLane's VQE tutorial (https://pennylane.ai/qml/demos/tutorial_vqe.html) \n",
    "# and are used as is for benchmarking\n",
    "geometry = 'h2.xyz'\n",
    "charge = 0\n",
    "multiplicity = 1\n",
    "basis_set = 'sto-3g'\n",
    "name = 'h2'"
   ]
  },
  {
   "cell_type": "code",
   "execution_count": 4,
   "metadata": {},
   "outputs": [
    {
     "data": {
      "text/plain": [
       "[(-0.04207897647782276, [('Identity', 0)]),\n",
       " (0.17771287465139946, [('PauliZ', 0)]),\n",
       " (0.1777128746513994, [('PauliZ', 1)]),\n",
       " (-0.24274280513140462, [('PauliZ', 2)]),\n",
       " (-0.24274280513140462, [('PauliZ', 3)]),\n",
       " (0.17059738328801052, [('PauliZ', 0), ('PauliZ', 1)]),\n",
       " (0.04475014401535161,\n",
       "  [('PauliY', 0), ('PauliX', 1), ('PauliX', 2), ('PauliY', 3)]),\n",
       " (-0.04475014401535161,\n",
       "  [('PauliY', 0), ('PauliY', 1), ('PauliX', 2), ('PauliX', 3)]),\n",
       " (-0.04475014401535161,\n",
       "  [('PauliX', 0), ('PauliX', 1), ('PauliY', 2), ('PauliY', 3)]),\n",
       " (0.04475014401535161,\n",
       "  [('PauliX', 0), ('PauliY', 1), ('PauliY', 2), ('PauliX', 3)]),\n",
       " (0.12293305056183798, [('PauliZ', 0), ('PauliZ', 2)]),\n",
       " (0.1676831945771896, [('PauliZ', 0), ('PauliZ', 3)]),\n",
       " (0.1676831945771896, [('PauliZ', 1), ('PauliZ', 2)]),\n",
       " (0.12293305056183798, [('PauliZ', 1), ('PauliZ', 3)]),\n",
       " (0.17627640804319591, [('PauliZ', 2), ('PauliZ', 3)])]"
      ]
     },
     "execution_count": 4,
     "metadata": {},
     "output_type": "execute_result"
    }
   ],
   "source": [
    "# The decompose function runs PennyLane's decomposers and strips out the observables from their PennyLane objects\n",
    "# to be used easily for our purposes\n",
    "coefficients, observables, qubit_num = decompose(name, geometry, charge, multiplicity, basis_set)\n",
    "terms = list(zip(coefficients, observables))\n",
    "\n",
    "terms"
   ]
  },
  {
   "cell_type": "markdown",
   "metadata": {},
   "source": [
    "## Step 3: Schedule our Observables on our QPUs"
   ]
  },
  {
   "cell_type": "markdown",
   "metadata": {},
   "source": [
    "We are going to assume a very simple quantum network consisting of merely 3 QPUs, where a pair has two qubits and the third QPU has only one qubit."
   ]
  },
  {
   "cell_type": "code",
   "execution_count": 5,
   "metadata": {},
   "outputs": [
    {
     "data": {
      "text/plain": [
       "4"
      ]
     },
     "execution_count": 5,
     "metadata": {},
     "output_type": "execute_result"
    }
   ],
   "source": [
    "# First, determine the size of the ansatz\n",
    "max = 0\n",
    "for term in terms:\n",
    "    _, obs = term\n",
    "    \n",
    "    for ob in obs:\n",
    "        _, idx = ob\n",
    "        \n",
    "        max = idx if idx > max else max\n",
    "max += 1\n",
    "\n",
    "max"
   ]
  },
  {
   "cell_type": "code",
   "execution_count": 6,
   "metadata": {},
   "outputs": [],
   "source": [
    "number_of_observables = len(terms)\n",
    "hardware_configuration = [2, 2, 1]"
   ]
  },
  {
   "cell_type": "code",
   "execution_count": 7,
   "metadata": {},
   "outputs": [
    {
     "name": "stdout",
     "output_type": "stream",
     "text": [
      "### Schedule for parallelization ###\n",
      "# Round 1 #\n",
      "[(0, [2, 2, 0])]\n",
      "# Round 2 #\n",
      "[(0, [2, 2, 0])]\n",
      "# Round 3 #\n",
      "[(0, [2, 2, 0])]\n",
      "# Round 4 #\n",
      "[(0, [2, 2, 0])]\n",
      "# Round 5 #\n",
      "[(0, [2, 2, 0])]\n",
      "# Round 6 #\n",
      "[(0, [2, 2, 0])]\n",
      "# Round 7 #\n",
      "[(0, [2, 2, 0])]\n",
      "# Round 8 #\n",
      "[(0, [2, 2, 0])]\n",
      "# Round 9 #\n",
      "[(0, [2, 2, 0])]\n",
      "# Round 10 #\n",
      "[(0, [2, 2, 0])]\n",
      "# Round 11 #\n",
      "[(0, [2, 2, 0])]\n",
      "# Round 12 #\n",
      "[(0, [2, 2, 0])]\n",
      "# Round 13 #\n",
      "[(0, [2, 2, 0])]\n",
      "# Round 14 #\n",
      "[(0, [2, 2, 0])]\n",
      "# Round 15 #\n",
      "[(0, [2, 2, 0])]\n",
      "\n"
     ]
    }
   ],
   "source": [
    "config = HardwareConfig(hardware_configuration)\n",
    "sched = GreedySchedule(number_of_observables, config, max, True)\n",
    "sched.make_schedule()\n",
    "\n",
    "sched.print_schedule()"
   ]
  },
  {
   "cell_type": "markdown",
   "metadata": {},
   "source": [
    "As expected, we only need two qubits each from the bigger QPUs for our ansatz. And so we will build our circuits accordingly."
   ]
  },
  {
   "cell_type": "markdown",
   "metadata": {},
   "source": [
    "## Step 4: Prepare Circuit for Given Parameters"
   ]
  },
  {
   "cell_type": "markdown",
   "metadata": {},
   "source": [
    "The circuit can be prepared using two different ways: either as one circuit, or several circuits run sequentially. The former approach is simpler and generally better for the optimisation function. The latter is better for debugging and for dynamic components of a quantum circuit (i.e. circuits that have a lot of changing operations). For the rest of this notebook, we will use the former approach, since the networking overhead can be computationally expensive in a threaded environment."
   ]
  },
  {
   "cell_type": "markdown",
   "metadata": {},
   "source": [
    "### Main Blocks"
   ]
  },
  {
   "cell_type": "code",
   "execution_count": 8,
   "metadata": {},
   "outputs": [],
   "source": [
    "# Arbitrary single qubit rotation, as implemented by PennyLane here: \n",
    "# https://pennylane.readthedocs.io/en/stable/code/api/pennylane.Rot.html#pennylane.Rot\n",
    "def rotational_gate(params):\n",
    "    phi, theta, omega = params\n",
    "    cos = np.cos(theta / 2)\n",
    "    sin = np.sin(theta / 2)\n",
    "    \n",
    "    res = np.array([[np.exp(-1j * (phi + omega) / 2) * cos, -np.exp(1j * (phi - omega) / 2) * sin], \n",
    "                     [np.exp(-1j * (phi - omega) / 2) * sin, np.exp(1j * (phi + omega) / 2) * cos]])\n",
    "    \n",
    "    return res"
   ]
  },
  {
   "cell_type": "code",
   "execution_count": 9,
   "metadata": {},
   "outputs": [],
   "source": [
    "# These operations are responsible for preparing the initial state of the qubits, as shown in the figure above.\n",
    "# We assume the qubits are distributed consecutively \n",
    "def initialisation_operations(q_map):\n",
    "    computing_host_ids = list(q_map.keys())\n",
    "    \n",
    "    ops = []\n",
    "    for host_id in computing_host_ids:\n",
    "        # We first initialize all the qubits in the backend\n",
    "        op = Operation(\n",
    "            name=Constants.PREPARE_QUBITS,\n",
    "            qids=q_map[host_id],\n",
    "            computing_host_ids=[host_id])\n",
    "        ops.append(op)\n",
    "    \n",
    "    ### Workaround for a bug in EQSN\n",
    "    # The first two in the first host\n",
    "    op = Operation(\n",
    "        name=Constants.TWO_QUBIT,\n",
    "        qids=[q_map['QPU_0'][0], q_map['QPU_0'][1]],\n",
    "        gate=Operation.CNOT,\n",
    "        computing_host_ids=['QPU_0'])\n",
    "    ops.append(op)\n",
    "    \n",
    "    # Between the two computers\n",
    "    op = Operation(\n",
    "        name=Constants.TWO_QUBIT,\n",
    "        qids=[q_map['QPU_0'][1], q_map['QPU_1'][0]],\n",
    "        gate=Operation.CNOT,\n",
    "        computing_host_ids=computing_host_ids)\n",
    "    ops.append(op)\n",
    "\n",
    "    # The two in the second computer\n",
    "    op = Operation(\n",
    "        name=Constants.TWO_QUBIT,\n",
    "        qids=[q_map['QPU_1'][0], q_map['QPU_1'][1]],\n",
    "        gate=Operation.CNOT,\n",
    "        computing_host_ids=['QPU_1'])\n",
    "    ops.append(op)\n",
    "    ################################\n",
    "\n",
    "    # Prepare the qubits on the computing host\n",
    "    op = Operation(\n",
    "        name=Constants.SINGLE,\n",
    "        qids=[q_map['QPU_0'][0]],\n",
    "        gate=Operation.X,\n",
    "        computing_host_ids=['QPU_0'])\n",
    "    ops.append(op)\n",
    "    \n",
    "    op = Operation(\n",
    "        name=Constants.SINGLE,\n",
    "        qids=[q_map['QPU_0'][1]],\n",
    "        gate=Operation.X,\n",
    "        computing_host_ids=['QPU_0'])\n",
    "    ops.append(op)\n",
    "    \n",
    "    # Needed to fix bug in EQSN\n",
    "    op = Operation(\n",
    "        name=Constants.SINGLE,\n",
    "        qids=[q_map['QPU_1'][0]],\n",
    "        gate=Operation.X,\n",
    "        computing_host_ids=['QPU_1'])\n",
    "    ops.append(op)\n",
    "    ###########################\n",
    "\n",
    "    return [Layer(ops)]"
   ]
  },
  {
   "cell_type": "code",
   "execution_count": 10,
   "metadata": {},
   "outputs": [],
   "source": [
    "# These operations are responsible for applying the rotation gates on the qubits, as well as the CNOTs.\n",
    "def ansatz_operations(q_map, parameters):\n",
    "    computing_host_ids = list(q_map.keys())\n",
    "    \n",
    "    layers = []\n",
    "    \n",
    "    ops = []\n",
    "    j = 0\n",
    "    for host_id in computing_host_ids:\n",
    "        for i in range(len(q_map[host_id])):\n",
    "            op = Operation(\n",
    "                name=Constants.SINGLE,\n",
    "                qids=[q_map[host_id][i]],\n",
    "                gate=Operation.CUSTOM,\n",
    "                gate_param=rotational_gate(parameters[j]),\n",
    "                computing_host_ids=[host_id])\n",
    "            j += 1\n",
    "            \n",
    "            ops.append(op)\n",
    "\n",
    "    layers.append(Layer(ops))\n",
    "    \n",
    "    ops = []\n",
    "    \n",
    "    op = Operation(\n",
    "        name=Constants.TWO_QUBIT,\n",
    "        qids=[q_map['QPU_1'][0], q_map['QPU_1'][1]],\n",
    "        gate=Operation.CNOT,\n",
    "        computing_host_ids=['QPU_1'])\n",
    "\n",
    "    ops.append(op)\n",
    "\n",
    "    op = Operation(\n",
    "        name=Constants.TWO_QUBIT,\n",
    "        qids=[q_map['QPU_1'][0], q_map['QPU_0'][0]],\n",
    "        gate=Operation.CNOT,\n",
    "        computing_host_ids=['QPU_1', 'QPU_0'])\n",
    "\n",
    "    ops.append(op)\n",
    "\n",
    "    op = Operation(\n",
    "        name=Constants.TWO_QUBIT,\n",
    "        qids=[q_map['QPU_1'][1], q_map['QPU_0'][1]],\n",
    "        gate=Operation.CNOT,\n",
    "        computing_host_ids=['QPU_1', 'QPU_0'])\n",
    "\n",
    "    ops.append(op)\n",
    "\n",
    "    layers.append(Layer(ops))\n",
    "        \n",
    "    return layers"
   ]
  },
  {
   "cell_type": "markdown",
   "metadata": {},
   "source": [
    "### The Protocols"
   ]
  },
  {
   "cell_type": "markdown",
   "metadata": {},
   "source": [
    "#### The Controller Protocols "
   ]
  },
  {
   "cell_type": "markdown",
   "metadata": {},
   "source": [
    "This function builds the complete circuit needed to carry out VQE"
   ]
  },
  {
   "cell_type": "code",
   "execution_count": 11,
   "metadata": {},
   "outputs": [],
   "source": [
    "def prepare_qubits_and_apply_ansatz(q_map, parameters): \n",
    "    circuit = Circuit(q_map, initialisation_operations(q_map) + ansatz_operations(q_map, parameters))\n",
    "    return circuit"
   ]
  },
  {
   "cell_type": "markdown",
   "metadata": {},
   "source": [
    "This function details the first communication protocol that will be carried out by the ControllerHost\n",
    "As shown from the function names, the host first schedules the observables internally, then sends out the circuit to all the ComputingHosts. Note that we didn't send the schedules as of just yet."
   ]
  },
  {
   "cell_type": "code",
   "execution_count": 12,
   "metadata": {},
   "outputs": [],
   "source": [
    "def controller_host_protocol_preparation_ansatz(host, q_map, params, terms):\n",
    "    \"\"\"\n",
    "    Protocol for the controller host\n",
    "    \"\"\"\n",
    "    host.schedule_expectation_terms(terms, q_map)\n",
    "    \n",
    "    host.generate_and_send_schedules(prepare_qubits_and_apply_ansatz(q_map, params))"
   ]
  },
  {
   "cell_type": "markdown",
   "metadata": {},
   "source": [
    "#### The Computing Protocols"
   ]
  },
  {
   "cell_type": "markdown",
   "metadata": {},
   "source": [
    "This is the simple communication protocol of the ComputingHosts where they simply receive a schedule of operations and later listen to the synchronization until it is time to run a specific operation (which can a gate or some communication with another party)"
   ]
  },
  {
   "cell_type": "code",
   "execution_count": 13,
   "metadata": {},
   "outputs": [],
   "source": [
    "def computing_host_protocol(host):\n",
    "    host.receive_schedule()"
   ]
  },
  {
   "cell_type": "markdown",
   "metadata": {},
   "source": [
    "## Step 5: Run the circuit and get the Expectation Value"
   ]
  },
  {
   "cell_type": "markdown",
   "metadata": {},
   "source": [
    "Let's now run all the different pieces from above and see if we get the expected expectation value, which is the value from the PennyLane tutorial."
   ]
  },
  {
   "cell_type": "code",
   "execution_count": 14,
   "metadata": {},
   "outputs": [],
   "source": [
    "def init_network():\n",
    "    # Retrieve the QuNetSim network\n",
    "    network = Network.get_instance()\n",
    "    network.delay = 0\n",
    "    network.start()\n",
    "\n",
    "    # Initialize the synchronization clock\n",
    "    clock = Clock.get_instance()\n",
    "\n",
    "    # Initialize the statevector backend\n",
    "    eqsn = EQSNBackend()\n",
    "    \n",
    "    # Initialize the controller host with the given ID\n",
    "    controller_host = ControllerHost(\n",
    "        host_id=\"host_1\",\n",
    "        backend=eqsn\n",
    "    )\n",
    "\n",
    "    # Create a network with the given number of QPUs, each with the given number of qubits\n",
    "    computing_hosts, q_map = controller_host.create_distributed_network(\n",
    "        num_computing_hosts=2, # Since we don't need the third QPU, we will just drop it from our simulation\n",
    "        num_qubits_per_host=2)\n",
    "    controller_host.start()\n",
    "\n",
    "    # Add all the nodes to the QuNetSim network\n",
    "    network.add_hosts([controller_host])\n",
    "    network.add_hosts(computing_hosts)\n",
    "    \n",
    "    return clock, controller_host, computing_hosts, q_map"
   ]
  },
  {
   "cell_type": "code",
   "execution_count": 15,
   "metadata": {},
   "outputs": [],
   "source": [
    "np.random.seed(0)\n",
    "params = np.random.normal(0, np.pi, (4, 3))"
   ]
  },
  {
   "cell_type": "code",
   "execution_count": 16,
   "metadata": {},
   "outputs": [
    {
     "data": {
      "text/plain": [
       "array([[ 5.54193389,  1.25713095,  3.07479606],\n",
       "       [ 7.03997361,  5.86710646, -3.07020901],\n",
       "       [ 2.98479079, -0.47550269, -0.32427159],\n",
       "       [ 1.28993324,  0.45252622,  4.56873497]])"
      ]
     },
     "execution_count": 16,
     "metadata": {},
     "output_type": "execute_result"
    }
   ],
   "source": [
    "params"
   ]
  },
  {
   "cell_type": "markdown",
   "metadata": {},
   "source": [
    "### Running the circuit"
   ]
  },
  {
   "cell_type": "code",
   "execution_count": 17,
   "metadata": {},
   "outputs": [],
   "source": [
    "# Make sure that the QuNetSim network has no nodes that can interfere with our operation\n",
    "list_hosts = list(Network.get_instance().ARP.keys())\n",
    "\n",
    "for key in list_hosts:\n",
    "    Network.get_instance().remove_host(Network.get_instance().get_host(key))"
   ]
  },
  {
   "cell_type": "code",
   "execution_count": 18,
   "metadata": {},
   "outputs": [
    {
     "name": "stderr",
     "output_type": "stream",
     "text": [
      "2021-07-18 00:58:21,356: Host QPU_0 started processing\n",
      "2021-07-18 00:58:21,356: Host QPU_1 started processing\n",
      "2021-07-18 00:58:21,357: Host host_1 started processing\n"
     ]
    }
   ],
   "source": [
    "# Initialize the network and the hosts\n",
    "clock, controller_host, computing_hosts, q_map = init_network()"
   ]
  },
  {
   "cell_type": "code",
   "execution_count": 19,
   "metadata": {},
   "outputs": [
    {
     "name": "stderr",
     "output_type": "stream",
     "text": [
      "2021-07-18 00:58:22,503: host_1 sends BROADCAST message\n",
      "2021-07-18 00:58:22,514: sending ACK:1 from QPU_1 to host_1\n",
      "2021-07-18 00:58:22,531: QPU_1 received {\"QPU_0\": [{\"name\": \"PREPARE_QUBITS\", \"qids\": [\"q_0_0\", \"q_0_1\"], \"cids\": null, \"gate\": null, \"gate_param\": null, \"computing_host_ids\": [\"QPU_0\"], \"pre_allocated_qubits\": false, \"layer_end\": 0}, {\"name\": \"TWO_QUBIT\", \"qids\": [\"q_0_0\", \"q_0_1\"], \"cids\": null, \"gate\": \"cnot\", \"gate_param\": null, \"computing_host_ids\": [\"QPU_0\"], \"pre_allocated_qubits\": false, \"layer_end\": 0}, {\"name\": \"SINGLE\", \"qids\": [\"q_0_0\"], \"cids\": null, \"gate\": \"X\", \"gate_param\": null, \"computing_host_ids\": [\"QPU_0\"], \"pre_allocated_qubits\": false, \"layer_end\": 0}, {\"name\": \"SINGLE\", \"qids\": [\"q_0_1\"], \"cids\": null, \"gate\": \"X\", \"gate_param\": null, \"computing_host_ids\": [\"QPU_0\"], \"pre_allocated_qubits\": false, \"layer_end\": 0}, {\"name\": \"SEND_ENT\", \"qids\": [\"13373bb7-6cdf-42c2-bec0-a084c6182c78\"], \"cids\": null, \"gate\": null, \"gate_param\": null, \"computing_host_ids\": [\"QPU_0\", \"QPU_1\"], \"pre_allocated_qubits\": true, \"layer_end\": 0}, {\"name\": \"TWO_QUBIT\", \"qids\": [\"q_0_1\", \"13373bb7-6cdf-42c2-bec0-a084c6182c78\"], \"cids\": null, \"gate\": \"cnot\", \"gate_param\": null, \"computing_host_ids\": [\"QPU_0\"], \"pre_allocated_qubits\": false, \"layer_end\": 1}, {\"name\": \"MEASURE\", \"qids\": [\"13373bb7-6cdf-42c2-bec0-a084c6182c78\"], \"cids\": [\"67a4305a-e872-4be0-ad16-db27de514225\"], \"gate\": null, \"gate_param\": null, \"computing_host_ids\": [\"QPU_0\"], \"pre_allocated_qubits\": false, \"layer_end\": 2}, {\"name\": \"SEND_CLASSICAL\", \"qids\": null, \"cids\": [\"67a4305a-e872-4be0-ad16-db27de514225\"], \"gate\": null, \"gate_param\": null, \"computing_host_ids\": [\"QPU_0\", \"QPU_1\"], \"pre_allocated_qubits\": false, \"layer_end\": 3}, {\"name\": \"REC_CLASSICAL\", \"qids\": null, \"cids\": [\"38e9af67-3bca-43a6-ac53-a66c636c168a\"], \"gate\": null, \"gate_param\": null, \"computing_host_ids\": [\"QPU_0\", \"QPU_1\"], \"pre_allocated_qubits\": false, \"layer_end\": 8}, {\"name\": \"CLASSICAL_CTRL_GATE\", \"qids\": [\"q_0_1\"], \"cids\": [\"38e9af67-3bca-43a6-ac53-a66c636c168a\"], \"gate\": \"Z\", \"gate_param\": null, \"computing_host_ids\": [\"QPU_0\"], \"pre_allocated_qubits\": false, \"layer_end\": 9}, {\"name\": \"SINGLE\", \"qids\": [\"q_0_0\"], \"cids\": null, \"gate\": \"custom_gate\", \"gate_param\": [[[-0.31798493034765196, 0.7437467353318117], [-0.19454774447448653, -0.5548671488518317]], [[0.19454774447448653, -0.5548671488518317], [-0.31798493034765196, -0.7437467353318117]]], \"computing_host_ids\": [\"QPU_0\"], \"pre_allocated_qubits\": false, \"layer_end\": 10}, {\"name\": \"SINGLE\", \"qids\": [\"q_0_1\"], \"cids\": null, \"gate\": \"custom_gate\", \"gate_param\": [[[0.39367767478169263, 0.8957445465285611], [-0.06940503059650993, 0.19453158476381135]], [[0.06940503059650993, 0.19453158476381135], [0.39367767478169263, -0.8957445465285611]]], \"computing_host_ids\": [\"QPU_0\"], \"pre_allocated_qubits\": false, \"layer_end\": 10}, {\"name\": \"REC_ENT\", \"qids\": [\"5cd20ecb-e98c-43a7-a9dd-649f7a695ab8\"], \"cids\": null, \"gate\": null, \"gate_param\": null, \"computing_host_ids\": [\"QPU_0\", \"QPU_1\"], \"pre_allocated_qubits\": true, \"layer_end\": 11}, {\"name\": \"REC_ENT\", \"qids\": [\"8ccedf09-bb61-4c12-884a-73f3b6311e3d\"], \"cids\": null, \"gate\": null, \"gate_param\": null, \"computing_host_ids\": [\"QPU_0\", \"QPU_1\"], \"pre_allocated_qubits\": true, \"layer_end\": 11}, {\"name\": \"REC_CLASSICAL\", \"qids\": null, \"cids\": [\"dfc35f27-23f1-4661-841c-a96296252706\"], \"gate\": null, \"gate_param\": null, \"computing_host_ids\": [\"QPU_0\", \"QPU_1\"], \"pre_allocated_qubits\": false, \"layer_end\": 14}, {\"name\": \"REC_CLASSICAL\", \"qids\": null, \"cids\": [\"2525752b-f83f-43ae-9adc-dcbc30d0f7cf\"], \"gate\": null, \"gate_param\": null, \"computing_host_ids\": [\"QPU_0\", \"QPU_1\"], \"pre_allocated_qubits\": false, \"layer_end\": 14}, {\"name\": \"CLASSICAL_CTRL_GATE\", \"qids\": [\"5cd20ecb-e98c-43a7-a9dd-649f7a695ab8\"], \"cids\": [\"dfc35f27-23f1-4661-841c-a96296252706\"], \"gate\": \"X\", \"gate_param\": null, \"computing_host_ids\": [\"QPU_0\"], \"pre_allocated_qubits\": false, \"layer_end\": 15}, {\"name\": \"CLASSICAL_CTRL_GATE\", \"qids\": [\"8ccedf09-bb61-4c12-884a-73f3b6311e3d\"], \"cids\": [\"2525752b-f83f-43ae-9adc-dcbc30d0f7cf\"], \"gate\": \"X\", \"gate_param\": null, \"computing_host_ids\": [\"QPU_0\"], \"pre_allocated_qubits\": false, \"layer_end\": 15}, {\"name\": \"TWO_QUBIT\", \"qids\": [\"5cd20ecb-e98c-43a7-a9dd-649f7a695ab8\", \"q_0_0\"], \"cids\": null, \"gate\": \"cnot\", \"gate_param\": null, \"computing_host_ids\": [\"QPU_0\"], \"pre_allocated_qubits\": false, \"layer_end\": 16}, {\"name\": \"TWO_QUBIT\", \"qids\": [\"8ccedf09-bb61-4c12-884a-73f3b6311e3d\", \"q_0_1\"], \"cids\": null, \"gate\": \"cnot\", \"gate_param\": null, \"computing_host_ids\": [\"QPU_0\"], \"pre_allocated_qubits\": false, \"layer_end\": 16}, {\"name\": \"SINGLE\", \"qids\": [\"5cd20ecb-e98c-43a7-a9dd-649f7a695ab8\"], \"cids\": null, \"gate\": \"H\", \"gate_param\": null, \"computing_host_ids\": [\"QPU_0\"], \"pre_allocated_qubits\": false, \"layer_end\": 17}, {\"name\": \"SINGLE\", \"qids\": [\"8ccedf09-bb61-4c12-884a-73f3b6311e3d\"], \"cids\": null, \"gate\": \"H\", \"gate_param\": null, \"computing_host_ids\": [\"QPU_0\"], \"pre_allocated_qubits\": false, \"layer_end\": 17}, {\"name\": \"MEASURE\", \"qids\": [\"5cd20ecb-e98c-43a7-a9dd-649f7a695ab8\"], \"cids\": [\"9234fdad-a62d-4847-b41d-9faa3e17bc1b\"], \"gate\": null, \"gate_param\": null, \"computing_host_ids\": [\"QPU_0\"], \"pre_allocated_qubits\": false, \"layer_end\": 18}, {\"name\": \"MEASURE\", \"qids\": [\"8ccedf09-bb61-4c12-884a-73f3b6311e3d\"], \"cids\": [\"0f986d89-5b88-4cc1-b66f-4fce8e996cc3\"], \"gate\": null, \"gate_param\": null, \"computing_host_ids\": [\"QPU_0\"], \"pre_allocated_qubits\": false, \"layer_end\": 18}, {\"name\": \"SEND_CLASSICAL\", \"qids\": null, \"cids\": [\"9234fdad-a62d-4847-b41d-9faa3e17bc1b\"], \"gate\": null, \"gate_param\": null, \"computing_host_ids\": [\"QPU_0\", \"QPU_1\"], \"pre_allocated_qubits\": false, \"layer_end\": 19}, {\"name\": \"SEND_CLASSICAL\", \"qids\": null, \"cids\": [\"0f986d89-5b88-4cc1-b66f-4fce8e996cc3\"], \"gate\": null, \"gate_param\": null, \"computing_host_ids\": [\"QPU_0\", \"QPU_1\"], \"pre_allocated_qubits\": false, \"layer_end\": 19}], \"QPU_1\": [{\"name\": \"PREPARE_QUBITS\", \"qids\": [\"q_1_0\", \"q_1_1\"], \"cids\": null, \"gate\": null, \"gate_param\": null, \"computing_host_ids\": [\"QPU_1\"], \"pre_allocated_qubits\": false, \"layer_end\": 0}, {\"name\": \"TWO_QUBIT\", \"qids\": [\"q_1_0\", \"q_1_1\"], \"cids\": null, \"gate\": \"cnot\", \"gate_param\": null, \"computing_host_ids\": [\"QPU_1\"], \"pre_allocated_qubits\": false, \"layer_end\": 0}, {\"name\": \"SINGLE\", \"qids\": [\"q_1_0\"], \"cids\": null, \"gate\": \"X\", \"gate_param\": null, \"computing_host_ids\": [\"QPU_1\"], \"pre_allocated_qubits\": false, \"layer_end\": 0}, {\"name\": \"REC_ENT\", \"qids\": [\"13373bb7-6cdf-42c2-bec0-a084c6182c78\"], \"cids\": null, \"gate\": null, \"gate_param\": null, \"computing_host_ids\": [\"QPU_1\", \"QPU_0\"], \"pre_allocated_qubits\": true, \"layer_end\": 0}, {\"name\": \"REC_CLASSICAL\", \"qids\": null, \"cids\": [\"67a4305a-e872-4be0-ad16-db27de514225\"], \"gate\": null, \"gate_param\": null, \"computing_host_ids\": [\"QPU_1\", \"QPU_0\"], \"pre_allocated_qubits\": false, \"layer_end\": 3}, {\"name\": \"CLASSICAL_CTRL_GATE\", \"qids\": [\"13373bb7-6cdf-42c2-bec0-a084c6182c78\"], \"cids\": [\"67a4305a-e872-4be0-ad16-db27de514225\"], \"gate\": \"X\", \"gate_param\": null, \"computing_host_ids\": [\"QPU_1\"], \"pre_allocated_qubits\": false, \"layer_end\": 4}, {\"name\": \"TWO_QUBIT\", \"qids\": [\"13373bb7-6cdf-42c2-bec0-a084c6182c78\", \"q_1_0\"], \"cids\": null, \"gate\": \"cnot\", \"gate_param\": null, \"computing_host_ids\": [\"QPU_1\"], \"pre_allocated_qubits\": false, \"layer_end\": 5}, {\"name\": \"SINGLE\", \"qids\": [\"13373bb7-6cdf-42c2-bec0-a084c6182c78\"], \"cids\": null, \"gate\": \"H\", \"gate_param\": null, \"computing_host_ids\": [\"QPU_1\"], \"pre_allocated_qubits\": false, \"layer_end\": 6}, {\"name\": \"MEASURE\", \"qids\": [\"13373bb7-6cdf-42c2-bec0-a084c6182c78\"], \"cids\": [\"38e9af67-3bca-43a6-ac53-a66c636c168a\"], \"gate\": null, \"gate_param\": null, \"computing_host_ids\": [\"QPU_1\"], \"pre_allocated_qubits\": false, \"layer_end\": 7}, {\"name\": \"SEND_CLASSICAL\", \"qids\": null, \"cids\": [\"38e9af67-3bca-43a6-ac53-a66c636c168a\"], \"gate\": null, \"gate_param\": null, \"computing_host_ids\": [\"QPU_1\", \"QPU_0\"], \"pre_allocated_qubits\": false, \"layer_end\": 8}, {\"name\": \"SINGLE\", \"qids\": [\"q_1_0\"], \"cids\": null, \"gate\": \"custom_gate\", \"gate_param\": [[[0.2315227000379894, -0.9438901384346993], [-0.01969801507418892, 0.234692637581541]], [[0.01969801507418892, 0.234692637581541], [0.2315227000379894, 0.9438901384346993]]], \"computing_host_ids\": [\"QPU_1\"], \"pre_allocated_qubits\": false, \"layer_end\": 10}, {\"name\": \"SINGLE\", \"qids\": [\"q_1_1\"], \"cids\": null, \"gate\": \"custom_gate\", \"gate_param\": [[[-0.9526411467473749, -0.20529868550618627], [0.015378497582795967, 0.22380973407198954]], [[-0.015378497582795967, 0.22380973407198954], [-0.9526411467473749, 0.20529868550618627]]], \"computing_host_ids\": [\"QPU_1\"], \"pre_allocated_qubits\": false, \"layer_end\": 10}, {\"name\": \"TWO_QUBIT\", \"qids\": [\"q_1_0\", \"q_1_1\"], \"cids\": null, \"gate\": \"cnot\", \"gate_param\": null, \"computing_host_ids\": [\"QPU_1\"], \"pre_allocated_qubits\": false, \"layer_end\": 11}, {\"name\": \"SEND_ENT\", \"qids\": [\"5cd20ecb-e98c-43a7-a9dd-649f7a695ab8\"], \"cids\": null, \"gate\": null, \"gate_param\": null, \"computing_host_ids\": [\"QPU_1\", \"QPU_0\"], \"pre_allocated_qubits\": true, \"layer_end\": 11}, {\"name\": \"SEND_ENT\", \"qids\": [\"8ccedf09-bb61-4c12-884a-73f3b6311e3d\"], \"cids\": null, \"gate\": null, \"gate_param\": null, \"computing_host_ids\": [\"QPU_1\", \"QPU_0\"], \"pre_allocated_qubits\": true, \"layer_end\": 11}, {\"name\": \"TWO_QUBIT\", \"qids\": [\"q_1_0\", \"5cd20ecb-e98c-43a7-a9dd-649f7a695ab8\"], \"cids\": null, \"gate\": \"cnot\", \"gate_param\": null, \"computing_host_ids\": [\"QPU_1\"], \"pre_allocated_qubits\": false, \"layer_end\": 12}, {\"name\": \"TWO_QUBIT\", \"qids\": [\"q_1_1\", \"8ccedf09-bb61-4c12-884a-73f3b6311e3d\"], \"cids\": null, \"gate\": \"cnot\", \"gate_param\": null, \"computing_host_ids\": [\"QPU_1\"], \"pre_allocated_qubits\": false, \"layer_end\": 12}, {\"name\": \"MEASURE\", \"qids\": [\"5cd20ecb-e98c-43a7-a9dd-649f7a695ab8\"], \"cids\": [\"dfc35f27-23f1-4661-841c-a96296252706\"], \"gate\": null, \"gate_param\": null, \"computing_host_ids\": [\"QPU_1\"], \"pre_allocated_qubits\": false, \"layer_end\": 13}, {\"name\": \"MEASURE\", \"qids\": [\"8ccedf09-bb61-4c12-884a-73f3b6311e3d\"], \"cids\": [\"2525752b-f83f-43ae-9adc-dcbc30d0f7cf\"], \"gate\": null, \"gate_param\": null, \"computing_host_ids\": [\"QPU_1\"], \"pre_allocated_qubits\": false, \"layer_end\": 13}, {\"name\": \"SEND_CLASSICAL\", \"qids\": null, \"cids\": [\"dfc35f27-23f1-4661-841c-a96296252706\"], \"gate\": null, \"gate_param\": null, \"computing_host_ids\": [\"QPU_1\", \"QPU_0\"], \"pre_allocated_qubits\": false, \"layer_end\": 14}, {\"name\": \"SEND_CLASSICAL\", \"qids\": null, \"cids\": [\"2525752b-f83f-43ae-9adc-dcbc30d0f7cf\"], \"gate\": null, \"gate_param\": null, \"computing_host_ids\": [\"QPU_1\", \"QPU_0\"], \"pre_allocated_qubits\": false, \"layer_end\": 14}, {\"name\": \"REC_CLASSICAL\", \"qids\": null, \"cids\": [\"9234fdad-a62d-4847-b41d-9faa3e17bc1b\"], \"gate\": null, \"gate_param\": null, \"computing_host_ids\": [\"QPU_1\", \"QPU_0\"], \"pre_allocated_qubits\": false, \"layer_end\": 19}, {\"name\": \"REC_CLASSICAL\", \"qids\": null, \"cids\": [\"0f986d89-5b88-4cc1-b66f-4fce8e996cc3\"], \"gate\": null, \"gate_param\": null, \"computing_host_ids\": [\"QPU_1\", \"QPU_0\"], \"pre_allocated_qubits\": false, \"layer_end\": 19}, {\"name\": \"CLASSICAL_CTRL_GATE\", \"qids\": [\"q_1_0\"], \"cids\": [\"9234fdad-a62d-4847-b41d-9faa3e17bc1b\"], \"gate\": \"Z\", \"gate_param\": null, \"computing_host_ids\": [\"QPU_1\"], \"pre_allocated_qubits\": false, \"layer_end\": 20}, {\"name\": \"CLASSICAL_CTRL_GATE\", \"qids\": [\"q_1_1\"], \"cids\": [\"0f986d89-5b88-4cc1-b66f-4fce8e996cc3\"], \"gate\": \"Z\", \"gate_param\": null, \"computing_host_ids\": [\"QPU_1\"], \"pre_allocated_qubits\": false, \"layer_end\": 20}]} with sequence number 0\n"
     ]
    },
    {
     "name": "stderr",
     "output_type": "stream",
     "text": [
      "2021-07-18 00:58:22,536: sending ACK:1 from QPU_0 to host_1\n",
      "2021-07-18 00:58:22,553: QPU_1 sends CLASSICAL to host_1 with sequence 0\n",
      "2021-07-18 00:58:22,584: host_1 received ACK from QPU_1 with sequence number 0\n",
      "2021-07-18 00:58:22,647: QPU_0 received {\"QPU_0\": [{\"name\": \"PREPARE_QUBITS\", \"qids\": [\"q_0_0\", \"q_0_1\"], \"cids\": null, \"gate\": null, \"gate_param\": null, \"computing_host_ids\": [\"QPU_0\"], \"pre_allocated_qubits\": false, \"layer_end\": 0}, {\"name\": \"TWO_QUBIT\", \"qids\": [\"q_0_0\", \"q_0_1\"], \"cids\": null, \"gate\": \"cnot\", \"gate_param\": null, \"computing_host_ids\": [\"QPU_0\"], \"pre_allocated_qubits\": false, \"layer_end\": 0}, {\"name\": \"SINGLE\", \"qids\": [\"q_0_0\"], \"cids\": null, \"gate\": \"X\", \"gate_param\": null, \"computing_host_ids\": [\"QPU_0\"], \"pre_allocated_qubits\": false, \"layer_end\": 0}, {\"name\": \"SINGLE\", \"qids\": [\"q_0_1\"], \"cids\": null, \"gate\": \"X\", \"gate_param\": null, \"computing_host_ids\": [\"QPU_0\"], \"pre_allocated_qubits\": false, \"layer_end\": 0}, {\"name\": \"SEND_ENT\", \"qids\": [\"13373bb7-6cdf-42c2-bec0-a084c6182c78\"], \"cids\": null, \"gate\": null, \"gate_param\": null, \"computing_host_ids\": [\"QPU_0\", \"QPU_1\"], \"pre_allocated_qubits\": true, \"layer_end\": 0}, {\"name\": \"TWO_QUBIT\", \"qids\": [\"q_0_1\", \"13373bb7-6cdf-42c2-bec0-a084c6182c78\"], \"cids\": null, \"gate\": \"cnot\", \"gate_param\": null, \"computing_host_ids\": [\"QPU_0\"], \"pre_allocated_qubits\": false, \"layer_end\": 1}, {\"name\": \"MEASURE\", \"qids\": [\"13373bb7-6cdf-42c2-bec0-a084c6182c78\"], \"cids\": [\"67a4305a-e872-4be0-ad16-db27de514225\"], \"gate\": null, \"gate_param\": null, \"computing_host_ids\": [\"QPU_0\"], \"pre_allocated_qubits\": false, \"layer_end\": 2}, {\"name\": \"SEND_CLASSICAL\", \"qids\": null, \"cids\": [\"67a4305a-e872-4be0-ad16-db27de514225\"], \"gate\": null, \"gate_param\": null, \"computing_host_ids\": [\"QPU_0\", \"QPU_1\"], \"pre_allocated_qubits\": false, \"layer_end\": 3}, {\"name\": \"REC_CLASSICAL\", \"qids\": null, \"cids\": [\"38e9af67-3bca-43a6-ac53-a66c636c168a\"], \"gate\": null, \"gate_param\": null, \"computing_host_ids\": [\"QPU_0\", \"QPU_1\"], \"pre_allocated_qubits\": false, \"layer_end\": 8}, {\"name\": \"CLASSICAL_CTRL_GATE\", \"qids\": [\"q_0_1\"], \"cids\": [\"38e9af67-3bca-43a6-ac53-a66c636c168a\"], \"gate\": \"Z\", \"gate_param\": null, \"computing_host_ids\": [\"QPU_0\"], \"pre_allocated_qubits\": false, \"layer_end\": 9}, {\"name\": \"SINGLE\", \"qids\": [\"q_0_0\"], \"cids\": null, \"gate\": \"custom_gate\", \"gate_param\": [[[-0.31798493034765196, 0.7437467353318117], [-0.19454774447448653, -0.5548671488518317]], [[0.19454774447448653, -0.5548671488518317], [-0.31798493034765196, -0.7437467353318117]]], \"computing_host_ids\": [\"QPU_0\"], \"pre_allocated_qubits\": false, \"layer_end\": 10}, {\"name\": \"SINGLE\", \"qids\": [\"q_0_1\"], \"cids\": null, \"gate\": \"custom_gate\", \"gate_param\": [[[0.39367767478169263, 0.8957445465285611], [-0.06940503059650993, 0.19453158476381135]], [[0.06940503059650993, 0.19453158476381135], [0.39367767478169263, -0.8957445465285611]]], \"computing_host_ids\": [\"QPU_0\"], \"pre_allocated_qubits\": false, \"layer_end\": 10}, {\"name\": \"REC_ENT\", \"qids\": [\"5cd20ecb-e98c-43a7-a9dd-649f7a695ab8\"], \"cids\": null, \"gate\": null, \"gate_param\": null, \"computing_host_ids\": [\"QPU_0\", \"QPU_1\"], \"pre_allocated_qubits\": true, \"layer_end\": 11}, {\"name\": \"REC_ENT\", \"qids\": [\"8ccedf09-bb61-4c12-884a-73f3b6311e3d\"], \"cids\": null, \"gate\": null, \"gate_param\": null, \"computing_host_ids\": [\"QPU_0\", \"QPU_1\"], \"pre_allocated_qubits\": true, \"layer_end\": 11}, {\"name\": \"REC_CLASSICAL\", \"qids\": null, \"cids\": [\"dfc35f27-23f1-4661-841c-a96296252706\"], \"gate\": null, \"gate_param\": null, \"computing_host_ids\": [\"QPU_0\", \"QPU_1\"], \"pre_allocated_qubits\": false, \"layer_end\": 14}, {\"name\": \"REC_CLASSICAL\", \"qids\": null, \"cids\": [\"2525752b-f83f-43ae-9adc-dcbc30d0f7cf\"], \"gate\": null, \"gate_param\": null, \"computing_host_ids\": [\"QPU_0\", \"QPU_1\"], \"pre_allocated_qubits\": false, \"layer_end\": 14}, {\"name\": \"CLASSICAL_CTRL_GATE\", \"qids\": [\"5cd20ecb-e98c-43a7-a9dd-649f7a695ab8\"], \"cids\": [\"dfc35f27-23f1-4661-841c-a96296252706\"], \"gate\": \"X\", \"gate_param\": null, \"computing_host_ids\": [\"QPU_0\"], \"pre_allocated_qubits\": false, \"layer_end\": 15}, {\"name\": \"CLASSICAL_CTRL_GATE\", \"qids\": [\"8ccedf09-bb61-4c12-884a-73f3b6311e3d\"], \"cids\": [\"2525752b-f83f-43ae-9adc-dcbc30d0f7cf\"], \"gate\": \"X\", \"gate_param\": null, \"computing_host_ids\": [\"QPU_0\"], \"pre_allocated_qubits\": false, \"layer_end\": 15}, {\"name\": \"TWO_QUBIT\", \"qids\": [\"5cd20ecb-e98c-43a7-a9dd-649f7a695ab8\", \"q_0_0\"], \"cids\": null, \"gate\": \"cnot\", \"gate_param\": null, \"computing_host_ids\": [\"QPU_0\"], \"pre_allocated_qubits\": false, \"layer_end\": 16}, {\"name\": \"TWO_QUBIT\", \"qids\": [\"8ccedf09-bb61-4c12-884a-73f3b6311e3d\", \"q_0_1\"], \"cids\": null, \"gate\": \"cnot\", \"gate_param\": null, \"computing_host_ids\": [\"QPU_0\"], \"pre_allocated_qubits\": false, \"layer_end\": 16}, {\"name\": \"SINGLE\", \"qids\": [\"5cd20ecb-e98c-43a7-a9dd-649f7a695ab8\"], \"cids\": null, \"gate\": \"H\", \"gate_param\": null, \"computing_host_ids\": [\"QPU_0\"], \"pre_allocated_qubits\": false, \"layer_end\": 17}, {\"name\": \"SINGLE\", \"qids\": [\"8ccedf09-bb61-4c12-884a-73f3b6311e3d\"], \"cids\": null, \"gate\": \"H\", \"gate_param\": null, \"computing_host_ids\": [\"QPU_0\"], \"pre_allocated_qubits\": false, \"layer_end\": 17}, {\"name\": \"MEASURE\", \"qids\": [\"5cd20ecb-e98c-43a7-a9dd-649f7a695ab8\"], \"cids\": [\"9234fdad-a62d-4847-b41d-9faa3e17bc1b\"], \"gate\": null, \"gate_param\": null, \"computing_host_ids\": [\"QPU_0\"], \"pre_allocated_qubits\": false, \"layer_end\": 18}, {\"name\": \"MEASURE\", \"qids\": [\"8ccedf09-bb61-4c12-884a-73f3b6311e3d\"], \"cids\": [\"0f986d89-5b88-4cc1-b66f-4fce8e996cc3\"], \"gate\": null, \"gate_param\": null, \"computing_host_ids\": [\"QPU_0\"], \"pre_allocated_qubits\": false, \"layer_end\": 18}, {\"name\": \"SEND_CLASSICAL\", \"qids\": null, \"cids\": [\"9234fdad-a62d-4847-b41d-9faa3e17bc1b\"], \"gate\": null, \"gate_param\": null, \"computing_host_ids\": [\"QPU_0\", \"QPU_1\"], \"pre_allocated_qubits\": false, \"layer_end\": 19}, {\"name\": \"SEND_CLASSICAL\", \"qids\": null, \"cids\": [\"0f986d89-5b88-4cc1-b66f-4fce8e996cc3\"], \"gate\": null, \"gate_param\": null, \"computing_host_ids\": [\"QPU_0\", \"QPU_1\"], \"pre_allocated_qubits\": false, \"layer_end\": 19}], \"QPU_1\": [{\"name\": \"PREPARE_QUBITS\", \"qids\": [\"q_1_0\", \"q_1_1\"], \"cids\": null, \"gate\": null, \"gate_param\": null, \"computing_host_ids\": [\"QPU_1\"], \"pre_allocated_qubits\": false, \"layer_end\": 0}, {\"name\": \"TWO_QUBIT\", \"qids\": [\"q_1_0\", \"q_1_1\"], \"cids\": null, \"gate\": \"cnot\", \"gate_param\": null, \"computing_host_ids\": [\"QPU_1\"], \"pre_allocated_qubits\": false, \"layer_end\": 0}, {\"name\": \"SINGLE\", \"qids\": [\"q_1_0\"], \"cids\": null, \"gate\": \"X\", \"gate_param\": null, \"computing_host_ids\": [\"QPU_1\"], \"pre_allocated_qubits\": false, \"layer_end\": 0}, {\"name\": \"REC_ENT\", \"qids\": [\"13373bb7-6cdf-42c2-bec0-a084c6182c78\"], \"cids\": null, \"gate\": null, \"gate_param\": null, \"computing_host_ids\": [\"QPU_1\", \"QPU_0\"], \"pre_allocated_qubits\": true, \"layer_end\": 0}, {\"name\": \"REC_CLASSICAL\", \"qids\": null, \"cids\": [\"67a4305a-e872-4be0-ad16-db27de514225\"], \"gate\": null, \"gate_param\": null, \"computing_host_ids\": [\"QPU_1\", \"QPU_0\"], \"pre_allocated_qubits\": false, \"layer_end\": 3}, {\"name\": \"CLASSICAL_CTRL_GATE\", \"qids\": [\"13373bb7-6cdf-42c2-bec0-a084c6182c78\"], \"cids\": [\"67a4305a-e872-4be0-ad16-db27de514225\"], \"gate\": \"X\", \"gate_param\": null, \"computing_host_ids\": [\"QPU_1\"], \"pre_allocated_qubits\": false, \"layer_end\": 4}, {\"name\": \"TWO_QUBIT\", \"qids\": [\"13373bb7-6cdf-42c2-bec0-a084c6182c78\", \"q_1_0\"], \"cids\": null, \"gate\": \"cnot\", \"gate_param\": null, \"computing_host_ids\": [\"QPU_1\"], \"pre_allocated_qubits\": false, \"layer_end\": 5}, {\"name\": \"SINGLE\", \"qids\": [\"13373bb7-6cdf-42c2-bec0-a084c6182c78\"], \"cids\": null, \"gate\": \"H\", \"gate_param\": null, \"computing_host_ids\": [\"QPU_1\"], \"pre_allocated_qubits\": false, \"layer_end\": 6}, {\"name\": \"MEASURE\", \"qids\": [\"13373bb7-6cdf-42c2-bec0-a084c6182c78\"], \"cids\": [\"38e9af67-3bca-43a6-ac53-a66c636c168a\"], \"gate\": null, \"gate_param\": null, \"computing_host_ids\": [\"QPU_1\"], \"pre_allocated_qubits\": false, \"layer_end\": 7}, {\"name\": \"SEND_CLASSICAL\", \"qids\": null, \"cids\": [\"38e9af67-3bca-43a6-ac53-a66c636c168a\"], \"gate\": null, \"gate_param\": null, \"computing_host_ids\": [\"QPU_1\", \"QPU_0\"], \"pre_allocated_qubits\": false, \"layer_end\": 8}, {\"name\": \"SINGLE\", \"qids\": [\"q_1_0\"], \"cids\": null, \"gate\": \"custom_gate\", \"gate_param\": [[[0.2315227000379894, -0.9438901384346993], [-0.01969801507418892, 0.234692637581541]], [[0.01969801507418892, 0.234692637581541], [0.2315227000379894, 0.9438901384346993]]], \"computing_host_ids\": [\"QPU_1\"], \"pre_allocated_qubits\": false, \"layer_end\": 10}, {\"name\": \"SINGLE\", \"qids\": [\"q_1_1\"], \"cids\": null, \"gate\": \"custom_gate\", \"gate_param\": [[[-0.9526411467473749, -0.20529868550618627], [0.015378497582795967, 0.22380973407198954]], [[-0.015378497582795967, 0.22380973407198954], [-0.9526411467473749, 0.20529868550618627]]], \"computing_host_ids\": [\"QPU_1\"], \"pre_allocated_qubits\": false, \"layer_end\": 10}, {\"name\": \"TWO_QUBIT\", \"qids\": [\"q_1_0\", \"q_1_1\"], \"cids\": null, \"gate\": \"cnot\", \"gate_param\": null, \"computing_host_ids\": [\"QPU_1\"], \"pre_allocated_qubits\": false, \"layer_end\": 11}, {\"name\": \"SEND_ENT\", \"qids\": [\"5cd20ecb-e98c-43a7-a9dd-649f7a695ab8\"], \"cids\": null, \"gate\": null, \"gate_param\": null, \"computing_host_ids\": [\"QPU_1\", \"QPU_0\"], \"pre_allocated_qubits\": true, \"layer_end\": 11}, {\"name\": \"SEND_ENT\", \"qids\": [\"8ccedf09-bb61-4c12-884a-73f3b6311e3d\"], \"cids\": null, \"gate\": null, \"gate_param\": null, \"computing_host_ids\": [\"QPU_1\", \"QPU_0\"], \"pre_allocated_qubits\": true, \"layer_end\": 11}, {\"name\": \"TWO_QUBIT\", \"qids\": [\"q_1_0\", \"5cd20ecb-e98c-43a7-a9dd-649f7a695ab8\"], \"cids\": null, \"gate\": \"cnot\", \"gate_param\": null, \"computing_host_ids\": [\"QPU_1\"], \"pre_allocated_qubits\": false, \"layer_end\": 12}, {\"name\": \"TWO_QUBIT\", \"qids\": [\"q_1_1\", \"8ccedf09-bb61-4c12-884a-73f3b6311e3d\"], \"cids\": null, \"gate\": \"cnot\", \"gate_param\": null, \"computing_host_ids\": [\"QPU_1\"], \"pre_allocated_qubits\": false, \"layer_end\": 12}, {\"name\": \"MEASURE\", \"qids\": [\"5cd20ecb-e98c-43a7-a9dd-649f7a695ab8\"], \"cids\": [\"dfc35f27-23f1-4661-841c-a96296252706\"], \"gate\": null, \"gate_param\": null, \"computing_host_ids\": [\"QPU_1\"], \"pre_allocated_qubits\": false, \"layer_end\": 13}, {\"name\": \"MEASURE\", \"qids\": [\"8ccedf09-bb61-4c12-884a-73f3b6311e3d\"], \"cids\": [\"2525752b-f83f-43ae-9adc-dcbc30d0f7cf\"], \"gate\": null, \"gate_param\": null, \"computing_host_ids\": [\"QPU_1\"], \"pre_allocated_qubits\": false, \"layer_end\": 13}, {\"name\": \"SEND_CLASSICAL\", \"qids\": null, \"cids\": [\"dfc35f27-23f1-4661-841c-a96296252706\"], \"gate\": null, \"gate_param\": null, \"computing_host_ids\": [\"QPU_1\", \"QPU_0\"], \"pre_allocated_qubits\": false, \"layer_end\": 14}, {\"name\": \"SEND_CLASSICAL\", \"qids\": null, \"cids\": [\"2525752b-f83f-43ae-9adc-dcbc30d0f7cf\"], \"gate\": null, \"gate_param\": null, \"computing_host_ids\": [\"QPU_1\", \"QPU_0\"], \"pre_allocated_qubits\": false, \"layer_end\": 14}, {\"name\": \"REC_CLASSICAL\", \"qids\": null, \"cids\": [\"9234fdad-a62d-4847-b41d-9faa3e17bc1b\"], \"gate\": null, \"gate_param\": null, \"computing_host_ids\": [\"QPU_1\", \"QPU_0\"], \"pre_allocated_qubits\": false, \"layer_end\": 19}, {\"name\": \"REC_CLASSICAL\", \"qids\": null, \"cids\": [\"0f986d89-5b88-4cc1-b66f-4fce8e996cc3\"], \"gate\": null, \"gate_param\": null, \"computing_host_ids\": [\"QPU_1\", \"QPU_0\"], \"pre_allocated_qubits\": false, \"layer_end\": 19}, {\"name\": \"CLASSICAL_CTRL_GATE\", \"qids\": [\"q_1_0\"], \"cids\": [\"9234fdad-a62d-4847-b41d-9faa3e17bc1b\"], \"gate\": \"Z\", \"gate_param\": null, \"computing_host_ids\": [\"QPU_1\"], \"pre_allocated_qubits\": false, \"layer_end\": 20}, {\"name\": \"CLASSICAL_CTRL_GATE\", \"qids\": [\"q_1_1\"], \"cids\": [\"0f986d89-5b88-4cc1-b66f-4fce8e996cc3\"], \"gate\": \"Z\", \"gate_param\": null, \"computing_host_ids\": [\"QPU_1\"], \"pre_allocated_qubits\": false, \"layer_end\": 20}]} with sequence number 0\n"
     ]
    },
    {
     "name": "stderr",
     "output_type": "stream",
     "text": [
      "2021-07-18 00:58:22,647: QPU_0 sends CLASSICAL to host_1 with sequence 0\n",
      "2021-07-18 00:58:22,648: host_1 received ACK from QPU_0 with sequence number 0\n",
      "2021-07-18 00:58:22,649: QPU_1 awaits classical ACK from host_1 with sequence 0\n",
      "2021-07-18 00:58:22,650: sending ACK:1 from host_1 to QPU_1\n",
      "2021-07-18 00:58:22,652: QPU_0 awaits classical ACK from host_1 with sequence 0\n",
      "2021-07-18 00:58:22,655: host_1 received ACK with sequence number 0\n",
      "2021-07-18 00:58:22,656: QPU_1 received ACK from host_1 with sequence number 0\n",
      "2021-07-18 00:58:22,661: sending ACK:1 from host_1 to QPU_0\n",
      "2021-07-18 00:58:22,661: host_1 received ACK with sequence number 0\n",
      "2021-07-18 00:58:22,670: QPU_0 received ACK from host_1 with sequence number 0\n",
      "2021-07-18 00:58:23,783: QPU_0 sends EPR to QPU_1\n",
      "2021-07-18 00:58:23,816: QPU_0 awaits EPR ACK from QPU_1 with sequence 0\n",
      "2021-07-18 00:58:24,593: sending ACK:1 from QPU_1 to QPU_0\n",
      "2021-07-18 00:58:24,635: QPU_0 received ACK from QPU_1 with sequence number 0\n",
      "2021-07-18 00:58:26,649: QPU_0 sends CLASSICAL to QPU_1 with sequence 1\n",
      "2021-07-18 00:58:26,691: QPU_0 awaits classical ACK from QPU_1 with sequence 1\n",
      "2021-07-18 00:58:26,718: sending ACK:2 from QPU_1 to QPU_0\n",
      "2021-07-18 00:58:26,729: QPU_1 received 1 with sequence number 1\n",
      "2021-07-18 00:58:26,756: QPU_0 received ACK from QPU_1 with sequence number 1\n",
      "2021-07-18 00:58:27,954: QPU_1 sends CLASSICAL to QPU_0 with sequence 0\n",
      "2021-07-18 00:58:27,970: QPU_1 awaits classical ACK from QPU_0 with sequence 0\n",
      "2021-07-18 00:58:27,997: sending ACK:1 from QPU_0 to QPU_1\n",
      "2021-07-18 00:58:28,019: QPU_0 received 0 with sequence number 0\n",
      "2021-07-18 00:58:28,039: QPU_1 received ACK from QPU_0 with sequence number 0\n",
      "2021-07-18 00:58:28,121: QPU_1 sends EPR to QPU_0\n",
      "2021-07-18 00:58:28,137: QPU_1 awaits EPR ACK from QPU_0 with sequence 1\n",
      "2021-07-18 00:58:28,950: sending ACK:2 from QPU_0 to QPU_1\n",
      "2021-07-18 00:58:28,982: QPU_1 received ACK from QPU_0 with sequence number 1\n",
      "2021-07-18 00:58:29,019: QPU_1 sends EPR to QPU_0\n",
      "2021-07-18 00:58:29,061: QPU_1 awaits EPR ACK from QPU_0 with sequence 2\n",
      "2021-07-18 00:58:29,870: sending ACK:3 from QPU_0 to QPU_1\n",
      "2021-07-18 00:58:29,933: QPU_1 received ACK from QPU_0 with sequence number 2\n",
      "2021-07-18 00:58:32,165: QPU_1 sends CLASSICAL to QPU_0 with sequence 3\n",
      "2021-07-18 00:58:32,217: QPU_1 awaits classical ACK from QPU_0 with sequence 3\n",
      "2021-07-18 00:58:32,228: sending ACK:4 from QPU_0 to QPU_1\n",
      "2021-07-18 00:58:32,286: QPU_0 received 1 with sequence number 3\n",
      "2021-07-18 00:58:32,323: QPU_1 received ACK from QPU_0 with sequence number 3\n",
      "2021-07-18 00:58:32,375: QPU_1 sends CLASSICAL to QPU_0 with sequence 4\n",
      "2021-07-18 00:58:32,412: QPU_1 awaits classical ACK from QPU_0 with sequence 4\n",
      "2021-07-18 00:58:32,438: sending ACK:5 from QPU_0 to QPU_1\n",
      "2021-07-18 00:58:32,465: QPU_0 received 0 with sequence number 4\n",
      "2021-07-18 00:58:32,491: QPU_1 received ACK from QPU_0 with sequence number 4\n",
      "2021-07-18 00:58:33,412: QPU_0 sends CLASSICAL to QPU_1 with sequence 2\n",
      "2021-07-18 00:58:33,419: QPU_0 awaits classical ACK from QPU_1 with sequence 2\n",
      "2021-07-18 00:58:33,419: sending ACK:3 from QPU_1 to QPU_0\n",
      "2021-07-18 00:58:33,503: QPU_1 received 1 with sequence number 2\n",
      "2021-07-18 00:58:33,530: QPU_0 received ACK from QPU_1 with sequence number 2\n",
      "2021-07-18 00:58:33,674: QPU_0 sends CLASSICAL to QPU_1 with sequence 3\n",
      "2021-07-18 00:58:33,675: QPU_0 awaits classical ACK from QPU_1 with sequence 3\n",
      "2021-07-18 00:58:33,717: sending ACK:4 from QPU_1 to QPU_0\n",
      "2021-07-18 00:58:33,733: QPU_1 received 0 with sequence number 3\n",
      "2021-07-18 00:58:33,744: QPU_0 received ACK from QPU_1 with sequence number 3\n"
     ]
    }
   ],
   "source": [
    "# Run the first ControllerHost communication protocol on a thread\n",
    "t1 = controller_host.run_protocol(\n",
    "    controller_host_protocol_preparation_ansatz,\n",
    "    (q_map, params, terms))\n",
    "\n",
    "# Run the first ComputingHost communication protocol on a separate thread for each QPU\n",
    "threads = []\n",
    "for host in computing_hosts:\n",
    "    threads.append(host.run_protocol(computing_host_protocol))\n",
    "\n",
    "# Wait for all threads to finish\n",
    "t1.join()\n",
    "for thread in threads:\n",
    "    thread.join()"
   ]
  },
  {
   "cell_type": "code",
   "execution_count": 20,
   "metadata": {},
   "outputs": [
    {
     "data": {
      "text/plain": [
       "22"
      ]
     },
     "execution_count": 20,
     "metadata": {},
     "output_type": "execute_result"
    }
   ],
   "source": [
    "# Let's see how many ticks we needed for the applying the ansatz\n",
    "clock.ticks"
   ]
  },
  {
   "cell_type": "markdown",
   "metadata": {},
   "source": [
    "In the horizontal speedup notebook, we only needed 4 ticks to run the circuit and the ansatz on one QPU. However, in this simulation, where a lot of communication took place around two different QPUs, it jumped up to 22! This shows how important it is to divide the needed qubits among the QPUs as efficiently as possible."
   ]
  },
  {
   "cell_type": "markdown",
   "metadata": {},
   "source": [
    "Let's now retrieve the statevector, and compute the expectation value."
   ]
  },
  {
   "cell_type": "code",
   "execution_count": 21,
   "metadata": {},
   "outputs": [
    {
     "data": {
      "text/plain": [
       "array([-0.05088414+1.03151285e-01j, -0.11620332-4.72234584e-02j,\n",
       "       -0.00880123+6.74185416e-04j, -0.0250929 +1.79903542e-01j,\n",
       "        0.27528829-4.70214876e-01j,  0.0251783 +8.19364645e-03j,\n",
       "        0.04181508-2.11935461e-04j,  0.00257486-3.82575746e-02j,\n",
       "       -0.06037203+1.46257672e-01j, -0.16383676-5.41489273e-02j,\n",
       "       -0.00641623+6.19532459e-05j, -0.02692871+1.29266326e-01j,\n",
       "        0.33468472-6.70694147e-01j,  0.03531208+8.93468440e-03j,\n",
       "        0.03033871+1.87513730e-03j,  0.00372379-2.76232419e-02j])"
      ]
     },
     "execution_count": 21,
     "metadata": {},
     "output_type": "execute_result"
    }
   ],
   "source": [
    "indices = []\n",
    "\n",
    "# Get the IDs of all the qubits of first QPU. (It doesn't make a difference which QPU we chose)\n",
    "for qubit_id in computing_hosts[0].qubit_ids:\n",
    "    indices.append(computing_hosts[0].get_qubit_by_id(qubit_id))\n",
    "\n",
    "# We then call the statevector function from the backend\n",
    "statevector = computing_hosts[0].backend.statevector(indices[0])[1]\n",
    "\n",
    "statevector"
   ]
  },
  {
   "cell_type": "code",
   "execution_count": 22,
   "metadata": {},
   "outputs": [],
   "source": [
    "from interlinq.utils.vqe_subroutines import expectation_value"
   ]
  },
  {
   "cell_type": "code",
   "execution_count": 23,
   "metadata": {},
   "outputs": [
    {
     "data": {
      "text/plain": [
       "(-0.8074697622991748+9.315495045212815e-19j)"
      ]
     },
     "execution_count": 23,
     "metadata": {},
     "output_type": "execute_result"
    }
   ],
   "source": [
    "expectation_value(terms, statevector, 4)"
   ]
  },
  {
   "cell_type": "markdown",
   "metadata": {},
   "source": [
    "That's not very far from PennyLane's simulation value of -0.88179557 Ha! Such a small difference should be reconciled during the optimization process."
   ]
  },
  {
   "cell_type": "markdown",
   "metadata": {},
   "source": [
    "## Optimise"
   ]
  },
  {
   "cell_type": "markdown",
   "metadata": {},
   "source": [
    "Now we can go on to attempt and optimize the parameters until we minimize the expecation value."
   ]
  },
  {
   "cell_type": "code",
   "execution_count": 24,
   "metadata": {},
   "outputs": [],
   "source": [
    "def cost_fn(params):\n",
    "    params = params.reshape(4, 3)\n",
    "    \n",
    "    network = Network.get_instance()\n",
    "    network.delay = 0\n",
    "    network.start()\n",
    "\n",
    "    Clock.reset_clock()\n",
    "\n",
    "    eqsn = EQSNBackend()\n",
    "\n",
    "    controller_host = ControllerHost(\n",
    "        host_id=\"host_1\",\n",
    "        backend=eqsn\n",
    "    )\n",
    "\n",
    "    computing_hosts, q_map = controller_host.create_distributed_network(\n",
    "        num_computing_hosts=2,\n",
    "        num_qubits_per_host=2)\n",
    "    \n",
    "    controller_host.start()\n",
    "\n",
    "    network.add_hosts(computing_hosts)\n",
    "    network.add_hosts([controller_host])\n",
    "    \n",
    "    #############################################################\n",
    "    \n",
    "    t1 = controller_host.run_protocol(controller_host_protocol_preparation_ansatz, (q_map, params, terms))\n",
    "\n",
    "    threads = []\n",
    "\n",
    "    for host in computing_hosts:\n",
    "        threads.append(host.run_protocol(computing_host_protocol))\n",
    "\n",
    "    t1.join()\n",
    "    for thread in threads:\n",
    "        thread.join()\n",
    "        \n",
    "    #############################################################\n",
    "    \n",
    "    for host in computing_hosts:\n",
    "        network.remove_host(host)\n",
    "    network.remove_host(controller_host)\n",
    "    \n",
    "    indices = []\n",
    "\n",
    "    for qubit_id in computing_hosts[0].qubit_ids:\n",
    "        indices.append(computing_hosts[0].get_qubit_by_id(qubit_id))\n",
    "\n",
    "    statevector = computing_hosts[0].backend.statevector(indices[0])[1]\n",
    "    \n",
    "    total_exp = expectation_value(terms, statevector, 4)\n",
    "    \n",
    "    return np.real(total_exp)"
   ]
  },
  {
   "cell_type": "code",
   "execution_count": 25,
   "metadata": {},
   "outputs": [
    {
     "data": {
      "text/plain": [
       "array([[ 5.54193389,  1.25713095,  3.07479606],\n",
       "       [ 7.03997361,  5.86710646, -3.07020901],\n",
       "       [ 2.98479079, -0.47550269, -0.32427159],\n",
       "       [ 1.28993324,  0.45252622,  4.56873497]])"
      ]
     },
     "execution_count": 25,
     "metadata": {},
     "output_type": "execute_result"
    }
   ],
   "source": [
    "np.random.seed(0)\n",
    "params = np.random.normal(0, np.pi, (4, 3))\n",
    "\n",
    "params"
   ]
  },
  {
   "cell_type": "markdown",
   "metadata": {},
   "source": [
    "Let's see if the cost function returns only one final loss value as expected."
   ]
  },
  {
   "cell_type": "code",
   "execution_count": 26,
   "metadata": {},
   "outputs": [
    {
     "name": "stderr",
     "output_type": "stream",
     "text": [
      "2021-06-26 00:51:58,567: Host QPU_0 started processing\n",
      "2021-06-26 00:51:58,567: Host QPU_1 started processing\n",
      "2021-06-26 00:51:58,567: Host host_1 started processing\n",
      "2021-06-26 00:51:58,570: host_1 sends BROADCAST message\n",
      "2021-06-26 00:51:58,727: sending ACK:1 from QPU_0 to host_1\n",
      "2021-06-26 00:51:58,742: sending ACK:1 from QPU_1 to host_1\n",
      "2021-06-26 00:51:58,779: QPU_0 received {\"QPU_0\": [{\"name\": \"PREPARE_QUBITS\", \"qids\": [\"q_0_0\", \"q_0_1\"], \"cids\": null, \"gate\": null, \"gate_param\": null, \"computing_host_ids\": [\"QPU_0\"], \"pre_allocated_qubits\": false, \"layer_end\": 0}, {\"name\": \"TWO_QUBIT\", \"qids\": [\"q_0_0\", \"q_0_1\"], \"cids\": null, \"gate\": \"cnot\", \"gate_param\": null, \"computing_host_ids\": [\"QPU_0\"], \"pre_allocated_qubits\": false, \"layer_end\": 0}, {\"name\": \"SINGLE\", \"qids\": [\"q_0_0\"], \"cids\": null, \"gate\": \"X\", \"gate_param\": null, \"computing_host_ids\": [\"QPU_0\"], \"pre_allocated_qubits\": false, \"layer_end\": 0}, {\"name\": \"SINGLE\", \"qids\": [\"q_0_1\"], \"cids\": null, \"gate\": \"X\", \"gate_param\": null, \"computing_host_ids\": [\"QPU_0\"], \"pre_allocated_qubits\": false, \"layer_end\": 0}, {\"name\": \"SEND_ENT\", \"qids\": [\"f4d4ba40-0f73-46bb-9d1b-ed4b239056ae\"], \"cids\": null, \"gate\": null, \"gate_param\": null, \"computing_host_ids\": [\"QPU_0\", \"QPU_1\"], \"pre_allocated_qubits\": true, \"layer_end\": 0}, {\"name\": \"TWO_QUBIT\", \"qids\": [\"q_0_1\", \"f4d4ba40-0f73-46bb-9d1b-ed4b239056ae\"], \"cids\": null, \"gate\": \"cnot\", \"gate_param\": null, \"computing_host_ids\": [\"QPU_0\"], \"pre_allocated_qubits\": false, \"layer_end\": 1}, {\"name\": \"MEASURE\", \"qids\": [\"f4d4ba40-0f73-46bb-9d1b-ed4b239056ae\"], \"cids\": [\"5057f707-6381-4d80-9b2d-0d927c3105af\"], \"gate\": null, \"gate_param\": null, \"computing_host_ids\": [\"QPU_0\"], \"pre_allocated_qubits\": false, \"layer_end\": 2}, {\"name\": \"SEND_CLASSICAL\", \"qids\": null, \"cids\": [\"5057f707-6381-4d80-9b2d-0d927c3105af\"], \"gate\": null, \"gate_param\": null, \"computing_host_ids\": [\"QPU_0\", \"QPU_1\"], \"pre_allocated_qubits\": false, \"layer_end\": 3}, {\"name\": \"REC_CLASSICAL\", \"qids\": null, \"cids\": [\"ee4ab5b3-e165-44a7-915d-76363dc0d218\"], \"gate\": null, \"gate_param\": null, \"computing_host_ids\": [\"QPU_0\", \"QPU_1\"], \"pre_allocated_qubits\": false, \"layer_end\": 8}, {\"name\": \"CLASSICAL_CTRL_GATE\", \"qids\": [\"q_0_1\"], \"cids\": [\"ee4ab5b3-e165-44a7-915d-76363dc0d218\"], \"gate\": \"Z\", \"gate_param\": null, \"computing_host_ids\": [\"QPU_0\"], \"pre_allocated_qubits\": false, \"layer_end\": 9}, {\"name\": \"SINGLE\", \"qids\": [\"q_0_0\"], \"cids\": null, \"gate\": \"custom_gate\", \"gate_param\": [[[-0.31798493034765196, 0.7437467353318117], [-0.19454774447448653, -0.5548671488518317]], [[0.19454774447448653, -0.5548671488518317], [-0.31798493034765196, -0.7437467353318117]]], \"computing_host_ids\": [\"QPU_0\"], \"pre_allocated_qubits\": false, \"layer_end\": 10}, {\"name\": \"SINGLE\", \"qids\": [\"q_0_1\"], \"cids\": null, \"gate\": \"custom_gate\", \"gate_param\": [[[0.39367767478169263, 0.8957445465285611], [-0.06940503059650993, 0.19453158476381135]], [[0.06940503059650993, 0.19453158476381135], [0.39367767478169263, -0.8957445465285611]]], \"computing_host_ids\": [\"QPU_0\"], \"pre_allocated_qubits\": false, \"layer_end\": 10}, {\"name\": \"REC_ENT\", \"qids\": [\"b5274dcc-8e4e-4693-bd3c-2a8f0b831aa7\"], \"cids\": null, \"gate\": null, \"gate_param\": null, \"computing_host_ids\": [\"QPU_0\", \"QPU_1\"], \"pre_allocated_qubits\": true, \"layer_end\": 11}, {\"name\": \"REC_ENT\", \"qids\": [\"d94f2556-c38f-4b3a-ba79-430ad980d088\"], \"cids\": null, \"gate\": null, \"gate_param\": null, \"computing_host_ids\": [\"QPU_0\", \"QPU_1\"], \"pre_allocated_qubits\": true, \"layer_end\": 11}, {\"name\": \"REC_CLASSICAL\", \"qids\": null, \"cids\": [\"117df696-02ce-4c86-8614-e89a9d090288\"], \"gate\": null, \"gate_param\": null, \"computing_host_ids\": [\"QPU_0\", \"QPU_1\"], \"pre_allocated_qubits\": false, \"layer_end\": 14}, {\"name\": \"REC_CLASSICAL\", \"qids\": null, \"cids\": [\"ab6f9a12-2cfc-4122-97fa-028707e3f0f8\"], \"gate\": null, \"gate_param\": null, \"computing_host_ids\": [\"QPU_0\", \"QPU_1\"], \"pre_allocated_qubits\": false, \"layer_end\": 14}, {\"name\": \"CLASSICAL_CTRL_GATE\", \"qids\": [\"b5274dcc-8e4e-4693-bd3c-2a8f0b831aa7\"], \"cids\": [\"117df696-02ce-4c86-8614-e89a9d090288\"], \"gate\": \"X\", \"gate_param\": null, \"computing_host_ids\": [\"QPU_0\"], \"pre_allocated_qubits\": false, \"layer_end\": 15}, {\"name\": \"CLASSICAL_CTRL_GATE\", \"qids\": [\"d94f2556-c38f-4b3a-ba79-430ad980d088\"], \"cids\": [\"ab6f9a12-2cfc-4122-97fa-028707e3f0f8\"], \"gate\": \"X\", \"gate_param\": null, \"computing_host_ids\": [\"QPU_0\"], \"pre_allocated_qubits\": false, \"layer_end\": 15}, {\"name\": \"TWO_QUBIT\", \"qids\": [\"b5274dcc-8e4e-4693-bd3c-2a8f0b831aa7\", \"q_0_0\"], \"cids\": null, \"gate\": \"cnot\", \"gate_param\": null, \"computing_host_ids\": [\"QPU_0\"], \"pre_allocated_qubits\": false, \"layer_end\": 16}, {\"name\": \"TWO_QUBIT\", \"qids\": [\"d94f2556-c38f-4b3a-ba79-430ad980d088\", \"q_0_1\"], \"cids\": null, \"gate\": \"cnot\", \"gate_param\": null, \"computing_host_ids\": [\"QPU_0\"], \"pre_allocated_qubits\": false, \"layer_end\": 16}, {\"name\": \"SINGLE\", \"qids\": [\"b5274dcc-8e4e-4693-bd3c-2a8f0b831aa7\"], \"cids\": null, \"gate\": \"H\", \"gate_param\": null, \"computing_host_ids\": [\"QPU_0\"], \"pre_allocated_qubits\": false, \"layer_end\": 17}, {\"name\": \"SINGLE\", \"qids\": [\"d94f2556-c38f-4b3a-ba79-430ad980d088\"], \"cids\": null, \"gate\": \"H\", \"gate_param\": null, \"computing_host_ids\": [\"QPU_0\"], \"pre_allocated_qubits\": false, \"layer_end\": 17}, {\"name\": \"MEASURE\", \"qids\": [\"b5274dcc-8e4e-4693-bd3c-2a8f0b831aa7\"], \"cids\": [\"86139430-e4a2-42d4-96ed-c9f23f69b1e5\"], \"gate\": null, \"gate_param\": null, \"computing_host_ids\": [\"QPU_0\"], \"pre_allocated_qubits\": false, \"layer_end\": 18}, {\"name\": \"MEASURE\", \"qids\": [\"d94f2556-c38f-4b3a-ba79-430ad980d088\"], \"cids\": [\"ea0eb076-ae8d-4dd4-bfdb-b8beb9b82a42\"], \"gate\": null, \"gate_param\": null, \"computing_host_ids\": [\"QPU_0\"], \"pre_allocated_qubits\": false, \"layer_end\": 18}, {\"name\": \"SEND_CLASSICAL\", \"qids\": null, \"cids\": [\"86139430-e4a2-42d4-96ed-c9f23f69b1e5\"], \"gate\": null, \"gate_param\": null, \"computing_host_ids\": [\"QPU_0\", \"QPU_1\"], \"pre_allocated_qubits\": false, \"layer_end\": 19}, {\"name\": \"SEND_CLASSICAL\", \"qids\": null, \"cids\": [\"ea0eb076-ae8d-4dd4-bfdb-b8beb9b82a42\"], \"gate\": null, \"gate_param\": null, \"computing_host_ids\": [\"QPU_0\", \"QPU_1\"], \"pre_allocated_qubits\": false, \"layer_end\": 19}], \"QPU_1\": [{\"name\": \"PREPARE_QUBITS\", \"qids\": [\"q_1_0\", \"q_1_1\"], \"cids\": null, \"gate\": null, \"gate_param\": null, \"computing_host_ids\": [\"QPU_1\"], \"pre_allocated_qubits\": false, \"layer_end\": 0}, {\"name\": \"TWO_QUBIT\", \"qids\": [\"q_1_0\", \"q_1_1\"], \"cids\": null, \"gate\": \"cnot\", \"gate_param\": null, \"computing_host_ids\": [\"QPU_1\"], \"pre_allocated_qubits\": false, \"layer_end\": 0}, {\"name\": \"SINGLE\", \"qids\": [\"q_1_0\"], \"cids\": null, \"gate\": \"X\", \"gate_param\": null, \"computing_host_ids\": [\"QPU_1\"], \"pre_allocated_qubits\": false, \"layer_end\": 0}, {\"name\": \"REC_ENT\", \"qids\": [\"f4d4ba40-0f73-46bb-9d1b-ed4b239056ae\"], \"cids\": null, \"gate\": null, \"gate_param\": null, \"computing_host_ids\": [\"QPU_1\", \"QPU_0\"], \"pre_allocated_qubits\": true, \"layer_end\": 0}, {\"name\": \"REC_CLASSICAL\", \"qids\": null, \"cids\": [\"5057f707-6381-4d80-9b2d-0d927c3105af\"], \"gate\": null, \"gate_param\": null, \"computing_host_ids\": [\"QPU_1\", \"QPU_0\"], \"pre_allocated_qubits\": false, \"layer_end\": 3}, {\"name\": \"CLASSICAL_CTRL_GATE\", \"qids\": [\"f4d4ba40-0f73-46bb-9d1b-ed4b239056ae\"], \"cids\": [\"5057f707-6381-4d80-9b2d-0d927c3105af\"], \"gate\": \"X\", \"gate_param\": null, \"computing_host_ids\": [\"QPU_1\"], \"pre_allocated_qubits\": false, \"layer_end\": 4}, {\"name\": \"TWO_QUBIT\", \"qids\": [\"f4d4ba40-0f73-46bb-9d1b-ed4b239056ae\", \"q_1_0\"], \"cids\": null, \"gate\": \"cnot\", \"gate_param\": null, \"computing_host_ids\": [\"QPU_1\"], \"pre_allocated_qubits\": false, \"layer_end\": 5}, {\"name\": \"SINGLE\", \"qids\": [\"f4d4ba40-0f73-46bb-9d1b-ed4b239056ae\"], \"cids\": null, \"gate\": \"H\", \"gate_param\": null, \"computing_host_ids\": [\"QPU_1\"], \"pre_allocated_qubits\": false, \"layer_end\": 6}, {\"name\": \"MEASURE\", \"qids\": [\"f4d4ba40-0f73-46bb-9d1b-ed4b239056ae\"], \"cids\": [\"ee4ab5b3-e165-44a7-915d-76363dc0d218\"], \"gate\": null, \"gate_param\": null, \"computing_host_ids\": [\"QPU_1\"], \"pre_allocated_qubits\": false, \"layer_end\": 7}, {\"name\": \"SEND_CLASSICAL\", \"qids\": null, \"cids\": [\"ee4ab5b3-e165-44a7-915d-76363dc0d218\"], \"gate\": null, \"gate_param\": null, \"computing_host_ids\": [\"QPU_1\", \"QPU_0\"], \"pre_allocated_qubits\": false, \"layer_end\": 8}, {\"name\": \"SINGLE\", \"qids\": [\"q_1_0\"], \"cids\": null, \"gate\": \"custom_gate\", \"gate_param\": [[[0.2315227000379894, -0.9438901384346993], [-0.01969801507418892, 0.234692637581541]], [[0.01969801507418892, 0.234692637581541], [0.2315227000379894, 0.9438901384346993]]], \"computing_host_ids\": [\"QPU_1\"], \"pre_allocated_qubits\": false, \"layer_end\": 10}, {\"name\": \"SINGLE\", \"qids\": [\"q_1_1\"], \"cids\": null, \"gate\": \"custom_gate\", \"gate_param\": [[[-0.9526411467473749, -0.20529868550618627], [0.015378497582795967, 0.22380973407198954]], [[-0.015378497582795967, 0.22380973407198954], [-0.9526411467473749, 0.20529868550618627]]], \"computing_host_ids\": [\"QPU_1\"], \"pre_allocated_qubits\": false, \"layer_end\": 10}, {\"name\": \"TWO_QUBIT\", \"qids\": [\"q_1_0\", \"q_1_1\"], \"cids\": null, \"gate\": \"cnot\", \"gate_param\": null, \"computing_host_ids\": [\"QPU_1\"], \"pre_allocated_qubits\": false, \"layer_end\": 11}, {\"name\": \"SEND_ENT\", \"qids\": [\"b5274dcc-8e4e-4693-bd3c-2a8f0b831aa7\"], \"cids\": null, \"gate\": null, \"gate_param\": null, \"computing_host_ids\": [\"QPU_1\", \"QPU_0\"], \"pre_allocated_qubits\": true, \"layer_end\": 11}, {\"name\": \"SEND_ENT\", \"qids\": [\"d94f2556-c38f-4b3a-ba79-430ad980d088\"], \"cids\": null, \"gate\": null, \"gate_param\": null, \"computing_host_ids\": [\"QPU_1\", \"QPU_0\"], \"pre_allocated_qubits\": true, \"layer_end\": 11}, {\"name\": \"TWO_QUBIT\", \"qids\": [\"q_1_0\", \"b5274dcc-8e4e-4693-bd3c-2a8f0b831aa7\"], \"cids\": null, \"gate\": \"cnot\", \"gate_param\": null, \"computing_host_ids\": [\"QPU_1\"], \"pre_allocated_qubits\": false, \"layer_end\": 12}, {\"name\": \"TWO_QUBIT\", \"qids\": [\"q_1_1\", \"d94f2556-c38f-4b3a-ba79-430ad980d088\"], \"cids\": null, \"gate\": \"cnot\", \"gate_param\": null, \"computing_host_ids\": [\"QPU_1\"], \"pre_allocated_qubits\": false, \"layer_end\": 12}, {\"name\": \"MEASURE\", \"qids\": [\"b5274dcc-8e4e-4693-bd3c-2a8f0b831aa7\"], \"cids\": [\"117df696-02ce-4c86-8614-e89a9d090288\"], \"gate\": null, \"gate_param\": null, \"computing_host_ids\": [\"QPU_1\"], \"pre_allocated_qubits\": false, \"layer_end\": 13}, {\"name\": \"MEASURE\", \"qids\": [\"d94f2556-c38f-4b3a-ba79-430ad980d088\"], \"cids\": [\"ab6f9a12-2cfc-4122-97fa-028707e3f0f8\"], \"gate\": null, \"gate_param\": null, \"computing_host_ids\": [\"QPU_1\"], \"pre_allocated_qubits\": false, \"layer_end\": 13}, {\"name\": \"SEND_CLASSICAL\", \"qids\": null, \"cids\": [\"117df696-02ce-4c86-8614-e89a9d090288\"], \"gate\": null, \"gate_param\": null, \"computing_host_ids\": [\"QPU_1\", \"QPU_0\"], \"pre_allocated_qubits\": false, \"layer_end\": 14}, {\"name\": \"SEND_CLASSICAL\", \"qids\": null, \"cids\": [\"ab6f9a12-2cfc-4122-97fa-028707e3f0f8\"], \"gate\": null, \"gate_param\": null, \"computing_host_ids\": [\"QPU_1\", \"QPU_0\"], \"pre_allocated_qubits\": false, \"layer_end\": 14}, {\"name\": \"REC_CLASSICAL\", \"qids\": null, \"cids\": [\"86139430-e4a2-42d4-96ed-c9f23f69b1e5\"], \"gate\": null, \"gate_param\": null, \"computing_host_ids\": [\"QPU_1\", \"QPU_0\"], \"pre_allocated_qubits\": false, \"layer_end\": 19}, {\"name\": \"REC_CLASSICAL\", \"qids\": null, \"cids\": [\"ea0eb076-ae8d-4dd4-bfdb-b8beb9b82a42\"], \"gate\": null, \"gate_param\": null, \"computing_host_ids\": [\"QPU_1\", \"QPU_0\"], \"pre_allocated_qubits\": false, \"layer_end\": 19}, {\"name\": \"CLASSICAL_CTRL_GATE\", \"qids\": [\"q_1_0\"], \"cids\": [\"86139430-e4a2-42d4-96ed-c9f23f69b1e5\"], \"gate\": \"Z\", \"gate_param\": null, \"computing_host_ids\": [\"QPU_1\"], \"pre_allocated_qubits\": false, \"layer_end\": 20}, {\"name\": \"CLASSICAL_CTRL_GATE\", \"qids\": [\"q_1_1\"], \"cids\": [\"ea0eb076-ae8d-4dd4-bfdb-b8beb9b82a42\"], \"gate\": \"Z\", \"gate_param\": null, \"computing_host_ids\": [\"QPU_1\"], \"pre_allocated_qubits\": false, \"layer_end\": 20}]} with sequence number 0\n"
     ]
    },
    {
     "name": "stderr",
     "output_type": "stream",
     "text": [
      "2021-06-26 00:51:58,779: QPU_0 sends CLASSICAL to host_1 with sequence 0\n",
      "2021-06-26 00:51:58,781: QPU_1 received {\"QPU_0\": [{\"name\": \"PREPARE_QUBITS\", \"qids\": [\"q_0_0\", \"q_0_1\"], \"cids\": null, \"gate\": null, \"gate_param\": null, \"computing_host_ids\": [\"QPU_0\"], \"pre_allocated_qubits\": false, \"layer_end\": 0}, {\"name\": \"TWO_QUBIT\", \"qids\": [\"q_0_0\", \"q_0_1\"], \"cids\": null, \"gate\": \"cnot\", \"gate_param\": null, \"computing_host_ids\": [\"QPU_0\"], \"pre_allocated_qubits\": false, \"layer_end\": 0}, {\"name\": \"SINGLE\", \"qids\": [\"q_0_0\"], \"cids\": null, \"gate\": \"X\", \"gate_param\": null, \"computing_host_ids\": [\"QPU_0\"], \"pre_allocated_qubits\": false, \"layer_end\": 0}, {\"name\": \"SINGLE\", \"qids\": [\"q_0_1\"], \"cids\": null, \"gate\": \"X\", \"gate_param\": null, \"computing_host_ids\": [\"QPU_0\"], \"pre_allocated_qubits\": false, \"layer_end\": 0}, {\"name\": \"SEND_ENT\", \"qids\": [\"f4d4ba40-0f73-46bb-9d1b-ed4b239056ae\"], \"cids\": null, \"gate\": null, \"gate_param\": null, \"computing_host_ids\": [\"QPU_0\", \"QPU_1\"], \"pre_allocated_qubits\": true, \"layer_end\": 0}, {\"name\": \"TWO_QUBIT\", \"qids\": [\"q_0_1\", \"f4d4ba40-0f73-46bb-9d1b-ed4b239056ae\"], \"cids\": null, \"gate\": \"cnot\", \"gate_param\": null, \"computing_host_ids\": [\"QPU_0\"], \"pre_allocated_qubits\": false, \"layer_end\": 1}, {\"name\": \"MEASURE\", \"qids\": [\"f4d4ba40-0f73-46bb-9d1b-ed4b239056ae\"], \"cids\": [\"5057f707-6381-4d80-9b2d-0d927c3105af\"], \"gate\": null, \"gate_param\": null, \"computing_host_ids\": [\"QPU_0\"], \"pre_allocated_qubits\": false, \"layer_end\": 2}, {\"name\": \"SEND_CLASSICAL\", \"qids\": null, \"cids\": [\"5057f707-6381-4d80-9b2d-0d927c3105af\"], \"gate\": null, \"gate_param\": null, \"computing_host_ids\": [\"QPU_0\", \"QPU_1\"], \"pre_allocated_qubits\": false, \"layer_end\": 3}, {\"name\": \"REC_CLASSICAL\", \"qids\": null, \"cids\": [\"ee4ab5b3-e165-44a7-915d-76363dc0d218\"], \"gate\": null, \"gate_param\": null, \"computing_host_ids\": [\"QPU_0\", \"QPU_1\"], \"pre_allocated_qubits\": false, \"layer_end\": 8}, {\"name\": \"CLASSICAL_CTRL_GATE\", \"qids\": [\"q_0_1\"], \"cids\": [\"ee4ab5b3-e165-44a7-915d-76363dc0d218\"], \"gate\": \"Z\", \"gate_param\": null, \"computing_host_ids\": [\"QPU_0\"], \"pre_allocated_qubits\": false, \"layer_end\": 9}, {\"name\": \"SINGLE\", \"qids\": [\"q_0_0\"], \"cids\": null, \"gate\": \"custom_gate\", \"gate_param\": [[[-0.31798493034765196, 0.7437467353318117], [-0.19454774447448653, -0.5548671488518317]], [[0.19454774447448653, -0.5548671488518317], [-0.31798493034765196, -0.7437467353318117]]], \"computing_host_ids\": [\"QPU_0\"], \"pre_allocated_qubits\": false, \"layer_end\": 10}, {\"name\": \"SINGLE\", \"qids\": [\"q_0_1\"], \"cids\": null, \"gate\": \"custom_gate\", \"gate_param\": [[[0.39367767478169263, 0.8957445465285611], [-0.06940503059650993, 0.19453158476381135]], [[0.06940503059650993, 0.19453158476381135], [0.39367767478169263, -0.8957445465285611]]], \"computing_host_ids\": [\"QPU_0\"], \"pre_allocated_qubits\": false, \"layer_end\": 10}, {\"name\": \"REC_ENT\", \"qids\": [\"b5274dcc-8e4e-4693-bd3c-2a8f0b831aa7\"], \"cids\": null, \"gate\": null, \"gate_param\": null, \"computing_host_ids\": [\"QPU_0\", \"QPU_1\"], \"pre_allocated_qubits\": true, \"layer_end\": 11}, {\"name\": \"REC_ENT\", \"qids\": [\"d94f2556-c38f-4b3a-ba79-430ad980d088\"], \"cids\": null, \"gate\": null, \"gate_param\": null, \"computing_host_ids\": [\"QPU_0\", \"QPU_1\"], \"pre_allocated_qubits\": true, \"layer_end\": 11}, {\"name\": \"REC_CLASSICAL\", \"qids\": null, \"cids\": [\"117df696-02ce-4c86-8614-e89a9d090288\"], \"gate\": null, \"gate_param\": null, \"computing_host_ids\": [\"QPU_0\", \"QPU_1\"], \"pre_allocated_qubits\": false, \"layer_end\": 14}, {\"name\": \"REC_CLASSICAL\", \"qids\": null, \"cids\": [\"ab6f9a12-2cfc-4122-97fa-028707e3f0f8\"], \"gate\": null, \"gate_param\": null, \"computing_host_ids\": [\"QPU_0\", \"QPU_1\"], \"pre_allocated_qubits\": false, \"layer_end\": 14}, {\"name\": \"CLASSICAL_CTRL_GATE\", \"qids\": [\"b5274dcc-8e4e-4693-bd3c-2a8f0b831aa7\"], \"cids\": [\"117df696-02ce-4c86-8614-e89a9d090288\"], \"gate\": \"X\", \"gate_param\": null, \"computing_host_ids\": [\"QPU_0\"], \"pre_allocated_qubits\": false, \"layer_end\": 15}, {\"name\": \"CLASSICAL_CTRL_GATE\", \"qids\": [\"d94f2556-c38f-4b3a-ba79-430ad980d088\"], \"cids\": [\"ab6f9a12-2cfc-4122-97fa-028707e3f0f8\"], \"gate\": \"X\", \"gate_param\": null, \"computing_host_ids\": [\"QPU_0\"], \"pre_allocated_qubits\": false, \"layer_end\": 15}, {\"name\": \"TWO_QUBIT\", \"qids\": [\"b5274dcc-8e4e-4693-bd3c-2a8f0b831aa7\", \"q_0_0\"], \"cids\": null, \"gate\": \"cnot\", \"gate_param\": null, \"computing_host_ids\": [\"QPU_0\"], \"pre_allocated_qubits\": false, \"layer_end\": 16}, {\"name\": \"TWO_QUBIT\", \"qids\": [\"d94f2556-c38f-4b3a-ba79-430ad980d088\", \"q_0_1\"], \"cids\": null, \"gate\": \"cnot\", \"gate_param\": null, \"computing_host_ids\": [\"QPU_0\"], \"pre_allocated_qubits\": false, \"layer_end\": 16}, {\"name\": \"SINGLE\", \"qids\": [\"b5274dcc-8e4e-4693-bd3c-2a8f0b831aa7\"], \"cids\": null, \"gate\": \"H\", \"gate_param\": null, \"computing_host_ids\": [\"QPU_0\"], \"pre_allocated_qubits\": false, \"layer_end\": 17}, {\"name\": \"SINGLE\", \"qids\": [\"d94f2556-c38f-4b3a-ba79-430ad980d088\"], \"cids\": null, \"gate\": \"H\", \"gate_param\": null, \"computing_host_ids\": [\"QPU_0\"], \"pre_allocated_qubits\": false, \"layer_end\": 17}, {\"name\": \"MEASURE\", \"qids\": [\"b5274dcc-8e4e-4693-bd3c-2a8f0b831aa7\"], \"cids\": [\"86139430-e4a2-42d4-96ed-c9f23f69b1e5\"], \"gate\": null, \"gate_param\": null, \"computing_host_ids\": [\"QPU_0\"], \"pre_allocated_qubits\": false, \"layer_end\": 18}, {\"name\": \"MEASURE\", \"qids\": [\"d94f2556-c38f-4b3a-ba79-430ad980d088\"], \"cids\": [\"ea0eb076-ae8d-4dd4-bfdb-b8beb9b82a42\"], \"gate\": null, \"gate_param\": null, \"computing_host_ids\": [\"QPU_0\"], \"pre_allocated_qubits\": false, \"layer_end\": 18}, {\"name\": \"SEND_CLASSICAL\", \"qids\": null, \"cids\": [\"86139430-e4a2-42d4-96ed-c9f23f69b1e5\"], \"gate\": null, \"gate_param\": null, \"computing_host_ids\": [\"QPU_0\", \"QPU_1\"], \"pre_allocated_qubits\": false, \"layer_end\": 19}, {\"name\": \"SEND_CLASSICAL\", \"qids\": null, \"cids\": [\"ea0eb076-ae8d-4dd4-bfdb-b8beb9b82a42\"], \"gate\": null, \"gate_param\": null, \"computing_host_ids\": [\"QPU_0\", \"QPU_1\"], \"pre_allocated_qubits\": false, \"layer_end\": 19}], \"QPU_1\": [{\"name\": \"PREPARE_QUBITS\", \"qids\": [\"q_1_0\", \"q_1_1\"], \"cids\": null, \"gate\": null, \"gate_param\": null, \"computing_host_ids\": [\"QPU_1\"], \"pre_allocated_qubits\": false, \"layer_end\": 0}, {\"name\": \"TWO_QUBIT\", \"qids\": [\"q_1_0\", \"q_1_1\"], \"cids\": null, \"gate\": \"cnot\", \"gate_param\": null, \"computing_host_ids\": [\"QPU_1\"], \"pre_allocated_qubits\": false, \"layer_end\": 0}, {\"name\": \"SINGLE\", \"qids\": [\"q_1_0\"], \"cids\": null, \"gate\": \"X\", \"gate_param\": null, \"computing_host_ids\": [\"QPU_1\"], \"pre_allocated_qubits\": false, \"layer_end\": 0}, {\"name\": \"REC_ENT\", \"qids\": [\"f4d4ba40-0f73-46bb-9d1b-ed4b239056ae\"], \"cids\": null, \"gate\": null, \"gate_param\": null, \"computing_host_ids\": [\"QPU_1\", \"QPU_0\"], \"pre_allocated_qubits\": true, \"layer_end\": 0}, {\"name\": \"REC_CLASSICAL\", \"qids\": null, \"cids\": [\"5057f707-6381-4d80-9b2d-0d927c3105af\"], \"gate\": null, \"gate_param\": null, \"computing_host_ids\": [\"QPU_1\", \"QPU_0\"], \"pre_allocated_qubits\": false, \"layer_end\": 3}, {\"name\": \"CLASSICAL_CTRL_GATE\", \"qids\": [\"f4d4ba40-0f73-46bb-9d1b-ed4b239056ae\"], \"cids\": [\"5057f707-6381-4d80-9b2d-0d927c3105af\"], \"gate\": \"X\", \"gate_param\": null, \"computing_host_ids\": [\"QPU_1\"], \"pre_allocated_qubits\": false, \"layer_end\": 4}, {\"name\": \"TWO_QUBIT\", \"qids\": [\"f4d4ba40-0f73-46bb-9d1b-ed4b239056ae\", \"q_1_0\"], \"cids\": null, \"gate\": \"cnot\", \"gate_param\": null, \"computing_host_ids\": [\"QPU_1\"], \"pre_allocated_qubits\": false, \"layer_end\": 5}, {\"name\": \"SINGLE\", \"qids\": [\"f4d4ba40-0f73-46bb-9d1b-ed4b239056ae\"], \"cids\": null, \"gate\": \"H\", \"gate_param\": null, \"computing_host_ids\": [\"QPU_1\"], \"pre_allocated_qubits\": false, \"layer_end\": 6}, {\"name\": \"MEASURE\", \"qids\": [\"f4d4ba40-0f73-46bb-9d1b-ed4b239056ae\"], \"cids\": [\"ee4ab5b3-e165-44a7-915d-76363dc0d218\"], \"gate\": null, \"gate_param\": null, \"computing_host_ids\": [\"QPU_1\"], \"pre_allocated_qubits\": false, \"layer_end\": 7}, {\"name\": \"SEND_CLASSICAL\", \"qids\": null, \"cids\": [\"ee4ab5b3-e165-44a7-915d-76363dc0d218\"], \"gate\": null, \"gate_param\": null, \"computing_host_ids\": [\"QPU_1\", \"QPU_0\"], \"pre_allocated_qubits\": false, \"layer_end\": 8}, {\"name\": \"SINGLE\", \"qids\": [\"q_1_0\"], \"cids\": null, \"gate\": \"custom_gate\", \"gate_param\": [[[0.2315227000379894, -0.9438901384346993], [-0.01969801507418892, 0.234692637581541]], [[0.01969801507418892, 0.234692637581541], [0.2315227000379894, 0.9438901384346993]]], \"computing_host_ids\": [\"QPU_1\"], \"pre_allocated_qubits\": false, \"layer_end\": 10}, {\"name\": \"SINGLE\", \"qids\": [\"q_1_1\"], \"cids\": null, \"gate\": \"custom_gate\", \"gate_param\": [[[-0.9526411467473749, -0.20529868550618627], [0.015378497582795967, 0.22380973407198954]], [[-0.015378497582795967, 0.22380973407198954], [-0.9526411467473749, 0.20529868550618627]]], \"computing_host_ids\": [\"QPU_1\"], \"pre_allocated_qubits\": false, \"layer_end\": 10}, {\"name\": \"TWO_QUBIT\", \"qids\": [\"q_1_0\", \"q_1_1\"], \"cids\": null, \"gate\": \"cnot\", \"gate_param\": null, \"computing_host_ids\": [\"QPU_1\"], \"pre_allocated_qubits\": false, \"layer_end\": 11}, {\"name\": \"SEND_ENT\", \"qids\": [\"b5274dcc-8e4e-4693-bd3c-2a8f0b831aa7\"], \"cids\": null, \"gate\": null, \"gate_param\": null, \"computing_host_ids\": [\"QPU_1\", \"QPU_0\"], \"pre_allocated_qubits\": true, \"layer_end\": 11}, {\"name\": \"SEND_ENT\", \"qids\": [\"d94f2556-c38f-4b3a-ba79-430ad980d088\"], \"cids\": null, \"gate\": null, \"gate_param\": null, \"computing_host_ids\": [\"QPU_1\", \"QPU_0\"], \"pre_allocated_qubits\": true, \"layer_end\": 11}, {\"name\": \"TWO_QUBIT\", \"qids\": [\"q_1_0\", \"b5274dcc-8e4e-4693-bd3c-2a8f0b831aa7\"], \"cids\": null, \"gate\": \"cnot\", \"gate_param\": null, \"computing_host_ids\": [\"QPU_1\"], \"pre_allocated_qubits\": false, \"layer_end\": 12}, {\"name\": \"TWO_QUBIT\", \"qids\": [\"q_1_1\", \"d94f2556-c38f-4b3a-ba79-430ad980d088\"], \"cids\": null, \"gate\": \"cnot\", \"gate_param\": null, \"computing_host_ids\": [\"QPU_1\"], \"pre_allocated_qubits\": false, \"layer_end\": 12}, {\"name\": \"MEASURE\", \"qids\": [\"b5274dcc-8e4e-4693-bd3c-2a8f0b831aa7\"], \"cids\": [\"117df696-02ce-4c86-8614-e89a9d090288\"], \"gate\": null, \"gate_param\": null, \"computing_host_ids\": [\"QPU_1\"], \"pre_allocated_qubits\": false, \"layer_end\": 13}, {\"name\": \"MEASURE\", \"qids\": [\"d94f2556-c38f-4b3a-ba79-430ad980d088\"], \"cids\": [\"ab6f9a12-2cfc-4122-97fa-028707e3f0f8\"], \"gate\": null, \"gate_param\": null, \"computing_host_ids\": [\"QPU_1\"], \"pre_allocated_qubits\": false, \"layer_end\": 13}, {\"name\": \"SEND_CLASSICAL\", \"qids\": null, \"cids\": [\"117df696-02ce-4c86-8614-e89a9d090288\"], \"gate\": null, \"gate_param\": null, \"computing_host_ids\": [\"QPU_1\", \"QPU_0\"], \"pre_allocated_qubits\": false, \"layer_end\": 14}, {\"name\": \"SEND_CLASSICAL\", \"qids\": null, \"cids\": [\"ab6f9a12-2cfc-4122-97fa-028707e3f0f8\"], \"gate\": null, \"gate_param\": null, \"computing_host_ids\": [\"QPU_1\", \"QPU_0\"], \"pre_allocated_qubits\": false, \"layer_end\": 14}, {\"name\": \"REC_CLASSICAL\", \"qids\": null, \"cids\": [\"86139430-e4a2-42d4-96ed-c9f23f69b1e5\"], \"gate\": null, \"gate_param\": null, \"computing_host_ids\": [\"QPU_1\", \"QPU_0\"], \"pre_allocated_qubits\": false, \"layer_end\": 19}, {\"name\": \"REC_CLASSICAL\", \"qids\": null, \"cids\": [\"ea0eb076-ae8d-4dd4-bfdb-b8beb9b82a42\"], \"gate\": null, \"gate_param\": null, \"computing_host_ids\": [\"QPU_1\", \"QPU_0\"], \"pre_allocated_qubits\": false, \"layer_end\": 19}, {\"name\": \"CLASSICAL_CTRL_GATE\", \"qids\": [\"q_1_0\"], \"cids\": [\"86139430-e4a2-42d4-96ed-c9f23f69b1e5\"], \"gate\": \"Z\", \"gate_param\": null, \"computing_host_ids\": [\"QPU_1\"], \"pre_allocated_qubits\": false, \"layer_end\": 20}, {\"name\": \"CLASSICAL_CTRL_GATE\", \"qids\": [\"q_1_1\"], \"cids\": [\"ea0eb076-ae8d-4dd4-bfdb-b8beb9b82a42\"], \"gate\": \"Z\", \"gate_param\": null, \"computing_host_ids\": [\"QPU_1\"], \"pre_allocated_qubits\": false, \"layer_end\": 20}]} with sequence number 0\n"
     ]
    },
    {
     "name": "stderr",
     "output_type": "stream",
     "text": [
      "2021-06-26 00:51:58,781: QPU_1 sends CLASSICAL to host_1 with sequence 0\n",
      "2021-06-26 00:51:58,782: host_1 received ACK from QPU_0 with sequence number 0\n",
      "2021-06-26 00:51:58,783: host_1 received ACK from QPU_1 with sequence number 0\n",
      "2021-06-26 00:51:58,783: QPU_0 awaits classical ACK from host_1 with sequence 0\n",
      "2021-06-26 00:51:58,786: sending ACK:1 from host_1 to QPU_0\n",
      "2021-06-26 00:51:58,787: QPU_1 awaits classical ACK from host_1 with sequence 0\n",
      "2021-06-26 00:51:58,788: sending ACK:1 from host_1 to QPU_1\n",
      "2021-06-26 00:51:58,790: host_1 received ACK with sequence number 0\n",
      "2021-06-26 00:51:58,792: host_1 received ACK with sequence number 0\n",
      "2021-06-26 00:51:58,836: QPU_0 received ACK from host_1 with sequence number 0\n",
      "2021-06-26 00:51:58,842: QPU_1 received ACK from host_1 with sequence number 0\n",
      "2021-06-26 00:51:59,750: QPU_0 sends EPR to QPU_1\n",
      "2021-06-26 00:51:59,777: QPU_0 awaits EPR ACK from QPU_1 with sequence 0\n",
      "2021-06-26 00:52:00,553: sending ACK:1 from QPU_1 to QPU_0\n",
      "2021-06-26 00:52:00,580: QPU_0 received ACK from QPU_1 with sequence number 0\n",
      "2021-06-26 00:52:02,506: QPU_0 sends CLASSICAL to QPU_1 with sequence 1\n",
      "2021-06-26 00:52:02,517: QPU_0 awaits classical ACK from QPU_1 with sequence 1\n",
      "2021-06-26 00:52:02,543: sending ACK:2 from QPU_1 to QPU_0\n",
      "2021-06-26 00:52:02,590: QPU_1 received 0 with sequence number 1\n",
      "2021-06-26 00:52:02,602: QPU_0 received ACK from QPU_1 with sequence number 1\n",
      "2021-06-26 00:52:03,792: QPU_1 sends CLASSICAL to QPU_0 with sequence 0\n",
      "2021-06-26 00:52:03,854: QPU_1 awaits classical ACK from QPU_0 with sequence 0\n",
      "2021-06-26 00:52:03,876: sending ACK:1 from QPU_0 to QPU_1\n",
      "2021-06-26 00:52:03,882: QPU_0 received 0 with sequence number 0\n",
      "2021-06-26 00:52:03,904: QPU_1 received ACK from QPU_0 with sequence number 0\n",
      "2021-06-26 00:52:03,927: QPU_1 sends EPR to QPU_0\n",
      "2021-06-26 00:52:03,954: QPU_1 awaits EPR ACK from QPU_0 with sequence 1\n",
      "2021-06-26 00:52:04,709: sending ACK:2 from QPU_0 to QPU_1\n",
      "2021-06-26 00:52:04,761: QPU_1 received ACK from QPU_0 with sequence number 1\n",
      "2021-06-26 00:52:04,793: QPU_1 sends EPR to QPU_0\n",
      "2021-06-26 00:52:04,824: QPU_1 awaits EPR ACK from QPU_0 with sequence 2\n",
      "2021-06-26 00:52:05,594: sending ACK:3 from QPU_0 to QPU_1\n",
      "2021-06-26 00:52:05,637: QPU_1 received ACK from QPU_0 with sequence number 2\n",
      "2021-06-26 00:52:07,926: QPU_1 sends CLASSICAL to QPU_0 with sequence 3\n",
      "2021-06-26 00:52:07,998: QPU_1 awaits classical ACK from QPU_0 with sequence 3\n",
      "2021-06-26 00:52:08,055: sending ACK:4 from QPU_0 to QPU_1\n",
      "2021-06-26 00:52:08,071: QPU_0 received 0 with sequence number 3\n",
      "2021-06-26 00:52:08,098: QPU_1 received ACK from QPU_0 with sequence number 3\n",
      "2021-06-26 00:52:08,136: QPU_1 sends CLASSICAL to QPU_0 with sequence 4\n",
      "2021-06-26 00:52:08,152: QPU_1 awaits classical ACK from QPU_0 with sequence 4\n",
      "2021-06-26 00:52:08,184: sending ACK:5 from QPU_0 to QPU_1\n",
      "2021-06-26 00:52:08,185: QPU_0 received 1 with sequence number 4\n",
      "2021-06-26 00:52:08,206: QPU_1 received ACK from QPU_0 with sequence number 4\n",
      "2021-06-26 00:52:09,058: QPU_0 sends CLASSICAL to QPU_1 with sequence 2\n",
      "2021-06-26 00:52:09,074: QPU_0 awaits classical ACK from QPU_1 with sequence 2\n",
      "2021-06-26 00:52:09,096: sending ACK:3 from QPU_1 to QPU_0\n",
      "2021-06-26 00:52:09,138: QPU_1 received 0 with sequence number 2\n",
      "2021-06-26 00:52:09,175: QPU_0 received ACK from QPU_1 with sequence number 2\n",
      "2021-06-26 00:52:09,206: QPU_0 sends CLASSICAL to QPU_1 with sequence 3\n",
      "2021-06-26 00:52:09,273: QPU_0 awaits classical ACK from QPU_1 with sequence 3\n",
      "2021-06-26 00:52:09,295: sending ACK:4 from QPU_1 to QPU_0\n",
      "2021-06-26 00:52:09,296: QPU_1 received 1 with sequence number 3\n",
      "2021-06-26 00:52:09,323: QPU_0 received ACK from QPU_1 with sequence number 3\n"
     ]
    },
    {
     "data": {
      "text/plain": [
       "-0.807469762299175"
      ]
     },
     "execution_count": 26,
     "metadata": {},
     "output_type": "execute_result"
    }
   ],
   "source": [
    "cost_fn(params)"
   ]
  },
  {
   "cell_type": "markdown",
   "metadata": {},
   "source": [
    "Looks good! Let's disable the `Logger` to avoid clutter during the optimization process."
   ]
  },
  {
   "cell_type": "code",
   "execution_count": 27,
   "metadata": {},
   "outputs": [],
   "source": [
    "Logger.DISABLED = True"
   ]
  },
  {
   "cell_type": "markdown",
   "metadata": {},
   "source": [
    "It should be noted that the networking nature of this simulation makes it tricky to use gradient-based approaches for optimization, as Interlin-q does not support it yet. So we will go for non-gradient based optimizers. "
   ]
  },
  {
   "cell_type": "markdown",
   "metadata": {},
   "source": [
    "### SciPy Optimisers"
   ]
  },
  {
   "cell_type": "markdown",
   "metadata": {},
   "source": [
    "SciPy optimizers from the `minimize` API are too slow for the purely network version, thus they are not included in this notebook."
   ]
  },
  {
   "cell_type": "markdown",
   "metadata": {},
   "source": [
    "### Scikit-Quant Optimisers"
   ]
  },
  {
   "cell_type": "markdown",
   "metadata": {},
   "source": [
    "This library is specialized for non-gradient based optimization of parameterized quantum circuits, and thus is perfect for our needs. Here, the library takes as input `budget` value, which determines how \"long\" it should attempt minimizing the expectation value."
   ]
  },
  {
   "cell_type": "markdown",
   "metadata": {},
   "source": [
    "**Note: the optimization can take up to 15 mins on an average computer.**"
   ]
  },
  {
   "cell_type": "code",
   "execution_count": 28,
   "metadata": {},
   "outputs": [],
   "source": [
    "from skquant.interop.scipy import *"
   ]
  },
  {
   "cell_type": "code",
   "execution_count": 29,
   "metadata": {},
   "outputs": [
    {
     "data": {
      "text/plain": [
       "array([ 5.54193389,  1.25713095,  3.07479606,  7.03997361,  5.86710646,\n",
       "       -3.07020901,  2.98479079, -0.47550269, -0.32427159,  1.28993324,\n",
       "        0.45252622,  4.56873497])"
      ]
     },
     "execution_count": 29,
     "metadata": {},
     "output_type": "execute_result"
    }
   ],
   "source": [
    "# We need to bound our parameters for the optimization\n",
    "bounds = np.array([-3*np.pi, 3*np.pi])\n",
    "bounds = np.tile(bounds, (4*3, 1))\n",
    "\n",
    "np.random.seed(0)\n",
    "params = np.random.normal(0, np.pi, (4, 3))\n",
    "\n",
    "# The library must receive the parameters as a flat 1D array\n",
    "flattened_parameters = params.flatten()\n",
    "flattened_parameters"
   ]
  },
  {
   "cell_type": "markdown",
   "metadata": {},
   "source": [
    "Let's try the first optimizer."
   ]
  },
  {
   "cell_type": "code",
   "execution_count": 30,
   "metadata": {},
   "outputs": [
    {
     "data": {
      "text/plain": [
       "     fun: -1.1329627749839424\n",
       " message: 'completed'\n",
       "    nfev: 100\n",
       "  status: 0\n",
       " success: True\n",
       "       x: array([ 6.0388495 , -0.09447084,  3.57171167,  6.54305801,  6.27915045,\n",
       "       -3.56712461,  3.4817064 , -0.2274104 ,  0.28697217,  1.78684884,\n",
       "       -0.01450685,  4.07181936])"
      ]
     },
     "execution_count": 30,
     "metadata": {},
     "output_type": "execute_result"
    }
   ],
   "source": [
    "budget = 100\n",
    "minimum_bobyqa = minimize(cost_fn, flattened_parameters, method=pybobyqa, bounds=bounds, options={'budget' : budget})\n",
    "\n",
    "minimum_bobyqa"
   ]
  },
  {
   "cell_type": "markdown",
   "metadata": {},
   "source": [
    "That's very close to PennyLane's -1.13613394 Ha!\n",
    "\n",
    "Let's try the two other optimizers."
   ]
  },
  {
   "cell_type": "code",
   "execution_count": 31,
   "metadata": {},
   "outputs": [
    {
     "data": {
      "text/plain": [
       "     fun: -1.016230585889092\n",
       " message: 'completed'\n",
       "    nfev: 105\n",
       "  status: 0\n",
       " success: True\n",
       "       x: array([ 5.54193389,  5.96951993,  5.43099055,  7.03997361,  5.86710646,\n",
       "        6.35456895,  2.98479079, -0.47550269, -0.32427159,  1.28993324,\n",
       "        0.45252622,  4.56873497])"
      ]
     },
     "execution_count": 31,
     "metadata": {},
     "output_type": "execute_result"
    }
   ],
   "source": [
    "budget = 100\n",
    "minimum_imfil = minimize(cost_fn, flattened_parameters, method=imfil, bounds=bounds, options={'budget' : budget})\n",
    "\n",
    "minimum_imfil"
   ]
  },
  {
   "cell_type": "code",
   "execution_count": 32,
   "metadata": {},
   "outputs": [
    {
     "data": {
      "text/plain": [
       "     fun: -0.9093011711618758\n",
       " message: 'completed'\n",
       "    nfev: 121\n",
       "  status: 0\n",
       " success: True\n",
       "       x: array([-7.67176926e-01, -6.06635258e+00,  5.90556587e-01, -4.01872532e-01,\n",
       "        1.31946891e-03, -3.19481123e+00,  3.95916073e+00, -3.13279619e-01,\n",
       "        2.32226529e-01, -3.31563689e+00, -5.25544469e+00,  2.24743255e+00])"
      ]
     },
     "execution_count": 32,
     "metadata": {},
     "output_type": "execute_result"
    }
   ],
   "source": [
    "budget = 100\n",
    "minimum_snobfit = minimize(cost_fn, flattened_parameters, method=snobfit, bounds=bounds, options={'budget' : budget})\n",
    "\n",
    "minimum_snobfit"
   ]
  },
  {
   "cell_type": "markdown",
   "metadata": {},
   "source": [
    "It seems that a budget of 100 was not sufficient for them, and thus were not able to reach the same minimum value as that of BOBYQA."
   ]
  }
 ],
 "metadata": {
  "kernelspec": {
   "display_name": "Python 3",
   "language": "python",
   "name": "python3"
  },
  "language_info": {
   "codemirror_mode": {
    "name": "ipython",
    "version": 3
   },
   "file_extension": ".py",
   "mimetype": "text/x-python",
   "name": "python",
   "nbconvert_exporter": "python",
   "pygments_lexer": "ipython3",
   "version": "3.8.10"
  }
 },
 "nbformat": 4,
 "nbformat_minor": 2
}
