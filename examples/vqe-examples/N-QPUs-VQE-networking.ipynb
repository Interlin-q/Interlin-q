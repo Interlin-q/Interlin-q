{
 "cells": [
  {
   "cell_type": "markdown",
   "metadata": {},
   "source": [
    "# $N$ QPU VQE experiment\n",
    "\n",
    "This notebook goes through the running of the parallel VQE algorithm on $N$ QPUs using Interlin-q. This notebook differs from the manual version in the manner it calculates the expectation value. Here, the controller host sends the hamiltonian to the computing hosts, and then asks it for the expectation value later through interlin-q API. This approach should scale up with the increasing number of computing hosts.\n",
    "\n",
    "This notebook also won't include the 'single-step' implementation, until the optimization part."
   ]
  },
  {
   "cell_type": "markdown",
   "metadata": {},
   "source": [
    "## Step 1: Import libraries.\n",
    "\n",
    "First we import all the necessary libraries. Interlin-q is build using the python framework [QuNetSim](https://arxiv.org/abs/2003.06397) which is a python software framework that can be used to simulate quantum networks up to the network layer. We also need PennyLane's chemistry library for decomposing the Hamiltonian. We would also use PennyLane for the optimiser component"
   ]
  },
  {
   "cell_type": "code",
   "execution_count": 1,
   "metadata": {},
   "outputs": [],
   "source": [
    "%load_ext autoreload\n",
    "\n",
    "%autoreload 2\n",
    "\n",
    "# Basic Libraries\n",
    "import sys\n",
    "from pennylane import numpy as np\n",
    "sys.path.append(\"../../\")\n",
    "\n",
    "# QuNetSim Components\n",
    "from qunetsim.components import Network\n",
    "from qunetsim.objects import Logger\n",
    "from qunetsim.backends.qutip_backend import QuTipBackend\n",
    "\n",
    "# Interlin-q Components\n",
    "from interlinq import (ControllerHost, Constants, Clock,\n",
    "Circuit, Layer, ComputingHost, Operation)\n",
    "\n",
    "# Extra needed components\n",
    "from pennylane import GradientDescentOptimizer\n",
    "from hamiltonian_decomposition import decompose\n",
    "\n",
    "Logger.DISABLED = False"
   ]
  },
  {
   "cell_type": "markdown",
   "metadata": {},
   "source": [
    "## Step 2: Decompose the Hamiltonian."
   ]
  },
  {
   "cell_type": "code",
   "execution_count": 2,
   "metadata": {},
   "outputs": [],
   "source": [
    "geometry = 'h2.xyz'\n",
    "charge = 0\n",
    "multiplicity = 1\n",
    "basis_set = 'sto-3g'\n",
    "name = 'h2'"
   ]
  },
  {
   "cell_type": "code",
   "execution_count": 3,
   "metadata": {},
   "outputs": [
    {
     "data": {
      "text/plain": [
       "[(-0.04207897647782276, [('Identity', 0)]),\n",
       " (0.17771287465139946, [('PauliZ', 0)]),\n",
       " (0.1777128746513994, [('PauliZ', 1)]),\n",
       " (-0.24274280513140462, [('PauliZ', 2)]),\n",
       " (-0.24274280513140462, [('PauliZ', 3)]),\n",
       " (0.17059738328801052, [('PauliZ', 0), ('PauliZ', 1)]),\n",
       " (0.04475014401535161,\n",
       "  [('PauliY', 0), ('PauliX', 1), ('PauliX', 2), ('PauliY', 3)]),\n",
       " (-0.04475014401535161,\n",
       "  [('PauliY', 0), ('PauliY', 1), ('PauliX', 2), ('PauliX', 3)]),\n",
       " (-0.04475014401535161,\n",
       "  [('PauliX', 0), ('PauliX', 1), ('PauliY', 2), ('PauliY', 3)]),\n",
       " (0.04475014401535161,\n",
       "  [('PauliX', 0), ('PauliY', 1), ('PauliY', 2), ('PauliX', 3)]),\n",
       " (0.12293305056183798, [('PauliZ', 0), ('PauliZ', 2)]),\n",
       " (0.1676831945771896, [('PauliZ', 0), ('PauliZ', 3)]),\n",
       " (0.1676831945771896, [('PauliZ', 1), ('PauliZ', 2)]),\n",
       " (0.12293305056183798, [('PauliZ', 1), ('PauliZ', 3)]),\n",
       " (0.17627640804319591, [('PauliZ', 2), ('PauliZ', 3)])]"
      ]
     },
     "execution_count": 3,
     "metadata": {},
     "output_type": "execute_result"
    }
   ],
   "source": [
    "coefficients, observables, qubit_num = decompose(name, geometry, charge, multiplicity, basis_set)\n",
    "terms = list(zip(coefficients, observables))\n",
    "\n",
    "terms"
   ]
  },
  {
   "cell_type": "markdown",
   "metadata": {},
   "source": [
    "## Step 3: Prepare Circuit for Given Parameters"
   ]
  },
  {
   "cell_type": "markdown",
   "metadata": {},
   "source": [
    "The circuit can be prepared using two different ways: either as one circuit, or several circuits run sequentially. The former approach is simpler and generally better for the optimisation function. The latter is better for debugging and for dynamic components of a quantum circuit (i.e. circuits that have a lot of changing operations)."
   ]
  },
  {
   "cell_type": "markdown",
   "metadata": {},
   "source": [
    "### Main Blocks"
   ]
  },
  {
   "cell_type": "code",
   "execution_count": 4,
   "metadata": {},
   "outputs": [],
   "source": [
    "def rotational_gate(params):\n",
    "    phi, theta, omega = params\n",
    "    cos = np.cos(theta / 2)\n",
    "    sin = np.sin(theta / 2)\n",
    "    \n",
    "    res = np.array([[np.exp(-1j * (phi + omega) / 2) * cos, -np.exp(1j * (phi - omega) / 2) * sin], \n",
    "                     [np.exp(-1j * (phi - omega) / 2) * sin, np.exp(1j * (phi + omega) / 2) * cos]])\n",
    "    \n",
    "    return res.unwrap()"
   ]
  },
  {
   "cell_type": "code",
   "execution_count": 5,
   "metadata": {},
   "outputs": [],
   "source": [
    "def initialisation_operations(q_map):\n",
    "    computing_host_ids = list(q_map.keys())\n",
    "    \n",
    "    ops = []\n",
    "    for host_id in computing_host_ids:\n",
    "        op = Operation(\n",
    "            name=Constants.PREPARE_QUBITS,\n",
    "            qids=q_map[host_id],\n",
    "            computing_host_ids=[host_id])\n",
    "        ops.append(op)\n",
    "    \n",
    "        # Prepare the qubits on the computing host\n",
    "        op = Operation(\n",
    "            name=Constants.SINGLE,\n",
    "            qids=[q_map[host_id][0]],\n",
    "            gate=Operation.X,\n",
    "            computing_host_ids=[host_id])\n",
    "        ops.append(op)\n",
    "\n",
    "        op = Operation(\n",
    "            name=Constants.SINGLE,\n",
    "            qids=[q_map[host_id][1]],\n",
    "            gate=Operation.X,\n",
    "            computing_host_ids=[host_id])\n",
    "        ops.append(op)\n",
    "    \n",
    "    return [Layer(ops)]"
   ]
  },
  {
   "cell_type": "code",
   "execution_count": 6,
   "metadata": {},
   "outputs": [],
   "source": [
    "def ansatz_operations(q_map, parameters):\n",
    "    computing_host_ids = list(q_map.keys())\n",
    "    \n",
    "    layers = []\n",
    "    \n",
    "    ops = []\n",
    "    for host_id in computing_host_ids:\n",
    "        for i in range(len(q_map[host_id])):\n",
    "            op = Operation(\n",
    "                name=Constants.SINGLE,\n",
    "                qids=[q_map[host_id][i]],\n",
    "                gate=Operation.CUSTOM,\n",
    "                gate_param=rotational_gate(parameters[i]),\n",
    "                computing_host_ids=[host_id])\n",
    "\n",
    "            ops.append(op)\n",
    "\n",
    "    layers.append(Layer(ops))\n",
    "    \n",
    "    ops = []\n",
    "    for host_id in computing_host_ids:\n",
    "        op = Operation(\n",
    "            name=Constants.TWO_QUBIT,\n",
    "            qids=[q_map[host_id][2], q_map[host_id][3]],\n",
    "            gate=Operation.CNOT,\n",
    "            computing_host_ids=[host_id])\n",
    "        \n",
    "        ops.append(op)\n",
    "\n",
    "        op = Operation(\n",
    "            name=Constants.TWO_QUBIT,\n",
    "            qids=[q_map[host_id][2], q_map[host_id][0]],\n",
    "            gate=Operation.CNOT,\n",
    "            computing_host_ids=[host_id])\n",
    "\n",
    "        ops.append(op)\n",
    "\n",
    "        op = Operation(\n",
    "            name=Constants.TWO_QUBIT,\n",
    "            qids=[q_map[host_id][3], q_map[host_id][1]],\n",
    "            gate=Operation.CNOT,\n",
    "            computing_host_ids=[host_id])\n",
    "\n",
    "        ops.append(op)\n",
    "    \n",
    "    layers.append(Layer(ops))\n",
    "        \n",
    "    return layers"
   ]
  },
  {
   "cell_type": "code",
   "execution_count": 7,
   "metadata": {},
   "outputs": [],
   "source": [
    "def dispatch_hamiltonian_schedules(host, q_map):\n",
    "        \"\"\"\n",
    "        Send the assigned schedules to the computing hosts\n",
    "        \"\"\"\n",
    "\n",
    "        # Create the correct operations\n",
    "        ops = []\n",
    "        computing_hosts_ids = list(q_map.keys())\n",
    "        \n",
    "        for computing_host_id in computing_hosts_ids:    \n",
    "            op = Operation(\n",
    "                name=Constants.REC_HAMILTON,\n",
    "                computing_host_ids=[computing_host_id],\n",
    "                hamiltonian=host.term_assignment[computing_host_id])\n",
    "            ops.append(op)\n",
    "\n",
    "        layers = [Layer(ops)]\n",
    "\n",
    "        return layers"
   ]
  },
  {
   "cell_type": "code",
   "execution_count": 8,
   "metadata": {},
   "outputs": [],
   "source": [
    "    def ask_for_expectation_values(q_map):\n",
    "        \"\"\"\n",
    "        Queries the computing hosts for their expectation values\n",
    "        \"\"\"\n",
    "\n",
    "        # Create the correct operations\n",
    "        ops = []\n",
    "        computing_hosts_ids = list(q_map.keys())\n",
    "        \n",
    "        for computing_host_id in computing_hosts_ids:    \n",
    "            op = Operation(\n",
    "                name=Constants.SEND_EXP,\n",
    "                computing_host_ids=[computing_host_id])\n",
    "            ops.append(op)\n",
    "\n",
    "        layers = [Layer(ops)]\n",
    "\n",
    "        return layers"
   ]
  },
  {
   "cell_type": "markdown",
   "metadata": {},
   "source": [
    "### The Protocols"
   ]
  },
  {
   "cell_type": "markdown",
   "metadata": {},
   "source": [
    "#### The Controller Protocols "
   ]
  },
  {
   "cell_type": "code",
   "execution_count": 9,
   "metadata": {},
   "outputs": [],
   "source": [
    "def prepare_qubits_ansatz(q_map, parameters): \n",
    "    circuit = Circuit(q_map, initialisation_operations(q_map) + ansatz_operations(q_map, parameters))\n",
    "    return circuit"
   ]
  },
  {
   "cell_type": "code",
   "execution_count": 10,
   "metadata": {},
   "outputs": [],
   "source": [
    "def controller_host_protocol_preparation_ansatz(host, q_map, params, terms):\n",
    "    \"\"\"\n",
    "    Protocol for the controller host\n",
    "    \"\"\"\n",
    "    host.schedule_expectation_terms(terms, q_map)\n",
    "    \n",
    "    host.generate_and_send_schedules(prepare_qubits_ansatz(q_map, params))"
   ]
  },
  {
   "cell_type": "code",
   "execution_count": 11,
   "metadata": {},
   "outputs": [],
   "source": [
    "def controller_host_protocol_expectation_schedule(host, q_map, terms):\n",
    "    \"\"\"\n",
    "    Protocol for the controller host\n",
    "    \"\"\"\n",
    "    circuit = Circuit(q_map, dispatch_hamiltonian_schedules(host, q_map))\n",
    "    \n",
    "    host.generate_and_send_schedules(circuit)"
   ]
  },
  {
   "cell_type": "code",
   "execution_count": 12,
   "metadata": {},
   "outputs": [],
   "source": [
    "def controller_host_protocol_expectation_collection(host, q_map, terms):\n",
    "    \"\"\"\n",
    "    Protocol for the controller host\n",
    "    \"\"\"\n",
    "    circuit = Circuit(q_map, ask_for_expectation_values(q_map))\n",
    "    \n",
    "    host.generate_and_send_schedules(circuit)\n",
    "    \n",
    "    host.receive_results()"
   ]
  },
  {
   "cell_type": "markdown",
   "metadata": {},
   "source": [
    "#### The Computing Protocols"
   ]
  },
  {
   "cell_type": "code",
   "execution_count": 13,
   "metadata": {},
   "outputs": [],
   "source": [
    "def computing_host_protocol(host):\n",
    "    host.receive_schedule()"
   ]
  },
  {
   "cell_type": "code",
   "execution_count": 14,
   "metadata": {},
   "outputs": [],
   "source": [
    "def computing_host_protocol_send_results(host):\n",
    "    host.receive_schedule()\n",
    "    \n",
    "    host.send_results('expectation')"
   ]
  },
  {
   "cell_type": "markdown",
   "metadata": {},
   "source": [
    "## Step 4: Run the circuit and get the Expectation Value"
   ]
  },
  {
   "cell_type": "code",
   "execution_count": 15,
   "metadata": {},
   "outputs": [],
   "source": [
    "def init_network():\n",
    "    network = Network.get_instance()\n",
    "    network.delay = 0\n",
    "    network.start()\n",
    "\n",
    "    clock = Clock()\n",
    "\n",
    "    qutip = QuTipBackend()\n",
    "\n",
    "    controller_host = ControllerHost(\n",
    "        host_id=\"host_1\",\n",
    "        clock=clock, \n",
    "        backend=qutip\n",
    "    )\n",
    "\n",
    "    computing_hosts, q_map = controller_host.create_distributed_network(\n",
    "        num_computing_hosts=3,\n",
    "        num_qubits_per_host=4)\n",
    "    controller_host.start()\n",
    "\n",
    "    network.add_hosts([controller_host])\n",
    "    network.add_hosts(computing_hosts)\n",
    "    \n",
    "    return clock, controller_host, computing_hosts, q_map"
   ]
  },
  {
   "cell_type": "code",
   "execution_count": 16,
   "metadata": {},
   "outputs": [],
   "source": [
    "params = np.random.uniform(0, 2 * np.pi, size=(4,3))"
   ]
  },
  {
   "cell_type": "markdown",
   "metadata": {},
   "source": [
    "### Running the circuit"
   ]
  },
  {
   "cell_type": "code",
   "execution_count": 17,
   "metadata": {},
   "outputs": [],
   "source": [
    "list_hosts = list(Network.get_instance().ARP.keys())\n",
    "\n",
    "for key in list_hosts:\n",
    "    Network.get_instance().remove_host(Network.get_instance().get_host(key))"
   ]
  },
  {
   "cell_type": "code",
   "execution_count": 18,
   "metadata": {},
   "outputs": [
    {
     "name": "stderr",
     "output_type": "stream",
     "text": [
      "INFO:qu_net_sim:Host QPU_0 started processing\n",
      "INFO:qu_net_sim:Host QPU_1 started processing\n",
      "INFO:qu_net_sim:Host QPU_2 started processing\n",
      "INFO:qu_net_sim:Host host_1 started processing\n"
     ]
    }
   ],
   "source": [
    "clock, controller_host, computing_hosts, q_map = init_network()"
   ]
  },
  {
   "cell_type": "code",
   "execution_count": 19,
   "metadata": {},
   "outputs": [
    {
     "name": "stderr",
     "output_type": "stream",
     "text": [
      "INFO:qu_net_sim:host_1 sends BROADCAST message\n",
      "INFO:qu_net_sim:sending ACK:1 from QPU_2 to host_1\n",
      "INFO:qu_net_sim:sending ACK:1 from QPU_1 to host_1\n",
      "INFO:qu_net_sim:sending ACK:1 from QPU_0 to host_1\n",
      "INFO:qu_net_sim:QPU_2 received {\"QPU_0\": [{\"name\": \"PREPARE_QUBITS\", \"qids\": [\"q_0_0\", \"q_0_1\", \"q_0_2\", \"q_0_3\"], \"cids\": null, \"gate\": null, \"gate_param\": null, \"computing_host_ids\": [\"QPU_0\"], \"pre_allocated_qubits\": false, \"layer_end\": 0}, {\"name\": \"SINGLE\", \"qids\": [\"q_0_0\"], \"cids\": null, \"gate\": \"X\", \"gate_param\": null, \"computing_host_ids\": [\"QPU_0\"], \"pre_allocated_qubits\": false, \"layer_end\": 0}, {\"name\": \"SINGLE\", \"qids\": [\"q_0_1\"], \"cids\": null, \"gate\": \"X\", \"gate_param\": null, \"computing_host_ids\": [\"QPU_0\"], \"pre_allocated_qubits\": false, \"layer_end\": 0}, {\"name\": \"SINGLE\", \"qids\": [\"q_0_0\"], \"cids\": null, \"gate\": \"custom_gate\", \"gate_param\": [[[-0.08994573271629325, 0.1742142378941241], [-0.9688706407057829, -0.15115834763407704]], [[0.9688706407057829, -0.15115834763407704], [-0.08994573271629325, -0.1742142378941241]]], \"computing_host_ids\": [\"QPU_0\"], \"pre_allocated_qubits\": false, \"layer_end\": 1}, {\"name\": \"SINGLE\", \"qids\": [\"q_0_1\"], \"cids\": null, \"gate\": \"custom_gate\", \"gate_param\": [[[0.31136705556043, -0.7301542980795249], [-0.597649027528082, 0.11287558461581666]], [[0.597649027528082, 0.11287558461581666], [0.31136705556043, 0.7301542980795249]]], \"computing_host_ids\": [\"QPU_0\"], \"pre_allocated_qubits\": false, \"layer_end\": 1}, {\"name\": \"SINGLE\", \"qids\": [\"q_0_2\"], \"cids\": null, \"gate\": \"custom_gate\", \"gate_param\": [[[0.04431279197076706, -0.03657061056280456], [0.7464718424847424, -0.6629319386545297]], [[-0.7464718424847424, -0.6629319386545297], [0.04431279197076706, 0.03657061056280456]]], \"computing_host_ids\": [\"QPU_0\"], \"pre_allocated_qubits\": false, \"layer_end\": 1}, {\"name\": \"SINGLE\", \"qids\": [\"q_0_3\"], \"cids\": null, \"gate\": \"custom_gate\", \"gate_param\": [[[-0.41094113222982664, -0.9093349141131946], [-0.05114140867857934, 0.040273516543601035]], [[0.05114140867857934, 0.040273516543601035], [-0.41094113222982664, 0.9093349141131946]]], \"computing_host_ids\": [\"QPU_0\"], \"pre_allocated_qubits\": false, \"layer_end\": 1}, {\"name\": \"TWO_QUBIT\", \"qids\": [\"q_0_2\", \"q_0_3\"], \"cids\": null, \"gate\": \"cnot\", \"gate_param\": null, \"computing_host_ids\": [\"QPU_0\"], \"pre_allocated_qubits\": false, \"layer_end\": 2}, {\"name\": \"TWO_QUBIT\", \"qids\": [\"q_0_2\", \"q_0_0\"], \"cids\": null, \"gate\": \"cnot\", \"gate_param\": null, \"computing_host_ids\": [\"QPU_0\"], \"pre_allocated_qubits\": false, \"layer_end\": 2}, {\"name\": \"TWO_QUBIT\", \"qids\": [\"q_0_3\", \"q_0_1\"], \"cids\": null, \"gate\": \"cnot\", \"gate_param\": null, \"computing_host_ids\": [\"QPU_0\"], \"pre_allocated_qubits\": false, \"layer_end\": 2}], \"QPU_1\": [{\"name\": \"PREPARE_QUBITS\", \"qids\": [\"q_1_0\", \"q_1_1\", \"q_1_2\", \"q_1_3\"], \"cids\": null, \"gate\": null, \"gate_param\": null, \"computing_host_ids\": [\"QPU_1\"], \"pre_allocated_qubits\": false, \"layer_end\": 0}, {\"name\": \"SINGLE\", \"qids\": [\"q_1_0\"], \"cids\": null, \"gate\": \"X\", \"gate_param\": null, \"computing_host_ids\": [\"QPU_1\"], \"pre_allocated_qubits\": false, \"layer_end\": 0}, {\"name\": \"SINGLE\", \"qids\": [\"q_1_1\"], \"cids\": null, \"gate\": \"X\", \"gate_param\": null, \"computing_host_ids\": [\"QPU_1\"], \"pre_allocated_qubits\": false, \"layer_end\": 0}, {\"name\": \"SINGLE\", \"qids\": [\"q_1_0\"], \"cids\": null, \"gate\": \"custom_gate\", \"gate_param\": [[[-0.08994573271629325, 0.1742142378941241], [-0.9688706407057829, -0.15115834763407704]], [[0.9688706407057829, -0.15115834763407704], [-0.08994573271629325, -0.1742142378941241]]], \"computing_host_ids\": [\"QPU_1\"], \"pre_allocated_qubits\": false, \"layer_end\": 1}, {\"name\": \"SINGLE\", \"qids\": [\"q_1_1\"], \"cids\": null, \"gate\": \"custom_gate\", \"gate_param\": [[[0.31136705556043, -0.7301542980795249], [-0.597649027528082, 0.11287558461581666]], [[0.597649027528082, 0.11287558461581666], [0.31136705556043, 0.7301542980795249]]], \"computing_host_ids\": [\"QPU_1\"], \"pre_allocated_qubits\": false, \"layer_end\": 1}, {\"name\": \"SINGLE\", \"qids\": [\"q_1_2\"], \"cids\": null, \"gate\": \"custom_gate\", \"gate_param\": [[[0.04431279197076706, -0.03657061056280456], [0.7464718424847424, -0.6629319386545297]], [[-0.7464718424847424, -0.6629319386545297], [0.04431279197076706, 0.03657061056280456]]], \"computing_host_ids\": [\"QPU_1\"], \"pre_allocated_qubits\": false, \"layer_end\": 1}, {\"name\": \"SINGLE\", \"qids\": [\"q_1_3\"], \"cids\": null, \"gate\": \"custom_gate\", \"gate_param\": [[[-0.41094113222982664, -0.9093349141131946], [-0.05114140867857934, 0.040273516543601035]], [[0.05114140867857934, 0.040273516543601035], [-0.41094113222982664, 0.9093349141131946]]], \"computing_host_ids\": [\"QPU_1\"], \"pre_allocated_qubits\": false, \"layer_end\": 1}, {\"name\": \"TWO_QUBIT\", \"qids\": [\"q_1_2\", \"q_1_3\"], \"cids\": null, \"gate\": \"cnot\", \"gate_param\": null, \"computing_host_ids\": [\"QPU_1\"], \"pre_allocated_qubits\": false, \"layer_end\": 2}, {\"name\": \"TWO_QUBIT\", \"qids\": [\"q_1_2\", \"q_1_0\"], \"cids\": null, \"gate\": \"cnot\", \"gate_param\": null, \"computing_host_ids\": [\"QPU_1\"], \"pre_allocated_qubits\": false, \"layer_end\": 2}, {\"name\": \"TWO_QUBIT\", \"qids\": [\"q_1_3\", \"q_1_1\"], \"cids\": null, \"gate\": \"cnot\", \"gate_param\": null, \"computing_host_ids\": [\"QPU_1\"], \"pre_allocated_qubits\": false, \"layer_end\": 2}], \"QPU_2\": [{\"name\": \"PREPARE_QUBITS\", \"qids\": [\"q_2_0\", \"q_2_1\", \"q_2_2\", \"q_2_3\"], \"cids\": null, \"gate\": null, \"gate_param\": null, \"computing_host_ids\": [\"QPU_2\"], \"pre_allocated_qubits\": false, \"layer_end\": 0}, {\"name\": \"SINGLE\", \"qids\": [\"q_2_0\"], \"cids\": null, \"gate\": \"X\", \"gate_param\": null, \"computing_host_ids\": [\"QPU_2\"], \"pre_allocated_qubits\": false, \"layer_end\": 0}, {\"name\": \"SINGLE\", \"qids\": [\"q_2_1\"], \"cids\": null, \"gate\": \"X\", \"gate_param\": null, \"computing_host_ids\": [\"QPU_2\"], \"pre_allocated_qubits\": false, \"layer_end\": 0}, {\"name\": \"SINGLE\", \"qids\": [\"q_2_0\"], \"cids\": null, \"gate\": \"custom_gate\", \"gate_param\": [[[-0.08994573271629325, 0.1742142378941241], [-0.9688706407057829, -0.15115834763407704]], [[0.9688706407057829, -0.15115834763407704], [-0.08994573271629325, -0.1742142378941241]]], \"computing_host_ids\": [\"QPU_2\"], \"pre_allocated_qubits\": false, \"layer_end\": 1}, {\"name\": \"SINGLE\", \"qids\": [\"q_2_1\"], \"cids\": null, \"gate\": \"custom_gate\", \"gate_param\": [[[0.31136705556043, -0.7301542980795249], [-0.597649027528082, 0.11287558461581666]], [[0.597649027528082, 0.11287558461581666], [0.31136705556043, 0.7301542980795249]]], \"computing_host_ids\": [\"QPU_2\"], \"pre_allocated_qubits\": false, \"layer_end\": 1}, {\"name\": \"SINGLE\", \"qids\": [\"q_2_2\"], \"cids\": null, \"gate\": \"custom_gate\", \"gate_param\": [[[0.04431279197076706, -0.03657061056280456], [0.7464718424847424, -0.6629319386545297]], [[-0.7464718424847424, -0.6629319386545297], [0.04431279197076706, 0.03657061056280456]]], \"computing_host_ids\": [\"QPU_2\"], \"pre_allocated_qubits\": false, \"layer_end\": 1}, {\"name\": \"SINGLE\", \"qids\": [\"q_2_3\"], \"cids\": null, \"gate\": \"custom_gate\", \"gate_param\": [[[-0.41094113222982664, -0.9093349141131946], [-0.05114140867857934, 0.040273516543601035]], [[0.05114140867857934, 0.040273516543601035], [-0.41094113222982664, 0.9093349141131946]]], \"computing_host_ids\": [\"QPU_2\"], \"pre_allocated_qubits\": false, \"layer_end\": 1}, {\"name\": \"TWO_QUBIT\", \"qids\": [\"q_2_2\", \"q_2_3\"], \"cids\": null, \"gate\": \"cnot\", \"gate_param\": null, \"computing_host_ids\": [\"QPU_2\"], \"pre_allocated_qubits\": false, \"layer_end\": 2}, {\"name\": \"TWO_QUBIT\", \"qids\": [\"q_2_2\", \"q_2_0\"], \"cids\": null, \"gate\": \"cnot\", \"gate_param\": null, \"computing_host_ids\": [\"QPU_2\"], \"pre_allocated_qubits\": false, \"layer_end\": 2}, {\"name\": \"TWO_QUBIT\", \"qids\": [\"q_2_3\", \"q_2_1\"], \"cids\": null, \"gate\": \"cnot\", \"gate_param\": null, \"computing_host_ids\": [\"QPU_2\"], \"pre_allocated_qubits\": false, \"layer_end\": 2}]} with sequence number 0\n",
      "INFO:qu_net_sim:QPU_2 sends CLASSICAL to host_1 with sequence 0\n",
      "INFO:qu_net_sim:QPU_1 received {\"QPU_0\": [{\"name\": \"PREPARE_QUBITS\", \"qids\": [\"q_0_0\", \"q_0_1\", \"q_0_2\", \"q_0_3\"], \"cids\": null, \"gate\": null, \"gate_param\": null, \"computing_host_ids\": [\"QPU_0\"], \"pre_allocated_qubits\": false, \"layer_end\": 0}, {\"name\": \"SINGLE\", \"qids\": [\"q_0_0\"], \"cids\": null, \"gate\": \"X\", \"gate_param\": null, \"computing_host_ids\": [\"QPU_0\"], \"pre_allocated_qubits\": false, \"layer_end\": 0}, {\"name\": \"SINGLE\", \"qids\": [\"q_0_1\"], \"cids\": null, \"gate\": \"X\", \"gate_param\": null, \"computing_host_ids\": [\"QPU_0\"], \"pre_allocated_qubits\": false, \"layer_end\": 0}, {\"name\": \"SINGLE\", \"qids\": [\"q_0_0\"], \"cids\": null, \"gate\": \"custom_gate\", \"gate_param\": [[[-0.08994573271629325, 0.1742142378941241], [-0.9688706407057829, -0.15115834763407704]], [[0.9688706407057829, -0.15115834763407704], [-0.08994573271629325, -0.1742142378941241]]], \"computing_host_ids\": [\"QPU_0\"], \"pre_allocated_qubits\": false, \"layer_end\": 1}, {\"name\": \"SINGLE\", \"qids\": [\"q_0_1\"], \"cids\": null, \"gate\": \"custom_gate\", \"gate_param\": [[[0.31136705556043, -0.7301542980795249], [-0.597649027528082, 0.11287558461581666]], [[0.597649027528082, 0.11287558461581666], [0.31136705556043, 0.7301542980795249]]], \"computing_host_ids\": [\"QPU_0\"], \"pre_allocated_qubits\": false, \"layer_end\": 1}, {\"name\": \"SINGLE\", \"qids\": [\"q_0_2\"], \"cids\": null, \"gate\": \"custom_gate\", \"gate_param\": [[[0.04431279197076706, -0.03657061056280456], [0.7464718424847424, -0.6629319386545297]], [[-0.7464718424847424, -0.6629319386545297], [0.04431279197076706, 0.03657061056280456]]], \"computing_host_ids\": [\"QPU_0\"], \"pre_allocated_qubits\": false, \"layer_end\": 1}, {\"name\": \"SINGLE\", \"qids\": [\"q_0_3\"], \"cids\": null, \"gate\": \"custom_gate\", \"gate_param\": [[[-0.41094113222982664, -0.9093349141131946], [-0.05114140867857934, 0.040273516543601035]], [[0.05114140867857934, 0.040273516543601035], [-0.41094113222982664, 0.9093349141131946]]], \"computing_host_ids\": [\"QPU_0\"], \"pre_allocated_qubits\": false, \"layer_end\": 1}, {\"name\": \"TWO_QUBIT\", \"qids\": [\"q_0_2\", \"q_0_3\"], \"cids\": null, \"gate\": \"cnot\", \"gate_param\": null, \"computing_host_ids\": [\"QPU_0\"], \"pre_allocated_qubits\": false, \"layer_end\": 2}, {\"name\": \"TWO_QUBIT\", \"qids\": [\"q_0_2\", \"q_0_0\"], \"cids\": null, \"gate\": \"cnot\", \"gate_param\": null, \"computing_host_ids\": [\"QPU_0\"], \"pre_allocated_qubits\": false, \"layer_end\": 2}, {\"name\": \"TWO_QUBIT\", \"qids\": [\"q_0_3\", \"q_0_1\"], \"cids\": null, \"gate\": \"cnot\", \"gate_param\": null, \"computing_host_ids\": [\"QPU_0\"], \"pre_allocated_qubits\": false, \"layer_end\": 2}], \"QPU_1\": [{\"name\": \"PREPARE_QUBITS\", \"qids\": [\"q_1_0\", \"q_1_1\", \"q_1_2\", \"q_1_3\"], \"cids\": null, \"gate\": null, \"gate_param\": null, \"computing_host_ids\": [\"QPU_1\"], \"pre_allocated_qubits\": false, \"layer_end\": 0}, {\"name\": \"SINGLE\", \"qids\": [\"q_1_0\"], \"cids\": null, \"gate\": \"X\", \"gate_param\": null, \"computing_host_ids\": [\"QPU_1\"], \"pre_allocated_qubits\": false, \"layer_end\": 0}, {\"name\": \"SINGLE\", \"qids\": [\"q_1_1\"], \"cids\": null, \"gate\": \"X\", \"gate_param\": null, \"computing_host_ids\": [\"QPU_1\"], \"pre_allocated_qubits\": false, \"layer_end\": 0}, {\"name\": \"SINGLE\", \"qids\": [\"q_1_0\"], \"cids\": null, \"gate\": \"custom_gate\", \"gate_param\": [[[-0.08994573271629325, 0.1742142378941241], [-0.9688706407057829, -0.15115834763407704]], [[0.9688706407057829, -0.15115834763407704], [-0.08994573271629325, -0.1742142378941241]]], \"computing_host_ids\": [\"QPU_1\"], \"pre_allocated_qubits\": false, \"layer_end\": 1}, {\"name\": \"SINGLE\", \"qids\": [\"q_1_1\"], \"cids\": null, \"gate\": \"custom_gate\", \"gate_param\": [[[0.31136705556043, -0.7301542980795249], [-0.597649027528082, 0.11287558461581666]], [[0.597649027528082, 0.11287558461581666], [0.31136705556043, 0.7301542980795249]]], \"computing_host_ids\": [\"QPU_1\"], \"pre_allocated_qubits\": false, \"layer_end\": 1}, {\"name\": \"SINGLE\", \"qids\": [\"q_1_2\"], \"cids\": null, \"gate\": \"custom_gate\", \"gate_param\": [[[0.04431279197076706, -0.03657061056280456], [0.7464718424847424, -0.6629319386545297]], [[-0.7464718424847424, -0.6629319386545297], [0.04431279197076706, 0.03657061056280456]]], \"computing_host_ids\": [\"QPU_1\"], \"pre_allocated_qubits\": false, \"layer_end\": 1}, {\"name\": \"SINGLE\", \"qids\": [\"q_1_3\"], \"cids\": null, \"gate\": \"custom_gate\", \"gate_param\": [[[-0.41094113222982664, -0.9093349141131946], [-0.05114140867857934, 0.040273516543601035]], [[0.05114140867857934, 0.040273516543601035], [-0.41094113222982664, 0.9093349141131946]]], \"computing_host_ids\": [\"QPU_1\"], \"pre_allocated_qubits\": false, \"layer_end\": 1}, {\"name\": \"TWO_QUBIT\", \"qids\": [\"q_1_2\", \"q_1_3\"], \"cids\": null, \"gate\": \"cnot\", \"gate_param\": null, \"computing_host_ids\": [\"QPU_1\"], \"pre_allocated_qubits\": false, \"layer_end\": 2}, {\"name\": \"TWO_QUBIT\", \"qids\": [\"q_1_2\", \"q_1_0\"], \"cids\": null, \"gate\": \"cnot\", \"gate_param\": null, \"computing_host_ids\": [\"QPU_1\"], \"pre_allocated_qubits\": false, \"layer_end\": 2}, {\"name\": \"TWO_QUBIT\", \"qids\": [\"q_1_3\", \"q_1_1\"], \"cids\": null, \"gate\": \"cnot\", \"gate_param\": null, \"computing_host_ids\": [\"QPU_1\"], \"pre_allocated_qubits\": false, \"layer_end\": 2}], \"QPU_2\": [{\"name\": \"PREPARE_QUBITS\", \"qids\": [\"q_2_0\", \"q_2_1\", \"q_2_2\", \"q_2_3\"], \"cids\": null, \"gate\": null, \"gate_param\": null, \"computing_host_ids\": [\"QPU_2\"], \"pre_allocated_qubits\": false, \"layer_end\": 0}, {\"name\": \"SINGLE\", \"qids\": [\"q_2_0\"], \"cids\": null, \"gate\": \"X\", \"gate_param\": null, \"computing_host_ids\": [\"QPU_2\"], \"pre_allocated_qubits\": false, \"layer_end\": 0}, {\"name\": \"SINGLE\", \"qids\": [\"q_2_1\"], \"cids\": null, \"gate\": \"X\", \"gate_param\": null, \"computing_host_ids\": [\"QPU_2\"], \"pre_allocated_qubits\": false, \"layer_end\": 0}, {\"name\": \"SINGLE\", \"qids\": [\"q_2_0\"], \"cids\": null, \"gate\": \"custom_gate\", \"gate_param\": [[[-0.08994573271629325, 0.1742142378941241], [-0.9688706407057829, -0.15115834763407704]], [[0.9688706407057829, -0.15115834763407704], [-0.08994573271629325, -0.1742142378941241]]], \"computing_host_ids\": [\"QPU_2\"], \"pre_allocated_qubits\": false, \"layer_end\": 1}, {\"name\": \"SINGLE\", \"qids\": [\"q_2_1\"], \"cids\": null, \"gate\": \"custom_gate\", \"gate_param\": [[[0.31136705556043, -0.7301542980795249], [-0.597649027528082, 0.11287558461581666]], [[0.597649027528082, 0.11287558461581666], [0.31136705556043, 0.7301542980795249]]], \"computing_host_ids\": [\"QPU_2\"], \"pre_allocated_qubits\": false, \"layer_end\": 1}, {\"name\": \"SINGLE\", \"qids\": [\"q_2_2\"], \"cids\": null, \"gate\": \"custom_gate\", \"gate_param\": [[[0.04431279197076706, -0.03657061056280456], [0.7464718424847424, -0.6629319386545297]], [[-0.7464718424847424, -0.6629319386545297], [0.04431279197076706, 0.03657061056280456]]], \"computing_host_ids\": [\"QPU_2\"], \"pre_allocated_qubits\": false, \"layer_end\": 1}, {\"name\": \"SINGLE\", \"qids\": [\"q_2_3\"], \"cids\": null, \"gate\": \"custom_gate\", \"gate_param\": [[[-0.41094113222982664, -0.9093349141131946], [-0.05114140867857934, 0.040273516543601035]], [[0.05114140867857934, 0.040273516543601035], [-0.41094113222982664, 0.9093349141131946]]], \"computing_host_ids\": [\"QPU_2\"], \"pre_allocated_qubits\": false, \"layer_end\": 1}, {\"name\": \"TWO_QUBIT\", \"qids\": [\"q_2_2\", \"q_2_3\"], \"cids\": null, \"gate\": \"cnot\", \"gate_param\": null, \"computing_host_ids\": [\"QPU_2\"], \"pre_allocated_qubits\": false, \"layer_end\": 2}, {\"name\": \"TWO_QUBIT\", \"qids\": [\"q_2_2\", \"q_2_0\"], \"cids\": null, \"gate\": \"cnot\", \"gate_param\": null, \"computing_host_ids\": [\"QPU_2\"], \"pre_allocated_qubits\": false, \"layer_end\": 2}, {\"name\": \"TWO_QUBIT\", \"qids\": [\"q_2_3\", \"q_2_1\"], \"cids\": null, \"gate\": \"cnot\", \"gate_param\": null, \"computing_host_ids\": [\"QPU_2\"], \"pre_allocated_qubits\": false, \"layer_end\": 2}]} with sequence number 0\n"
     ]
    },
    {
     "name": "stderr",
     "output_type": "stream",
     "text": [
      "INFO:qu_net_sim:QPU_1 sends CLASSICAL to host_1 with sequence 0\n",
      "INFO:qu_net_sim:host_1 received ACK from QPU_2 with sequence number 0\n",
      "INFO:qu_net_sim:QPU_0 received {\"QPU_0\": [{\"name\": \"PREPARE_QUBITS\", \"qids\": [\"q_0_0\", \"q_0_1\", \"q_0_2\", \"q_0_3\"], \"cids\": null, \"gate\": null, \"gate_param\": null, \"computing_host_ids\": [\"QPU_0\"], \"pre_allocated_qubits\": false, \"layer_end\": 0}, {\"name\": \"SINGLE\", \"qids\": [\"q_0_0\"], \"cids\": null, \"gate\": \"X\", \"gate_param\": null, \"computing_host_ids\": [\"QPU_0\"], \"pre_allocated_qubits\": false, \"layer_end\": 0}, {\"name\": \"SINGLE\", \"qids\": [\"q_0_1\"], \"cids\": null, \"gate\": \"X\", \"gate_param\": null, \"computing_host_ids\": [\"QPU_0\"], \"pre_allocated_qubits\": false, \"layer_end\": 0}, {\"name\": \"SINGLE\", \"qids\": [\"q_0_0\"], \"cids\": null, \"gate\": \"custom_gate\", \"gate_param\": [[[-0.08994573271629325, 0.1742142378941241], [-0.9688706407057829, -0.15115834763407704]], [[0.9688706407057829, -0.15115834763407704], [-0.08994573271629325, -0.1742142378941241]]], \"computing_host_ids\": [\"QPU_0\"], \"pre_allocated_qubits\": false, \"layer_end\": 1}, {\"name\": \"SINGLE\", \"qids\": [\"q_0_1\"], \"cids\": null, \"gate\": \"custom_gate\", \"gate_param\": [[[0.31136705556043, -0.7301542980795249], [-0.597649027528082, 0.11287558461581666]], [[0.597649027528082, 0.11287558461581666], [0.31136705556043, 0.7301542980795249]]], \"computing_host_ids\": [\"QPU_0\"], \"pre_allocated_qubits\": false, \"layer_end\": 1}, {\"name\": \"SINGLE\", \"qids\": [\"q_0_2\"], \"cids\": null, \"gate\": \"custom_gate\", \"gate_param\": [[[0.04431279197076706, -0.03657061056280456], [0.7464718424847424, -0.6629319386545297]], [[-0.7464718424847424, -0.6629319386545297], [0.04431279197076706, 0.03657061056280456]]], \"computing_host_ids\": [\"QPU_0\"], \"pre_allocated_qubits\": false, \"layer_end\": 1}, {\"name\": \"SINGLE\", \"qids\": [\"q_0_3\"], \"cids\": null, \"gate\": \"custom_gate\", \"gate_param\": [[[-0.41094113222982664, -0.9093349141131946], [-0.05114140867857934, 0.040273516543601035]], [[0.05114140867857934, 0.040273516543601035], [-0.41094113222982664, 0.9093349141131946]]], \"computing_host_ids\": [\"QPU_0\"], \"pre_allocated_qubits\": false, \"layer_end\": 1}, {\"name\": \"TWO_QUBIT\", \"qids\": [\"q_0_2\", \"q_0_3\"], \"cids\": null, \"gate\": \"cnot\", \"gate_param\": null, \"computing_host_ids\": [\"QPU_0\"], \"pre_allocated_qubits\": false, \"layer_end\": 2}, {\"name\": \"TWO_QUBIT\", \"qids\": [\"q_0_2\", \"q_0_0\"], \"cids\": null, \"gate\": \"cnot\", \"gate_param\": null, \"computing_host_ids\": [\"QPU_0\"], \"pre_allocated_qubits\": false, \"layer_end\": 2}, {\"name\": \"TWO_QUBIT\", \"qids\": [\"q_0_3\", \"q_0_1\"], \"cids\": null, \"gate\": \"cnot\", \"gate_param\": null, \"computing_host_ids\": [\"QPU_0\"], \"pre_allocated_qubits\": false, \"layer_end\": 2}], \"QPU_1\": [{\"name\": \"PREPARE_QUBITS\", \"qids\": [\"q_1_0\", \"q_1_1\", \"q_1_2\", \"q_1_3\"], \"cids\": null, \"gate\": null, \"gate_param\": null, \"computing_host_ids\": [\"QPU_1\"], \"pre_allocated_qubits\": false, \"layer_end\": 0}, {\"name\": \"SINGLE\", \"qids\": [\"q_1_0\"], \"cids\": null, \"gate\": \"X\", \"gate_param\": null, \"computing_host_ids\": [\"QPU_1\"], \"pre_allocated_qubits\": false, \"layer_end\": 0}, {\"name\": \"SINGLE\", \"qids\": [\"q_1_1\"], \"cids\": null, \"gate\": \"X\", \"gate_param\": null, \"computing_host_ids\": [\"QPU_1\"], \"pre_allocated_qubits\": false, \"layer_end\": 0}, {\"name\": \"SINGLE\", \"qids\": [\"q_1_0\"], \"cids\": null, \"gate\": \"custom_gate\", \"gate_param\": [[[-0.08994573271629325, 0.1742142378941241], [-0.9688706407057829, -0.15115834763407704]], [[0.9688706407057829, -0.15115834763407704], [-0.08994573271629325, -0.1742142378941241]]], \"computing_host_ids\": [\"QPU_1\"], \"pre_allocated_qubits\": false, \"layer_end\": 1}, {\"name\": \"SINGLE\", \"qids\": [\"q_1_1\"], \"cids\": null, \"gate\": \"custom_gate\", \"gate_param\": [[[0.31136705556043, -0.7301542980795249], [-0.597649027528082, 0.11287558461581666]], [[0.597649027528082, 0.11287558461581666], [0.31136705556043, 0.7301542980795249]]], \"computing_host_ids\": [\"QPU_1\"], \"pre_allocated_qubits\": false, \"layer_end\": 1}, {\"name\": \"SINGLE\", \"qids\": [\"q_1_2\"], \"cids\": null, \"gate\": \"custom_gate\", \"gate_param\": [[[0.04431279197076706, -0.03657061056280456], [0.7464718424847424, -0.6629319386545297]], [[-0.7464718424847424, -0.6629319386545297], [0.04431279197076706, 0.03657061056280456]]], \"computing_host_ids\": [\"QPU_1\"], \"pre_allocated_qubits\": false, \"layer_end\": 1}, {\"name\": \"SINGLE\", \"qids\": [\"q_1_3\"], \"cids\": null, \"gate\": \"custom_gate\", \"gate_param\": [[[-0.41094113222982664, -0.9093349141131946], [-0.05114140867857934, 0.040273516543601035]], [[0.05114140867857934, 0.040273516543601035], [-0.41094113222982664, 0.9093349141131946]]], \"computing_host_ids\": [\"QPU_1\"], \"pre_allocated_qubits\": false, \"layer_end\": 1}, {\"name\": \"TWO_QUBIT\", \"qids\": [\"q_1_2\", \"q_1_3\"], \"cids\": null, \"gate\": \"cnot\", \"gate_param\": null, \"computing_host_ids\": [\"QPU_1\"], \"pre_allocated_qubits\": false, \"layer_end\": 2}, {\"name\": \"TWO_QUBIT\", \"qids\": [\"q_1_2\", \"q_1_0\"], \"cids\": null, \"gate\": \"cnot\", \"gate_param\": null, \"computing_host_ids\": [\"QPU_1\"], \"pre_allocated_qubits\": false, \"layer_end\": 2}, {\"name\": \"TWO_QUBIT\", \"qids\": [\"q_1_3\", \"q_1_1\"], \"cids\": null, \"gate\": \"cnot\", \"gate_param\": null, \"computing_host_ids\": [\"QPU_1\"], \"pre_allocated_qubits\": false, \"layer_end\": 2}], \"QPU_2\": [{\"name\": \"PREPARE_QUBITS\", \"qids\": [\"q_2_0\", \"q_2_1\", \"q_2_2\", \"q_2_3\"], \"cids\": null, \"gate\": null, \"gate_param\": null, \"computing_host_ids\": [\"QPU_2\"], \"pre_allocated_qubits\": false, \"layer_end\": 0}, {\"name\": \"SINGLE\", \"qids\": [\"q_2_0\"], \"cids\": null, \"gate\": \"X\", \"gate_param\": null, \"computing_host_ids\": [\"QPU_2\"], \"pre_allocated_qubits\": false, \"layer_end\": 0}, {\"name\": \"SINGLE\", \"qids\": [\"q_2_1\"], \"cids\": null, \"gate\": \"X\", \"gate_param\": null, \"computing_host_ids\": [\"QPU_2\"], \"pre_allocated_qubits\": false, \"layer_end\": 0}, {\"name\": \"SINGLE\", \"qids\": [\"q_2_0\"], \"cids\": null, \"gate\": \"custom_gate\", \"gate_param\": [[[-0.08994573271629325, 0.1742142378941241], [-0.9688706407057829, -0.15115834763407704]], [[0.9688706407057829, -0.15115834763407704], [-0.08994573271629325, -0.1742142378941241]]], \"computing_host_ids\": [\"QPU_2\"], \"pre_allocated_qubits\": false, \"layer_end\": 1}, {\"name\": \"SINGLE\", \"qids\": [\"q_2_1\"], \"cids\": null, \"gate\": \"custom_gate\", \"gate_param\": [[[0.31136705556043, -0.7301542980795249], [-0.597649027528082, 0.11287558461581666]], [[0.597649027528082, 0.11287558461581666], [0.31136705556043, 0.7301542980795249]]], \"computing_host_ids\": [\"QPU_2\"], \"pre_allocated_qubits\": false, \"layer_end\": 1}, {\"name\": \"SINGLE\", \"qids\": [\"q_2_2\"], \"cids\": null, \"gate\": \"custom_gate\", \"gate_param\": [[[0.04431279197076706, -0.03657061056280456], [0.7464718424847424, -0.6629319386545297]], [[-0.7464718424847424, -0.6629319386545297], [0.04431279197076706, 0.03657061056280456]]], \"computing_host_ids\": [\"QPU_2\"], \"pre_allocated_qubits\": false, \"layer_end\": 1}, {\"name\": \"SINGLE\", \"qids\": [\"q_2_3\"], \"cids\": null, \"gate\": \"custom_gate\", \"gate_param\": [[[-0.41094113222982664, -0.9093349141131946], [-0.05114140867857934, 0.040273516543601035]], [[0.05114140867857934, 0.040273516543601035], [-0.41094113222982664, 0.9093349141131946]]], \"computing_host_ids\": [\"QPU_2\"], \"pre_allocated_qubits\": false, \"layer_end\": 1}, {\"name\": \"TWO_QUBIT\", \"qids\": [\"q_2_2\", \"q_2_3\"], \"cids\": null, \"gate\": \"cnot\", \"gate_param\": null, \"computing_host_ids\": [\"QPU_2\"], \"pre_allocated_qubits\": false, \"layer_end\": 2}, {\"name\": \"TWO_QUBIT\", \"qids\": [\"q_2_2\", \"q_2_0\"], \"cids\": null, \"gate\": \"cnot\", \"gate_param\": null, \"computing_host_ids\": [\"QPU_2\"], \"pre_allocated_qubits\": false, \"layer_end\": 2}, {\"name\": \"TWO_QUBIT\", \"qids\": [\"q_2_3\", \"q_2_1\"], \"cids\": null, \"gate\": \"cnot\", \"gate_param\": null, \"computing_host_ids\": [\"QPU_2\"], \"pre_allocated_qubits\": false, \"layer_end\": 2}]} with sequence number 0\n",
      "INFO:qu_net_sim:QPU_0 sends CLASSICAL to host_1 with sequence 0\n",
      "INFO:qu_net_sim:host_1 received ACK from QPU_1 with sequence number 0\n",
      "INFO:qu_net_sim:host_1 received ACK from QPU_0 with sequence number 0\n",
      "INFO:qu_net_sim:QPU_2 awaits classical ACK from host_1 with sequence 0\n",
      "INFO:qu_net_sim:sending ACK:1 from host_1 to QPU_2\n",
      "INFO:qu_net_sim:QPU_1 awaits classical ACK from host_1 with sequence 0\n",
      "INFO:qu_net_sim:sending ACK:1 from host_1 to QPU_1\n",
      "INFO:qu_net_sim:QPU_0 awaits classical ACK from host_1 with sequence 0\n",
      "INFO:qu_net_sim:sending ACK:1 from host_1 to QPU_0\n"
     ]
    },
    {
     "name": "stderr",
     "output_type": "stream",
     "text": [
      "INFO:qu_net_sim:host_1 received ACK with sequence number 0\n",
      "INFO:qu_net_sim:QPU_2 received ACK from host_1 with sequence number 0\n",
      "INFO:qu_net_sim:host_1 received ACK with sequence number 0\n",
      "INFO:qu_net_sim:QPU_1 received ACK from host_1 with sequence number 0\n",
      "INFO:qu_net_sim:host_1 received ACK with sequence number 0\n",
      "INFO:qu_net_sim:QPU_0 received ACK from host_1 with sequence number 0\n"
     ]
    }
   ],
   "source": [
    "t1 = controller_host.run_protocol(\n",
    "    controller_host_protocol_preparation_ansatz,\n",
    "    (q_map, params, terms))\n",
    "\n",
    "threads = []\n",
    "\n",
    "for host in computing_hosts:\n",
    "    threads.append(host.run_protocol(computing_host_protocol))\n",
    "\n",
    "t1.join()\n",
    "for thread in threads:\n",
    "    thread.join()"
   ]
  },
  {
   "cell_type": "code",
   "execution_count": 20,
   "metadata": {},
   "outputs": [
    {
     "data": {
      "text/plain": [
       "4"
      ]
     },
     "execution_count": 20,
     "metadata": {},
     "output_type": "execute_result"
    }
   ],
   "source": [
    "clock.ticks"
   ]
  },
  {
   "cell_type": "code",
   "execution_count": 21,
   "metadata": {},
   "outputs": [
    {
     "name": "stderr",
     "output_type": "stream",
     "text": [
      "INFO:qu_net_sim:host_1 sends BROADCAST message\n",
      "INFO:qu_net_sim:sending ACK:2 from QPU_2 to host_1\n",
      "INFO:qu_net_sim:sending ACK:2 from QPU_0 to host_1\n",
      "INFO:qu_net_sim:sending ACK:2 from QPU_1 to host_1\n",
      "INFO:qu_net_sim:QPU_2 received {\"QPU_0\": [{\"name\": \"REC_HAMILTON\", \"qids\": null, \"cids\": null, \"gate\": null, \"gate_param\": null, \"computing_host_ids\": [\"QPU_0\"], \"pre_allocated_qubits\": false, \"hamiltonian\": [[-0.04207897647782276, [[\"Identity\", 0]]], [0.17771287465139946, [[\"PauliZ\", 0]]], [0.1777128746513994, [[\"PauliZ\", 1]]], [-0.24274280513140462, [[\"PauliZ\", 2]]], [-0.24274280513140462, [[\"PauliZ\", 3]]]], \"layer_end\": 4}], \"QPU_1\": [{\"name\": \"REC_HAMILTON\", \"qids\": null, \"cids\": null, \"gate\": null, \"gate_param\": null, \"computing_host_ids\": [\"QPU_1\"], \"pre_allocated_qubits\": false, \"hamiltonian\": [[0.17059738328801052, [[\"PauliZ\", 0], [\"PauliZ\", 1]]], [0.04475014401535161, [[\"PauliY\", 0], [\"PauliX\", 1], [\"PauliX\", 2], [\"PauliY\", 3]]], [-0.04475014401535161, [[\"PauliY\", 0], [\"PauliY\", 1], [\"PauliX\", 2], [\"PauliX\", 3]]], [-0.04475014401535161, [[\"PauliX\", 0], [\"PauliX\", 1], [\"PauliY\", 2], [\"PauliY\", 3]]], [0.04475014401535161, [[\"PauliX\", 0], [\"PauliY\", 1], [\"PauliY\", 2], [\"PauliX\", 3]]]], \"layer_end\": 4}], \"QPU_2\": [{\"name\": \"REC_HAMILTON\", \"qids\": null, \"cids\": null, \"gate\": null, \"gate_param\": null, \"computing_host_ids\": [\"QPU_2\"], \"pre_allocated_qubits\": false, \"hamiltonian\": [[0.12293305056183798, [[\"PauliZ\", 0], [\"PauliZ\", 2]]], [0.1676831945771896, [[\"PauliZ\", 0], [\"PauliZ\", 3]]], [0.1676831945771896, [[\"PauliZ\", 1], [\"PauliZ\", 2]]], [0.12293305056183798, [[\"PauliZ\", 1], [\"PauliZ\", 3]]], [0.17627640804319591, [[\"PauliZ\", 2], [\"PauliZ\", 3]]]], \"layer_end\": 4}]} with sequence number 1\n",
      "INFO:qu_net_sim:host_1 received ACK from QPU_2 with sequence number 1\n",
      "INFO:qu_net_sim:QPU_2 sends CLASSICAL to host_1 with sequence 1\n",
      "INFO:qu_net_sim:host_1 received ACK from QPU_0 with sequence number 1\n",
      "INFO:qu_net_sim:QPU_1 received {\"QPU_0\": [{\"name\": \"REC_HAMILTON\", \"qids\": null, \"cids\": null, \"gate\": null, \"gate_param\": null, \"computing_host_ids\": [\"QPU_0\"], \"pre_allocated_qubits\": false, \"hamiltonian\": [[-0.04207897647782276, [[\"Identity\", 0]]], [0.17771287465139946, [[\"PauliZ\", 0]]], [0.1777128746513994, [[\"PauliZ\", 1]]], [-0.24274280513140462, [[\"PauliZ\", 2]]], [-0.24274280513140462, [[\"PauliZ\", 3]]]], \"layer_end\": 4}], \"QPU_1\": [{\"name\": \"REC_HAMILTON\", \"qids\": null, \"cids\": null, \"gate\": null, \"gate_param\": null, \"computing_host_ids\": [\"QPU_1\"], \"pre_allocated_qubits\": false, \"hamiltonian\": [[0.17059738328801052, [[\"PauliZ\", 0], [\"PauliZ\", 1]]], [0.04475014401535161, [[\"PauliY\", 0], [\"PauliX\", 1], [\"PauliX\", 2], [\"PauliY\", 3]]], [-0.04475014401535161, [[\"PauliY\", 0], [\"PauliY\", 1], [\"PauliX\", 2], [\"PauliX\", 3]]], [-0.04475014401535161, [[\"PauliX\", 0], [\"PauliX\", 1], [\"PauliY\", 2], [\"PauliY\", 3]]], [0.04475014401535161, [[\"PauliX\", 0], [\"PauliY\", 1], [\"PauliY\", 2], [\"PauliX\", 3]]]], \"layer_end\": 4}], \"QPU_2\": [{\"name\": \"REC_HAMILTON\", \"qids\": null, \"cids\": null, \"gate\": null, \"gate_param\": null, \"computing_host_ids\": [\"QPU_2\"], \"pre_allocated_qubits\": false, \"hamiltonian\": [[0.12293305056183798, [[\"PauliZ\", 0], [\"PauliZ\", 2]]], [0.1676831945771896, [[\"PauliZ\", 0], [\"PauliZ\", 3]]], [0.1676831945771896, [[\"PauliZ\", 1], [\"PauliZ\", 2]]], [0.12293305056183798, [[\"PauliZ\", 1], [\"PauliZ\", 3]]], [0.17627640804319591, [[\"PauliZ\", 2], [\"PauliZ\", 3]]]], \"layer_end\": 4}]} with sequence number 1\n",
      "INFO:qu_net_sim:QPU_1 sends CLASSICAL to host_1 with sequence 1\n",
      "INFO:qu_net_sim:QPU_0 received {\"QPU_0\": [{\"name\": \"REC_HAMILTON\", \"qids\": null, \"cids\": null, \"gate\": null, \"gate_param\": null, \"computing_host_ids\": [\"QPU_0\"], \"pre_allocated_qubits\": false, \"hamiltonian\": [[-0.04207897647782276, [[\"Identity\", 0]]], [0.17771287465139946, [[\"PauliZ\", 0]]], [0.1777128746513994, [[\"PauliZ\", 1]]], [-0.24274280513140462, [[\"PauliZ\", 2]]], [-0.24274280513140462, [[\"PauliZ\", 3]]]], \"layer_end\": 4}], \"QPU_1\": [{\"name\": \"REC_HAMILTON\", \"qids\": null, \"cids\": null, \"gate\": null, \"gate_param\": null, \"computing_host_ids\": [\"QPU_1\"], \"pre_allocated_qubits\": false, \"hamiltonian\": [[0.17059738328801052, [[\"PauliZ\", 0], [\"PauliZ\", 1]]], [0.04475014401535161, [[\"PauliY\", 0], [\"PauliX\", 1], [\"PauliX\", 2], [\"PauliY\", 3]]], [-0.04475014401535161, [[\"PauliY\", 0], [\"PauliY\", 1], [\"PauliX\", 2], [\"PauliX\", 3]]], [-0.04475014401535161, [[\"PauliX\", 0], [\"PauliX\", 1], [\"PauliY\", 2], [\"PauliY\", 3]]], [0.04475014401535161, [[\"PauliX\", 0], [\"PauliY\", 1], [\"PauliY\", 2], [\"PauliX\", 3]]]], \"layer_end\": 4}], \"QPU_2\": [{\"name\": \"REC_HAMILTON\", \"qids\": null, \"cids\": null, \"gate\": null, \"gate_param\": null, \"computing_host_ids\": [\"QPU_2\"], \"pre_allocated_qubits\": false, \"hamiltonian\": [[0.12293305056183798, [[\"PauliZ\", 0], [\"PauliZ\", 2]]], [0.1676831945771896, [[\"PauliZ\", 0], [\"PauliZ\", 3]]], [0.1676831945771896, [[\"PauliZ\", 1], [\"PauliZ\", 2]]], [0.12293305056183798, [[\"PauliZ\", 1], [\"PauliZ\", 3]]], [0.17627640804319591, [[\"PauliZ\", 2], [\"PauliZ\", 3]]]], \"layer_end\": 4}]} with sequence number 1\n",
      "INFO:qu_net_sim:QPU_0 sends CLASSICAL to host_1 with sequence 1\n",
      "INFO:qu_net_sim:host_1 received ACK from QPU_1 with sequence number 1\n",
      "INFO:qu_net_sim:QPU_2 awaits classical ACK from host_1 with sequence 1\n",
      "INFO:qu_net_sim:sending ACK:2 from host_1 to QPU_2\n",
      "INFO:qu_net_sim:QPU_1 awaits classical ACK from host_1 with sequence 1\n",
      "INFO:qu_net_sim:sending ACK:2 from host_1 to QPU_1\n",
      "INFO:qu_net_sim:QPU_0 awaits classical ACK from host_1 with sequence 1\n",
      "INFO:qu_net_sim:sending ACK:2 from host_1 to QPU_0\n",
      "INFO:qu_net_sim:host_1 received ACK with sequence number 1\n",
      "INFO:qu_net_sim:QPU_2 received ACK from host_1 with sequence number 1\n",
      "INFO:qu_net_sim:host_1 received ACK with sequence number 1\n",
      "INFO:qu_net_sim:QPU_1 received ACK from host_1 with sequence number 1\n",
      "INFO:qu_net_sim:host_1 received ACK with sequence number 1\n",
      "INFO:qu_net_sim:QPU_0 received ACK from host_1 with sequence number 1\n"
     ]
    }
   ],
   "source": [
    "t1 = controller_host.run_protocol(\n",
    "    controller_host_protocol_expectation_schedule,\n",
    "    (q_map, terms))\n",
    "\n",
    "threads = []\n",
    "\n",
    "for host in computing_hosts:\n",
    "    threads.append(host.run_protocol(computing_host_protocol))\n",
    "\n",
    "t1.join()\n",
    "for thread in threads:\n",
    "    thread.join()"
   ]
  },
  {
   "cell_type": "code",
   "execution_count": 22,
   "metadata": {},
   "outputs": [
    {
     "data": {
      "text/plain": [
       "6"
      ]
     },
     "execution_count": 22,
     "metadata": {},
     "output_type": "execute_result"
    }
   ],
   "source": [
    "clock.ticks"
   ]
  },
  {
   "cell_type": "code",
   "execution_count": 23,
   "metadata": {},
   "outputs": [
    {
     "name": "stderr",
     "output_type": "stream",
     "text": [
      "INFO:qu_net_sim:host_1 sends BROADCAST message\n",
      "INFO:qu_net_sim:sending ACK:3 from QPU_0 to host_1\n",
      "INFO:qu_net_sim:sending ACK:3 from QPU_1 to host_1\n",
      "INFO:qu_net_sim:sending ACK:3 from QPU_2 to host_1\n",
      "INFO:qu_net_sim:QPU_0 received {\"QPU_0\": [{\"name\": \"SEND_EXP\", \"qids\": null, \"cids\": null, \"gate\": null, \"gate_param\": null, \"computing_host_ids\": [\"QPU_0\"], \"pre_allocated_qubits\": false, \"layer_end\": 6}], \"QPU_1\": [{\"name\": \"SEND_EXP\", \"qids\": null, \"cids\": null, \"gate\": null, \"gate_param\": null, \"computing_host_ids\": [\"QPU_1\"], \"pre_allocated_qubits\": false, \"layer_end\": 6}], \"QPU_2\": [{\"name\": \"SEND_EXP\", \"qids\": null, \"cids\": null, \"gate\": null, \"gate_param\": null, \"computing_host_ids\": [\"QPU_2\"], \"pre_allocated_qubits\": false, \"layer_end\": 6}]} with sequence number 2\n",
      "INFO:qu_net_sim:QPU_0 sends CLASSICAL to host_1 with sequence 2\n",
      "INFO:qu_net_sim:host_1 received ACK from QPU_0 with sequence number 2\n",
      "INFO:qu_net_sim:host_1 received ACK from QPU_1 with sequence number 2\n",
      "INFO:qu_net_sim:QPU_1 received {\"QPU_0\": [{\"name\": \"SEND_EXP\", \"qids\": null, \"cids\": null, \"gate\": null, \"gate_param\": null, \"computing_host_ids\": [\"QPU_0\"], \"pre_allocated_qubits\": false, \"layer_end\": 6}], \"QPU_1\": [{\"name\": \"SEND_EXP\", \"qids\": null, \"cids\": null, \"gate\": null, \"gate_param\": null, \"computing_host_ids\": [\"QPU_1\"], \"pre_allocated_qubits\": false, \"layer_end\": 6}], \"QPU_2\": [{\"name\": \"SEND_EXP\", \"qids\": null, \"cids\": null, \"gate\": null, \"gate_param\": null, \"computing_host_ids\": [\"QPU_2\"], \"pre_allocated_qubits\": false, \"layer_end\": 6}]} with sequence number 2\n",
      "INFO:qu_net_sim:QPU_1 sends CLASSICAL to host_1 with sequence 2\n",
      "INFO:qu_net_sim:QPU_2 received {\"QPU_0\": [{\"name\": \"SEND_EXP\", \"qids\": null, \"cids\": null, \"gate\": null, \"gate_param\": null, \"computing_host_ids\": [\"QPU_0\"], \"pre_allocated_qubits\": false, \"layer_end\": 6}], \"QPU_1\": [{\"name\": \"SEND_EXP\", \"qids\": null, \"cids\": null, \"gate\": null, \"gate_param\": null, \"computing_host_ids\": [\"QPU_1\"], \"pre_allocated_qubits\": false, \"layer_end\": 6}], \"QPU_2\": [{\"name\": \"SEND_EXP\", \"qids\": null, \"cids\": null, \"gate\": null, \"gate_param\": null, \"computing_host_ids\": [\"QPU_2\"], \"pre_allocated_qubits\": false, \"layer_end\": 6}]} with sequence number 2\n",
      "INFO:qu_net_sim:host_1 received ACK from QPU_2 with sequence number 2\n",
      "INFO:qu_net_sim:QPU_2 sends CLASSICAL to host_1 with sequence 2\n",
      "INFO:qu_net_sim:QPU_0 awaits classical ACK from host_1 with sequence 2\n",
      "INFO:qu_net_sim:sending ACK:3 from host_1 to QPU_0\n",
      "INFO:qu_net_sim:QPU_1 awaits classical ACK from host_1 with sequence 2\n",
      "INFO:qu_net_sim:sending ACK:3 from host_1 to QPU_1\n",
      "INFO:qu_net_sim:QPU_2 awaits classical ACK from host_1 with sequence 2\n",
      "INFO:qu_net_sim:sending ACK:3 from host_1 to QPU_2\n",
      "INFO:qu_net_sim:host_1 received ACK with sequence number 2\n",
      "INFO:qu_net_sim:QPU_0 received ACK from host_1 with sequence number 2\n",
      "INFO:qu_net_sim:host_1 received ACK with sequence number 2\n",
      "INFO:qu_net_sim:QPU_1 received ACK from host_1 with sequence number 2\n",
      "INFO:qu_net_sim:host_1 received ACK with sequence number 2\n",
      "INFO:qu_net_sim:QPU_2 received ACK from host_1 with sequence number 2\n",
      "INFO:qu_net_sim:QPU_2 sends CLASSICAL to host_1 with sequence 3\n",
      "INFO:qu_net_sim:QPU_2 awaits classical ACK from host_1 with sequence 3\n",
      "INFO:qu_net_sim:sending ACK:4 from host_1 to QPU_2\n",
      "INFO:qu_net_sim:host_1 received {\"QPU_2\": {\"type\": \"expectation_value\", \"bits\": -0.3671466146414246}} with sequence number 3\n",
      "INFO:qu_net_sim:QPU_2 received ACK from host_1 with sequence number 3\n",
      "INFO:qu_net_sim:QPU_0 sends CLASSICAL to host_1 with sequence 3\n",
      "INFO:qu_net_sim:QPU_0 awaits classical ACK from host_1 with sequence 3\n",
      "INFO:qu_net_sim:sending ACK:4 from host_1 to QPU_0\n",
      "INFO:qu_net_sim:host_1 received {\"QPU_0\": {\"type\": \"expectation_value\", \"bits\": 0.32072833505209875}} with sequence number 3\n",
      "INFO:qu_net_sim:QPU_0 received ACK from host_1 with sequence number 3\n",
      "INFO:qu_net_sim:QPU_1 sends CLASSICAL to host_1 with sequence 3\n",
      "INFO:qu_net_sim:QPU_1 awaits classical ACK from host_1 with sequence 3\n",
      "INFO:qu_net_sim:sending ACK:4 from host_1 to QPU_1\n",
      "INFO:qu_net_sim:host_1 received {\"QPU_1\": {\"type\": \"expectation_value\", \"bits\": -0.15644186762998807}} with sequence number 3\n",
      "INFO:qu_net_sim:QPU_1 received ACK from host_1 with sequence number 3\n"
     ]
    }
   ],
   "source": [
    "t1 = controller_host.run_protocol(\n",
    "    controller_host_protocol_expectation_collection,\n",
    "    (q_map, terms))\n",
    "\n",
    "threads = []\n",
    "\n",
    "for host in computing_hosts:\n",
    "    threads.append(host.run_protocol(computing_host_protocol_send_results))\n",
    "\n",
    "t1.join()\n",
    "for thread in threads:\n",
    "    thread.join()"
   ]
  },
  {
   "cell_type": "code",
   "execution_count": 24,
   "metadata": {},
   "outputs": [
    {
     "data": {
      "text/plain": [
       "{'QPU_0': {'type': 'expectation_value', 'bits': 0.32072833505209875},\n",
       " 'QPU_1': {'type': 'expectation_value', 'bits': -0.15644186762998807},\n",
       " 'QPU_2': {'type': 'expectation_value', 'bits': -0.3671466146414246}}"
      ]
     },
     "execution_count": 24,
     "metadata": {},
     "output_type": "execute_result"
    }
   ],
   "source": [
    "controller_host.results"
   ]
  },
  {
   "cell_type": "code",
   "execution_count": 25,
   "metadata": {},
   "outputs": [
    {
     "data": {
      "text/plain": [
       "8"
      ]
     },
     "execution_count": 25,
     "metadata": {},
     "output_type": "execute_result"
    }
   ],
   "source": [
    "clock.ticks"
   ]
  },
  {
   "cell_type": "markdown",
   "metadata": {},
   "source": [
    "## Optimise"
   ]
  },
  {
   "cell_type": "markdown",
   "metadata": {},
   "source": [
    "Since the scheduler of the controller host has to be run for each submitted circuit, it is more efficient to put the whole quantum circuit into one Circuit object."
   ]
  },
  {
   "cell_type": "code",
   "execution_count": 26,
   "metadata": {},
   "outputs": [],
   "source": [
    "def vqe_circuit(host, q_map, parameters):\n",
    "    layers = []\n",
    "    host_id = list(q_map.keys())\n",
    "    \n",
    "    # Initialise the qubits on the computing host\n",
    "    layers = layers + initialisation_operations(q_map)\n",
    "    \n",
    "    # Apply the ansatz\n",
    "    layers = layers + ansatz_operations(q_map, parameters)\n",
    "    \n",
    "    # Send the schedults\n",
    "    layers = layers + dispatch_hamiltonian_schedules(host, q_map)\n",
    "    \n",
    "    # Ask for the values\n",
    "    layers = layers + ask_for_expectation_values(q_map)\n",
    "    \n",
    "    circuit = Circuit(q_map, layers)\n",
    "    return circuit"
   ]
  },
  {
   "cell_type": "code",
   "execution_count": 27,
   "metadata": {},
   "outputs": [],
   "source": [
    "def controller_host_protocol_schedules(host, q_map, params, terms):\n",
    "    host.schedule_expectation_terms(terms, q_map)\n",
    "    \n",
    "    monolithic_circuit = vqe_circuit(host, q_map, params)\n",
    "\n",
    "    host.generate_and_send_schedules(monolithic_circuit)"
   ]
  },
  {
   "cell_type": "code",
   "execution_count": 28,
   "metadata": {},
   "outputs": [],
   "source": [
    "def controller_host_protocol_get_final_results(host, q_map, params):\n",
    "    host.receive_results()"
   ]
  },
  {
   "cell_type": "code",
   "execution_count": 29,
   "metadata": {},
   "outputs": [],
   "source": [
    "def computing_host_protocol_receive_schedules(host):\n",
    "    host.receive_schedule()"
   ]
  },
  {
   "cell_type": "code",
   "execution_count": 30,
   "metadata": {},
   "outputs": [],
   "source": [
    "def computing_host_protocol_send_final_results(host):\n",
    "    host.send_results('expectation')"
   ]
  },
  {
   "cell_type": "code",
   "execution_count": 35,
   "metadata": {},
   "outputs": [],
   "source": [
    "import time\n",
    "def cost_fn(params):\n",
    "    params = params.reshape(4, 3)\n",
    "    \n",
    "    network = Network.get_instance()\n",
    "    network.delay = 0\n",
    "    network.start()\n",
    "\n",
    "    clock = Clock()\n",
    "\n",
    "    qutip = QuTipBackend()\n",
    "\n",
    "    controller_host = ControllerHost(\n",
    "        host_id=\"host_1\",\n",
    "        clock=clock,\n",
    "        backend=qutip\n",
    "    )\n",
    "\n",
    "    computing_hosts, q_map = controller_host.create_distributed_network(\n",
    "        num_computing_hosts=2,\n",
    "        num_qubits_per_host=4)\n",
    "    \n",
    "    controller_host.start()\n",
    "\n",
    "    network.add_hosts(computing_hosts)\n",
    "    network.add_hosts([controller_host])\n",
    "    \n",
    "    #############################################################\n",
    "    \n",
    "    t1 = controller_host.run_protocol(controller_host_protocol_schedules, (q_map, params, terms))\n",
    "    \n",
    "    threads = []\n",
    "\n",
    "    for host in computing_hosts:\n",
    "        threads.append(host.run_protocol(computing_host_protocol_receive_schedules))\n",
    "\n",
    "    t1.join()\n",
    "    for thread in threads:\n",
    "        thread.join()\n",
    "        \n",
    "    #############################################################\n",
    "    \n",
    "    t1 = controller_host.run_protocol(controller_host_protocol_get_final_results, (q_map, params))\n",
    "    \n",
    "    threads = []\n",
    "\n",
    "    for host in computing_hosts:\n",
    "        threads.append(host.run_protocol(computing_host_protocol_send_final_results))\n",
    "\n",
    "    t1.join()\n",
    "    for thread in threads:\n",
    "        thread.join()\n",
    "        \n",
    "    #############################################################\n",
    "    \n",
    "    for host in computing_hosts:\n",
    "        network.remove_host(host)\n",
    "    network.remove_host(controller_host)\n",
    "    \n",
    "    total_exp = 0\n",
    "    for host in controller_host.computing_host_ids:\n",
    "        total_exp += controller_host.results[host]['bits']\n",
    "    \n",
    "    return total_exp"
   ]
  },
  {
   "cell_type": "code",
   "execution_count": 36,
   "metadata": {},
   "outputs": [
    {
     "data": {
      "text/plain": [
       "tensor([[-0.18798618, -1.8036649 ,  0.82452316],\n",
       "        [ 1.61004419, -4.95635388, -2.77089489],\n",
       "        [ 4.79166131, -0.51818046,  2.68272301],\n",
       "        [ 3.21900415, -0.92974351, -2.87420265]], requires_grad=True)"
      ]
     },
     "execution_count": 36,
     "metadata": {},
     "output_type": "execute_result"
    }
   ],
   "source": [
    "# np.random.seed(0)\n",
    "params = np.random.normal(0, np.pi, (4, 3))\n",
    "\n",
    "params"
   ]
  },
  {
   "cell_type": "code",
   "execution_count": 34,
   "metadata": {},
   "outputs": [
    {
     "name": "stderr",
     "output_type": "stream",
     "text": [
      "INFO:qu_net_sim:Host QPU_0 started processing\n",
      "INFO:qu_net_sim:Host QPU_1 started processing\n",
      "INFO:qu_net_sim:Host host_1 started processing\n",
      "INFO:qu_net_sim:host_1 sends BROADCAST message\n",
      "INFO:qu_net_sim:sending ACK:1 from QPU_1 to host_1\n",
      "INFO:qu_net_sim:sending ACK:1 from QPU_0 to host_1\n",
      "INFO:qu_net_sim:sending ACK:1 from QPU_2 to host_1\n",
      "INFO:qu_net_sim:host_1 received ACK from QPU_1 with sequence number 0\n",
      "INFO:qu_net_sim:QPU_1 received {\"QPU_0\": [{\"name\": \"PREPARE_QUBITS\", \"qids\": [\"q_0_0\", \"q_0_1\", \"q_0_2\", \"q_0_3\"], \"cids\": null, \"gate\": null, \"gate_param\": null, \"computing_host_ids\": [\"QPU_0\"], \"pre_allocated_qubits\": false, \"layer_end\": 0}, {\"name\": \"SINGLE\", \"qids\": [\"q_0_0\"], \"cids\": null, \"gate\": \"X\", \"gate_param\": null, \"computing_host_ids\": [\"QPU_0\"], \"pre_allocated_qubits\": false, \"layer_end\": 0}, {\"name\": \"SINGLE\", \"qids\": [\"q_0_1\"], \"cids\": null, \"gate\": \"X\", \"gate_param\": null, \"computing_host_ids\": [\"QPU_0\"], \"pre_allocated_qubits\": false, \"layer_end\": 0}, {\"name\": \"SINGLE\", \"qids\": [\"q_0_0\"], \"cids\": null, \"gate\": \"custom_gate\", \"gate_param\": [[[-0.9711634352896334, 0.17974338033198173], [-0.13602207893064863, -0.07766526396436721]], [[0.13602207893064863, -0.07766526396436721], [-0.9711634352896334, -0.17974338033198173]]], \"computing_host_ids\": [\"QPU_0\"], \"pre_allocated_qubits\": false, \"layer_end\": 1}, {\"name\": \"SINGLE\", \"qids\": [\"q_0_1\"], \"cids\": null, \"gate\": \"custom_gate\", \"gate_param\": [[[0.3966036712047516, 0.914505845585713], [0.07527961928319926, -0.02678740930082763]], [[-0.07527961928319926, -0.02678740930082763], [0.3966036712047516, -0.914505845585713]]], \"computing_host_ids\": [\"QPU_0\"], \"pre_allocated_qubits\": false, \"layer_end\": 1}, {\"name\": \"SINGLE\", \"qids\": [\"q_0_2\"], \"cids\": null, \"gate\": \"custom_gate\", \"gate_param\": [[[0.0784230202367736, -0.2750259731410463], [-0.6879071880646498, -0.667078889340496]], [[0.6879071880646498, -0.667078889340496], [0.0784230202367736, 0.2750259731410463]]], \"computing_host_ids\": [\"QPU_0\"], \"pre_allocated_qubits\": false, \"layer_end\": 1}, {\"name\": \"SINGLE\", \"qids\": [\"q_0_3\"], \"cids\": null, \"gate\": \"custom_gate\", \"gate_param\": [[[-0.9941906906429542, 0.1075071866490732], [-0.005104410548243971, 0.0010101735702667505]], [[0.005104410548243971, 0.0010101735702667505], [-0.9941906906429542, -0.1075071866490732]]], \"computing_host_ids\": [\"QPU_0\"], \"pre_allocated_qubits\": false, \"layer_end\": 1}, {\"name\": \"TWO_QUBIT\", \"qids\": [\"q_0_2\", \"q_0_3\"], \"cids\": null, \"gate\": \"cnot\", \"gate_param\": null, \"computing_host_ids\": [\"QPU_0\"], \"pre_allocated_qubits\": false, \"layer_end\": 2}, {\"name\": \"TWO_QUBIT\", \"qids\": [\"q_0_2\", \"q_0_0\"], \"cids\": null, \"gate\": \"cnot\", \"gate_param\": null, \"computing_host_ids\": [\"QPU_0\"], \"pre_allocated_qubits\": false, \"layer_end\": 2}, {\"name\": \"TWO_QUBIT\", \"qids\": [\"q_0_3\", \"q_0_1\"], \"cids\": null, \"gate\": \"cnot\", \"gate_param\": null, \"computing_host_ids\": [\"QPU_0\"], \"pre_allocated_qubits\": false, \"layer_end\": 2}, {\"name\": \"REC_HAMILTON\", \"qids\": null, \"cids\": null, \"gate\": null, \"gate_param\": null, \"computing_host_ids\": [\"QPU_0\"], \"pre_allocated_qubits\": false, \"hamiltonian\": [[-0.04207897647782276, [[\"Identity\", 0]]], [0.17771287465139946, [[\"PauliZ\", 0]]], [0.1777128746513994, [[\"PauliZ\", 1]]], [-0.24274280513140462, [[\"PauliZ\", 2]]], [-0.24274280513140462, [[\"PauliZ\", 3]]], [0.17059738328801052, [[\"PauliZ\", 0], [\"PauliZ\", 1]]], [0.04475014401535161, [[\"PauliY\", 0], [\"PauliX\", 1], [\"PauliX\", 2], [\"PauliY\", 3]]], [-0.04207897647782276, [[\"Identity\", 0]]]], \"layer_end\": 3}, {\"name\": \"SEND_EXP\", \"qids\": null, \"cids\": null, \"gate\": null, \"gate_param\": null, \"computing_host_ids\": [\"QPU_0\"], \"pre_allocated_qubits\": false, \"layer_end\": 4}], \"QPU_1\": [{\"name\": \"PREPARE_QUBITS\", \"qids\": [\"q_1_0\", \"q_1_1\", \"q_1_2\", \"q_1_3\"], \"cids\": null, \"gate\": null, \"gate_param\": null, \"computing_host_ids\": [\"QPU_1\"], \"pre_allocated_qubits\": false, \"layer_end\": 0}, {\"name\": \"SINGLE\", \"qids\": [\"q_1_0\"], \"cids\": null, \"gate\": \"X\", \"gate_param\": null, \"computing_host_ids\": [\"QPU_1\"], \"pre_allocated_qubits\": false, \"layer_end\": 0}, {\"name\": \"SINGLE\", \"qids\": [\"q_1_1\"], \"cids\": null, \"gate\": \"X\", \"gate_param\": null, \"computing_host_ids\": [\"QPU_1\"], \"pre_allocated_qubits\": false, \"layer_end\": 0}, {\"name\": \"SINGLE\", \"qids\": [\"q_1_0\"], \"cids\": null, \"gate\": \"custom_gate\", \"gate_param\": [[[-0.9711634352896334, 0.17974338033198173], [-0.13602207893064863, -0.07766526396436721]], [[0.13602207893064863, -0.07766526396436721], [-0.9711634352896334, -0.17974338033198173]]], \"computing_host_ids\": [\"QPU_1\"], \"pre_allocated_qubits\": false, \"layer_end\": 1}, {\"name\": \"SINGLE\", \"qids\": [\"q_1_1\"], \"cids\": null, \"gate\": \"custom_gate\", \"gate_param\": [[[0.3966036712047516, 0.914505845585713], [0.07527961928319926, -0.02678740930082763]], [[-0.07527961928319926, -0.02678740930082763], [0.3966036712047516, -0.914505845585713]]], \"computing_host_ids\": [\"QPU_1\"], \"pre_allocated_qubits\": false, \"layer_end\": 1}, {\"name\": \"SINGLE\", \"qids\": [\"q_1_2\"], \"cids\": null, \"gate\": \"custom_gate\", \"gate_param\": [[[0.0784230202367736, -0.2750259731410463], [-0.6879071880646498, -0.667078889340496]], [[0.6879071880646498, -0.667078889340496], [0.0784230202367736, 0.2750259731410463]]], \"computing_host_ids\": [\"QPU_1\"], \"pre_allocated_qubits\": false, \"layer_end\": 1}, {\"name\": \"SINGLE\", \"qids\": [\"q_1_3\"], \"cids\": null, \"gate\": \"custom_gate\", \"gate_param\": [[[-0.9941906906429542, 0.1075071866490732], [-0.005104410548243971, 0.0010101735702667505]], [[0.005104410548243971, 0.0010101735702667505], [-0.9941906906429542, -0.1075071866490732]]], \"computing_host_ids\": [\"QPU_1\"], \"pre_allocated_qubits\": false, \"layer_end\": 1}, {\"name\": \"TWO_QUBIT\", \"qids\": [\"q_1_2\", \"q_1_3\"], \"cids\": null, \"gate\": \"cnot\", \"gate_param\": null, \"computing_host_ids\": [\"QPU_1\"], \"pre_allocated_qubits\": false, \"layer_end\": 2}, {\"name\": \"TWO_QUBIT\", \"qids\": [\"q_1_2\", \"q_1_0\"], \"cids\": null, \"gate\": \"cnot\", \"gate_param\": null, \"computing_host_ids\": [\"QPU_1\"], \"pre_allocated_qubits\": false, \"layer_end\": 2}, {\"name\": \"TWO_QUBIT\", \"qids\": [\"q_1_3\", \"q_1_1\"], \"cids\": null, \"gate\": \"cnot\", \"gate_param\": null, \"computing_host_ids\": [\"QPU_1\"], \"pre_allocated_qubits\": false, \"layer_end\": 2}, {\"name\": \"REC_HAMILTON\", \"qids\": null, \"cids\": null, \"gate\": null, \"gate_param\": null, \"computing_host_ids\": [\"QPU_1\"], \"pre_allocated_qubits\": false, \"hamiltonian\": [[-0.04475014401535161, [[\"PauliY\", 0], [\"PauliY\", 1], [\"PauliX\", 2], [\"PauliX\", 3]]], [-0.04475014401535161, [[\"PauliX\", 0], [\"PauliX\", 1], [\"PauliY\", 2], [\"PauliY\", 3]]], [0.04475014401535161, [[\"PauliX\", 0], [\"PauliY\", 1], [\"PauliY\", 2], [\"PauliX\", 3]]], [0.12293305056183798, [[\"PauliZ\", 0], [\"PauliZ\", 2]]], [0.1676831945771896, [[\"PauliZ\", 0], [\"PauliZ\", 3]]], [0.1676831945771896, [[\"PauliZ\", 1], [\"PauliZ\", 2]]], [0.12293305056183798, [[\"PauliZ\", 1], [\"PauliZ\", 3]]]], \"layer_end\": 3}, {\"name\": \"SEND_EXP\", \"qids\": null, \"cids\": null, \"gate\": null, \"gate_param\": null, \"computing_host_ids\": [\"QPU_1\"], \"pre_allocated_qubits\": false, \"layer_end\": 4}]} with sequence number 0\n",
      "INFO:qu_net_sim:QPU_1 sends CLASSICAL to host_1 with sequence 0\n",
      "INFO:qu_net_sim:QPU_0 received {\"QPU_0\": [{\"name\": \"PREPARE_QUBITS\", \"qids\": [\"q_0_0\", \"q_0_1\", \"q_0_2\", \"q_0_3\"], \"cids\": null, \"gate\": null, \"gate_param\": null, \"computing_host_ids\": [\"QPU_0\"], \"pre_allocated_qubits\": false, \"layer_end\": 0}, {\"name\": \"SINGLE\", \"qids\": [\"q_0_0\"], \"cids\": null, \"gate\": \"X\", \"gate_param\": null, \"computing_host_ids\": [\"QPU_0\"], \"pre_allocated_qubits\": false, \"layer_end\": 0}, {\"name\": \"SINGLE\", \"qids\": [\"q_0_1\"], \"cids\": null, \"gate\": \"X\", \"gate_param\": null, \"computing_host_ids\": [\"QPU_0\"], \"pre_allocated_qubits\": false, \"layer_end\": 0}, {\"name\": \"SINGLE\", \"qids\": [\"q_0_0\"], \"cids\": null, \"gate\": \"custom_gate\", \"gate_param\": [[[-0.9711634352896334, 0.17974338033198173], [-0.13602207893064863, -0.07766526396436721]], [[0.13602207893064863, -0.07766526396436721], [-0.9711634352896334, -0.17974338033198173]]], \"computing_host_ids\": [\"QPU_0\"], \"pre_allocated_qubits\": false, \"layer_end\": 1}, {\"name\": \"SINGLE\", \"qids\": [\"q_0_1\"], \"cids\": null, \"gate\": \"custom_gate\", \"gate_param\": [[[0.3966036712047516, 0.914505845585713], [0.07527961928319926, -0.02678740930082763]], [[-0.07527961928319926, -0.02678740930082763], [0.3966036712047516, -0.914505845585713]]], \"computing_host_ids\": [\"QPU_0\"], \"pre_allocated_qubits\": false, \"layer_end\": 1}, {\"name\": \"SINGLE\", \"qids\": [\"q_0_2\"], \"cids\": null, \"gate\": \"custom_gate\", \"gate_param\": [[[0.0784230202367736, -0.2750259731410463], [-0.6879071880646498, -0.667078889340496]], [[0.6879071880646498, -0.667078889340496], [0.0784230202367736, 0.2750259731410463]]], \"computing_host_ids\": [\"QPU_0\"], \"pre_allocated_qubits\": false, \"layer_end\": 1}, {\"name\": \"SINGLE\", \"qids\": [\"q_0_3\"], \"cids\": null, \"gate\": \"custom_gate\", \"gate_param\": [[[-0.9941906906429542, 0.1075071866490732], [-0.005104410548243971, 0.0010101735702667505]], [[0.005104410548243971, 0.0010101735702667505], [-0.9941906906429542, -0.1075071866490732]]], \"computing_host_ids\": [\"QPU_0\"], \"pre_allocated_qubits\": false, \"layer_end\": 1}, {\"name\": \"TWO_QUBIT\", \"qids\": [\"q_0_2\", \"q_0_3\"], \"cids\": null, \"gate\": \"cnot\", \"gate_param\": null, \"computing_host_ids\": [\"QPU_0\"], \"pre_allocated_qubits\": false, \"layer_end\": 2}, {\"name\": \"TWO_QUBIT\", \"qids\": [\"q_0_2\", \"q_0_0\"], \"cids\": null, \"gate\": \"cnot\", \"gate_param\": null, \"computing_host_ids\": [\"QPU_0\"], \"pre_allocated_qubits\": false, \"layer_end\": 2}, {\"name\": \"TWO_QUBIT\", \"qids\": [\"q_0_3\", \"q_0_1\"], \"cids\": null, \"gate\": \"cnot\", \"gate_param\": null, \"computing_host_ids\": [\"QPU_0\"], \"pre_allocated_qubits\": false, \"layer_end\": 2}, {\"name\": \"REC_HAMILTON\", \"qids\": null, \"cids\": null, \"gate\": null, \"gate_param\": null, \"computing_host_ids\": [\"QPU_0\"], \"pre_allocated_qubits\": false, \"hamiltonian\": [[-0.04207897647782276, [[\"Identity\", 0]]], [0.17771287465139946, [[\"PauliZ\", 0]]], [0.1777128746513994, [[\"PauliZ\", 1]]], [-0.24274280513140462, [[\"PauliZ\", 2]]], [-0.24274280513140462, [[\"PauliZ\", 3]]], [0.17059738328801052, [[\"PauliZ\", 0], [\"PauliZ\", 1]]], [0.04475014401535161, [[\"PauliY\", 0], [\"PauliX\", 1], [\"PauliX\", 2], [\"PauliY\", 3]]], [-0.04207897647782276, [[\"Identity\", 0]]]], \"layer_end\": 3}, {\"name\": \"SEND_EXP\", \"qids\": null, \"cids\": null, \"gate\": null, \"gate_param\": null, \"computing_host_ids\": [\"QPU_0\"], \"pre_allocated_qubits\": false, \"layer_end\": 4}], \"QPU_1\": [{\"name\": \"PREPARE_QUBITS\", \"qids\": [\"q_1_0\", \"q_1_1\", \"q_1_2\", \"q_1_3\"], \"cids\": null, \"gate\": null, \"gate_param\": null, \"computing_host_ids\": [\"QPU_1\"], \"pre_allocated_qubits\": false, \"layer_end\": 0}, {\"name\": \"SINGLE\", \"qids\": [\"q_1_0\"], \"cids\": null, \"gate\": \"X\", \"gate_param\": null, \"computing_host_ids\": [\"QPU_1\"], \"pre_allocated_qubits\": false, \"layer_end\": 0}, {\"name\": \"SINGLE\", \"qids\": [\"q_1_1\"], \"cids\": null, \"gate\": \"X\", \"gate_param\": null, \"computing_host_ids\": [\"QPU_1\"], \"pre_allocated_qubits\": false, \"layer_end\": 0}, {\"name\": \"SINGLE\", \"qids\": [\"q_1_0\"], \"cids\": null, \"gate\": \"custom_gate\", \"gate_param\": [[[-0.9711634352896334, 0.17974338033198173], [-0.13602207893064863, -0.07766526396436721]], [[0.13602207893064863, -0.07766526396436721], [-0.9711634352896334, -0.17974338033198173]]], \"computing_host_ids\": [\"QPU_1\"], \"pre_allocated_qubits\": false, \"layer_end\": 1}, {\"name\": \"SINGLE\", \"qids\": [\"q_1_1\"], \"cids\": null, \"gate\": \"custom_gate\", \"gate_param\": [[[0.3966036712047516, 0.914505845585713], [0.07527961928319926, -0.02678740930082763]], [[-0.07527961928319926, -0.02678740930082763], [0.3966036712047516, -0.914505845585713]]], \"computing_host_ids\": [\"QPU_1\"], \"pre_allocated_qubits\": false, \"layer_end\": 1}, {\"name\": \"SINGLE\", \"qids\": [\"q_1_2\"], \"cids\": null, \"gate\": \"custom_gate\", \"gate_param\": [[[0.0784230202367736, -0.2750259731410463], [-0.6879071880646498, -0.667078889340496]], [[0.6879071880646498, -0.667078889340496], [0.0784230202367736, 0.2750259731410463]]], \"computing_host_ids\": [\"QPU_1\"], \"pre_allocated_qubits\": false, \"layer_end\": 1}, {\"name\": \"SINGLE\", \"qids\": [\"q_1_3\"], \"cids\": null, \"gate\": \"custom_gate\", \"gate_param\": [[[-0.9941906906429542, 0.1075071866490732], [-0.005104410548243971, 0.0010101735702667505]], [[0.005104410548243971, 0.0010101735702667505], [-0.9941906906429542, -0.1075071866490732]]], \"computing_host_ids\": [\"QPU_1\"], \"pre_allocated_qubits\": false, \"layer_end\": 1}, {\"name\": \"TWO_QUBIT\", \"qids\": [\"q_1_2\", \"q_1_3\"], \"cids\": null, \"gate\": \"cnot\", \"gate_param\": null, \"computing_host_ids\": [\"QPU_1\"], \"pre_allocated_qubits\": false, \"layer_end\": 2}, {\"name\": \"TWO_QUBIT\", \"qids\": [\"q_1_2\", \"q_1_0\"], \"cids\": null, \"gate\": \"cnot\", \"gate_param\": null, \"computing_host_ids\": [\"QPU_1\"], \"pre_allocated_qubits\": false, \"layer_end\": 2}, {\"name\": \"TWO_QUBIT\", \"qids\": [\"q_1_3\", \"q_1_1\"], \"cids\": null, \"gate\": \"cnot\", \"gate_param\": null, \"computing_host_ids\": [\"QPU_1\"], \"pre_allocated_qubits\": false, \"layer_end\": 2}, {\"name\": \"REC_HAMILTON\", \"qids\": null, \"cids\": null, \"gate\": null, \"gate_param\": null, \"computing_host_ids\": [\"QPU_1\"], \"pre_allocated_qubits\": false, \"hamiltonian\": [[-0.04475014401535161, [[\"PauliY\", 0], [\"PauliY\", 1], [\"PauliX\", 2], [\"PauliX\", 3]]], [-0.04475014401535161, [[\"PauliX\", 0], [\"PauliX\", 1], [\"PauliY\", 2], [\"PauliY\", 3]]], [0.04475014401535161, [[\"PauliX\", 0], [\"PauliY\", 1], [\"PauliY\", 2], [\"PauliX\", 3]]], [0.12293305056183798, [[\"PauliZ\", 0], [\"PauliZ\", 2]]], [0.1676831945771896, [[\"PauliZ\", 0], [\"PauliZ\", 3]]], [0.1676831945771896, [[\"PauliZ\", 1], [\"PauliZ\", 2]]], [0.12293305056183798, [[\"PauliZ\", 1], [\"PauliZ\", 3]]]], \"layer_end\": 3}, {\"name\": \"SEND_EXP\", \"qids\": null, \"cids\": null, \"gate\": null, \"gate_param\": null, \"computing_host_ids\": [\"QPU_1\"], \"pre_allocated_qubits\": false, \"layer_end\": 4}]} with sequence number 0\n"
     ]
    },
    {
     "name": "stderr",
     "output_type": "stream",
     "text": [
      "INFO:qu_net_sim:QPU_0 sends CLASSICAL to host_1 with sequence 0\n",
      "INFO:qu_net_sim:host_1 received ACK from QPU_0 with sequence number 0\n",
      "INFO:qu_net_sim:QPU_2 received {\"QPU_0\": [{\"name\": \"PREPARE_QUBITS\", \"qids\": [\"q_0_0\", \"q_0_1\", \"q_0_2\", \"q_0_3\"], \"cids\": null, \"gate\": null, \"gate_param\": null, \"computing_host_ids\": [\"QPU_0\"], \"pre_allocated_qubits\": false, \"layer_end\": 0}, {\"name\": \"SINGLE\", \"qids\": [\"q_0_0\"], \"cids\": null, \"gate\": \"X\", \"gate_param\": null, \"computing_host_ids\": [\"QPU_0\"], \"pre_allocated_qubits\": false, \"layer_end\": 0}, {\"name\": \"SINGLE\", \"qids\": [\"q_0_1\"], \"cids\": null, \"gate\": \"X\", \"gate_param\": null, \"computing_host_ids\": [\"QPU_0\"], \"pre_allocated_qubits\": false, \"layer_end\": 0}, {\"name\": \"SINGLE\", \"qids\": [\"q_0_0\"], \"cids\": null, \"gate\": \"custom_gate\", \"gate_param\": [[[-0.9711634352896334, 0.17974338033198173], [-0.13602207893064863, -0.07766526396436721]], [[0.13602207893064863, -0.07766526396436721], [-0.9711634352896334, -0.17974338033198173]]], \"computing_host_ids\": [\"QPU_0\"], \"pre_allocated_qubits\": false, \"layer_end\": 1}, {\"name\": \"SINGLE\", \"qids\": [\"q_0_1\"], \"cids\": null, \"gate\": \"custom_gate\", \"gate_param\": [[[0.3966036712047516, 0.914505845585713], [0.07527961928319926, -0.02678740930082763]], [[-0.07527961928319926, -0.02678740930082763], [0.3966036712047516, -0.914505845585713]]], \"computing_host_ids\": [\"QPU_0\"], \"pre_allocated_qubits\": false, \"layer_end\": 1}, {\"name\": \"SINGLE\", \"qids\": [\"q_0_2\"], \"cids\": null, \"gate\": \"custom_gate\", \"gate_param\": [[[0.0784230202367736, -0.2750259731410463], [-0.6879071880646498, -0.667078889340496]], [[0.6879071880646498, -0.667078889340496], [0.0784230202367736, 0.2750259731410463]]], \"computing_host_ids\": [\"QPU_0\"], \"pre_allocated_qubits\": false, \"layer_end\": 1}, {\"name\": \"SINGLE\", \"qids\": [\"q_0_3\"], \"cids\": null, \"gate\": \"custom_gate\", \"gate_param\": [[[-0.9941906906429542, 0.1075071866490732], [-0.005104410548243971, 0.0010101735702667505]], [[0.005104410548243971, 0.0010101735702667505], [-0.9941906906429542, -0.1075071866490732]]], \"computing_host_ids\": [\"QPU_0\"], \"pre_allocated_qubits\": false, \"layer_end\": 1}, {\"name\": \"TWO_QUBIT\", \"qids\": [\"q_0_2\", \"q_0_3\"], \"cids\": null, \"gate\": \"cnot\", \"gate_param\": null, \"computing_host_ids\": [\"QPU_0\"], \"pre_allocated_qubits\": false, \"layer_end\": 2}, {\"name\": \"TWO_QUBIT\", \"qids\": [\"q_0_2\", \"q_0_0\"], \"cids\": null, \"gate\": \"cnot\", \"gate_param\": null, \"computing_host_ids\": [\"QPU_0\"], \"pre_allocated_qubits\": false, \"layer_end\": 2}, {\"name\": \"TWO_QUBIT\", \"qids\": [\"q_0_3\", \"q_0_1\"], \"cids\": null, \"gate\": \"cnot\", \"gate_param\": null, \"computing_host_ids\": [\"QPU_0\"], \"pre_allocated_qubits\": false, \"layer_end\": 2}, {\"name\": \"REC_HAMILTON\", \"qids\": null, \"cids\": null, \"gate\": null, \"gate_param\": null, \"computing_host_ids\": [\"QPU_0\"], \"pre_allocated_qubits\": false, \"hamiltonian\": [[-0.04207897647782276, [[\"Identity\", 0]]], [0.17771287465139946, [[\"PauliZ\", 0]]], [0.1777128746513994, [[\"PauliZ\", 1]]], [-0.24274280513140462, [[\"PauliZ\", 2]]], [-0.24274280513140462, [[\"PauliZ\", 3]]], [0.17059738328801052, [[\"PauliZ\", 0], [\"PauliZ\", 1]]], [0.04475014401535161, [[\"PauliY\", 0], [\"PauliX\", 1], [\"PauliX\", 2], [\"PauliY\", 3]]], [-0.04207897647782276, [[\"Identity\", 0]]]], \"layer_end\": 3}, {\"name\": \"SEND_EXP\", \"qids\": null, \"cids\": null, \"gate\": null, \"gate_param\": null, \"computing_host_ids\": [\"QPU_0\"], \"pre_allocated_qubits\": false, \"layer_end\": 4}], \"QPU_1\": [{\"name\": \"PREPARE_QUBITS\", \"qids\": [\"q_1_0\", \"q_1_1\", \"q_1_2\", \"q_1_3\"], \"cids\": null, \"gate\": null, \"gate_param\": null, \"computing_host_ids\": [\"QPU_1\"], \"pre_allocated_qubits\": false, \"layer_end\": 0}, {\"name\": \"SINGLE\", \"qids\": [\"q_1_0\"], \"cids\": null, \"gate\": \"X\", \"gate_param\": null, \"computing_host_ids\": [\"QPU_1\"], \"pre_allocated_qubits\": false, \"layer_end\": 0}, {\"name\": \"SINGLE\", \"qids\": [\"q_1_1\"], \"cids\": null, \"gate\": \"X\", \"gate_param\": null, \"computing_host_ids\": [\"QPU_1\"], \"pre_allocated_qubits\": false, \"layer_end\": 0}, {\"name\": \"SINGLE\", \"qids\": [\"q_1_0\"], \"cids\": null, \"gate\": \"custom_gate\", \"gate_param\": [[[-0.9711634352896334, 0.17974338033198173], [-0.13602207893064863, -0.07766526396436721]], [[0.13602207893064863, -0.07766526396436721], [-0.9711634352896334, -0.17974338033198173]]], \"computing_host_ids\": [\"QPU_1\"], \"pre_allocated_qubits\": false, \"layer_end\": 1}, {\"name\": \"SINGLE\", \"qids\": [\"q_1_1\"], \"cids\": null, \"gate\": \"custom_gate\", \"gate_param\": [[[0.3966036712047516, 0.914505845585713], [0.07527961928319926, -0.02678740930082763]], [[-0.07527961928319926, -0.02678740930082763], [0.3966036712047516, -0.914505845585713]]], \"computing_host_ids\": [\"QPU_1\"], \"pre_allocated_qubits\": false, \"layer_end\": 1}, {\"name\": \"SINGLE\", \"qids\": [\"q_1_2\"], \"cids\": null, \"gate\": \"custom_gate\", \"gate_param\": [[[0.0784230202367736, -0.2750259731410463], [-0.6879071880646498, -0.667078889340496]], [[0.6879071880646498, -0.667078889340496], [0.0784230202367736, 0.2750259731410463]]], \"computing_host_ids\": [\"QPU_1\"], \"pre_allocated_qubits\": false, \"layer_end\": 1}, {\"name\": \"SINGLE\", \"qids\": [\"q_1_3\"], \"cids\": null, \"gate\": \"custom_gate\", \"gate_param\": [[[-0.9941906906429542, 0.1075071866490732], [-0.005104410548243971, 0.0010101735702667505]], [[0.005104410548243971, 0.0010101735702667505], [-0.9941906906429542, -0.1075071866490732]]], \"computing_host_ids\": [\"QPU_1\"], \"pre_allocated_qubits\": false, \"layer_end\": 1}, {\"name\": \"TWO_QUBIT\", \"qids\": [\"q_1_2\", \"q_1_3\"], \"cids\": null, \"gate\": \"cnot\", \"gate_param\": null, \"computing_host_ids\": [\"QPU_1\"], \"pre_allocated_qubits\": false, \"layer_end\": 2}, {\"name\": \"TWO_QUBIT\", \"qids\": [\"q_1_2\", \"q_1_0\"], \"cids\": null, \"gate\": \"cnot\", \"gate_param\": null, \"computing_host_ids\": [\"QPU_1\"], \"pre_allocated_qubits\": false, \"layer_end\": 2}, {\"name\": \"TWO_QUBIT\", \"qids\": [\"q_1_3\", \"q_1_1\"], \"cids\": null, \"gate\": \"cnot\", \"gate_param\": null, \"computing_host_ids\": [\"QPU_1\"], \"pre_allocated_qubits\": false, \"layer_end\": 2}, {\"name\": \"REC_HAMILTON\", \"qids\": null, \"cids\": null, \"gate\": null, \"gate_param\": null, \"computing_host_ids\": [\"QPU_1\"], \"pre_allocated_qubits\": false, \"hamiltonian\": [[-0.04475014401535161, [[\"PauliY\", 0], [\"PauliY\", 1], [\"PauliX\", 2], [\"PauliX\", 3]]], [-0.04475014401535161, [[\"PauliX\", 0], [\"PauliX\", 1], [\"PauliY\", 2], [\"PauliY\", 3]]], [0.04475014401535161, [[\"PauliX\", 0], [\"PauliY\", 1], [\"PauliY\", 2], [\"PauliX\", 3]]], [0.12293305056183798, [[\"PauliZ\", 0], [\"PauliZ\", 2]]], [0.1676831945771896, [[\"PauliZ\", 0], [\"PauliZ\", 3]]], [0.1676831945771896, [[\"PauliZ\", 1], [\"PauliZ\", 2]]], [0.12293305056183798, [[\"PauliZ\", 1], [\"PauliZ\", 3]]]], \"layer_end\": 3}, {\"name\": \"SEND_EXP\", \"qids\": null, \"cids\": null, \"gate\": null, \"gate_param\": null, \"computing_host_ids\": [\"QPU_1\"], \"pre_allocated_qubits\": false, \"layer_end\": 4}]} with sequence number 0\n",
      "INFO:qu_net_sim:host_1 received ACK from QPU_2 with sequence number 0\n",
      "INFO:qu_net_sim:QPU_1 awaits classical ACK from host_1 with sequence 0\n",
      "INFO:qu_net_sim:QPU_0 awaits classical ACK from host_1 with sequence 0\n",
      "INFO:qu_net_sim:sending ACK:1 from host_1 to QPU_1\n",
      "INFO:qu_net_sim:sending ACK:1 from host_1 to QPU_0\n",
      "INFO:qu_net_sim:host_1 received ACK with sequence number 0\n",
      "INFO:qu_net_sim:host_1 received ACK with sequence number 0\n",
      "INFO:qu_net_sim:QPU_1 received ACK from host_1 with sequence number 0\n",
      "INFO:qu_net_sim:QPU_0 received ACK from host_1 with sequence number 0\n",
      "INFO:qu_net_sim:QPU_0 sends CLASSICAL to host_1 with sequence 1\n",
      "INFO:qu_net_sim:QPU_1 sends CLASSICAL to host_1 with sequence 1\n",
      "INFO:qu_net_sim:QPU_0 awaits classical ACK from host_1 with sequence 1\n",
      "INFO:qu_net_sim:sending ACK:2 from host_1 to QPU_0\n",
      "INFO:qu_net_sim:QPU_1 awaits classical ACK from host_1 with sequence 1\n",
      "INFO:qu_net_sim:sending ACK:2 from host_1 to QPU_1\n",
      "INFO:qu_net_sim:host_1 received {\"QPU_0\": {\"type\": \"expectation_value\", \"bits\": 0.7494932879780865}} with sequence number 1\n",
      "INFO:qu_net_sim:QPU_0 received ACK from host_1 with sequence number 1\n",
      "INFO:qu_net_sim:host_1 received {\"QPU_1\": {\"type\": \"expectation_value\", \"bits\": 0.46729483295063934}} with sequence number 1\n",
      "INFO:qu_net_sim:QPU_1 received ACK from host_1 with sequence number 1\n"
     ]
    },
    {
     "data": {
      "text/plain": [
       "1.216788120928726"
      ]
     },
     "execution_count": 34,
     "metadata": {},
     "output_type": "execute_result"
    }
   ],
   "source": [
    "cost_fn(params)"
   ]
  },
  {
   "cell_type": "code",
   "execution_count": 37,
   "metadata": {},
   "outputs": [],
   "source": [
    "Logger.DISABLED = True"
   ]
  },
  {
   "cell_type": "markdown",
   "metadata": {},
   "source": [
    "### SciPy Optimisers"
   ]
  },
  {
   "cell_type": "code",
   "execution_count": 38,
   "metadata": {},
   "outputs": [
    {
     "data": {
      "text/plain": [
       "      fun: -1.676899183298775\n",
       " hess_inv: array([[ 1.00000000e+00,  3.86687204e-07, -3.23915007e-11,\n",
       "         7.51777289e-13, -1.80505395e-06,  7.51777792e-13,\n",
       "        -1.84952228e-13, -4.04993969e-06, -1.84952156e-13,\n",
       "         1.34297677e-12,  3.16075200e-06,  1.35636653e-12],\n",
       "       [ 3.86687204e-07,  1.59859253e+00,  1.45086657e-06,\n",
       "        -3.14552177e-07,  4.26225363e-02, -3.14552192e-07,\n",
       "         3.06335585e-07,  2.40525064e-02,  3.06335623e-07,\n",
       "        -4.77300984e-08,  7.44482685e-02, -3.58407179e-08],\n",
       "       [-3.23915007e-11,  1.45086657e-06,  1.00000000e+00,\n",
       "         3.21834409e-11, -2.66702080e-06,  3.21834408e-11,\n",
       "        -3.37594282e-11, -5.17880162e-06, -3.37594279e-11,\n",
       "        -7.98876549e-13,  2.42831305e-06, -7.78995243e-13],\n",
       "       [ 7.51777289e-13, -3.14552177e-07,  3.21834409e-11,\n",
       "         1.00000000e+00,  1.75780578e-06,  1.57096617e-12,\n",
       "        -2.70044146e-12,  4.29978665e-06, -2.70044145e-12,\n",
       "        -1.65959086e-12, -3.55005303e-06, -1.67302216e-12],\n",
       "       [-1.80505395e-06,  4.26225363e-02, -2.66702080e-06,\n",
       "         1.75780578e-06,  2.11135660e+00,  1.75780576e-06,\n",
       "        -1.61049294e-06, -4.08446628e-02, -1.61049293e-06,\n",
       "         2.03057541e-07, -1.21747628e-01,  1.94989576e-07],\n",
       "       [ 7.51777792e-13, -3.14552192e-07,  3.21834408e-11,\n",
       "         1.57096617e-12,  1.75780576e-06,  1.00000000e+00,\n",
       "        -2.70044082e-12,  4.29978660e-06, -2.70044081e-12,\n",
       "        -1.65959079e-12, -3.55005296e-06, -1.67302210e-12],\n",
       "       [-1.84952228e-13,  3.06335585e-07, -3.37594282e-11,\n",
       "        -2.70044146e-12, -1.61049294e-06, -2.70044082e-12,\n",
       "         1.00000000e+00, -4.37069684e-06,  4.20357044e-12,\n",
       "         2.15789099e-12,  3.83135687e-06,  2.17140180e-12],\n",
       "       [-4.04993969e-06,  2.40525064e-02, -5.17880162e-06,\n",
       "         4.29978665e-06, -4.08446628e-02,  4.29978660e-06,\n",
       "        -4.37069684e-06,  6.19765069e-01, -4.37069685e-06,\n",
       "        -1.71552067e-07, -3.63595238e-02, -1.70273760e-07],\n",
       "       [-1.84952156e-13,  3.06335623e-07, -3.37594279e-11,\n",
       "        -2.70044145e-12, -1.61049293e-06, -2.70044081e-12,\n",
       "         4.20357044e-12, -4.37069685e-06,  1.00000000e+00,\n",
       "         2.15789092e-12,  3.83135685e-06,  2.17140173e-12],\n",
       "       [ 1.34297677e-12, -4.77300984e-08, -7.98876549e-13,\n",
       "        -1.65959086e-12,  2.03057541e-07, -1.65959079e-12,\n",
       "         2.15789099e-12, -1.71552067e-07,  2.15789092e-12,\n",
       "         1.00000000e+00,  3.20209058e-07,  4.35569482e-13],\n",
       "       [ 3.16075200e-06,  7.44482685e-02,  2.42831305e-06,\n",
       "        -3.55005303e-06, -1.21747628e-01, -3.55005296e-06,\n",
       "         3.83135687e-06, -3.63595238e-02,  3.83135685e-06,\n",
       "         3.20209058e-07,  1.26447026e+00,  3.25447683e-07],\n",
       "       [ 1.35636653e-12, -3.58407179e-08, -7.78995243e-13,\n",
       "        -1.67302216e-12,  1.94989576e-07, -1.67302210e-12,\n",
       "         2.17140180e-12, -1.70273760e-07,  2.17140173e-12,\n",
       "         4.35569482e-13,  3.25447683e-07,  1.00000000e+00]])\n",
       "      jac: array([ 0.00000000e+00, -1.89244747e-05,  0.00000000e+00,  4.47034836e-08,\n",
       "        2.22623348e-05,  4.47034836e-08,  0.00000000e+00,  3.05920839e-05,\n",
       "        0.00000000e+00,  0.00000000e+00,  4.89950180e-05,  0.00000000e+00])\n",
       "  message: 'Optimization terminated successfully.'\n",
       "     nfev: 130\n",
       "      nit: 8\n",
       "     njev: 10\n",
       "   status: 0\n",
       "  success: True\n",
       "        x: array([-1.87986125e-01, -2.96678931e-05,  8.24523230e-01,  1.61004423e+00,\n",
       "       -6.28313780e+00, -2.77089485e+00,  4.79166124e+00,  1.91673062e-05,\n",
       "        2.68272294e+00,  3.21900410e+00,  6.88692856e-05, -2.87420268e+00])"
      ]
     },
     "execution_count": 38,
     "metadata": {},
     "output_type": "execute_result"
    }
   ],
   "source": [
    "from scipy.optimize import minimize\n",
    "minimum_bfgs = minimize(cost_fn, params, method=\"BFGS\", tol=1e-4)\n",
    "\n",
    "minimum_bfgs"
   ]
  },
  {
   "cell_type": "code",
   "execution_count": 39,
   "metadata": {},
   "outputs": [
    {
     "data": {
      "text/plain": [
       "array([[-1.87986125e-01, -2.96678931e-05,  8.24523230e-01],\n",
       "       [ 1.61004423e+00, -6.28313780e+00, -2.77089485e+00],\n",
       "       [ 4.79166124e+00,  1.91673062e-05,  2.68272294e+00],\n",
       "       [ 3.21900410e+00,  6.88692856e-05, -2.87420268e+00]])"
      ]
     },
     "execution_count": 39,
     "metadata": {},
     "output_type": "execute_result"
    }
   ],
   "source": [
    "minimum_bfgs.x.reshape(4,3)"
   ]
  },
  {
   "cell_type": "code",
   "execution_count": 40,
   "metadata": {},
   "outputs": [
    {
     "data": {
      "text/plain": [
       "   direc: array([[1., 0., 0., 0., 0., 0., 0., 0., 0., 0., 0., 0.],\n",
       "       [0., 1., 0., 0., 0., 0., 0., 0., 0., 0., 0., 0.],\n",
       "       [0., 0., 1., 0., 0., 0., 0., 0., 0., 0., 0., 0.],\n",
       "       [0., 0., 0., 1., 0., 0., 0., 0., 0., 0., 0., 0.],\n",
       "       [0., 0., 0., 0., 1., 0., 0., 0., 0., 0., 0., 0.],\n",
       "       [0., 0., 0., 0., 0., 1., 0., 0., 0., 0., 0., 0.],\n",
       "       [0., 0., 0., 0., 0., 0., 1., 0., 0., 0., 0., 0.],\n",
       "       [0., 0., 0., 0., 0., 0., 0., 1., 0., 0., 0., 0.],\n",
       "       [0., 0., 0., 0., 0., 0., 0., 0., 1., 0., 0., 0.],\n",
       "       [0., 0., 0., 0., 0., 0., 0., 0., 0., 1., 0., 0.],\n",
       "       [0., 0., 0., 0., 0., 0., 0., 0., 0., 0., 1., 0.],\n",
       "       [0., 0., 0., 0., 0., 0., 0., 0., 0., 0., 0., 1.]])\n",
       "     fun: array(-1.67689919)\n",
       " message: 'Optimization terminated successfully.'\n",
       "    nfev: 324\n",
       "     nit: 2\n",
       "  status: 0\n",
       " success: True\n",
       "       x: array([ 1.96448964e+00, -1.85649913e-10,  1.81639254e+00,  4.85675531e+00,\n",
       "       -6.28318531e+00, -3.88863016e+00,  4.76961204e+00,  1.13051965e-10,\n",
       "        4.77457668e+00,  4.89683156e+00, -3.85706503e-06, -9.50242362e-01])"
      ]
     },
     "execution_count": 40,
     "metadata": {},
     "output_type": "execute_result"
    }
   ],
   "source": [
    "from scipy.optimize import minimize\n",
    "minimum_powell = minimize(cost_fn, params, method=\"Powell\", tol=1e-4)\n",
    "\n",
    "minimum_powell"
   ]
  },
  {
   "cell_type": "code",
   "execution_count": 41,
   "metadata": {},
   "outputs": [
    {
     "data": {
      "text/plain": [
       "array([[ 1.96448964e+00, -1.85649913e-10,  1.81639254e+00],\n",
       "       [ 4.85675531e+00, -6.28318531e+00, -3.88863016e+00],\n",
       "       [ 4.76961204e+00,  1.13051965e-10,  4.77457668e+00],\n",
       "       [ 4.89683156e+00, -3.85706503e-06, -9.50242362e-01]])"
      ]
     },
     "execution_count": 41,
     "metadata": {},
     "output_type": "execute_result"
    }
   ],
   "source": [
    "minimum_powell.x.reshape(4,3)"
   ]
  },
  {
   "cell_type": "code",
   "execution_count": 42,
   "metadata": {},
   "outputs": [
    {
     "data": {
      "text/plain": [
       "     fun: -1.1914135756459883\n",
       "   maxcv: 0.0\n",
       " message: 'Optimization terminated successfully.'\n",
       "    nfev: 187\n",
       "  status: 1\n",
       " success: True\n",
       "       x: array([[ 7.20172908e-01, -3.14159394e+00,  1.52745937e+00],\n",
       "       [-1.27574432e-05, -4.98319157e+00, -2.33235638e+00],\n",
       "       [ 4.90037061e+00,  4.47879140e-01,  3.14162560e+00],\n",
       "       [ 3.33259713e+00,  2.55130536e-06, -2.04879492e+00]])"
      ]
     },
     "execution_count": 42,
     "metadata": {},
     "output_type": "execute_result"
    }
   ],
   "source": [
    "from scipy.optimize import minimize\n",
    "minimum_cobyla = minimize(cost_fn, params, method=\"COBYLA\", tol=1e-4)\n",
    "\n",
    "minimum_cobyla"
   ]
  },
  {
   "cell_type": "code",
   "execution_count": 43,
   "metadata": {},
   "outputs": [
    {
     "data": {
      "text/plain": [
       "array([[ 7.20172908e-01, -3.14159394e+00,  1.52745937e+00],\n",
       "       [-1.27574432e-05, -4.98319157e+00, -2.33235638e+00],\n",
       "       [ 4.90037061e+00,  4.47879140e-01,  3.14162560e+00],\n",
       "       [ 3.33259713e+00,  2.55130536e-06, -2.04879492e+00]])"
      ]
     },
     "execution_count": 43,
     "metadata": {},
     "output_type": "execute_result"
    }
   ],
   "source": [
    "minimum_cobyla.x.reshape(4,3)"
   ]
  },
  {
   "cell_type": "markdown",
   "metadata": {},
   "source": [
    "### Scikit-Quant Optimisers"
   ]
  },
  {
   "cell_type": "code",
   "execution_count": 44,
   "metadata": {},
   "outputs": [],
   "source": [
    "from skquant.interop.scipy import *"
   ]
  },
  {
   "cell_type": "code",
   "execution_count": 45,
   "metadata": {},
   "outputs": [],
   "source": [
    "bounds = np.array([-3*np.pi, 3*np.pi])\n",
    "bounds = np.tile(bounds, (4*3, 1))\n",
    "\n",
    "flattened_parameters = params.flatten()"
   ]
  },
  {
   "cell_type": "code",
   "execution_count": 46,
   "metadata": {},
   "outputs": [
    {
     "data": {
      "text/plain": [
       "     fun: -1.1277850814207215\n",
       " message: 'completed'\n",
       "    nfev: 210\n",
       "  status: 0\n",
       " success: True\n",
       "       x: array([-0.18798618, -2.76678392,  0.82452316,  1.61004419, -6.5710654 ,\n",
       "       -2.77089489,  4.79166131, -9.42477796,  2.68272301, -1.49338483,\n",
       "       -9.42477796, -2.87420265])"
      ]
     },
     "execution_count": 46,
     "metadata": {},
     "output_type": "execute_result"
    }
   ],
   "source": [
    "budget = 200\n",
    "minimum_imfil = minimize(cost_fn, flattened_parameters, method=imfil, bounds=bounds, options={'budget' : budget})\n",
    "\n",
    "minimum_imfil"
   ]
  },
  {
   "cell_type": "code",
   "execution_count": 47,
   "metadata": {},
   "outputs": [
    {
     "data": {
      "text/plain": [
       "     fun: -1.4141807413398046\n",
       " message: 'completed'\n",
       "    nfev: 100\n",
       "  status: 0\n",
       " success: True\n",
       "       x: array([-0.18798618,  0.66250105,  0.82452316,  1.61004419, -6.19847776,\n",
       "       -2.77089489,  4.79166131,  0.41854572,  2.68272301,  3.21900415,\n",
       "       -0.02523713, -2.87420265])"
      ]
     },
     "execution_count": 47,
     "metadata": {},
     "output_type": "execute_result"
    }
   ],
   "source": [
    "budget = 100\n",
    "minimum_bobyqa = minimize(cost_fn, flattened_parameters, method=pybobyqa, bounds=bounds, options={'budget' : budget})\n",
    "\n",
    "minimum_bobyqa"
   ]
  },
  {
   "cell_type": "code",
   "execution_count": null,
   "metadata": {},
   "outputs": [],
   "source": [
    "budget = 200\n",
    "minimum_snobfit = minimize(cost_fn, flattened_parameters, method=snobfit, bounds=bounds, options={'budget' : budget})\n",
    "\n",
    "minimum_snobfit"
   ]
  },
  {
   "cell_type": "markdown",
   "metadata": {},
   "source": [
    "### Gradient Descent Optimisers "
   ]
  },
  {
   "cell_type": "code",
   "execution_count": null,
   "metadata": {},
   "outputs": [],
   "source": [
    "%debug\n",
    "#max_iterations = 200\n",
    "#conv_tol = 1e-06\n",
    "\n",
    "#for n in range(max_iterations):\n",
    "#    params, prev_energy = opt.step_and_cost(cost_fn, params)\n",
    "#    energy = cost_fn(params)\n",
    "#    conv = np.abs(energy - prev_energy)\n",
    "\n",
    "#    if n % 20 == 0:\n",
    "#        print('Iteration = {:},  Energy = {:.8f} Ha'.format(n, energy))\n",
    "\n",
    "#    if conv <= conv_tol:\n",
    "#        break"
   ]
  }
 ],
 "metadata": {
  "kernelspec": {
   "display_name": "Python 3",
   "language": "python",
   "name": "python3"
  },
  "language_info": {
   "codemirror_mode": {
    "name": "ipython",
    "version": 3
   },
   "file_extension": ".py",
   "mimetype": "text/x-python",
   "name": "python",
   "nbconvert_exporter": "python",
   "pygments_lexer": "ipython3",
   "version": "3.8.5"
  }
 },
 "nbformat": 4,
 "nbformat_minor": 2
}
