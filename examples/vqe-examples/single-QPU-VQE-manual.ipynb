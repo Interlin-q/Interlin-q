{
 "cells": [
  {
   "cell_type": "markdown",
   "metadata": {},
   "source": [
    "# Single QPU VQE experiment (Manual Version)\n",
    "\n",
    "This notebook goes through the running of a VQE algorithm using interlin-q. For simplicity, we only try out using one QPU. This version goes through the calculation of the expectation values manually, by explicitly calling the backend and passing the density matrices and the list of observables.\n",
    "\n",
    "For an example of how to use the networking protocols to calculate expectation values individually on the different QPUs and then sending back the results to the controller host, check out the other notebooks, with the name \"networking\"."
   ]
  },
  {
   "cell_type": "markdown",
   "metadata": {},
   "source": [
    "## Step 1: Import libraries.\n",
    "\n",
    "First we import all the necessary libraries. Interlin-q is build using the python framework [QuNetSim](https://arxiv.org/abs/2003.06397) which is a python software framework that can be used to simulate quantum networks up to the network layer. We also need PennyLane's chemistry library for decomposing the Hamiltonian. We would also use PennyLane for the optimiser component"
   ]
  },
  {
   "cell_type": "code",
   "execution_count": 1,
   "metadata": {},
   "outputs": [],
   "source": [
    "# Basic Libraries\n",
    "import sys\n",
    "from pennylane import numpy as np\n",
    "sys.path.append(\"../../\")\n",
    "\n",
    "# QuNetSim Components\n",
    "from qunetsim.components import Network\n",
    "from qunetsim.objects import Logger\n",
    "from qunetsim.backends.qutip_backend import QuTipBackend\n",
    "\n",
    "# Interlin-q Components\n",
    "from interlinq import (ControllerHost, Constants, Clock,\n",
    "Circuit, Layer, ComputingHost, Operation)\n",
    "\n",
    "# Extra needed components\n",
    "from pennylane import GradientDescentOptimizer\n",
    "from hamiltonian_decomposition import decompose\n",
    "\n",
    "Logger.DISABLED = False"
   ]
  },
  {
   "cell_type": "markdown",
   "metadata": {},
   "source": [
    "## Step 2: Decompose the Hamiltonian."
   ]
  },
  {
   "cell_type": "code",
   "execution_count": 2,
   "metadata": {},
   "outputs": [],
   "source": [
    "geometry = 'h2.xyz'\n",
    "charge = 0\n",
    "multiplicity = 1\n",
    "basis_set = 'sto-3g'\n",
    "name = 'h2'"
   ]
  },
  {
   "cell_type": "code",
   "execution_count": 3,
   "metadata": {},
   "outputs": [
    {
     "data": {
      "text/plain": [
       "[(-0.04207897647782276, [('Identity', 0)]),\n",
       " (0.17771287465139946, [('PauliZ', 0)]),\n",
       " (0.1777128746513994, [('PauliZ', 1)]),\n",
       " (-0.24274280513140462, [('PauliZ', 2)]),\n",
       " (-0.24274280513140462, [('PauliZ', 3)]),\n",
       " (0.17059738328801052, [('PauliZ', 0), ('PauliZ', 1)]),\n",
       " (0.04475014401535161,\n",
       "  [('PauliY', 0), ('PauliX', 1), ('PauliX', 2), ('PauliY', 3)]),\n",
       " (-0.04475014401535161,\n",
       "  [('PauliY', 0), ('PauliY', 1), ('PauliX', 2), ('PauliX', 3)]),\n",
       " (-0.04475014401535161,\n",
       "  [('PauliX', 0), ('PauliX', 1), ('PauliY', 2), ('PauliY', 3)]),\n",
       " (0.04475014401535161,\n",
       "  [('PauliX', 0), ('PauliY', 1), ('PauliY', 2), ('PauliX', 3)]),\n",
       " (0.12293305056183798, [('PauliZ', 0), ('PauliZ', 2)]),\n",
       " (0.1676831945771896, [('PauliZ', 0), ('PauliZ', 3)]),\n",
       " (0.1676831945771896, [('PauliZ', 1), ('PauliZ', 2)]),\n",
       " (0.12293305056183798, [('PauliZ', 1), ('PauliZ', 3)]),\n",
       " (0.17627640804319591, [('PauliZ', 2), ('PauliZ', 3)])]"
      ]
     },
     "execution_count": 3,
     "metadata": {},
     "output_type": "execute_result"
    }
   ],
   "source": [
    "coefficients, observables, qubit_num = decompose(name, geometry, charge, multiplicity, basis_set)\n",
    "terms = list(zip(coefficients, observables))\n",
    "\n",
    "terms"
   ]
  },
  {
   "cell_type": "markdown",
   "metadata": {},
   "source": [
    "## Step 3: Prepare Circuit for Given Parameters"
   ]
  },
  {
   "cell_type": "markdown",
   "metadata": {},
   "source": [
    "The circuit can be prepared using two different ways: either as one circuit, or several circuits run sequentially. The former approach is simpler and generally better for the optimisation function. The latter is better for debugging and for dynamic components of a quantum circuit (i.e. circuits that have a lot of changing operations)."
   ]
  },
  {
   "cell_type": "markdown",
   "metadata": {},
   "source": [
    "### Main Blocks"
   ]
  },
  {
   "cell_type": "code",
   "execution_count": 4,
   "metadata": {},
   "outputs": [],
   "source": [
    "def rotational_gate(params):\n",
    "    phi, theta, omega = params\n",
    "    cos = np.cos(theta / 2)\n",
    "    sin = np.sin(theta / 2)\n",
    "    \n",
    "    res = np.array([[np.exp(-1j * (phi + omega) / 2) * cos, -np.exp(1j * (phi - omega) / 2) * sin], \n",
    "                     [np.exp(-1j * (phi - omega) / 2) * sin, np.exp(1j * (phi + omega) / 2) * cos]])\n",
    "    \n",
    "    return res.unwrap()"
   ]
  },
  {
   "cell_type": "code",
   "execution_count": 5,
   "metadata": {},
   "outputs": [],
   "source": [
    "def initialisation_operations(q_map):\n",
    "    ops = []\n",
    "    host_id = list(q_map.keys())[0]\n",
    "    \n",
    "    op = Operation(\n",
    "        name=Constants.PREPARE_QUBITS,\n",
    "        qids=q_map[host_id],\n",
    "        computing_host_ids=[host_id])\n",
    "    ops.append(op)\n",
    "    \n",
    "    # Prepare the qubits on the computing host\n",
    "    op = Operation(\n",
    "        name=Constants.SINGLE,\n",
    "        qids=[q_map[host_id][0]],\n",
    "        gate=Operation.X,\n",
    "        computing_host_ids=[host_id])\n",
    "    ops.append(op)\n",
    "    \n",
    "    op = Operation(\n",
    "        name=Constants.SINGLE,\n",
    "        qids=[q_map[host_id][1]],\n",
    "        gate=Operation.X,\n",
    "        computing_host_ids=[host_id])\n",
    "    ops.append(op)\n",
    "    \n",
    "    return Layer(ops)"
   ]
  },
  {
   "cell_type": "code",
   "execution_count": 6,
   "metadata": {},
   "outputs": [],
   "source": [
    "def ansatz_operations(q_map, parameters):\n",
    "    layers = []\n",
    "    host_id = list(q_map.keys())[0]\n",
    "    \n",
    "    ops = []\n",
    "    \n",
    "    for i in range(len(q_map[host_id])):\n",
    "        op = Operation(\n",
    "            name=Constants.SINGLE,\n",
    "            qids=[q_map[host_id][i]],\n",
    "            gate=Operation.CUSTOM,\n",
    "            gate_param=rotational_gate(parameters[i]),\n",
    "            computing_host_ids=[host_id])\n",
    "        \n",
    "        ops.append(op)\n",
    "        \n",
    "    layers.append(Layer(ops))\n",
    "    \n",
    "    op = Operation(\n",
    "        name=Constants.TWO_QUBIT,\n",
    "        qids=[q_map[host_id][2], q_map[host_id][3]],\n",
    "        gate=Operation.CNOT,\n",
    "        computing_host_ids=[host_id])\n",
    "    \n",
    "    layers.append(Layer([op]))\n",
    "    \n",
    "    op = Operation(\n",
    "        name=Constants.TWO_QUBIT,\n",
    "        qids=[q_map[host_id][2], q_map[host_id][0]],\n",
    "        gate=Operation.CNOT,\n",
    "        computing_host_ids=[host_id])\n",
    "    \n",
    "    layers.append(Layer([op]))\n",
    "    \n",
    "    op = Operation(\n",
    "        name=Constants.TWO_QUBIT,\n",
    "        qids=[q_map[host_id][3], q_map[host_id][1]],\n",
    "        gate=Operation.CNOT,\n",
    "        computing_host_ids=[host_id])\n",
    "    \n",
    "    layers.append(Layer([op]))\n",
    "        \n",
    "    return layers"
   ]
  },
  {
   "cell_type": "code",
   "execution_count": 7,
   "metadata": {},
   "outputs": [],
   "source": [
    "def measurement_operations(q_map):\n",
    "    ops = []\n",
    "    # Measuring only the first qubit\n",
    "    op = Operation(\n",
    "        name=Constants.MEASURE,\n",
    "        qids=['q_0_0'],\n",
    "        cids=['q_0_0'],\n",
    "        computing_host_ids=[host_id])\n",
    "    ops.append(op)\n",
    "    layers.append(Layer(ops))\n",
    "    \n",
    "    # Measuring all qubits\n",
    "    q_ids = q_map[host_id].copy()\n",
    "    ops = []\n",
    "    for q_id in q_ids:\n",
    "        op = Operation(\n",
    "            name=Constants.MEASURE,\n",
    "            qids=[q_id],\n",
    "            cids=[q_id],\n",
    "            computing_host_ids=[computing_host_ids[0]])\n",
    "        ops.append(op)\n",
    "        \n",
    "    return Layer(ops)"
   ]
  },
  {
   "cell_type": "markdown",
   "metadata": {},
   "source": [
    "### Single-step approach"
   ]
  },
  {
   "cell_type": "code",
   "execution_count": 8,
   "metadata": {},
   "outputs": [],
   "source": [
    "def initialise_and_create_ansatz(q_map, parameters):\n",
    "    layers = []\n",
    "    host_id = list(q_map.keys())[0]\n",
    "    \n",
    "    # Initialise the qubits on the computing host\n",
    "    layers.append(initialisation_operations(q_map))\n",
    "    \n",
    "    # Apply the ansatz\n",
    "    layers = layers + ansatz_operations(q_map, parameters)\n",
    "    \n",
    "    circuit = Circuit(q_map, layers)\n",
    "    return circuit"
   ]
  },
  {
   "cell_type": "code",
   "execution_count": 9,
   "metadata": {},
   "outputs": [],
   "source": [
    "def controller_host_protocol(host, q_map, params):\n",
    "    \"\"\"\n",
    "    Protocol for the controller host\n",
    "    \"\"\"\n",
    "    \n",
    "    monolithic_circuit = initialise_and_create_ansatz(q_map, params)\n",
    "\n",
    "    host.generate_and_send_schedules(monolithic_circuit)"
   ]
  },
  {
   "cell_type": "code",
   "execution_count": 10,
   "metadata": {},
   "outputs": [],
   "source": [
    "def computing_host_protocol(host):\n",
    "    host.receive_schedule()"
   ]
  },
  {
   "cell_type": "markdown",
   "metadata": {},
   "source": [
    "### Split-steps approach"
   ]
  },
  {
   "cell_type": "code",
   "execution_count": 11,
   "metadata": {},
   "outputs": [],
   "source": [
    "def prepare_qubits(q_map): \n",
    "    circuit = Circuit(q_map, [initialisation_operations(q_map)])\n",
    "    return circuit"
   ]
  },
  {
   "cell_type": "code",
   "execution_count": 12,
   "metadata": {},
   "outputs": [],
   "source": [
    "def apply_ansatz(q_map, parameters):\n",
    "    circuit = Circuit(q_map, ansatz_operations(q_map, parameters))\n",
    "    return circuit"
   ]
  },
  {
   "cell_type": "code",
   "execution_count": 13,
   "metadata": {},
   "outputs": [],
   "source": [
    "def controller_host_protocol_preparation(host, q_map, params):\n",
    "    \"\"\"\n",
    "    Protocol for the controller host\n",
    "    \"\"\"\n",
    "    host.generate_and_send_schedules(prepare_qubits(q_map))"
   ]
  },
  {
   "cell_type": "code",
   "execution_count": 14,
   "metadata": {},
   "outputs": [],
   "source": [
    "def controller_host_protocol_ansatz(host, q_map, params):\n",
    "    \"\"\"\n",
    "    Protocol for the controller host\n",
    "    \"\"\"\n",
    "    host.generate_and_send_schedules(apply_ansatz(q_map, params))"
   ]
  },
  {
   "cell_type": "code",
   "execution_count": 15,
   "metadata": {},
   "outputs": [],
   "source": [
    "# Used for the last one\n",
    "def computing_host_protocol(host):\n",
    "    host.receive_schedule()"
   ]
  },
  {
   "cell_type": "markdown",
   "metadata": {},
   "source": [
    "## Step 4: Run the circuit and get the Expectation Value"
   ]
  },
  {
   "cell_type": "code",
   "execution_count": 16,
   "metadata": {},
   "outputs": [],
   "source": [
    "def init_network():\n",
    "    network = Network.get_instance()\n",
    "    network.delay = 0\n",
    "    network.start()\n",
    "\n",
    "    clock = Clock()\n",
    "\n",
    "    qutip = QuTipBackend()\n",
    "\n",
    "    controller_host = ControllerHost(\n",
    "        host_id=\"host_1\",\n",
    "        clock=clock, \n",
    "        backend=qutip\n",
    "    )\n",
    "\n",
    "    computing_hosts, q_map = controller_host.create_distributed_network(\n",
    "        num_computing_hosts=1,\n",
    "        num_qubits_per_host=4)\n",
    "    controller_host.start()\n",
    "\n",
    "    network.add_hosts([\n",
    "        computing_hosts[0],\n",
    "        controller_host])\n",
    "    \n",
    "    return clock, controller_host, computing_hosts, q_map"
   ]
  },
  {
   "cell_type": "code",
   "execution_count": 17,
   "metadata": {},
   "outputs": [],
   "source": [
    "params = np.random.rand(4, 3)"
   ]
  },
  {
   "cell_type": "markdown",
   "metadata": {},
   "source": [
    "### Running for the single-step approach"
   ]
  },
  {
   "cell_type": "code",
   "execution_count": 18,
   "metadata": {},
   "outputs": [
    {
     "name": "stderr",
     "output_type": "stream",
     "text": [
      "INFO:qu_net_sim:Host QPU_0 started processing\n",
      "INFO:qu_net_sim:Host host_1 started processing\n",
      "INFO:qu_net_sim:host_1 sends BROADCAST message\n",
      "INFO:qu_net_sim:sending ACK:1 from QPU_0 to host_1\n",
      "INFO:qu_net_sim:QPU_0 received {\"QPU_0\": [{\"name\": \"PREPARE_QUBITS\", \"qids\": [\"q_0_0\", \"q_0_1\", \"q_0_2\", \"q_0_3\"], \"cids\": null, \"gate\": null, \"gate_param\": null, \"computing_host_ids\": [\"QPU_0\"], \"pre_allocated_qubits\": false, \"layer_end\": 0}, {\"name\": \"SINGLE\", \"qids\": [\"q_0_0\"], \"cids\": null, \"gate\": \"X\", \"gate_param\": null, \"computing_host_ids\": [\"QPU_0\"], \"pre_allocated_qubits\": false, \"layer_end\": 0}, {\"name\": \"SINGLE\", \"qids\": [\"q_0_1\"], \"cids\": null, \"gate\": \"X\", \"gate_param\": null, \"computing_host_ids\": [\"QPU_0\"], \"pre_allocated_qubits\": false, \"layer_end\": 0}, {\"name\": \"SINGLE\", \"qids\": [\"q_0_0\"], \"cids\": null, \"gate\": \"custom_gate\", \"gate_param\": [[[0.7837452862561133, -0.6128197342845608], [-0.1007024864903027, -0.007369447563676435]], [[0.1007024864903027, -0.007369447563676435], [0.7837452862561133, 0.6128197342845608]]], \"computing_host_ids\": [\"QPU_0\"], \"pre_allocated_qubits\": false, \"layer_end\": 1}, {\"name\": \"SINGLE\", \"qids\": [\"q_0_1\"], \"cids\": null, \"gate\": \"custom_gate\", \"gate_param\": [[[0.8227621142103074, -0.4989914478741642], [-0.25250450222209775, -0.10154562878923407]], [[0.25250450222209775, -0.10154562878923407], [0.8227621142103074, 0.4989914478741642]]], \"computing_host_ids\": [\"QPU_0\"], \"pre_allocated_qubits\": false, \"layer_end\": 1}, {\"name\": \"SINGLE\", \"qids\": [\"q_0_2\"], \"cids\": null, \"gate\": \"custom_gate\", \"gate_param\": [[[0.7907308935274813, -0.4756595635842996], [-0.3849122324063409, 0.018308657405491934]], [[0.3849122324063409, 0.018308657405491934], [0.7907308935274813, 0.4756595635842996]]], \"computing_host_ids\": [\"QPU_0\"], \"pre_allocated_qubits\": false, \"layer_end\": 1}, {\"name\": \"SINGLE\", \"qids\": [\"q_0_3\"], \"cids\": null, \"gate\": \"custom_gate\", \"gate_param\": [[[0.8115325896894362, -0.44226916520525916], [-0.36123885083377966, 0.12377129727400671]], [[0.36123885083377966, 0.12377129727400671], [0.8115325896894362, 0.44226916520525916]]], \"computing_host_ids\": [\"QPU_0\"], \"pre_allocated_qubits\": false, \"layer_end\": 1}, {\"name\": \"TWO_QUBIT\", \"qids\": [\"q_0_2\", \"q_0_3\"], \"cids\": null, \"gate\": \"cnot\", \"gate_param\": null, \"computing_host_ids\": [\"QPU_0\"], \"pre_allocated_qubits\": false, \"layer_end\": 2}, {\"name\": \"TWO_QUBIT\", \"qids\": [\"q_0_2\", \"q_0_0\"], \"cids\": null, \"gate\": \"cnot\", \"gate_param\": null, \"computing_host_ids\": [\"QPU_0\"], \"pre_allocated_qubits\": false, \"layer_end\": 3}, {\"name\": \"TWO_QUBIT\", \"qids\": [\"q_0_3\", \"q_0_1\"], \"cids\": null, \"gate\": \"cnot\", \"gate_param\": null, \"computing_host_ids\": [\"QPU_0\"], \"pre_allocated_qubits\": false, \"layer_end\": 4}]} with sequence number 0\n",
      "INFO:qu_net_sim:QPU_0 sends CLASSICAL to host_1 with sequence 0\n",
      "INFO:qu_net_sim:host_1 received ACK from QPU_0 with sequence number 0\n",
      "INFO:qu_net_sim:QPU_0 awaits classical ACK from host_1 with sequence 0\n",
      "INFO:qu_net_sim:sending ACK:1 from host_1 to QPU_0\n",
      "INFO:qu_net_sim:host_1 received ACK with sequence number 0\n",
      "INFO:qu_net_sim:QPU_0 received ACK from host_1 with sequence number 0\n"
     ]
    }
   ],
   "source": [
    "clock, controller_host, computing_hosts, q_map = init_network()\n",
    "\n",
    "t1 = controller_host.run_protocol(\n",
    "    controller_host_protocol,\n",
    "    (q_map, params))\n",
    "t2 = computing_hosts[0].run_protocol(computing_host_protocol)\n",
    "\n",
    "t1.join()\n",
    "t2.join()"
   ]
  },
  {
   "cell_type": "code",
   "execution_count": 19,
   "metadata": {},
   "outputs": [
    {
     "data": {
      "text/plain": [
       "6"
      ]
     },
     "execution_count": 19,
     "metadata": {},
     "output_type": "execute_result"
    }
   ],
   "source": [
    "# This should be 7 after the first invocation. \n",
    "# For any further invocations, it would increase by 6: 13,19, 25, etc. So is that expected behaviour?\n",
    "clock.ticks"
   ]
  },
  {
   "cell_type": "markdown",
   "metadata": {},
   "source": [
    "### Running for the multi-step approach"
   ]
  },
  {
   "cell_type": "code",
   "execution_count": 20,
   "metadata": {},
   "outputs": [
    {
     "name": "stderr",
     "output_type": "stream",
     "text": [
      "INFO:qu_net_sim:Host QPU_0 started processing\n",
      "INFO:qu_net_sim:Host host_1 started processing\n",
      "INFO:qu_net_sim:host_1 sends BROADCAST message\n",
      "INFO:qu_net_sim:sending ACK:1 from QPU_0 to host_1\n",
      "INFO:qu_net_sim:QPU_0 received {\"QPU_0\": [{\"name\": \"PREPARE_QUBITS\", \"qids\": [\"q_0_0\", \"q_0_1\", \"q_0_2\", \"q_0_3\"], \"cids\": null, \"gate\": null, \"gate_param\": null, \"computing_host_ids\": [\"QPU_0\"], \"pre_allocated_qubits\": false, \"layer_end\": 0}, {\"name\": \"SINGLE\", \"qids\": [\"q_0_0\"], \"cids\": null, \"gate\": \"X\", \"gate_param\": null, \"computing_host_ids\": [\"QPU_0\"], \"pre_allocated_qubits\": false, \"layer_end\": 0}, {\"name\": \"SINGLE\", \"qids\": [\"q_0_1\"], \"cids\": null, \"gate\": \"X\", \"gate_param\": null, \"computing_host_ids\": [\"QPU_0\"], \"pre_allocated_qubits\": false, \"layer_end\": 0}]} with sequence number 0\n",
      "INFO:qu_net_sim:QPU_0 sends CLASSICAL to host_1 with sequence 0\n",
      "INFO:qu_net_sim:host_1 received ACK from QPU_0 with sequence number 0\n",
      "INFO:qu_net_sim:QPU_0 awaits classical ACK from host_1 with sequence 0\n",
      "INFO:qu_net_sim:sending ACK:1 from host_1 to QPU_0\n",
      "INFO:qu_net_sim:host_1 received ACK with sequence number 0\n",
      "INFO:qu_net_sim:QPU_0 received ACK from host_1 with sequence number 0\n"
     ]
    }
   ],
   "source": [
    "clock, controller_host, computing_hosts, q_map = init_network()\n",
    "\n",
    "t1 = controller_host.run_protocol(\n",
    "    controller_host_protocol_preparation,\n",
    "    (q_map, params))\n",
    "t2 = computing_hosts[0].run_protocol(computing_host_protocol)\n",
    "\n",
    "t1.join()\n",
    "t2.join()"
   ]
  },
  {
   "cell_type": "code",
   "execution_count": 21,
   "metadata": {},
   "outputs": [
    {
     "data": {
      "text/plain": [
       "2"
      ]
     },
     "execution_count": 21,
     "metadata": {},
     "output_type": "execute_result"
    }
   ],
   "source": [
    "clock.ticks"
   ]
  },
  {
   "cell_type": "code",
   "execution_count": 22,
   "metadata": {},
   "outputs": [
    {
     "name": "stderr",
     "output_type": "stream",
     "text": [
      "INFO:qu_net_sim:host_1 sends BROADCAST message\n",
      "INFO:qu_net_sim:sending ACK:2 from QPU_0 to host_1\n",
      "INFO:qu_net_sim:QPU_0 received {\"QPU_0\": [{\"name\": \"SINGLE\", \"qids\": [\"q_0_0\"], \"cids\": null, \"gate\": \"custom_gate\", \"gate_param\": [[[0.7837452862561133, -0.6128197342845608], [-0.1007024864903027, -0.007369447563676435]], [[0.1007024864903027, -0.007369447563676435], [0.7837452862561133, 0.6128197342845608]]], \"computing_host_ids\": [\"QPU_0\"], \"pre_allocated_qubits\": false, \"layer_end\": 2}, {\"name\": \"SINGLE\", \"qids\": [\"q_0_1\"], \"cids\": null, \"gate\": \"custom_gate\", \"gate_param\": [[[0.8227621142103074, -0.4989914478741642], [-0.25250450222209775, -0.10154562878923407]], [[0.25250450222209775, -0.10154562878923407], [0.8227621142103074, 0.4989914478741642]]], \"computing_host_ids\": [\"QPU_0\"], \"pre_allocated_qubits\": false, \"layer_end\": 2}, {\"name\": \"SINGLE\", \"qids\": [\"q_0_2\"], \"cids\": null, \"gate\": \"custom_gate\", \"gate_param\": [[[0.7907308935274813, -0.4756595635842996], [-0.3849122324063409, 0.018308657405491934]], [[0.3849122324063409, 0.018308657405491934], [0.7907308935274813, 0.4756595635842996]]], \"computing_host_ids\": [\"QPU_0\"], \"pre_allocated_qubits\": false, \"layer_end\": 2}, {\"name\": \"SINGLE\", \"qids\": [\"q_0_3\"], \"cids\": null, \"gate\": \"custom_gate\", \"gate_param\": [[[0.8115325896894362, -0.44226916520525916], [-0.36123885083377966, 0.12377129727400671]], [[0.36123885083377966, 0.12377129727400671], [0.8115325896894362, 0.44226916520525916]]], \"computing_host_ids\": [\"QPU_0\"], \"pre_allocated_qubits\": false, \"layer_end\": 2}, {\"name\": \"TWO_QUBIT\", \"qids\": [\"q_0_2\", \"q_0_3\"], \"cids\": null, \"gate\": \"cnot\", \"gate_param\": null, \"computing_host_ids\": [\"QPU_0\"], \"pre_allocated_qubits\": false, \"layer_end\": 3}, {\"name\": \"TWO_QUBIT\", \"qids\": [\"q_0_2\", \"q_0_0\"], \"cids\": null, \"gate\": \"cnot\", \"gate_param\": null, \"computing_host_ids\": [\"QPU_0\"], \"pre_allocated_qubits\": false, \"layer_end\": 4}, {\"name\": \"TWO_QUBIT\", \"qids\": [\"q_0_3\", \"q_0_1\"], \"cids\": null, \"gate\": \"cnot\", \"gate_param\": null, \"computing_host_ids\": [\"QPU_0\"], \"pre_allocated_qubits\": false, \"layer_end\": 5}]} with sequence number 1\n",
      "INFO:qu_net_sim:QPU_0 sends CLASSICAL to host_1 with sequence 1\n",
      "INFO:qu_net_sim:host_1 received ACK from QPU_0 with sequence number 1\n",
      "INFO:qu_net_sim:QPU_0 awaits classical ACK from host_1 with sequence 1\n",
      "INFO:qu_net_sim:sending ACK:2 from host_1 to QPU_0\n",
      "INFO:qu_net_sim:host_1 received ACK with sequence number 1\n",
      "INFO:qu_net_sim:QPU_0 received ACK from host_1 with sequence number 1\n"
     ]
    }
   ],
   "source": [
    "t1 = controller_host.run_protocol(\n",
    "    controller_host_protocol_ansatz,\n",
    "    (q_map, params))\n",
    "t2 = computing_hosts[0].run_protocol(computing_host_protocol)\n",
    "\n",
    "t1.join()\n",
    "t2.join()"
   ]
  },
  {
   "cell_type": "code",
   "execution_count": 23,
   "metadata": {},
   "outputs": [
    {
     "data": {
      "text/plain": [
       "7"
      ]
     },
     "execution_count": 23,
     "metadata": {},
     "output_type": "execute_result"
    }
   ],
   "source": [
    "clock.ticks"
   ]
  },
  {
   "cell_type": "markdown",
   "metadata": {},
   "source": [
    "### Using qutip to get the expectation value"
   ]
  },
  {
   "cell_type": "code",
   "execution_count": 24,
   "metadata": {},
   "outputs": [],
   "source": [
    "from qutip import identity, sigmax, sigmay, sigmaz\n",
    "from qutip import expect\n",
    "\n",
    "def string_to_qutip_pauli(string):\n",
    "    if string == 'Identity':\n",
    "        return identity(2)\n",
    "    if string == 'PauliX':\n",
    "        return sigmax()\n",
    "    if string == 'PauliY':\n",
    "        return sigmay()\n",
    "    if string == 'PauliZ':\n",
    "        return sigmaz()\n",
    "\n",
    "def expectation_value(terms, matrices):\n",
    "    total = 0\n",
    "    \n",
    "    for term in terms:\n",
    "        coefficient, observables = term\n",
    "        \n",
    "        needed_matrices = []\n",
    "        needed_paulis = []\n",
    "        \n",
    "        for obs in observables:\n",
    "            pauli, index = obs\n",
    "            \n",
    "            needed_matrices.append(matrices[index])\n",
    "            needed_paulis.append(string_to_qutip_pauli(pauli))\n",
    "        \n",
    "        expectation = expect(needed_paulis, needed_matrices)\n",
    "        \n",
    "        total += coefficient * expectation[0][0]\n",
    "    \n",
    "    return total"
   ]
  },
  {
   "cell_type": "code",
   "execution_count": 25,
   "metadata": {},
   "outputs": [
    {
     "data": {
      "text/plain": [
       "[Quantum object: dims = [[2], [2]], shape = (2, 2), type = oper, isherm = True\n",
       " Qobj data =\n",
       " [[ 0.15566008+0.j         -0.08344124+0.03932433j]\n",
       "  [-0.08344124-0.03932433j  0.84433992+0.j        ]],\n",
       " Quantum object: dims = [[2], [2]], shape = (2, 2), type = oper, isherm = True\n",
       " Qobj data =\n",
       " [[ 0.28788791+0.j         -0.25842154+0.02113984j]\n",
       "  [-0.25842154-0.02113984j  0.71211209+0.j        ]],\n",
       " Quantum object: dims = [[2], [2]], shape = (2, 2), type = oper, isherm = True\n",
       " Qobj data =\n",
       " [[ 0.85150737+0.j         -0.02352667+0.01572123j]\n",
       "  [-0.02352667-0.01572123j  0.14849263+0.j        ]],\n",
       " Quantum object: dims = [[2], [2]], shape = (2, 2), type = oper, isherm = True\n",
       " Qobj data =\n",
       " [[ 0.74899879+0.j         -0.12322411+0.09454659j]\n",
       "  [-0.12322411-0.09454659j  0.25100121+0.j        ]]]"
      ]
     },
     "execution_count": 25,
     "metadata": {},
     "output_type": "execute_result"
    }
   ],
   "source": [
    "density_matrices = []\n",
    "\n",
    "for qubit_id in computing_hosts[0].qubit_ids:\n",
    "    qubit = computing_hosts[0].get_qubit_by_id(qubit_id)\n",
    "    density_matrices.append(computing_hosts[0].backend.density_operator(qubit))\n",
    "    \n",
    "density_matrices"
   ]
  },
  {
   "cell_type": "code",
   "execution_count": 26,
   "metadata": {},
   "outputs": [
    {
     "data": {
      "text/plain": [
       "-0.8483835029185777"
      ]
     },
     "execution_count": 26,
     "metadata": {},
     "output_type": "execute_result"
    }
   ],
   "source": [
    "expectation_value(terms, density_matrices)"
   ]
  },
  {
   "cell_type": "markdown",
   "metadata": {},
   "source": [
    "## Optimise"
   ]
  },
  {
   "cell_type": "code",
   "execution_count": 27,
   "metadata": {},
   "outputs": [],
   "source": [
    "from qutip import identity, sigmax, sigmay, sigmaz\n",
    "from qutip import expect\n",
    "\n",
    "def string_to_qutip_pauli(string):\n",
    "    if string == 'Identity':\n",
    "        return identity(2)\n",
    "    if string == 'PauliX':\n",
    "        return sigmax()\n",
    "    if string == 'PauliY':\n",
    "        return sigmay()\n",
    "    if string == 'PauliZ':\n",
    "        return sigmaz()\n",
    "\n",
    "def expectation_value(terms, matrices):\n",
    "    total = 0\n",
    "    \n",
    "    for term in terms:\n",
    "        coefficient, observables = term\n",
    "        \n",
    "        needed_matrices = []\n",
    "        needed_paulis = []\n",
    "        \n",
    "        for obs in observables:\n",
    "            pauli, index = obs\n",
    "            \n",
    "            needed_matrices.append(matrices[index])\n",
    "            needed_paulis.append(string_to_qutip_pauli(pauli))\n",
    "        \n",
    "        expectation = expect(needed_paulis, needed_matrices)\n",
    "        \n",
    "        total += coefficient * expectation[0][0]\n",
    "    \n",
    "    return total"
   ]
  },
  {
   "cell_type": "code",
   "execution_count": 28,
   "metadata": {},
   "outputs": [],
   "source": [
    "def cost_fn(params):\n",
    "    params = params.reshape(4, 3)\n",
    "    \n",
    "    network = Network.get_instance()\n",
    "    network.delay = 0\n",
    "    network.start()\n",
    "\n",
    "    clock = Clock()\n",
    "\n",
    "    qutip = QuTipBackend()\n",
    "\n",
    "    controller_host = ControllerHost(\n",
    "        host_id=\"host_1\",\n",
    "        clock=clock, \n",
    "        backend=qutip\n",
    "    )\n",
    "\n",
    "    computing_hosts, q_map = controller_host.create_distributed_network(\n",
    "        num_computing_hosts=1,\n",
    "        num_qubits_per_host=4)\n",
    "    controller_host.start()\n",
    "\n",
    "    network.add_hosts([\n",
    "        computing_hosts[0],\n",
    "        controller_host])\n",
    "    \n",
    "    t1 = controller_host.run_protocol(\n",
    "    controller_host_protocol,\n",
    "    (q_map, params))\n",
    "    t2 = computing_hosts[0].run_protocol(computing_host_protocol)\n",
    "\n",
    "    t1.join()\n",
    "    t2.join()\n",
    "    \n",
    "    density_matrices = []\n",
    "\n",
    "    for qubit_id in computing_hosts[0].qubit_ids:\n",
    "        qubit = computing_hosts[0].get_qubit_by_id(qubit_id)\n",
    "        density_matrices.append(computing_hosts[0].backend.density_operator(qubit))\n",
    "    \n",
    "    \n",
    "    network.remove_host(computing_hosts[0])\n",
    "    network.remove_host(controller_host)\n",
    "    \n",
    "    return expectation_value(terms, density_matrices)"
   ]
  },
  {
   "cell_type": "code",
   "execution_count": 53,
   "metadata": {},
   "outputs": [
    {
     "data": {
      "text/plain": [
       "tensor([[ 5.54193389,  1.25713095,  3.07479606],\n",
       "        [ 7.03997361,  5.86710646, -3.07020901],\n",
       "        [ 2.98479079, -0.47550269, -0.32427159],\n",
       "        [ 1.28993324,  0.45252622,  4.56873497]], requires_grad=True)"
      ]
     },
     "execution_count": 53,
     "metadata": {},
     "output_type": "execute_result"
    }
   ],
   "source": [
    "np.random.seed(0)\n",
    "params = np.random.normal(0, np.pi, (4, 3))\n",
    "\n",
    "params"
   ]
  },
  {
   "cell_type": "code",
   "execution_count": 30,
   "metadata": {},
   "outputs": [
    {
     "name": "stderr",
     "output_type": "stream",
     "text": [
      "INFO:qu_net_sim:Host QPU_0 started processing\n",
      "INFO:qu_net_sim:Host host_1 started processing\n",
      "INFO:qu_net_sim:host_1 sends BROADCAST message\n",
      "INFO:qu_net_sim:sending ACK:1 from QPU_0 to host_1\n",
      "INFO:qu_net_sim:QPU_0 received {\"QPU_0\": [{\"name\": \"PREPARE_QUBITS\", \"qids\": [\"q_0_0\", \"q_0_1\", \"q_0_2\", \"q_0_3\"], \"cids\": null, \"gate\": null, \"gate_param\": null, \"computing_host_ids\": [\"QPU_0\"], \"pre_allocated_qubits\": false, \"layer_end\": 0}, {\"name\": \"SINGLE\", \"qids\": [\"q_0_0\"], \"cids\": null, \"gate\": \"X\", \"gate_param\": null, \"computing_host_ids\": [\"QPU_0\"], \"pre_allocated_qubits\": false, \"layer_end\": 0}, {\"name\": \"SINGLE\", \"qids\": [\"q_0_1\"], \"cids\": null, \"gate\": \"X\", \"gate_param\": null, \"computing_host_ids\": [\"QPU_0\"], \"pre_allocated_qubits\": false, \"layer_end\": 0}, {\"name\": \"SINGLE\", \"qids\": [\"q_0_0\"], \"cids\": null, \"gate\": \"custom_gate\", \"gate_param\": [[[-0.31798493034765196, 0.7437467353318117], [-0.19454774447448653, -0.5548671488518317]], [[0.19454774447448653, -0.5548671488518317], [-0.31798493034765196, -0.7437467353318117]]], \"computing_host_ids\": [\"QPU_0\"], \"pre_allocated_qubits\": false, \"layer_end\": 1}, {\"name\": \"SINGLE\", \"qids\": [\"q_0_1\"], \"cids\": null, \"gate\": \"custom_gate\", \"gate_param\": [[[0.39367767478169263, 0.8957445465285611], [-0.06940503059650993, 0.19453158476381135]], [[0.06940503059650993, 0.19453158476381135], [0.39367767478169263, -0.8957445465285611]]], \"computing_host_ids\": [\"QPU_0\"], \"pre_allocated_qubits\": false, \"layer_end\": 1}, {\"name\": \"SINGLE\", \"qids\": [\"q_0_2\"], \"cids\": null, \"gate\": \"custom_gate\", \"gate_param\": [[[0.2315227000379894, -0.9438901384346993], [-0.01969801507418892, 0.234692637581541]], [[0.01969801507418892, 0.234692637581541], [0.2315227000379894, 0.9438901384346993]]], \"computing_host_ids\": [\"QPU_0\"], \"pre_allocated_qubits\": false, \"layer_end\": 1}, {\"name\": \"SINGLE\", \"qids\": [\"q_0_3\"], \"cids\": null, \"gate\": \"custom_gate\", \"gate_param\": [[[-0.9526411467473749, -0.20529868550618627], [0.015378497582795967, 0.22380973407198954]], [[-0.015378497582795967, 0.22380973407198954], [-0.9526411467473749, 0.20529868550618627]]], \"computing_host_ids\": [\"QPU_0\"], \"pre_allocated_qubits\": false, \"layer_end\": 1}, {\"name\": \"TWO_QUBIT\", \"qids\": [\"q_0_2\", \"q_0_3\"], \"cids\": null, \"gate\": \"cnot\", \"gate_param\": null, \"computing_host_ids\": [\"QPU_0\"], \"pre_allocated_qubits\": false, \"layer_end\": 2}, {\"name\": \"TWO_QUBIT\", \"qids\": [\"q_0_2\", \"q_0_0\"], \"cids\": null, \"gate\": \"cnot\", \"gate_param\": null, \"computing_host_ids\": [\"QPU_0\"], \"pre_allocated_qubits\": false, \"layer_end\": 3}, {\"name\": \"TWO_QUBIT\", \"qids\": [\"q_0_3\", \"q_0_1\"], \"cids\": null, \"gate\": \"cnot\", \"gate_param\": null, \"computing_host_ids\": [\"QPU_0\"], \"pre_allocated_qubits\": false, \"layer_end\": 4}]} with sequence number 0\n",
      "INFO:qu_net_sim:QPU_0 sends CLASSICAL to host_1 with sequence 0\n",
      "INFO:qu_net_sim:host_1 received ACK from QPU_0 with sequence number 0\n",
      "INFO:qu_net_sim:QPU_0 awaits classical ACK from host_1 with sequence 0\n",
      "INFO:qu_net_sim:sending ACK:1 from host_1 to QPU_0\n",
      "INFO:qu_net_sim:host_1 received ACK with sequence number 0\n",
      "INFO:qu_net_sim:QPU_0 received ACK from host_1 with sequence number 0\n"
     ]
    },
    {
     "data": {
      "text/plain": [
       "-0.8130467032961869"
      ]
     },
     "execution_count": 30,
     "metadata": {},
     "output_type": "execute_result"
    }
   ],
   "source": [
    "cost_fn(params)"
   ]
  },
  {
   "cell_type": "code",
   "execution_count": 31,
   "metadata": {},
   "outputs": [],
   "source": [
    "Logger.DISABLED = True"
   ]
  },
  {
   "cell_type": "markdown",
   "metadata": {},
   "source": [
    "### SciPy Optimisers"
   ]
  },
  {
   "cell_type": "code",
   "execution_count": 32,
   "metadata": {},
   "outputs": [
    {
     "data": {
      "text/plain": [
       "      fun: -1.458543801562212\n",
       " hess_inv: array([[ 1.00000000e+00, -2.24256717e-05, -8.30487729e-11,\n",
       "         1.92964970e-09, -3.79517426e-05,  1.92964975e-09,\n",
       "        -5.82088210e-09, -1.23750444e-06, -5.82088210e-09,\n",
       "        -8.25245758e-11,  3.43949096e-05, -8.25245756e-11],\n",
       "       [-2.24256717e-05,  1.61248569e+00, -2.24256717e-05,\n",
       "        -1.75823127e-06, -1.21038284e-03, -1.75823195e-06,\n",
       "         4.40454955e-06,  4.71932471e-02,  4.40454955e-06,\n",
       "        -2.23978712e-05,  3.12751163e-02, -2.23978712e-05],\n",
       "       [-8.30487729e-11, -2.24256717e-05,  1.00000000e+00,\n",
       "         1.92964970e-09, -3.79517426e-05,  1.92964975e-09,\n",
       "        -5.82088210e-09, -1.23750444e-06, -5.82088210e-09,\n",
       "        -8.25245758e-11,  3.43949096e-05, -8.25245756e-11],\n",
       "       [ 1.92964970e-09, -1.75823127e-06,  1.92964970e-09,\n",
       "         9.99999999e-01,  3.74156326e-06, -7.15521429e-10,\n",
       "         2.02926378e-09, -1.28881277e-06,  2.02926378e-09,\n",
       "         1.92955923e-09,  4.00004971e-06,  1.92955923e-09],\n",
       "       [-3.79517426e-05, -1.21038284e-03, -3.79517426e-05,\n",
       "         3.74156326e-06,  2.08914143e+00,  3.74156204e-06,\n",
       "        -5.52710332e-06,  8.30257035e-04, -5.52710331e-06,\n",
       "        -3.80222067e-05, -3.98591266e-02, -3.80222066e-05],\n",
       "       [ 1.92964975e-09, -1.75823195e-06,  1.92964975e-09,\n",
       "        -7.15521429e-10,  3.74156204e-06,  9.99999999e-01,\n",
       "         2.02926367e-09, -1.28881282e-06,  2.02926367e-09,\n",
       "         1.92955928e-09,  4.00005071e-06,  1.92955928e-09],\n",
       "       [-5.82088210e-09,  4.40454955e-06, -5.82088210e-09,\n",
       "         2.02926378e-09, -5.52710332e-06,  2.02926367e-09,\n",
       "         9.99999994e-01,  2.62835298e-06, -6.00763481e-09,\n",
       "        -5.82050843e-09, -6.96008158e-06, -5.82050844e-09],\n",
       "       [-1.23750444e-06,  4.71932471e-02, -1.23750444e-06,\n",
       "        -1.28881277e-06,  8.30257035e-04, -1.28881282e-06,\n",
       "         2.62835298e-06,  7.48331554e-01,  2.62835298e-06,\n",
       "        -1.25112082e-06,  3.23037594e-02, -1.25112083e-06],\n",
       "       [-5.82088210e-09,  4.40454955e-06, -5.82088210e-09,\n",
       "         2.02926378e-09, -5.52710331e-06,  2.02926367e-09,\n",
       "        -6.00763481e-09,  2.62835298e-06,  9.99999994e-01,\n",
       "        -5.82050843e-09, -6.96008157e-06, -5.82050844e-09],\n",
       "       [-8.25245758e-11, -2.23978712e-05, -8.25245758e-11,\n",
       "         1.92955923e-09, -3.80222067e-05,  1.92955928e-09,\n",
       "        -5.82050843e-09, -1.25112082e-06, -5.82050843e-09,\n",
       "         1.00000000e+00,  3.43808347e-05, -8.20087386e-11],\n",
       "       [ 3.43949096e-05,  3.12751163e-02,  3.43949096e-05,\n",
       "         4.00004971e-06, -3.98591266e-02,  4.00005071e-06,\n",
       "        -6.96008158e-06,  3.23037594e-02, -6.96008157e-06,\n",
       "         3.43808347e-05,  1.39405769e+00,  3.43808348e-05],\n",
       "       [-8.25245756e-11, -2.23978712e-05, -8.25245756e-11,\n",
       "         1.92955923e-09, -3.80222066e-05,  1.92955928e-09,\n",
       "        -5.82050844e-09, -1.25112083e-06, -5.82050844e-09,\n",
       "        -8.20087386e-11,  3.43808348e-05,  1.00000000e+00]])\n",
       "      jac: array([0.00000000e+00, 8.94069672e-08, 0.00000000e+00, 0.00000000e+00,\n",
       "       1.32620335e-06, 0.00000000e+00, 0.00000000e+00, 0.00000000e+00,\n",
       "       0.00000000e+00, 0.00000000e+00, 1.77323818e-06, 0.00000000e+00])\n",
       "  message: 'Optimization terminated successfully.'\n",
       "     nfev: 130\n",
       "      nit: 9\n",
       "     njev: 10\n",
       "   status: 0\n",
       "  success: True\n",
       "        x: array([ 5.54193388e+00,  1.38196422e-07,  3.07479605e+00,  7.03997358e+00,\n",
       "        6.28318811e+00, -3.07020904e+00,  2.98479085e+00,  1.44175674e-08,\n",
       "       -3.24271526e-01,  1.28993326e+00,  2.51136198e-06,  4.56873498e+00])"
      ]
     },
     "execution_count": 32,
     "metadata": {},
     "output_type": "execute_result"
    }
   ],
   "source": [
    "from scipy.optimize import minimize\n",
    "minimum_bfgs = minimize(cost_fn, params, method=\"BFGS\", tol=1e-4)\n",
    "\n",
    "minimum_bfgs"
   ]
  },
  {
   "cell_type": "code",
   "execution_count": 33,
   "metadata": {},
   "outputs": [
    {
     "data": {
      "text/plain": [
       "array([[ 5.54193388e+00,  1.38196422e-07,  3.07479605e+00],\n",
       "       [ 7.03997358e+00,  6.28318811e+00, -3.07020904e+00],\n",
       "       [ 2.98479085e+00,  1.44175674e-08, -3.24271526e-01],\n",
       "       [ 1.28993326e+00,  2.51136198e-06,  4.56873498e+00]])"
      ]
     },
     "execution_count": 33,
     "metadata": {},
     "output_type": "execute_result"
    }
   ],
   "source": [
    "minimum_bfgs.x.reshape(4,3)"
   ]
  },
  {
   "cell_type": "code",
   "execution_count": 34,
   "metadata": {},
   "outputs": [
    {
     "data": {
      "text/plain": [
       "   direc: array([[1., 0., 0., 0., 0., 0., 0., 0., 0., 0., 0., 0.],\n",
       "       [0., 1., 0., 0., 0., 0., 0., 0., 0., 0., 0., 0.],\n",
       "       [0., 0., 1., 0., 0., 0., 0., 0., 0., 0., 0., 0.],\n",
       "       [0., 0., 0., 1., 0., 0., 0., 0., 0., 0., 0., 0.],\n",
       "       [0., 0., 0., 0., 1., 0., 0., 0., 0., 0., 0., 0.],\n",
       "       [0., 0., 0., 0., 0., 1., 0., 0., 0., 0., 0., 0.],\n",
       "       [0., 0., 0., 0., 0., 0., 1., 0., 0., 0., 0., 0.],\n",
       "       [0., 0., 0., 0., 0., 0., 0., 1., 0., 0., 0., 0.],\n",
       "       [0., 0., 0., 0., 0., 0., 0., 0., 1., 0., 0., 0.],\n",
       "       [0., 0., 0., 0., 0., 0., 0., 0., 0., 1., 0., 0.],\n",
       "       [0., 0., 0., 0., 0., 0., 0., 0., 0., 0., 1., 0.],\n",
       "       [0., 0., 0., 0., 0., 0., 0., 0., 0., 0., 0., 1.]])\n",
       "     fun: -1.4585438015626593\n",
       " message: 'Optimization terminated successfully.'\n",
       "    nfev: 354\n",
       "     nit: 2\n",
       "  status: 0\n",
       " success: True\n",
       "       x: array([ 8.64960745e+00, -3.37645419e-06,  6.50184703e+00,  1.04498037e+01,\n",
       "        6.28318531e+00,  4.49597326e-01,  4.05775526e+00, -8.15788377e-11,\n",
       "        2.26365738e+00,  6.37968963e-01,  2.44609655e-10,  6.60317682e+00])"
      ]
     },
     "execution_count": 34,
     "metadata": {},
     "output_type": "execute_result"
    }
   ],
   "source": [
    "from scipy.optimize import minimize\n",
    "minimum_powell = minimize(cost_fn, params, method=\"Powell\", tol=1e-4)\n",
    "\n",
    "minimum_powell"
   ]
  },
  {
   "cell_type": "code",
   "execution_count": 35,
   "metadata": {},
   "outputs": [
    {
     "data": {
      "text/plain": [
       "array([[ 8.64960745e+00, -3.37645419e-06,  6.50184703e+00],\n",
       "       [ 1.04498037e+01,  6.28318531e+00,  4.49597326e-01],\n",
       "       [ 4.05775526e+00, -8.15788377e-11,  2.26365738e+00],\n",
       "       [ 6.37968963e-01,  2.44609655e-10,  6.60317682e+00]])"
      ]
     },
     "execution_count": 35,
     "metadata": {},
     "output_type": "execute_result"
    }
   ],
   "source": [
    "minimum_powell.x.reshape(4,3)"
   ]
  },
  {
   "cell_type": "code",
   "execution_count": 36,
   "metadata": {},
   "outputs": [
    {
     "data": {
      "text/plain": [
       "     fun: -1.458543800271009\n",
       "   maxcv: 0.0\n",
       " message: 'Optimization terminated successfully.'\n",
       "    nfev: 191\n",
       "  status: 1\n",
       " success: True\n",
       "       x: array([[ 5.55694514e+00, -7.61630109e-06,  4.28383432e+00],\n",
       "       [ 6.28318768e+00,  5.80744365e+00, -3.31610951e+00],\n",
       "       [ 2.96686515e+00, -1.04722187e+00,  1.59533893e-05],\n",
       "       [ 9.63660043e-01,  4.09808099e-05,  4.04340722e+00]])"
      ]
     },
     "execution_count": 36,
     "metadata": {},
     "output_type": "execute_result"
    }
   ],
   "source": [
    "from scipy.optimize import minimize\n",
    "minimum_cobyla = minimize(cost_fn, params, method=\"COBYLA\", tol=1e-4)\n",
    "\n",
    "minimum_cobyla"
   ]
  },
  {
   "cell_type": "code",
   "execution_count": 37,
   "metadata": {},
   "outputs": [
    {
     "data": {
      "text/plain": [
       "array([[ 5.55694514e+00, -7.61630109e-06,  4.28383432e+00],\n",
       "       [ 6.28318768e+00,  5.80744365e+00, -3.31610951e+00],\n",
       "       [ 2.96686515e+00, -1.04722187e+00,  1.59533893e-05],\n",
       "       [ 9.63660043e-01,  4.09808099e-05,  4.04340722e+00]])"
      ]
     },
     "execution_count": 37,
     "metadata": {},
     "output_type": "execute_result"
    }
   ],
   "source": [
    "minimum_cobyla.x.reshape(4,3)"
   ]
  },
  {
   "cell_type": "markdown",
   "metadata": {},
   "source": [
    "### Scikit-Quant Optimisers"
   ]
  },
  {
   "cell_type": "code",
   "execution_count": 39,
   "metadata": {},
   "outputs": [],
   "source": [
    "from skquant.interop.scipy import *"
   ]
  },
  {
   "cell_type": "code",
   "execution_count": 55,
   "metadata": {},
   "outputs": [],
   "source": [
    "bounds = np.array([-3*np.pi, 3*np.pi])\n",
    "bounds = np.tile(bounds, (4*3, 1))\n",
    "\n",
    "flattened_parameters = params.flatten()"
   ]
  },
  {
   "cell_type": "code",
   "execution_count": 62,
   "metadata": {},
   "outputs": [
    {
     "data": {
      "text/plain": [
       "     fun: -1.4445764338083213\n",
       " message: 'completed'\n",
       "    nfev: 211\n",
       "  status: 0\n",
       " success: True\n",
       "       x: array([ 7.89812838,  6.26098538,  3.07479606,  7.03997361,  6.17929048,\n",
       "       -3.07020901,  4.16288804, -0.12577207, -0.32427159,  1.58445755,\n",
       "        0.01826838,  4.56873497])"
      ]
     },
     "execution_count": 62,
     "metadata": {},
     "output_type": "execute_result"
    }
   ],
   "source": [
    "budget = 200\n",
    "minimum_imfil = minimize(cost_fn, flattened_parameters, method=imfil, bounds=bounds, options={'budget' : budget})\n",
    "\n",
    "minimum_imfil"
   ]
  },
  {
   "cell_type": "code",
   "execution_count": 58,
   "metadata": {},
   "outputs": [
    {
     "data": {
      "text/plain": [
       "     fun: -1.4363382013118617\n",
       " message: 'completed'\n",
       "    nfev: 100\n",
       "  status: 0\n",
       " success: True\n",
       "       x: array([ 5.54193389, -0.1618809 ,  3.07479606,  7.03997361,  6.30027281,\n",
       "       -3.07020901,  2.98479079,  0.13890872, -0.32427159,  1.28993324,\n",
       "       -0.02506119,  4.56873497])"
      ]
     },
     "execution_count": 58,
     "metadata": {},
     "output_type": "execute_result"
    }
   ],
   "source": [
    "budget = 100\n",
    "minimum_bobyqa = minimize(cost_fn, flattened_parameters, method=pybobyqa, bounds=bounds, options={'budget' : budget})\n",
    "\n",
    "minimum_bobyqa"
   ]
  },
  {
   "cell_type": "code",
   "execution_count": 61,
   "metadata": {},
   "outputs": [
    {
     "data": {
      "text/plain": [
       "     fun: -1.3371320476152808\n",
       " message: 'completed'\n",
       "    nfev: 211\n",
       "  status: 0\n",
       " success: True\n",
       "       x: array([-5.50011192,  0.33891502, -4.96874294,  4.34972352, -6.29650566,\n",
       "       -4.42851467,  1.59863084, -5.96739241, -3.51657315,  3.89921914,\n",
       "       -6.50648971, -6.01809772])"
      ]
     },
     "execution_count": 61,
     "metadata": {},
     "output_type": "execute_result"
    }
   ],
   "source": [
    "budget = 200\n",
    "minimum_snobfit = minimize(cost_fn, flattened_parameters, method=snobfit, bounds=bounds, options={'budget' : budget})\n",
    "\n",
    "minimum_snobfit"
   ]
  },
  {
   "cell_type": "markdown",
   "metadata": {},
   "source": [
    "### Gradient Descent Optimisers "
   ]
  },
  {
   "cell_type": "code",
   "execution_count": 38,
   "metadata": {},
   "outputs": [
    {
     "name": "stderr",
     "output_type": "stream",
     "text": [
      "ERROR:root:No traceback has been produced, nothing to debug.\n"
     ]
    }
   ],
   "source": [
    "%debug\n",
    "#max_iterations = 200\n",
    "#conv_tol = 1e-06\n",
    "\n",
    "#for n in range(max_iterations):\n",
    "#    params, prev_energy = opt.step_and_cost(cost_fn, params)\n",
    "#    energy = cost_fn(params)\n",
    "#    conv = np.abs(energy - prev_energy)\n",
    "\n",
    "#    if n % 20 == 0:\n",
    "#        print('Iteration = {:},  Energy = {:.8f} Ha'.format(n, energy))\n",
    "\n",
    "#    if conv <= conv_tol:\n",
    "#        break"
   ]
  }
 ],
 "metadata": {
  "kernelspec": {
   "display_name": "Python 3",
   "language": "python",
   "name": "python3"
  },
  "language_info": {
   "codemirror_mode": {
    "name": "ipython",
    "version": 3
   },
   "file_extension": ".py",
   "mimetype": "text/x-python",
   "name": "python",
   "nbconvert_exporter": "python",
   "pygments_lexer": "ipython3",
   "version": "3.8.5"
  }
 },
 "nbformat": 4,
 "nbformat_minor": 2
}
