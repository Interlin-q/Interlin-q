{
 "cells": [
  {
   "cell_type": "markdown",
   "metadata": {},
   "source": [
    "# Single QPU VQE experiment (Manual Version)\n",
    "\n",
    "This notebook goes through the running of a VQE algorithm using interlin-q. For simplicity, we only try out using one QPU. This version goes through the calculation of the expectation values manually, by explicitly calling the backend and passing the density matrices and the list of observables.\n",
    "\n",
    "For an example of how to use the networking protocols to calculate expectation values individually on the different QPUs and then sending back the results to the controller host, check out the other notebooks, with the name \"networking\"."
   ]
  },
  {
   "cell_type": "markdown",
   "metadata": {},
   "source": [
    "## Step 1: Import libraries.\n",
    "\n",
    "First we import all the necessary libraries. Interlin-q is build using the python framework [QuNetSim](https://arxiv.org/abs/2003.06397) which is a python software framework that can be used to simulate quantum networks up to the network layer. We also need PennyLane's chemistry library for decomposing the Hamiltonian. We would also use PennyLane for the optimiser component"
   ]
  },
  {
   "cell_type": "code",
   "execution_count": 1,
   "metadata": {},
   "outputs": [],
   "source": [
    "%load_ext autoreload\n",
    "%autoreload 2\n",
    "\n",
    "# Basic Libraries\n",
    "import sys\n",
    "import numpy as np\n",
    "sys.path.append(\"../../\")\n",
    "\n",
    "# QuNetSim Components\n",
    "from qunetsim.components import Network\n",
    "from qunetsim.objects import Logger\n",
    "from qunetsim.backends.eqsn_backend import EQSNBackend\n",
    "\n",
    "# Interlin-q Components\n",
    "from interlinq import (ControllerHost, Constants, Clock,\n",
    "Circuit, Layer, ComputingHost, Operation)\n",
    "\n",
    "# Extra needed components\n",
    "from hamiltonian_decomposition import decompose\n",
    "\n",
    "Logger.DISABLED = False"
   ]
  },
  {
   "cell_type": "markdown",
   "metadata": {},
   "source": [
    "## Step 2: Decompose the Hamiltonian."
   ]
  },
  {
   "cell_type": "code",
   "execution_count": 2,
   "metadata": {},
   "outputs": [],
   "source": [
    "geometry = 'h2.xyz'\n",
    "charge = 0\n",
    "multiplicity = 1\n",
    "basis_set = 'sto-3g'\n",
    "name = 'h2'"
   ]
  },
  {
   "cell_type": "code",
   "execution_count": 3,
   "metadata": {},
   "outputs": [
    {
     "data": {
      "text/plain": [
       "[(-0.04207897647782276, [('Identity', 0)]),\n",
       " (0.17771287465139946, [('PauliZ', 0)]),\n",
       " (0.1777128746513994, [('PauliZ', 1)]),\n",
       " (-0.24274280513140462, [('PauliZ', 2)]),\n",
       " (-0.24274280513140462, [('PauliZ', 3)]),\n",
       " (0.17059738328801052, [('PauliZ', 0), ('PauliZ', 1)]),\n",
       " (0.04475014401535161,\n",
       "  [('PauliY', 0), ('PauliX', 1), ('PauliX', 2), ('PauliY', 3)]),\n",
       " (-0.04475014401535161,\n",
       "  [('PauliY', 0), ('PauliY', 1), ('PauliX', 2), ('PauliX', 3)]),\n",
       " (-0.04475014401535161,\n",
       "  [('PauliX', 0), ('PauliX', 1), ('PauliY', 2), ('PauliY', 3)]),\n",
       " (0.04475014401535161,\n",
       "  [('PauliX', 0), ('PauliY', 1), ('PauliY', 2), ('PauliX', 3)]),\n",
       " (0.12293305056183798, [('PauliZ', 0), ('PauliZ', 2)]),\n",
       " (0.1676831945771896, [('PauliZ', 0), ('PauliZ', 3)]),\n",
       " (0.1676831945771896, [('PauliZ', 1), ('PauliZ', 2)]),\n",
       " (0.12293305056183798, [('PauliZ', 1), ('PauliZ', 3)]),\n",
       " (0.17627640804319591, [('PauliZ', 2), ('PauliZ', 3)])]"
      ]
     },
     "execution_count": 3,
     "metadata": {},
     "output_type": "execute_result"
    }
   ],
   "source": [
    "coefficients, observables, qubit_num = decompose(name, geometry, charge, multiplicity, basis_set)\n",
    "terms = list(zip(coefficients, observables))\n",
    "\n",
    "terms"
   ]
  },
  {
   "cell_type": "markdown",
   "metadata": {},
   "source": [
    "## Step 3: Prepare Circuit for Given Parameters"
   ]
  },
  {
   "cell_type": "markdown",
   "metadata": {},
   "source": [
    "The circuit can be prepared using two different ways: either as one circuit, or several circuits run sequentially. The former approach is simpler and generally better for the optimisation function. The latter is better for debugging and for dynamic components of a quantum circuit (i.e. circuits that have a lot of changing operations)."
   ]
  },
  {
   "cell_type": "markdown",
   "metadata": {},
   "source": [
    "### Main Blocks"
   ]
  },
  {
   "cell_type": "code",
   "execution_count": 4,
   "metadata": {},
   "outputs": [],
   "source": [
    "def rotational_gate(params):\n",
    "    phi, theta, omega = params\n",
    "    cos = np.cos(theta / 2)\n",
    "    sin = np.sin(theta / 2)\n",
    "    \n",
    "    res = np.array([[np.exp(-1j * (phi + omega) / 2) * cos, -np.exp(1j * (phi - omega) / 2) * sin], \n",
    "                     [np.exp(-1j * (phi - omega) / 2) * sin, np.exp(1j * (phi + omega) / 2) * cos]])\n",
    "    \n",
    "    return res"
   ]
  },
  {
   "cell_type": "code",
   "execution_count": 5,
   "metadata": {},
   "outputs": [],
   "source": [
    "def initialisation_operations(q_map):\n",
    "    ops = []\n",
    "    host_id = list(q_map.keys())[0]\n",
    "    \n",
    "    op = Operation(\n",
    "        name=Constants.PREPARE_QUBITS,\n",
    "        qids=q_map[host_id],\n",
    "        computing_host_ids=[host_id])\n",
    "    ops.append(op)\n",
    "    \n",
    "    ### Workaround for a bug in EQSN\n",
    "    op = Operation(\n",
    "        name=Constants.TWO_QUBIT,\n",
    "        qids=[q_map[host_id][0], q_map[host_id][1]],\n",
    "        gate=Operation.CNOT,\n",
    "        computing_host_ids=[host_id])\n",
    "    ops.append(op)\n",
    "    \n",
    "    op = Operation(\n",
    "        name=Constants.TWO_QUBIT,\n",
    "        qids=[q_map[host_id][0], q_map[host_id][2]],\n",
    "        gate=Operation.CNOT,\n",
    "        computing_host_ids=[host_id])\n",
    "    ops.append(op)\n",
    "    \n",
    "    op = Operation(\n",
    "        name=Constants.TWO_QUBIT,\n",
    "        qids=[q_map[host_id][0], q_map[host_id][3]],\n",
    "        gate=Operation.CNOT,\n",
    "        computing_host_ids=[host_id])\n",
    "    ops.append(op)\n",
    "    ################################\n",
    "    \n",
    "    # Prepare the qubits on the computing host\n",
    "    op = Operation(\n",
    "        name=Constants.SINGLE,\n",
    "        qids=[q_map[host_id][0]],\n",
    "        gate=Operation.X,\n",
    "        computing_host_ids=[host_id])\n",
    "    ops.append(op)\n",
    "    \n",
    "    op = Operation(\n",
    "        name=Constants.SINGLE,\n",
    "        qids=[q_map[host_id][1]],\n",
    "        gate=Operation.X,\n",
    "        computing_host_ids=[host_id])\n",
    "    ops.append(op)\n",
    "    \n",
    "    return Layer(ops)"
   ]
  },
  {
   "cell_type": "code",
   "execution_count": 6,
   "metadata": {},
   "outputs": [],
   "source": [
    "def ansatz_operations(q_map, parameters):\n",
    "    layers = []\n",
    "    host_id = list(q_map.keys())[0]\n",
    "    \n",
    "    \n",
    "    ops = []\n",
    "    \n",
    "    for i in range(len(q_map[host_id])):\n",
    "        op = Operation(\n",
    "            name=Constants.SINGLE,\n",
    "            qids=[q_map[host_id][i]],\n",
    "            gate=Operation.CUSTOM,\n",
    "            gate_param=rotational_gate(parameters[i]),\n",
    "            computing_host_ids=[host_id])\n",
    "        \n",
    "        ops.append(op)\n",
    "        \n",
    "    layers.append(Layer(ops))\n",
    "    \n",
    "    \n",
    "    op = Operation(\n",
    "        name=Constants.TWO_QUBIT,\n",
    "        qids=[q_map[host_id][2], q_map[host_id][3]],\n",
    "        gate=Operation.CNOT,\n",
    "        computing_host_ids=[host_id])\n",
    "    \n",
    "    layers.append(Layer([op]))\n",
    "    \n",
    "    \n",
    "    op = Operation(\n",
    "        name=Constants.TWO_QUBIT,\n",
    "        qids=[q_map[host_id][2], q_map[host_id][0]],\n",
    "        gate=Operation.CNOT,\n",
    "        computing_host_ids=[host_id])\n",
    "    \n",
    "    layers.append(Layer([op]))\n",
    "    \n",
    "    op = Operation(\n",
    "        name=Constants.TWO_QUBIT,\n",
    "        qids=[q_map[host_id][3], q_map[host_id][1]],\n",
    "        gate=Operation.CNOT,\n",
    "        computing_host_ids=[host_id])\n",
    "    \n",
    "    layers.append(Layer([op]))\n",
    "    \n",
    "    return layers"
   ]
  },
  {
   "cell_type": "code",
   "execution_count": 7,
   "metadata": {},
   "outputs": [],
   "source": [
    "def measurement_operations(q_map):\n",
    "    ops = []\n",
    "    # Measuring only the first qubit\n",
    "    op = Operation(\n",
    "        name=Constants.MEASURE,\n",
    "        qids=['q_0_0'],\n",
    "        cids=['q_0_0'],\n",
    "        computing_host_ids=[host_id])\n",
    "    ops.append(op)\n",
    "    layers.append(Layer(ops))\n",
    "    \n",
    "    # Measuring all qubits\n",
    "    q_ids = q_map[host_id].copy()\n",
    "    ops = []\n",
    "    for q_id in q_ids:\n",
    "        op = Operation(\n",
    "            name=Constants.MEASURE,\n",
    "            qids=[q_id],\n",
    "            cids=[q_id],\n",
    "            computing_host_ids=[computing_host_ids[0]])\n",
    "        ops.append(op)\n",
    "        \n",
    "    return Layer(ops)"
   ]
  },
  {
   "cell_type": "markdown",
   "metadata": {},
   "source": [
    "### Single-step approach"
   ]
  },
  {
   "cell_type": "code",
   "execution_count": 8,
   "metadata": {},
   "outputs": [],
   "source": [
    "def initialise_and_create_ansatz(q_map, parameters):\n",
    "    layers = []\n",
    "    host_id = list(q_map.keys())[0]\n",
    "    \n",
    "    # Initialise the qubits on the computing host\n",
    "    layers.append(initialisation_operations(q_map))\n",
    "    \n",
    "    # Apply the ansatz\n",
    "    layers = layers + ansatz_operations(q_map, parameters)\n",
    "    \n",
    "    circuit = Circuit(q_map, layers)\n",
    "    return circuit"
   ]
  },
  {
   "cell_type": "code",
   "execution_count": 9,
   "metadata": {},
   "outputs": [],
   "source": [
    "def controller_host_protocol(host, q_map, params):\n",
    "    \"\"\"\n",
    "    Protocol for the controller host\n",
    "    \"\"\"\n",
    "    \n",
    "    monolithic_circuit = initialise_and_create_ansatz(q_map, params)\n",
    "\n",
    "    host.generate_and_send_schedules(monolithic_circuit)"
   ]
  },
  {
   "cell_type": "code",
   "execution_count": 10,
   "metadata": {},
   "outputs": [],
   "source": [
    "def computing_host_protocol(host):\n",
    "    host.receive_schedule()"
   ]
  },
  {
   "cell_type": "markdown",
   "metadata": {},
   "source": [
    "## Step 4: Run the circuit and get the Expectation Value"
   ]
  },
  {
   "cell_type": "code",
   "execution_count": 11,
   "metadata": {},
   "outputs": [],
   "source": [
    "def init_network():\n",
    "    network = Network.get_instance()\n",
    "    network.delay = 0\n",
    "    network.start()\n",
    "\n",
    "    clock = Clock()\n",
    "\n",
    "    eqsn = EQSNBackend()\n",
    "\n",
    "    controller_host = ControllerHost(\n",
    "        host_id=\"host_1\",\n",
    "        clock=clock, \n",
    "        backend=eqsn\n",
    "    )\n",
    "\n",
    "    computing_hosts, q_map = controller_host.create_distributed_network(\n",
    "        num_computing_hosts=1,\n",
    "        num_qubits_per_host=4)\n",
    "    controller_host.start()\n",
    "\n",
    "    network.add_hosts([\n",
    "        computing_hosts[0],\n",
    "        controller_host])\n",
    "    \n",
    "    return clock, controller_host, computing_hosts, q_map"
   ]
  },
  {
   "cell_type": "code",
   "execution_count": 12,
   "metadata": {},
   "outputs": [],
   "source": [
    "np.random.seed(0)\n",
    "params = np.random.normal(0, np.pi, (4, 3))"
   ]
  },
  {
   "cell_type": "markdown",
   "metadata": {},
   "source": [
    "### Running for the single-step approach"
   ]
  },
  {
   "cell_type": "code",
   "execution_count": 13,
   "metadata": {},
   "outputs": [
    {
     "name": "stderr",
     "output_type": "stream",
     "text": [
      "2021-06-12 15:43:34,628: Host QPU_0 started processing\n",
      "2021-06-12 15:43:34,629: Host host_1 started processing\n"
     ]
    }
   ],
   "source": [
    "clock, controller_host, computing_hosts, q_map = init_network()"
   ]
  },
  {
   "cell_type": "code",
   "execution_count": 14,
   "metadata": {},
   "outputs": [
    {
     "name": "stderr",
     "output_type": "stream",
     "text": [
      "2021-06-12 15:43:35,035: host_1 sends BROADCAST message\n",
      "2021-06-12 15:43:35,088: sending ACK:1 from QPU_0 to host_1\n",
      "2021-06-12 15:43:35,115: host_1 received ACK from QPU_0 with sequence number 0\n",
      "2021-06-12 15:43:35,115: QPU_0 received {\"QPU_0\": [{\"name\": \"PREPARE_QUBITS\", \"qids\": [\"q_0_0\", \"q_0_1\", \"q_0_2\", \"q_0_3\"], \"cids\": null, \"gate\": null, \"gate_param\": null, \"computing_host_ids\": [\"QPU_0\"], \"pre_allocated_qubits\": false, \"layer_end\": 0}, {\"name\": \"TWO_QUBIT\", \"qids\": [\"q_0_0\", \"q_0_1\"], \"cids\": null, \"gate\": \"cnot\", \"gate_param\": null, \"computing_host_ids\": [\"QPU_0\"], \"pre_allocated_qubits\": false, \"layer_end\": 0}, {\"name\": \"TWO_QUBIT\", \"qids\": [\"q_0_0\", \"q_0_2\"], \"cids\": null, \"gate\": \"cnot\", \"gate_param\": null, \"computing_host_ids\": [\"QPU_0\"], \"pre_allocated_qubits\": false, \"layer_end\": 0}, {\"name\": \"TWO_QUBIT\", \"qids\": [\"q_0_0\", \"q_0_3\"], \"cids\": null, \"gate\": \"cnot\", \"gate_param\": null, \"computing_host_ids\": [\"QPU_0\"], \"pre_allocated_qubits\": false, \"layer_end\": 0}, {\"name\": \"SINGLE\", \"qids\": [\"q_0_0\"], \"cids\": null, \"gate\": \"X\", \"gate_param\": null, \"computing_host_ids\": [\"QPU_0\"], \"pre_allocated_qubits\": false, \"layer_end\": 0}, {\"name\": \"SINGLE\", \"qids\": [\"q_0_1\"], \"cids\": null, \"gate\": \"X\", \"gate_param\": null, \"computing_host_ids\": [\"QPU_0\"], \"pre_allocated_qubits\": false, \"layer_end\": 0}, {\"name\": \"SINGLE\", \"qids\": [\"q_0_0\"], \"cids\": null, \"gate\": \"custom_gate\", \"gate_param\": [[[-0.31798493034765196, 0.7437467353318117], [-0.19454774447448653, -0.5548671488518317]], [[0.19454774447448653, -0.5548671488518317], [-0.31798493034765196, -0.7437467353318117]]], \"computing_host_ids\": [\"QPU_0\"], \"pre_allocated_qubits\": false, \"layer_end\": 1}, {\"name\": \"SINGLE\", \"qids\": [\"q_0_1\"], \"cids\": null, \"gate\": \"custom_gate\", \"gate_param\": [[[0.39367767478169263, 0.8957445465285611], [-0.06940503059650993, 0.19453158476381135]], [[0.06940503059650993, 0.19453158476381135], [0.39367767478169263, -0.8957445465285611]]], \"computing_host_ids\": [\"QPU_0\"], \"pre_allocated_qubits\": false, \"layer_end\": 1}, {\"name\": \"SINGLE\", \"qids\": [\"q_0_2\"], \"cids\": null, \"gate\": \"custom_gate\", \"gate_param\": [[[0.2315227000379894, -0.9438901384346993], [-0.01969801507418892, 0.234692637581541]], [[0.01969801507418892, 0.234692637581541], [0.2315227000379894, 0.9438901384346993]]], \"computing_host_ids\": [\"QPU_0\"], \"pre_allocated_qubits\": false, \"layer_end\": 1}, {\"name\": \"SINGLE\", \"qids\": [\"q_0_3\"], \"cids\": null, \"gate\": \"custom_gate\", \"gate_param\": [[[-0.9526411467473749, -0.20529868550618627], [0.015378497582795967, 0.22380973407198954]], [[-0.015378497582795967, 0.22380973407198954], [-0.9526411467473749, 0.20529868550618627]]], \"computing_host_ids\": [\"QPU_0\"], \"pre_allocated_qubits\": false, \"layer_end\": 1}, {\"name\": \"TWO_QUBIT\", \"qids\": [\"q_0_2\", \"q_0_3\"], \"cids\": null, \"gate\": \"cnot\", \"gate_param\": null, \"computing_host_ids\": [\"QPU_0\"], \"pre_allocated_qubits\": false, \"layer_end\": 2}, {\"name\": \"TWO_QUBIT\", \"qids\": [\"q_0_2\", \"q_0_0\"], \"cids\": null, \"gate\": \"cnot\", \"gate_param\": null, \"computing_host_ids\": [\"QPU_0\"], \"pre_allocated_qubits\": false, \"layer_end\": 3}, {\"name\": \"TWO_QUBIT\", \"qids\": [\"q_0_3\", \"q_0_1\"], \"cids\": null, \"gate\": \"cnot\", \"gate_param\": null, \"computing_host_ids\": [\"QPU_0\"], \"pre_allocated_qubits\": false, \"layer_end\": 4}]} with sequence number 0\n",
      "2021-06-12 15:43:35,116: QPU_0 sends CLASSICAL to host_1 with sequence 0\n",
      "2021-06-12 15:43:35,118: QPU_0 awaits classical ACK from host_1 with sequence 0\n",
      "2021-06-12 15:43:35,119: sending ACK:1 from host_1 to QPU_0\n",
      "2021-06-12 15:43:35,120: host_1 received ACK with sequence number 0\n",
      "2021-06-12 15:43:35,121: QPU_0 received ACK from host_1 with sequence number 0\n"
     ]
    }
   ],
   "source": [
    "t1 = controller_host.run_protocol(\n",
    "    controller_host_protocol,\n",
    "    (q_map, params))\n",
    "t2 = computing_hosts[0].run_protocol(computing_host_protocol)\n",
    "\n",
    "t1.join()\n",
    "t2.join()"
   ]
  },
  {
   "cell_type": "code",
   "execution_count": 15,
   "metadata": {},
   "outputs": [
    {
     "data": {
      "text/plain": [
       "6"
      ]
     },
     "execution_count": 15,
     "metadata": {},
     "output_type": "execute_result"
    }
   ],
   "source": [
    "# This should be 7 after the first invocation. \n",
    "# For any further invocations, it would increase by 6: 13,19, 25, etc. So is that expected behaviour?\n",
    "clock.ticks"
   ]
  },
  {
   "cell_type": "markdown",
   "metadata": {},
   "source": [
    "### Using qutip to get the expectation value"
   ]
  },
  {
   "cell_type": "code",
   "execution_count": 16,
   "metadata": {},
   "outputs": [],
   "source": [
    "from qutip import identity, sigmax, sigmay, sigmaz\n",
    "from qutip import expect\n",
    "from qutip import tensor\n",
    "\n",
    "def string_to_qutip_pauli(string):\n",
    "    if string == 'Identity':\n",
    "        return identity(2)\n",
    "    if string == 'PauliX':\n",
    "        return sigmax()\n",
    "    if string == 'PauliY':\n",
    "        return sigmay()\n",
    "    if string == 'PauliZ':\n",
    "        return sigmaz()\n",
    "\n",
    "def expectation_value(terms, vector, number_of_qubits):\n",
    "    total = 0\n",
    "\n",
    "    for term in terms:\n",
    "        coefficient, observables = term\n",
    "\n",
    "        obs_tensor_prod = []\n",
    "\n",
    "        for _ in range(number_of_qubits):\n",
    "            obs_tensor_prod.append(identity(2))\n",
    "        \n",
    "        for obs in observables:\n",
    "            pauli, index = obs\n",
    "            \n",
    "            obs_tensor_prod[index] = string_to_qutip_pauli(pauli)\n",
    "\n",
    "        obs_tensor_prod = tensor(obs_tensor_prod)\n",
    "        \n",
    "        total += coefficient * np.vdot(vector, obs_tensor_prod @ vector) \n",
    "        \n",
    "    return total"
   ]
  },
  {
   "cell_type": "code",
   "execution_count": 17,
   "metadata": {},
   "outputs": [
    {
     "data": {
      "text/plain": [
       "[<qunetsim.objects.qubit.Qubit at 0x7f3e61473d60>,\n",
       " <qunetsim.objects.qubit.Qubit at 0x7f3e614730d0>,\n",
       " <qunetsim.objects.qubit.Qubit at 0x7f3e60c02310>,\n",
       " <qunetsim.objects.qubit.Qubit at 0x7f3e60c025e0>]"
      ]
     },
     "execution_count": 17,
     "metadata": {},
     "output_type": "execute_result"
    }
   ],
   "source": [
    "indices = []\n",
    "\n",
    "for qubit_id in computing_hosts[0].qubit_ids:\n",
    "    indices.append(computing_hosts[0].get_qubit_by_id(qubit_id))\n",
    "\n",
    "indices"
   ]
  },
  {
   "cell_type": "code",
   "execution_count": 18,
   "metadata": {},
   "outputs": [],
   "source": [
    "vector = computing_hosts[0].backend.statevector(indices[0])[1]"
   ]
  },
  {
   "cell_type": "code",
   "execution_count": 19,
   "metadata": {},
   "outputs": [
    {
     "data": {
      "text/plain": [
       "(-0.8074697622991748+4.657747522606407e-19j)"
      ]
     },
     "execution_count": 19,
     "metadata": {},
     "output_type": "execute_result"
    }
   ],
   "source": [
    "obser = expectation_value(terms, vector, 4)\n",
    "\n",
    "obser"
   ]
  },
  {
   "cell_type": "markdown",
   "metadata": {},
   "source": [
    "## Optimise"
   ]
  },
  {
   "cell_type": "code",
   "execution_count": 20,
   "metadata": {},
   "outputs": [],
   "source": [
    "def cost_fn(params):\n",
    "    params = params.reshape(4, 3)\n",
    "    \n",
    "    network = Network.get_instance()\n",
    "    network.delay = 0\n",
    "    network.start()\n",
    "\n",
    "    clock = Clock()\n",
    "\n",
    "    eqsn = EQSNBackend()\n",
    "\n",
    "    controller_host = ControllerHost(\n",
    "        host_id=\"host_1\",\n",
    "        clock=clock, \n",
    "        backend=eqsn\n",
    "    )\n",
    "    \n",
    "    qubits = 4\n",
    "\n",
    "    computing_hosts, q_map = controller_host.create_distributed_network(\n",
    "        num_computing_hosts=1,\n",
    "        num_qubits_per_host=qubits)\n",
    "    controller_host.start()\n",
    "\n",
    "    network.add_hosts([\n",
    "        computing_hosts[0],\n",
    "        controller_host])\n",
    "    \n",
    "    t1 = controller_host.run_protocol(\n",
    "    controller_host_protocol,\n",
    "    (q_map, params))\n",
    "    t2 = computing_hosts[0].run_protocol(computing_host_protocol)\n",
    "\n",
    "    t1.join()\n",
    "    t2.join()\n",
    "    \n",
    "    indices = []\n",
    "\n",
    "    for qubit_id in computing_hosts[0].qubit_ids:\n",
    "        indices.append(computing_hosts[0].get_qubit_by_id(qubit_id))\n",
    "    \n",
    "    vector = computing_hosts[0].backend.statevector(indices[0])[1]\n",
    "    \n",
    "    network.remove_host(computing_hosts[0])\n",
    "    network.remove_host(controller_host)\n",
    "    \n",
    "    return np.real(expectation_value(terms, vector, 4))"
   ]
  },
  {
   "cell_type": "code",
   "execution_count": 21,
   "metadata": {},
   "outputs": [
    {
     "data": {
      "text/plain": [
       "array([[ 5.54193389,  1.25713095,  3.07479606],\n",
       "       [ 7.03997361,  5.86710646, -3.07020901],\n",
       "       [ 2.98479079, -0.47550269, -0.32427159],\n",
       "       [ 1.28993324,  0.45252622,  4.56873497]])"
      ]
     },
     "execution_count": 21,
     "metadata": {},
     "output_type": "execute_result"
    }
   ],
   "source": [
    "np.random.seed(0)\n",
    "params = np.random.normal(0, np.pi, (4, 3))\n",
    "\n",
    "params"
   ]
  },
  {
   "cell_type": "code",
   "execution_count": 22,
   "metadata": {},
   "outputs": [
    {
     "name": "stderr",
     "output_type": "stream",
     "text": [
      "2021-06-12 15:43:46,576: Host QPU_0 started processing\n",
      "2021-06-12 15:43:46,576: Host host_1 started processing\n",
      "2021-06-12 15:43:46,577: host_1 sends BROADCAST message\n",
      "2021-06-12 15:43:46,671: sending ACK:1 from QPU_0 to host_1\n",
      "2021-06-12 15:43:46,688: QPU_0 received {\"QPU_0\": [{\"name\": \"PREPARE_QUBITS\", \"qids\": [\"q_0_0\", \"q_0_1\", \"q_0_2\", \"q_0_3\"], \"cids\": null, \"gate\": null, \"gate_param\": null, \"computing_host_ids\": [\"QPU_0\"], \"pre_allocated_qubits\": false, \"layer_end\": 0}, {\"name\": \"TWO_QUBIT\", \"qids\": [\"q_0_0\", \"q_0_1\"], \"cids\": null, \"gate\": \"cnot\", \"gate_param\": null, \"computing_host_ids\": [\"QPU_0\"], \"pre_allocated_qubits\": false, \"layer_end\": 0}, {\"name\": \"TWO_QUBIT\", \"qids\": [\"q_0_0\", \"q_0_2\"], \"cids\": null, \"gate\": \"cnot\", \"gate_param\": null, \"computing_host_ids\": [\"QPU_0\"], \"pre_allocated_qubits\": false, \"layer_end\": 0}, {\"name\": \"TWO_QUBIT\", \"qids\": [\"q_0_0\", \"q_0_3\"], \"cids\": null, \"gate\": \"cnot\", \"gate_param\": null, \"computing_host_ids\": [\"QPU_0\"], \"pre_allocated_qubits\": false, \"layer_end\": 0}, {\"name\": \"SINGLE\", \"qids\": [\"q_0_0\"], \"cids\": null, \"gate\": \"X\", \"gate_param\": null, \"computing_host_ids\": [\"QPU_0\"], \"pre_allocated_qubits\": false, \"layer_end\": 0}, {\"name\": \"SINGLE\", \"qids\": [\"q_0_1\"], \"cids\": null, \"gate\": \"X\", \"gate_param\": null, \"computing_host_ids\": [\"QPU_0\"], \"pre_allocated_qubits\": false, \"layer_end\": 0}, {\"name\": \"SINGLE\", \"qids\": [\"q_0_0\"], \"cids\": null, \"gate\": \"custom_gate\", \"gate_param\": [[[-0.31798493034765196, 0.7437467353318117], [-0.19454774447448653, -0.5548671488518317]], [[0.19454774447448653, -0.5548671488518317], [-0.31798493034765196, -0.7437467353318117]]], \"computing_host_ids\": [\"QPU_0\"], \"pre_allocated_qubits\": false, \"layer_end\": 1}, {\"name\": \"SINGLE\", \"qids\": [\"q_0_1\"], \"cids\": null, \"gate\": \"custom_gate\", \"gate_param\": [[[0.39367767478169263, 0.8957445465285611], [-0.06940503059650993, 0.19453158476381135]], [[0.06940503059650993, 0.19453158476381135], [0.39367767478169263, -0.8957445465285611]]], \"computing_host_ids\": [\"QPU_0\"], \"pre_allocated_qubits\": false, \"layer_end\": 1}, {\"name\": \"SINGLE\", \"qids\": [\"q_0_2\"], \"cids\": null, \"gate\": \"custom_gate\", \"gate_param\": [[[0.2315227000379894, -0.9438901384346993], [-0.01969801507418892, 0.234692637581541]], [[0.01969801507418892, 0.234692637581541], [0.2315227000379894, 0.9438901384346993]]], \"computing_host_ids\": [\"QPU_0\"], \"pre_allocated_qubits\": false, \"layer_end\": 1}, {\"name\": \"SINGLE\", \"qids\": [\"q_0_3\"], \"cids\": null, \"gate\": \"custom_gate\", \"gate_param\": [[[-0.9526411467473749, -0.20529868550618627], [0.015378497582795967, 0.22380973407198954]], [[-0.015378497582795967, 0.22380973407198954], [-0.9526411467473749, 0.20529868550618627]]], \"computing_host_ids\": [\"QPU_0\"], \"pre_allocated_qubits\": false, \"layer_end\": 1}, {\"name\": \"TWO_QUBIT\", \"qids\": [\"q_0_2\", \"q_0_3\"], \"cids\": null, \"gate\": \"cnot\", \"gate_param\": null, \"computing_host_ids\": [\"QPU_0\"], \"pre_allocated_qubits\": false, \"layer_end\": 2}, {\"name\": \"TWO_QUBIT\", \"qids\": [\"q_0_2\", \"q_0_0\"], \"cids\": null, \"gate\": \"cnot\", \"gate_param\": null, \"computing_host_ids\": [\"QPU_0\"], \"pre_allocated_qubits\": false, \"layer_end\": 3}, {\"name\": \"TWO_QUBIT\", \"qids\": [\"q_0_3\", \"q_0_1\"], \"cids\": null, \"gate\": \"cnot\", \"gate_param\": null, \"computing_host_ids\": [\"QPU_0\"], \"pre_allocated_qubits\": false, \"layer_end\": 4}]} with sequence number 0\n",
      "2021-06-12 15:43:46,688: QPU_0 sends CLASSICAL to host_1 with sequence 0\n",
      "2021-06-12 15:43:46,689: host_1 received ACK from QPU_0 with sequence number 0\n",
      "2021-06-12 15:43:46,690: QPU_0 awaits classical ACK from host_1 with sequence 0\n",
      "2021-06-12 15:43:46,691: sending ACK:1 from host_1 to QPU_0\n",
      "2021-06-12 15:43:46,692: host_1 received ACK with sequence number 0\n",
      "2021-06-12 15:43:46,698: QPU_0 received ACK from host_1 with sequence number 0\n"
     ]
    },
    {
     "data": {
      "text/plain": [
       "-0.8074697622991748"
      ]
     },
     "execution_count": 22,
     "metadata": {},
     "output_type": "execute_result"
    }
   ],
   "source": [
    "cost_fn(params)"
   ]
  },
  {
   "cell_type": "code",
   "execution_count": 23,
   "metadata": {},
   "outputs": [],
   "source": [
    "Logger.DISABLED = True"
   ]
  },
  {
   "cell_type": "markdown",
   "metadata": {},
   "source": [
    "### SciPy Optimisers"
   ]
  },
  {
   "cell_type": "markdown",
   "metadata": {},
   "source": [
    "Generally, scipy optimizers are very slow to find the minimum eigenvalue. Thus, we use more specialised optimizers in the next section."
   ]
  },
  {
   "cell_type": "code",
   "execution_count": 27,
   "metadata": {},
   "outputs": [],
   "source": [
    "from scipy.optimize import minimize"
   ]
  },
  {
   "cell_type": "code",
   "execution_count": 24,
   "metadata": {},
   "outputs": [
    {
     "data": {
      "text/plain": [
       "     fun: -1.1361893473148623\n",
       "   maxcv: 0.0\n",
       " message: 'Optimization terminated successfully.'\n",
       "    nfev: 218\n",
       "  status: 1\n",
       " success: True\n",
       "       x: array([[ 6.76011087e+00, -1.89278921e-04,  3.14012213e+00],\n",
       "       [ 6.28283752e+00,  5.48607925e+00, -3.29462407e+00],\n",
       "       [ 2.63003515e+00, -5.50049112e-01, -8.17249049e-05],\n",
       "       [ 1.05094670e+00,  2.09427402e-01,  4.36005070e+00]])"
      ]
     },
     "execution_count": 24,
     "metadata": {},
     "output_type": "execute_result"
    }
   ],
   "source": [
    "# This can take up to 5 minutes on an average 2015 laptop\n",
    "minimum_cobyla = minimize(cost_fn, params, method=\"COBYLA\", tol=1e-3)\n",
    "\n",
    "minimum_cobyla"
   ]
  },
  {
   "cell_type": "code",
   "execution_count": 25,
   "metadata": {},
   "outputs": [
    {
     "data": {
      "text/plain": [
       "array([[ 6.76011087e+00, -1.89278921e-04,  3.14012213e+00],\n",
       "       [ 6.28283752e+00,  5.48607925e+00, -3.29462407e+00],\n",
       "       [ 2.63003515e+00, -5.50049112e-01, -8.17249049e-05],\n",
       "       [ 1.05094670e+00,  2.09427402e-01,  4.36005070e+00]])"
      ]
     },
     "execution_count": 25,
     "metadata": {},
     "output_type": "execute_result"
    }
   ],
   "source": [
    "minimum_cobyla.x.reshape(4,3)"
   ]
  },
  {
   "cell_type": "markdown",
   "metadata": {},
   "source": [
    "### Scikit-Quant Optimisers"
   ]
  },
  {
   "cell_type": "markdown",
   "metadata": {},
   "source": [
    "The order of the methods in the cells reflects how well they performs with the same budget. As shown, BOBYQA performs the best with a budget of 100."
   ]
  },
  {
   "cell_type": "code",
   "execution_count": 24,
   "metadata": {},
   "outputs": [],
   "source": [
    "from skquant.interop.scipy import *"
   ]
  },
  {
   "cell_type": "code",
   "execution_count": 25,
   "metadata": {},
   "outputs": [
    {
     "data": {
      "text/plain": [
       "array([ 5.54193389,  1.25713095,  3.07479606,  7.03997361,  5.86710646,\n",
       "       -3.07020901,  2.98479079, -0.47550269, -0.32427159,  1.28993324,\n",
       "        0.45252622,  4.56873497])"
      ]
     },
     "execution_count": 25,
     "metadata": {},
     "output_type": "execute_result"
    }
   ],
   "source": [
    "bounds = np.array([-3*np.pi, 3*np.pi])\n",
    "bounds = np.tile(bounds, (4*3, 1))\n",
    "\n",
    "np.random.seed(0)\n",
    "params = np.random.normal(0, np.pi, (4, 3))\n",
    "\n",
    "flattened_parameters = params.flatten()\n",
    "flattened_parameters"
   ]
  },
  {
   "cell_type": "code",
   "execution_count": 28,
   "metadata": {},
   "outputs": [
    {
     "data": {
      "text/plain": [
       "     fun: -1.1329627749839424\n",
       " message: 'completed'\n",
       "    nfev: 100\n",
       "  status: 0\n",
       " success: True\n",
       "       x: array([ 6.0388495 , -0.09447084,  3.57171167,  6.54305801,  6.27915045,\n",
       "       -3.56712461,  2.48787519, -0.2274104 ,  0.28697217,  0.79301763,\n",
       "       -0.01450685,  5.06565057])"
      ]
     },
     "execution_count": 28,
     "metadata": {},
     "output_type": "execute_result"
    }
   ],
   "source": [
    "budget = 100\n",
    "minimum_bobyqa = minimize(cost_fn, flattened_parameters, method=pybobyqa, bounds=bounds, options={'budget' : budget})\n",
    "\n",
    "minimum_bobyqa"
   ]
  },
  {
   "cell_type": "code",
   "execution_count": 31,
   "metadata": {},
   "outputs": [
    {
     "data": {
      "text/plain": [
       "     fun: -1.0986703464903427\n",
       " message: 'completed'\n",
       "    nfev: 121\n",
       "  status: 0\n",
       " success: True\n",
       "       x: array([-5.50011192,  0.33891502, -4.96874294, -5.07505444, -6.29650566,\n",
       "       -4.42851467,  1.59863084, -5.96739241, -3.51657315,  3.89921914,\n",
       "       -6.50648971, -6.01809772])"
      ]
     },
     "execution_count": 31,
     "metadata": {},
     "output_type": "execute_result"
    }
   ],
   "source": [
    "budget = 100\n",
    "minimum_snobfit = minimize(cost_fn, flattened_parameters, method=snobfit, bounds=bounds, options={'budget' : budget})\n",
    "\n",
    "minimum_snobfit"
   ]
  },
  {
   "cell_type": "code",
   "execution_count": 32,
   "metadata": {},
   "outputs": [
    {
     "data": {
      "text/plain": [
       "     fun: -1.016230585889092\n",
       " message: 'completed'\n",
       "    nfev: 107\n",
       "  status: 0\n",
       " success: True\n",
       "       x: array([ 5.54193389,  5.96951993,  5.43099055,  7.03997361,  5.86710646,\n",
       "       -3.07020901,  2.98479079, -0.47550269, -0.32427159,  1.28993324,\n",
       "        0.45252622,  4.56873497])"
      ]
     },
     "execution_count": 32,
     "metadata": {},
     "output_type": "execute_result"
    }
   ],
   "source": [
    "budget = 100\n",
    "minimum_imfil = minimize(cost_fn, flattened_parameters, method=imfil, bounds=bounds, options={'budget' : budget})\n",
    "\n",
    "minimum_imfil"
   ]
  },
  {
   "cell_type": "markdown",
   "metadata": {},
   "source": [
    "### Gradient Descent Optimisers "
   ]
  },
  {
   "cell_type": "markdown",
   "metadata": {},
   "source": [
    "Gradient-based methods are still not supported by Interlin-q."
   ]
  },
  {
   "cell_type": "code",
   "execution_count": 38,
   "metadata": {},
   "outputs": [
    {
     "name": "stderr",
     "output_type": "stream",
     "text": [
      "ERROR:root:No traceback has been produced, nothing to debug.\n"
     ]
    }
   ],
   "source": [
    "%debug\n",
    "#max_iterations = 200\n",
    "#conv_tol = 1e-06\n",
    "\n",
    "#for n in range(max_iterations):\n",
    "#    params, prev_energy = opt.step_and_cost(cost_fn, params)\n",
    "#    energy = cost_fn(params)\n",
    "#    conv = np.abs(energy - prev_energy)\n",
    "\n",
    "#    if n % 20 == 0:\n",
    "#        print('Iteration = {:},  Energy = {:.8f} Ha'.format(n, energy))\n",
    "\n",
    "#    if conv <= conv_tol:\n",
    "#        break"
   ]
  }
 ],
 "metadata": {
  "kernelspec": {
   "display_name": "Python 3",
   "language": "python",
   "name": "python3"
  },
  "language_info": {
   "codemirror_mode": {
    "name": "ipython",
    "version": 3
   },
   "file_extension": ".py",
   "mimetype": "text/x-python",
   "name": "python",
   "nbconvert_exporter": "python",
   "pygments_lexer": "ipython3",
   "version": "3.8.5"
  }
 },
 "nbformat": 4,
 "nbformat_minor": 2
}