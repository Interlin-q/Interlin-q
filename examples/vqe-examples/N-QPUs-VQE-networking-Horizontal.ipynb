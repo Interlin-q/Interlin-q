{
 "cells": [
  {
   "cell_type": "markdown",
   "metadata": {},
   "source": [
    "# $N$-QPU VQE - Horizontal Speedup\n",
    "\n",
    "This notebook implements routines for running the same VQE ansatz on several Quantum Computers, thus achieving a horizontal speedup, using Interlin-q. Here, the controller host partitions the different observables of the Hamiltonian, along with their coefficients, among the computing hosts. Then, it sends out the ansatz. Finally, it asks for the expectation value later, and reduce the values to a single expectation value through summation. This approach should scale up with the increasing number of computing hosts."
   ]
  },
  {
   "cell_type": "markdown",
   "metadata": {},
   "source": [
    "In this notebook, we will be applying VQE for the Hamiltonian of the Hydrogen molecule, which requires a maximum of 4 qubits for its ansatz, which is displayed below:"
   ]
  },
  {
   "cell_type": "markdown",
   "metadata": {},
   "source": [
    "<img src=\"https://pennylane.ai/qml/_images/sketch_circuit.png\" alt=\"H2 ansatz\" style=\"width:700px;\"/>"
   ]
  },
  {
   "cell_type": "markdown",
   "metadata": {},
   "source": [
    "## Step 1: Import libraries.\n",
    "\n",
    "First we import all the necessary libraries. Interlin-q is built using the Python framework [QuNetSim](https://arxiv.org/abs/2003.06397) which is a software framework for simulating quantum networks up to the network layer. We also need PennyLane's chemistry library for decomposing the Hamiltonian."
   ]
  },
  {
   "cell_type": "code",
   "execution_count": 1,
   "metadata": {},
   "outputs": [],
   "source": [
    "# Basic Libraries\n",
    "import sys\n",
    "import numpy as np\n",
    "sys.path.append(\"../../\")\n",
    "\n",
    "# QuNetSim Components\n",
    "from qunetsim.components import Network\n",
    "from qunetsim.objects import Logger\n",
    "from qunetsim.backends.eqsn_backend import EQSNBackend\n",
    "\n",
    "# Interlin-q Components\n",
    "from interlinq import (ControllerHost, Constants, Clock,\n",
    "Circuit, Layer, ComputingHost, Operation)\n",
    "\n",
    "# Extra needed components\n",
    "from hamiltonian_decomposition import decompose\n",
    "\n",
    "Logger.DISABLED = False"
   ]
  },
  {
   "cell_type": "code",
   "execution_count": 2,
   "metadata": {},
   "outputs": [
    {
     "data": {
      "text/plain": [
       "'0.15.1'"
      ]
     },
     "execution_count": 2,
     "metadata": {},
     "output_type": "execute_result"
    }
   ],
   "source": [
    "import pennylane as qml\n",
    "qml.version() # should be 0.15.1. Higher versions are not integrated with the notebook yet"
   ]
  },
  {
   "cell_type": "markdown",
   "metadata": {},
   "source": [
    "## Step 2: Decompose the Hamiltonian."
   ]
  },
  {
   "cell_type": "code",
   "execution_count": 3,
   "metadata": {},
   "outputs": [],
   "source": [
    "# These parameters are mentioned in PennyLane's VQE tutorial (https://pennylane.ai/qml/demos/tutorial_vqe.html) \n",
    "# and are used as is for benchmarking\n",
    "geometry = 'h2.xyz'\n",
    "charge = 0\n",
    "multiplicity = 1\n",
    "basis_set = 'sto-3g'\n",
    "name = 'h2'"
   ]
  },
  {
   "cell_type": "code",
   "execution_count": 4,
   "metadata": {},
   "outputs": [
    {
     "data": {
      "text/plain": [
       "[(-0.04207897647782276, [('Identity', 0)]),\n",
       " (0.17771287465139946, [('PauliZ', 0)]),\n",
       " (0.1777128746513994, [('PauliZ', 1)]),\n",
       " (-0.24274280513140462, [('PauliZ', 2)]),\n",
       " (-0.24274280513140462, [('PauliZ', 3)]),\n",
       " (0.17059738328801052, [('PauliZ', 0), ('PauliZ', 1)]),\n",
       " (0.04475014401535161,\n",
       "  [('PauliY', 0), ('PauliX', 1), ('PauliX', 2), ('PauliY', 3)]),\n",
       " (-0.04475014401535161,\n",
       "  [('PauliY', 0), ('PauliY', 1), ('PauliX', 2), ('PauliX', 3)]),\n",
       " (-0.04475014401535161,\n",
       "  [('PauliX', 0), ('PauliX', 1), ('PauliY', 2), ('PauliY', 3)]),\n",
       " (0.04475014401535161,\n",
       "  [('PauliX', 0), ('PauliY', 1), ('PauliY', 2), ('PauliX', 3)]),\n",
       " (0.12293305056183798, [('PauliZ', 0), ('PauliZ', 2)]),\n",
       " (0.1676831945771896, [('PauliZ', 0), ('PauliZ', 3)]),\n",
       " (0.1676831945771896, [('PauliZ', 1), ('PauliZ', 2)]),\n",
       " (0.12293305056183798, [('PauliZ', 1), ('PauliZ', 3)]),\n",
       " (0.17627640804319591, [('PauliZ', 2), ('PauliZ', 3)])]"
      ]
     },
     "execution_count": 4,
     "metadata": {},
     "output_type": "execute_result"
    }
   ],
   "source": [
    "# The decompose function runs PennyLane's decomposers and strips out the observables from their PennyLane objects\n",
    "# to be used easily for our purposes\n",
    "coefficients, observables, qubit_num = decompose(name, geometry, charge, multiplicity, basis_set)\n",
    "terms = list(zip(coefficients, observables))\n",
    "\n",
    "terms"
   ]
  },
  {
   "cell_type": "markdown",
   "metadata": {},
   "source": [
    "## Step 3: Prepare Circuit for Given Parameters"
   ]
  },
  {
   "cell_type": "markdown",
   "metadata": {},
   "source": [
    "The circuit can be prepared using two different ways: either as one circuit, or several circuits run sequentially. The former approach is simpler and generally better for the optimisation function. The latter is better for debugging and for dynamic components of a quantum circuit (i.e. circuits that have a lot of changing operations). For the current demonstration, we will use the latter approach, while the former will be used for the optimization part later on."
   ]
  },
  {
   "cell_type": "markdown",
   "metadata": {},
   "source": [
    "### Main Blocks"
   ]
  },
  {
   "cell_type": "code",
   "execution_count": 5,
   "metadata": {},
   "outputs": [],
   "source": [
    "# Arbitrary single qubit rotation, as implemented by PennyLane here: \n",
    "# https://pennylane.readthedocs.io/en/stable/code/api/pennylane.Rot.html#pennylane.Rot\n",
    "def rotational_gate(params):\n",
    "    phi, theta, omega = params\n",
    "    cos = np.cos(theta / 2)\n",
    "    sin = np.sin(theta / 2)\n",
    "    \n",
    "    res = np.array([[np.exp(-1j * (phi + omega) / 2) * cos, -np.exp(1j * (phi - omega) / 2) * sin], \n",
    "                     [np.exp(-1j * (phi - omega) / 2) * sin, np.exp(1j * (phi + omega) / 2) * cos]])\n",
    "    \n",
    "    return res"
   ]
  },
  {
   "cell_type": "code",
   "execution_count": 6,
   "metadata": {},
   "outputs": [],
   "source": [
    "# These operations are responsible for preparing the initial state of the qubits, as shown in the figure above.\n",
    "def initialisation_operations(q_map):\n",
    "    computing_host_ids = list(q_map.keys())\n",
    "    \n",
    "    ops = []\n",
    "    for host_id in computing_host_ids:\n",
    "        # We first initialize all the qubits in the backend\n",
    "        op = Operation(\n",
    "            name=Constants.PREPARE_QUBITS,\n",
    "            qids=q_map[host_id],\n",
    "            computing_host_ids=[host_id])\n",
    "        ops.append(op)\n",
    "        \n",
    "        ### Workaround for a bug in EQSN\n",
    "        op = Operation(\n",
    "            name=Constants.TWO_QUBIT,\n",
    "            qids=[q_map[host_id][0], q_map[host_id][1]],\n",
    "            gate=Operation.CNOT,\n",
    "            computing_host_ids=[host_id])\n",
    "        ops.append(op)\n",
    "\n",
    "        op = Operation(\n",
    "            name=Constants.TWO_QUBIT,\n",
    "            qids=[q_map[host_id][0], q_map[host_id][2]],\n",
    "            gate=Operation.CNOT,\n",
    "            computing_host_ids=[host_id])\n",
    "        ops.append(op)\n",
    "\n",
    "        op = Operation(\n",
    "            name=Constants.TWO_QUBIT,\n",
    "            qids=[q_map[host_id][0], q_map[host_id][3]],\n",
    "            gate=Operation.CNOT,\n",
    "            computing_host_ids=[host_id])\n",
    "        ops.append(op)\n",
    "        ################################\n",
    "    \n",
    "        # Prepare the qubits on the computing host, applying X gate to wires 0 and 1\n",
    "        op = Operation(\n",
    "            name=Constants.SINGLE,\n",
    "            qids=[q_map[host_id][0]],\n",
    "            gate=Operation.X,\n",
    "            computing_host_ids=[host_id])\n",
    "        ops.append(op)\n",
    "\n",
    "        op = Operation(\n",
    "            name=Constants.SINGLE,\n",
    "            qids=[q_map[host_id][1]],\n",
    "            gate=Operation.X,\n",
    "            computing_host_ids=[host_id])\n",
    "        ops.append(op)\n",
    "    \n",
    "    return [Layer(ops)]"
   ]
  },
  {
   "cell_type": "code",
   "execution_count": 7,
   "metadata": {},
   "outputs": [],
   "source": [
    "# These operations are responsible for applying the rotation gates on the qubits, as well as the CNOTs.\n",
    "def ansatz_operations(q_map, parameters):\n",
    "    computing_host_ids = list(q_map.keys())\n",
    "    \n",
    "    layers = []\n",
    "    \n",
    "    ops = []\n",
    "    for host_id in computing_host_ids:\n",
    "        for i in range(len(q_map[host_id])):\n",
    "            op = Operation(\n",
    "                name=Constants.SINGLE,\n",
    "                qids=[q_map[host_id][i]],\n",
    "                gate=Operation.CUSTOM,\n",
    "                gate_param=rotational_gate(parameters[i]),\n",
    "                computing_host_ids=[host_id])\n",
    "\n",
    "            ops.append(op)\n",
    "\n",
    "    layers.append(Layer(ops))\n",
    "    \n",
    "    ops = []\n",
    "    for host_id in computing_host_ids:\n",
    "        op = Operation(\n",
    "            name=Constants.TWO_QUBIT,\n",
    "            qids=[q_map[host_id][2], q_map[host_id][3]],\n",
    "            gate=Operation.CNOT,\n",
    "            computing_host_ids=[host_id])\n",
    "        \n",
    "        ops.append(op)\n",
    "\n",
    "        op = Operation(\n",
    "            name=Constants.TWO_QUBIT,\n",
    "            qids=[q_map[host_id][2], q_map[host_id][0]],\n",
    "            gate=Operation.CNOT,\n",
    "            computing_host_ids=[host_id])\n",
    "\n",
    "        ops.append(op)\n",
    "\n",
    "        op = Operation(\n",
    "            name=Constants.TWO_QUBIT,\n",
    "            qids=[q_map[host_id][3], q_map[host_id][1]],\n",
    "            gate=Operation.CNOT,\n",
    "            computing_host_ids=[host_id])\n",
    "\n",
    "        ops.append(op)\n",
    "    \n",
    "    layers.append(Layer(ops))\n",
    "        \n",
    "    return layers"
   ]
  },
  {
   "cell_type": "code",
   "execution_count": 8,
   "metadata": {},
   "outputs": [],
   "source": [
    "# Send the assigned schedules to the computing hosts\n",
    "def dispatch_hamiltonian_schedules(host, q_map):        \n",
    "\n",
    "        # Create the correct operations\n",
    "        ops = []\n",
    "        computing_hosts_ids = list(q_map.keys())\n",
    "        \n",
    "        for computing_host_id in computing_hosts_ids:    \n",
    "            op = Operation(\n",
    "                name=Constants.REC_HAMILTON,\n",
    "                computing_host_ids=[computing_host_id],\n",
    "                hamiltonian=host.term_assignment[computing_host_id])\n",
    "            ops.append(op)\n",
    "\n",
    "        layers = [Layer(ops)]\n",
    "\n",
    "        return layers"
   ]
  },
  {
   "cell_type": "code",
   "execution_count": 9,
   "metadata": {},
   "outputs": [],
   "source": [
    "# Query the computing hosts for their expectation values\n",
    "def ask_for_expectation_values(q_map):\n",
    "    \n",
    "    # Create the correct operations\n",
    "    ops = []\n",
    "    computing_hosts_ids = list(q_map.keys())\n",
    "\n",
    "    for computing_host_id in computing_hosts_ids:    \n",
    "        op = Operation(\n",
    "            name=Constants.SEND_EXP,\n",
    "            computing_host_ids=[computing_host_id])\n",
    "        ops.append(op)\n",
    "\n",
    "    layers = [Layer(ops)]\n",
    "\n",
    "    return layers"
   ]
  },
  {
   "cell_type": "markdown",
   "metadata": {},
   "source": [
    "### The Protocols"
   ]
  },
  {
   "cell_type": "markdown",
   "metadata": {},
   "source": [
    "#### The Controller Protocols "
   ]
  },
  {
   "cell_type": "markdown",
   "metadata": {},
   "source": [
    "This function builds the complete circuit needed to carry out VQE"
   ]
  },
  {
   "cell_type": "code",
   "execution_count": 10,
   "metadata": {},
   "outputs": [],
   "source": [
    "def prepare_qubits_and_apply_ansatz(q_map, parameters): \n",
    "    circuit = Circuit(q_map, initialisation_operations(q_map) + ansatz_operations(q_map, parameters))\n",
    "    return circuit"
   ]
  },
  {
   "cell_type": "markdown",
   "metadata": {},
   "source": [
    "This function details the first communication protocol that will be carried out by the ControllerHost\n",
    "As shown from the function names, the host first schedules the observables internally, then sends out the circuit to all the ComputingHosts. Note that we didn't send the schedules as of just yet."
   ]
  },
  {
   "cell_type": "code",
   "execution_count": 11,
   "metadata": {},
   "outputs": [],
   "source": [
    "def controller_host_protocol_preparation_ansatz(host, q_map, params, terms):\n",
    "    \"\"\"\n",
    "    Protocol for the controller host\n",
    "    \"\"\"\n",
    "    host.schedule_expectation_terms(terms, q_map)\n",
    "    \n",
    "    host.generate_and_send_schedules(prepare_qubits_and_apply_ansatz(q_map, params))"
   ]
  },
  {
   "cell_type": "markdown",
   "metadata": {},
   "source": [
    "Here the ControllerHost builds a schedule, telling the different ComputingHosts to preparing for receiving their part of the Hamiltonian, before sending them right afterwards."
   ]
  },
  {
   "cell_type": "code",
   "execution_count": 12,
   "metadata": {},
   "outputs": [],
   "source": [
    "def controller_host_protocol_expectation_schedule(host, q_map):\n",
    "    \"\"\"\n",
    "    Protocol for the controller host\n",
    "    \"\"\"\n",
    "    circuit = Circuit(q_map, dispatch_hamiltonian_schedules(host, q_map))\n",
    "    \n",
    "    host.generate_and_send_schedules(circuit)"
   ]
  },
  {
   "cell_type": "markdown",
   "metadata": {},
   "source": [
    "Here the ControllerHost finally asks for the expectation values back from the ComputingHosts.\n",
    "Since this is a simulation, the ComputingHosts simply compute their local statevector and calculates the expectation value exactly."
   ]
  },
  {
   "cell_type": "code",
   "execution_count": 13,
   "metadata": {},
   "outputs": [],
   "source": [
    "def controller_host_protocol_expectation_collection(host, q_map):\n",
    "    \"\"\"\n",
    "    Protocol for the controller host\n",
    "    \"\"\"\n",
    "    circuit = Circuit(q_map, ask_for_expectation_values(q_map))\n",
    "    \n",
    "    host.generate_and_send_schedules(circuit)\n",
    "    \n",
    "    host.receive_results()"
   ]
  },
  {
   "cell_type": "markdown",
   "metadata": {},
   "source": [
    "#### The Computing Protocols"
   ]
  },
  {
   "cell_type": "markdown",
   "metadata": {},
   "source": [
    "This is the simple communication protocol of the ComputingHosts where they simply receive a schedule of operations and later listen to the synchronization until it is time to run a specific operation (which can a gate or some communication with another party)"
   ]
  },
  {
   "cell_type": "code",
   "execution_count": 14,
   "metadata": {},
   "outputs": [],
   "source": [
    "def computing_host_protocol(host):\n",
    "    host.receive_schedule()"
   ]
  },
  {
   "cell_type": "code",
   "execution_count": 15,
   "metadata": {},
   "outputs": [],
   "source": [
    "# Similar to above, but includes an extra bit for sending the results in the end.\n",
    "def computing_host_protocol_send_results(host):\n",
    "    host.receive_schedule()\n",
    "    \n",
    "    host.send_results('expectation')"
   ]
  },
  {
   "cell_type": "markdown",
   "metadata": {},
   "source": [
    "## Step 4: Run the circuit and get the Expectation Value"
   ]
  },
  {
   "cell_type": "markdown",
   "metadata": {},
   "source": [
    "Let's now run all the different pieces from above and see if we get the expected expectation value, which is the value from the PennyLane tutorial."
   ]
  },
  {
   "cell_type": "code",
   "execution_count": 16,
   "metadata": {},
   "outputs": [],
   "source": [
    "def init_network():\n",
    "    # Retrieve the QuNetSim network\n",
    "    network = Network.get_instance()\n",
    "    network.delay = 0\n",
    "    network.start()\n",
    "\n",
    "    # Initialize the synchronization clock\n",
    "    clock = Clock.get_instance()\n",
    "\n",
    "    # Initialize the statevector backend\n",
    "    eqsn = EQSNBackend()\n",
    "\n",
    "    # Initialize the controller host with the given ID\n",
    "    controller_host = ControllerHost(\n",
    "        host_id=\"host_1\",\n",
    "        backend=eqsn\n",
    "    )\n",
    "\n",
    "    # Create a network with the given number of QPUs, each with the given number of qubits\n",
    "    computing_hosts, q_map = controller_host.create_distributed_network(\n",
    "        num_computing_hosts=2, # This value can be changed per wish. Just make sure you have enough memory!\n",
    "        num_qubits_per_host=4)\n",
    "    controller_host.start()\n",
    "\n",
    "    # Add all the nodes to the QuNetSim network\n",
    "    network.add_hosts([controller_host])\n",
    "    network.add_hosts(computing_hosts)\n",
    "    \n",
    "    return clock, controller_host, computing_hosts, q_map"
   ]
  },
  {
   "cell_type": "code",
   "execution_count": 17,
   "metadata": {},
   "outputs": [],
   "source": [
    "# Randomise the ansatz parameters\n",
    "np.random.seed(0)\n",
    "params = np.random.normal(0, np.pi, (4, 3))"
   ]
  },
  {
   "cell_type": "code",
   "execution_count": 18,
   "metadata": {},
   "outputs": [
    {
     "data": {
      "text/plain": [
       "array([[ 5.54193389,  1.25713095,  3.07479606],\n",
       "       [ 7.03997361,  5.86710646, -3.07020901],\n",
       "       [ 2.98479079, -0.47550269, -0.32427159],\n",
       "       [ 1.28993324,  0.45252622,  4.56873497]])"
      ]
     },
     "execution_count": 18,
     "metadata": {},
     "output_type": "execute_result"
    }
   ],
   "source": [
    "params"
   ]
  },
  {
   "cell_type": "markdown",
   "metadata": {},
   "source": [
    "### Running the circuit"
   ]
  },
  {
   "cell_type": "code",
   "execution_count": 19,
   "metadata": {},
   "outputs": [],
   "source": [
    "# Make sure that the QuNetSim network has no nodes that can interfere with our operation\n",
    "list_hosts = list(Network.get_instance().ARP.keys())\n",
    "\n",
    "for key in list_hosts:\n",
    "    Network.get_instance().remove_host(Network.get_instance().get_host(key))"
   ]
  },
  {
   "cell_type": "code",
   "execution_count": 20,
   "metadata": {},
   "outputs": [
    {
     "name": "stderr",
     "output_type": "stream",
     "text": [
      "2021-07-18 00:56:33,120: Host QPU_0 started processing\n",
      "2021-07-18 00:56:33,122: Host QPU_1 started processing\n",
      "2021-07-18 00:56:33,123: Host host_1 started processing\n"
     ]
    }
   ],
   "source": [
    "# Initialize the network and the hosts\n",
    "clock, controller_host, computing_hosts, q_map = init_network()"
   ]
  },
  {
   "cell_type": "code",
   "execution_count": 21,
   "metadata": {},
   "outputs": [
    {
     "name": "stderr",
     "output_type": "stream",
     "text": [
      "2021-07-18 00:56:34,020: host_1 sends BROADCAST message\n",
      "2021-07-18 00:56:34,120: sending ACK:1 from QPU_1 to host_1\n",
      "2021-07-18 00:56:34,152: sending ACK:1 from QPU_0 to host_1\n",
      "2021-07-18 00:56:34,167: host_1 received ACK from QPU_1 with sequence number 0\n",
      "2021-07-18 00:56:34,173: QPU_1 received {\"QPU_0\": [{\"name\": \"PREPARE_QUBITS\", \"qids\": [\"q_0_0\", \"q_0_1\", \"q_0_2\", \"q_0_3\"], \"cids\": null, \"gate\": null, \"gate_param\": null, \"computing_host_ids\": [\"QPU_0\"], \"pre_allocated_qubits\": false, \"layer_end\": 0}, {\"name\": \"TWO_QUBIT\", \"qids\": [\"q_0_0\", \"q_0_1\"], \"cids\": null, \"gate\": \"cnot\", \"gate_param\": null, \"computing_host_ids\": [\"QPU_0\"], \"pre_allocated_qubits\": false, \"layer_end\": 0}, {\"name\": \"TWO_QUBIT\", \"qids\": [\"q_0_0\", \"q_0_2\"], \"cids\": null, \"gate\": \"cnot\", \"gate_param\": null, \"computing_host_ids\": [\"QPU_0\"], \"pre_allocated_qubits\": false, \"layer_end\": 0}, {\"name\": \"TWO_QUBIT\", \"qids\": [\"q_0_0\", \"q_0_3\"], \"cids\": null, \"gate\": \"cnot\", \"gate_param\": null, \"computing_host_ids\": [\"QPU_0\"], \"pre_allocated_qubits\": false, \"layer_end\": 0}, {\"name\": \"SINGLE\", \"qids\": [\"q_0_0\"], \"cids\": null, \"gate\": \"X\", \"gate_param\": null, \"computing_host_ids\": [\"QPU_0\"], \"pre_allocated_qubits\": false, \"layer_end\": 0}, {\"name\": \"SINGLE\", \"qids\": [\"q_0_1\"], \"cids\": null, \"gate\": \"X\", \"gate_param\": null, \"computing_host_ids\": [\"QPU_0\"], \"pre_allocated_qubits\": false, \"layer_end\": 0}, {\"name\": \"SINGLE\", \"qids\": [\"q_0_0\"], \"cids\": null, \"gate\": \"custom_gate\", \"gate_param\": [[[-0.31798493034765196, 0.7437467353318117], [-0.19454774447448653, -0.5548671488518317]], [[0.19454774447448653, -0.5548671488518317], [-0.31798493034765196, -0.7437467353318117]]], \"computing_host_ids\": [\"QPU_0\"], \"pre_allocated_qubits\": false, \"layer_end\": 1}, {\"name\": \"SINGLE\", \"qids\": [\"q_0_1\"], \"cids\": null, \"gate\": \"custom_gate\", \"gate_param\": [[[0.39367767478169263, 0.8957445465285611], [-0.06940503059650993, 0.19453158476381135]], [[0.06940503059650993, 0.19453158476381135], [0.39367767478169263, -0.8957445465285611]]], \"computing_host_ids\": [\"QPU_0\"], \"pre_allocated_qubits\": false, \"layer_end\": 1}, {\"name\": \"SINGLE\", \"qids\": [\"q_0_2\"], \"cids\": null, \"gate\": \"custom_gate\", \"gate_param\": [[[0.2315227000379894, -0.9438901384346993], [-0.01969801507418892, 0.234692637581541]], [[0.01969801507418892, 0.234692637581541], [0.2315227000379894, 0.9438901384346993]]], \"computing_host_ids\": [\"QPU_0\"], \"pre_allocated_qubits\": false, \"layer_end\": 1}, {\"name\": \"SINGLE\", \"qids\": [\"q_0_3\"], \"cids\": null, \"gate\": \"custom_gate\", \"gate_param\": [[[-0.9526411467473749, -0.20529868550618627], [0.015378497582795967, 0.22380973407198954]], [[-0.015378497582795967, 0.22380973407198954], [-0.9526411467473749, 0.20529868550618627]]], \"computing_host_ids\": [\"QPU_0\"], \"pre_allocated_qubits\": false, \"layer_end\": 1}, {\"name\": \"TWO_QUBIT\", \"qids\": [\"q_0_2\", \"q_0_3\"], \"cids\": null, \"gate\": \"cnot\", \"gate_param\": null, \"computing_host_ids\": [\"QPU_0\"], \"pre_allocated_qubits\": false, \"layer_end\": 2}, {\"name\": \"TWO_QUBIT\", \"qids\": [\"q_0_2\", \"q_0_0\"], \"cids\": null, \"gate\": \"cnot\", \"gate_param\": null, \"computing_host_ids\": [\"QPU_0\"], \"pre_allocated_qubits\": false, \"layer_end\": 2}, {\"name\": \"TWO_QUBIT\", \"qids\": [\"q_0_3\", \"q_0_1\"], \"cids\": null, \"gate\": \"cnot\", \"gate_param\": null, \"computing_host_ids\": [\"QPU_0\"], \"pre_allocated_qubits\": false, \"layer_end\": 2}], \"QPU_1\": [{\"name\": \"PREPARE_QUBITS\", \"qids\": [\"q_1_0\", \"q_1_1\", \"q_1_2\", \"q_1_3\"], \"cids\": null, \"gate\": null, \"gate_param\": null, \"computing_host_ids\": [\"QPU_1\"], \"pre_allocated_qubits\": false, \"layer_end\": 0}, {\"name\": \"TWO_QUBIT\", \"qids\": [\"q_1_0\", \"q_1_1\"], \"cids\": null, \"gate\": \"cnot\", \"gate_param\": null, \"computing_host_ids\": [\"QPU_1\"], \"pre_allocated_qubits\": false, \"layer_end\": 0}, {\"name\": \"TWO_QUBIT\", \"qids\": [\"q_1_0\", \"q_1_2\"], \"cids\": null, \"gate\": \"cnot\", \"gate_param\": null, \"computing_host_ids\": [\"QPU_1\"], \"pre_allocated_qubits\": false, \"layer_end\": 0}, {\"name\": \"TWO_QUBIT\", \"qids\": [\"q_1_0\", \"q_1_3\"], \"cids\": null, \"gate\": \"cnot\", \"gate_param\": null, \"computing_host_ids\": [\"QPU_1\"], \"pre_allocated_qubits\": false, \"layer_end\": 0}, {\"name\": \"SINGLE\", \"qids\": [\"q_1_0\"], \"cids\": null, \"gate\": \"X\", \"gate_param\": null, \"computing_host_ids\": [\"QPU_1\"], \"pre_allocated_qubits\": false, \"layer_end\": 0}, {\"name\": \"SINGLE\", \"qids\": [\"q_1_1\"], \"cids\": null, \"gate\": \"X\", \"gate_param\": null, \"computing_host_ids\": [\"QPU_1\"], \"pre_allocated_qubits\": false, \"layer_end\": 0}, {\"name\": \"SINGLE\", \"qids\": [\"q_1_0\"], \"cids\": null, \"gate\": \"custom_gate\", \"gate_param\": [[[-0.31798493034765196, 0.7437467353318117], [-0.19454774447448653, -0.5548671488518317]], [[0.19454774447448653, -0.5548671488518317], [-0.31798493034765196, -0.7437467353318117]]], \"computing_host_ids\": [\"QPU_1\"], \"pre_allocated_qubits\": false, \"layer_end\": 1}, {\"name\": \"SINGLE\", \"qids\": [\"q_1_1\"], \"cids\": null, \"gate\": \"custom_gate\", \"gate_param\": [[[0.39367767478169263, 0.8957445465285611], [-0.06940503059650993, 0.19453158476381135]], [[0.06940503059650993, 0.19453158476381135], [0.39367767478169263, -0.8957445465285611]]], \"computing_host_ids\": [\"QPU_1\"], \"pre_allocated_qubits\": false, \"layer_end\": 1}, {\"name\": \"SINGLE\", \"qids\": [\"q_1_2\"], \"cids\": null, \"gate\": \"custom_gate\", \"gate_param\": [[[0.2315227000379894, -0.9438901384346993], [-0.01969801507418892, 0.234692637581541]], [[0.01969801507418892, 0.234692637581541], [0.2315227000379894, 0.9438901384346993]]], \"computing_host_ids\": [\"QPU_1\"], \"pre_allocated_qubits\": false, \"layer_end\": 1}, {\"name\": \"SINGLE\", \"qids\": [\"q_1_3\"], \"cids\": null, \"gate\": \"custom_gate\", \"gate_param\": [[[-0.9526411467473749, -0.20529868550618627], [0.015378497582795967, 0.22380973407198954]], [[-0.015378497582795967, 0.22380973407198954], [-0.9526411467473749, 0.20529868550618627]]], \"computing_host_ids\": [\"QPU_1\"], \"pre_allocated_qubits\": false, \"layer_end\": 1}, {\"name\": \"TWO_QUBIT\", \"qids\": [\"q_1_2\", \"q_1_3\"], \"cids\": null, \"gate\": \"cnot\", \"gate_param\": null, \"computing_host_ids\": [\"QPU_1\"], \"pre_allocated_qubits\": false, \"layer_end\": 2}, {\"name\": \"TWO_QUBIT\", \"qids\": [\"q_1_2\", \"q_1_0\"], \"cids\": null, \"gate\": \"cnot\", \"gate_param\": null, \"computing_host_ids\": [\"QPU_1\"], \"pre_allocated_qubits\": false, \"layer_end\": 2}, {\"name\": \"TWO_QUBIT\", \"qids\": [\"q_1_3\", \"q_1_1\"], \"cids\": null, \"gate\": \"cnot\", \"gate_param\": null, \"computing_host_ids\": [\"QPU_1\"], \"pre_allocated_qubits\": false, \"layer_end\": 2}]} with sequence number 0\n",
      "2021-07-18 00:56:34,174: QPU_1 sends CLASSICAL to host_1 with sequence 0\n",
      "2021-07-18 00:56:34,175: QPU_0 received {\"QPU_0\": [{\"name\": \"PREPARE_QUBITS\", \"qids\": [\"q_0_0\", \"q_0_1\", \"q_0_2\", \"q_0_3\"], \"cids\": null, \"gate\": null, \"gate_param\": null, \"computing_host_ids\": [\"QPU_0\"], \"pre_allocated_qubits\": false, \"layer_end\": 0}, {\"name\": \"TWO_QUBIT\", \"qids\": [\"q_0_0\", \"q_0_1\"], \"cids\": null, \"gate\": \"cnot\", \"gate_param\": null, \"computing_host_ids\": [\"QPU_0\"], \"pre_allocated_qubits\": false, \"layer_end\": 0}, {\"name\": \"TWO_QUBIT\", \"qids\": [\"q_0_0\", \"q_0_2\"], \"cids\": null, \"gate\": \"cnot\", \"gate_param\": null, \"computing_host_ids\": [\"QPU_0\"], \"pre_allocated_qubits\": false, \"layer_end\": 0}, {\"name\": \"TWO_QUBIT\", \"qids\": [\"q_0_0\", \"q_0_3\"], \"cids\": null, \"gate\": \"cnot\", \"gate_param\": null, \"computing_host_ids\": [\"QPU_0\"], \"pre_allocated_qubits\": false, \"layer_end\": 0}, {\"name\": \"SINGLE\", \"qids\": [\"q_0_0\"], \"cids\": null, \"gate\": \"X\", \"gate_param\": null, \"computing_host_ids\": [\"QPU_0\"], \"pre_allocated_qubits\": false, \"layer_end\": 0}, {\"name\": \"SINGLE\", \"qids\": [\"q_0_1\"], \"cids\": null, \"gate\": \"X\", \"gate_param\": null, \"computing_host_ids\": [\"QPU_0\"], \"pre_allocated_qubits\": false, \"layer_end\": 0}, {\"name\": \"SINGLE\", \"qids\": [\"q_0_0\"], \"cids\": null, \"gate\": \"custom_gate\", \"gate_param\": [[[-0.31798493034765196, 0.7437467353318117], [-0.19454774447448653, -0.5548671488518317]], [[0.19454774447448653, -0.5548671488518317], [-0.31798493034765196, -0.7437467353318117]]], \"computing_host_ids\": [\"QPU_0\"], \"pre_allocated_qubits\": false, \"layer_end\": 1}, {\"name\": \"SINGLE\", \"qids\": [\"q_0_1\"], \"cids\": null, \"gate\": \"custom_gate\", \"gate_param\": [[[0.39367767478169263, 0.8957445465285611], [-0.06940503059650993, 0.19453158476381135]], [[0.06940503059650993, 0.19453158476381135], [0.39367767478169263, -0.8957445465285611]]], \"computing_host_ids\": [\"QPU_0\"], \"pre_allocated_qubits\": false, \"layer_end\": 1}, {\"name\": \"SINGLE\", \"qids\": [\"q_0_2\"], \"cids\": null, \"gate\": \"custom_gate\", \"gate_param\": [[[0.2315227000379894, -0.9438901384346993], [-0.01969801507418892, 0.234692637581541]], [[0.01969801507418892, 0.234692637581541], [0.2315227000379894, 0.9438901384346993]]], \"computing_host_ids\": [\"QPU_0\"], \"pre_allocated_qubits\": false, \"layer_end\": 1}, {\"name\": \"SINGLE\", \"qids\": [\"q_0_3\"], \"cids\": null, \"gate\": \"custom_gate\", \"gate_param\": [[[-0.9526411467473749, -0.20529868550618627], [0.015378497582795967, 0.22380973407198954]], [[-0.015378497582795967, 0.22380973407198954], [-0.9526411467473749, 0.20529868550618627]]], \"computing_host_ids\": [\"QPU_0\"], \"pre_allocated_qubits\": false, \"layer_end\": 1}, {\"name\": \"TWO_QUBIT\", \"qids\": [\"q_0_2\", \"q_0_3\"], \"cids\": null, \"gate\": \"cnot\", \"gate_param\": null, \"computing_host_ids\": [\"QPU_0\"], \"pre_allocated_qubits\": false, \"layer_end\": 2}, {\"name\": \"TWO_QUBIT\", \"qids\": [\"q_0_2\", \"q_0_0\"], \"cids\": null, \"gate\": \"cnot\", \"gate_param\": null, \"computing_host_ids\": [\"QPU_0\"], \"pre_allocated_qubits\": false, \"layer_end\": 2}, {\"name\": \"TWO_QUBIT\", \"qids\": [\"q_0_3\", \"q_0_1\"], \"cids\": null, \"gate\": \"cnot\", \"gate_param\": null, \"computing_host_ids\": [\"QPU_0\"], \"pre_allocated_qubits\": false, \"layer_end\": 2}], \"QPU_1\": [{\"name\": \"PREPARE_QUBITS\", \"qids\": [\"q_1_0\", \"q_1_1\", \"q_1_2\", \"q_1_3\"], \"cids\": null, \"gate\": null, \"gate_param\": null, \"computing_host_ids\": [\"QPU_1\"], \"pre_allocated_qubits\": false, \"layer_end\": 0}, {\"name\": \"TWO_QUBIT\", \"qids\": [\"q_1_0\", \"q_1_1\"], \"cids\": null, \"gate\": \"cnot\", \"gate_param\": null, \"computing_host_ids\": [\"QPU_1\"], \"pre_allocated_qubits\": false, \"layer_end\": 0}, {\"name\": \"TWO_QUBIT\", \"qids\": [\"q_1_0\", \"q_1_2\"], \"cids\": null, \"gate\": \"cnot\", \"gate_param\": null, \"computing_host_ids\": [\"QPU_1\"], \"pre_allocated_qubits\": false, \"layer_end\": 0}, {\"name\": \"TWO_QUBIT\", \"qids\": [\"q_1_0\", \"q_1_3\"], \"cids\": null, \"gate\": \"cnot\", \"gate_param\": null, \"computing_host_ids\": [\"QPU_1\"], \"pre_allocated_qubits\": false, \"layer_end\": 0}, {\"name\": \"SINGLE\", \"qids\": [\"q_1_0\"], \"cids\": null, \"gate\": \"X\", \"gate_param\": null, \"computing_host_ids\": [\"QPU_1\"], \"pre_allocated_qubits\": false, \"layer_end\": 0}, {\"name\": \"SINGLE\", \"qids\": [\"q_1_1\"], \"cids\": null, \"gate\": \"X\", \"gate_param\": null, \"computing_host_ids\": [\"QPU_1\"], \"pre_allocated_qubits\": false, \"layer_end\": 0}, {\"name\": \"SINGLE\", \"qids\": [\"q_1_0\"], \"cids\": null, \"gate\": \"custom_gate\", \"gate_param\": [[[-0.31798493034765196, 0.7437467353318117], [-0.19454774447448653, -0.5548671488518317]], [[0.19454774447448653, -0.5548671488518317], [-0.31798493034765196, -0.7437467353318117]]], \"computing_host_ids\": [\"QPU_1\"], \"pre_allocated_qubits\": false, \"layer_end\": 1}, {\"name\": \"SINGLE\", \"qids\": [\"q_1_1\"], \"cids\": null, \"gate\": \"custom_gate\", \"gate_param\": [[[0.39367767478169263, 0.8957445465285611], [-0.06940503059650993, 0.19453158476381135]], [[0.06940503059650993, 0.19453158476381135], [0.39367767478169263, -0.8957445465285611]]], \"computing_host_ids\": [\"QPU_1\"], \"pre_allocated_qubits\": false, \"layer_end\": 1}, {\"name\": \"SINGLE\", \"qids\": [\"q_1_2\"], \"cids\": null, \"gate\": \"custom_gate\", \"gate_param\": [[[0.2315227000379894, -0.9438901384346993], [-0.01969801507418892, 0.234692637581541]], [[0.01969801507418892, 0.234692637581541], [0.2315227000379894, 0.9438901384346993]]], \"computing_host_ids\": [\"QPU_1\"], \"pre_allocated_qubits\": false, \"layer_end\": 1}, {\"name\": \"SINGLE\", \"qids\": [\"q_1_3\"], \"cids\": null, \"gate\": \"custom_gate\", \"gate_param\": [[[-0.9526411467473749, -0.20529868550618627], [0.015378497582795967, 0.22380973407198954]], [[-0.015378497582795967, 0.22380973407198954], [-0.9526411467473749, 0.20529868550618627]]], \"computing_host_ids\": [\"QPU_1\"], \"pre_allocated_qubits\": false, \"layer_end\": 1}, {\"name\": \"TWO_QUBIT\", \"qids\": [\"q_1_2\", \"q_1_3\"], \"cids\": null, \"gate\": \"cnot\", \"gate_param\": null, \"computing_host_ids\": [\"QPU_1\"], \"pre_allocated_qubits\": false, \"layer_end\": 2}, {\"name\": \"TWO_QUBIT\", \"qids\": [\"q_1_2\", \"q_1_0\"], \"cids\": null, \"gate\": \"cnot\", \"gate_param\": null, \"computing_host_ids\": [\"QPU_1\"], \"pre_allocated_qubits\": false, \"layer_end\": 2}, {\"name\": \"TWO_QUBIT\", \"qids\": [\"q_1_3\", \"q_1_1\"], \"cids\": null, \"gate\": \"cnot\", \"gate_param\": null, \"computing_host_ids\": [\"QPU_1\"], \"pre_allocated_qubits\": false, \"layer_end\": 2}]} with sequence number 0\n"
     ]
    },
    {
     "name": "stderr",
     "output_type": "stream",
     "text": [
      "2021-07-18 00:56:34,175: QPU_0 sends CLASSICAL to host_1 with sequence 0\n",
      "2021-07-18 00:56:34,176: host_1 received ACK from QPU_0 with sequence number 0\n",
      "2021-07-18 00:56:34,177: QPU_1 awaits classical ACK from host_1 with sequence 0\n",
      "2021-07-18 00:56:34,179: sending ACK:1 from host_1 to QPU_1\n",
      "2021-07-18 00:56:34,180: QPU_0 awaits classical ACK from host_1 with sequence 0\n",
      "2021-07-18 00:56:34,182: host_1 received ACK with sequence number 0\n",
      "2021-07-18 00:56:34,184: QPU_1 received ACK from host_1 with sequence number 0\n",
      "2021-07-18 00:56:34,187: sending ACK:1 from host_1 to QPU_0\n",
      "2021-07-18 00:56:34,188: host_1 received ACK with sequence number 0\n",
      "2021-07-18 00:56:34,222: QPU_0 received ACK from host_1 with sequence number 0\n"
     ]
    }
   ],
   "source": [
    "# Run the first ControllerHost communication protocol on a thread\n",
    "t1 = controller_host.run_protocol(\n",
    "    controller_host_protocol_preparation_ansatz,\n",
    "    (q_map, params, terms))\n",
    "\n",
    "# Run the first ComputingHost communication protocol on a separate thread for each QPU\n",
    "threads = []\n",
    "for host in computing_hosts:\n",
    "    threads.append(host.run_protocol(computing_host_protocol))\n",
    "\n",
    "# Wait for all threads to finish\n",
    "t1.join()\n",
    "for thread in threads:\n",
    "    thread.join()"
   ]
  },
  {
   "cell_type": "code",
   "execution_count": 22,
   "metadata": {},
   "outputs": [
    {
     "data": {
      "text/plain": [
       "4"
      ]
     },
     "execution_count": 22,
     "metadata": {},
     "output_type": "execute_result"
    }
   ],
   "source": [
    "# Let's see how many ticks we needed for the applying the ansatz\n",
    "clock.ticks"
   ]
  },
  {
   "cell_type": "code",
   "execution_count": 23,
   "metadata": {},
   "outputs": [
    {
     "name": "stderr",
     "output_type": "stream",
     "text": [
      "2021-07-18 00:56:40,591: host_1 sends BROADCAST message\n",
      "2021-07-18 00:56:40,910: sending ACK:2 from QPU_0 to host_1\n",
      "2021-07-18 00:56:40,930: sending ACK:2 from QPU_1 to host_1\n",
      "2021-07-18 00:56:41,088: QPU_0 received {\"QPU_0\": [{\"name\": \"REC_HAMILTON\", \"qids\": null, \"cids\": null, \"gate\": null, \"gate_param\": null, \"computing_host_ids\": [\"QPU_0\"], \"pre_allocated_qubits\": false, \"hamiltonian\": [[-0.04207897647782276, [[\"Identity\", 0]]], [0.17771287465139946, [[\"PauliZ\", 0]]], [0.1777128746513994, [[\"PauliZ\", 1]]], [-0.24274280513140462, [[\"PauliZ\", 2]]], [-0.24274280513140462, [[\"PauliZ\", 3]]], [0.17059738328801052, [[\"PauliZ\", 0], [\"PauliZ\", 1]]], [0.04475014401535161, [[\"PauliY\", 0], [\"PauliX\", 1], [\"PauliX\", 2], [\"PauliY\", 3]]], [-0.04475014401535161, [[\"PauliY\", 0], [\"PauliY\", 1], [\"PauliX\", 2], [\"PauliX\", 3]]]], \"layer_end\": 4}], \"QPU_1\": [{\"name\": \"REC_HAMILTON\", \"qids\": null, \"cids\": null, \"gate\": null, \"gate_param\": null, \"computing_host_ids\": [\"QPU_1\"], \"pre_allocated_qubits\": false, \"hamiltonian\": [[-0.04475014401535161, [[\"PauliX\", 0], [\"PauliX\", 1], [\"PauliY\", 2], [\"PauliY\", 3]]], [0.04475014401535161, [[\"PauliX\", 0], [\"PauliY\", 1], [\"PauliY\", 2], [\"PauliX\", 3]]], [0.12293305056183798, [[\"PauliZ\", 0], [\"PauliZ\", 2]]], [0.1676831945771896, [[\"PauliZ\", 0], [\"PauliZ\", 3]]], [0.1676831945771896, [[\"PauliZ\", 1], [\"PauliZ\", 2]]], [0.12293305056183798, [[\"PauliZ\", 1], [\"PauliZ\", 3]]], [0.17627640804319591, [[\"PauliZ\", 2], [\"PauliZ\", 3]]]], \"layer_end\": 4}]} with sequence number 1\n",
      "2021-07-18 00:56:41,099: QPU_0 sends CLASSICAL to host_1 with sequence 1\n",
      "2021-07-18 00:56:41,119: host_1 received ACK from QPU_0 with sequence number 1\n",
      "2021-07-18 00:56:41,137: QPU_1 received {\"QPU_0\": [{\"name\": \"REC_HAMILTON\", \"qids\": null, \"cids\": null, \"gate\": null, \"gate_param\": null, \"computing_host_ids\": [\"QPU_0\"], \"pre_allocated_qubits\": false, \"hamiltonian\": [[-0.04207897647782276, [[\"Identity\", 0]]], [0.17771287465139946, [[\"PauliZ\", 0]]], [0.1777128746513994, [[\"PauliZ\", 1]]], [-0.24274280513140462, [[\"PauliZ\", 2]]], [-0.24274280513140462, [[\"PauliZ\", 3]]], [0.17059738328801052, [[\"PauliZ\", 0], [\"PauliZ\", 1]]], [0.04475014401535161, [[\"PauliY\", 0], [\"PauliX\", 1], [\"PauliX\", 2], [\"PauliY\", 3]]], [-0.04475014401535161, [[\"PauliY\", 0], [\"PauliY\", 1], [\"PauliX\", 2], [\"PauliX\", 3]]]], \"layer_end\": 4}], \"QPU_1\": [{\"name\": \"REC_HAMILTON\", \"qids\": null, \"cids\": null, \"gate\": null, \"gate_param\": null, \"computing_host_ids\": [\"QPU_1\"], \"pre_allocated_qubits\": false, \"hamiltonian\": [[-0.04475014401535161, [[\"PauliX\", 0], [\"PauliX\", 1], [\"PauliY\", 2], [\"PauliY\", 3]]], [0.04475014401535161, [[\"PauliX\", 0], [\"PauliY\", 1], [\"PauliY\", 2], [\"PauliX\", 3]]], [0.12293305056183798, [[\"PauliZ\", 0], [\"PauliZ\", 2]]], [0.1676831945771896, [[\"PauliZ\", 0], [\"PauliZ\", 3]]], [0.1676831945771896, [[\"PauliZ\", 1], [\"PauliZ\", 2]]], [0.12293305056183798, [[\"PauliZ\", 1], [\"PauliZ\", 3]]], [0.17627640804319591, [[\"PauliZ\", 2], [\"PauliZ\", 3]]]], \"layer_end\": 4}]} with sequence number 1\n",
      "2021-07-18 00:56:41,137: QPU_1 sends CLASSICAL to host_1 with sequence 1\n",
      "2021-07-18 00:56:41,137: host_1 received ACK from QPU_1 with sequence number 1\n",
      "2021-07-18 00:56:41,138: QPU_0 awaits classical ACK from host_1 with sequence 1\n",
      "2021-07-18 00:56:41,140: sending ACK:2 from host_1 to QPU_0\n",
      "2021-07-18 00:56:41,141: QPU_1 awaits classical ACK from host_1 with sequence 1\n",
      "2021-07-18 00:56:41,141: sending ACK:2 from host_1 to QPU_1\n",
      "2021-07-18 00:56:41,142: host_1 received ACK with sequence number 1\n",
      "2021-07-18 00:56:41,144: host_1 received ACK with sequence number 1\n",
      "2021-07-18 00:56:41,150: QPU_0 received ACK from host_1 with sequence number 1\n",
      "2021-07-18 00:56:41,150: QPU_1 received ACK from host_1 with sequence number 1\n"
     ]
    }
   ],
   "source": [
    "# Repeat what we did above for the second batch of operations\n",
    "\n",
    "t1 = controller_host.run_protocol(\n",
    "    controller_host_protocol_expectation_schedule,\n",
    "    (q_map,))\n",
    "\n",
    "threads = []\n",
    "\n",
    "for host in computing_hosts:\n",
    "    threads.append(host.run_protocol(computing_host_protocol))\n",
    "\n",
    "t1.join()\n",
    "for thread in threads:\n",
    "    thread.join()"
   ]
  },
  {
   "cell_type": "code",
   "execution_count": 24,
   "metadata": {},
   "outputs": [
    {
     "data": {
      "text/plain": [
       "6"
      ]
     },
     "execution_count": 24,
     "metadata": {},
     "output_type": "execute_result"
    }
   ],
   "source": [
    "clock.ticks"
   ]
  },
  {
   "cell_type": "code",
   "execution_count": 25,
   "metadata": {},
   "outputs": [
    {
     "name": "stderr",
     "output_type": "stream",
     "text": [
      "2021-07-18 00:56:42,283: host_1 sends BROADCAST message\n",
      "2021-07-18 00:56:42,403: sending ACK:3 from QPU_0 to host_1\n",
      "2021-07-18 00:56:42,424: sending ACK:3 from QPU_1 to host_1\n",
      "2021-07-18 00:56:42,450: QPU_0 received {\"QPU_0\": [{\"name\": \"SEND_EXP\", \"qids\": null, \"cids\": null, \"gate\": null, \"gate_param\": null, \"computing_host_ids\": [\"QPU_0\"], \"pre_allocated_qubits\": false, \"layer_end\": 6}], \"QPU_1\": [{\"name\": \"SEND_EXP\", \"qids\": null, \"cids\": null, \"gate\": null, \"gate_param\": null, \"computing_host_ids\": [\"QPU_1\"], \"pre_allocated_qubits\": false, \"layer_end\": 6}]} with sequence number 2\n",
      "2021-07-18 00:56:42,450: QPU_0 sends CLASSICAL to host_1 with sequence 2\n",
      "2021-07-18 00:56:42,461: QPU_1 received {\"QPU_0\": [{\"name\": \"SEND_EXP\", \"qids\": null, \"cids\": null, \"gate\": null, \"gate_param\": null, \"computing_host_ids\": [\"QPU_0\"], \"pre_allocated_qubits\": false, \"layer_end\": 6}], \"QPU_1\": [{\"name\": \"SEND_EXP\", \"qids\": null, \"cids\": null, \"gate\": null, \"gate_param\": null, \"computing_host_ids\": [\"QPU_1\"], \"pre_allocated_qubits\": false, \"layer_end\": 6}]} with sequence number 2\n",
      "2021-07-18 00:56:42,462: QPU_1 sends CLASSICAL to host_1 with sequence 2\n",
      "2021-07-18 00:56:42,463: host_1 received ACK from QPU_0 with sequence number 2\n",
      "2021-07-18 00:56:42,464: host_1 received ACK from QPU_1 with sequence number 2\n",
      "2021-07-18 00:56:42,464: QPU_0 awaits classical ACK from host_1 with sequence 2\n",
      "2021-07-18 00:56:42,466: QPU_1 awaits classical ACK from host_1 with sequence 2\n",
      "2021-07-18 00:56:42,467: sending ACK:3 from host_1 to QPU_1\n",
      "2021-07-18 00:56:42,468: sending ACK:3 from host_1 to QPU_0\n",
      "2021-07-18 00:56:42,470: host_1 received ACK with sequence number 2\n",
      "2021-07-18 00:56:42,471: host_1 received ACK with sequence number 2\n",
      "2021-07-18 00:56:42,474: QPU_1 received ACK from host_1 with sequence number 2\n",
      "2021-07-18 00:56:42,484: QPU_0 received ACK from host_1 with sequence number 2\n",
      "2021-07-18 00:56:43,477: QPU_1 sends CLASSICAL to host_1 with sequence 3\n",
      "2021-07-18 00:56:43,478: QPU_1 awaits classical ACK from host_1 with sequence 3\n",
      "2021-07-18 00:56:43,481: sending ACK:4 from host_1 to QPU_1\n",
      "2021-07-18 00:56:43,482: host_1 received {\"QPU_1\": {\"type\": \"expectation_value\", \"val\": -0.2097483415839275}} with sequence number 3\n",
      "2021-07-18 00:56:43,483: QPU_1 received ACK from host_1 with sequence number 3\n",
      "2021-07-18 00:56:43,502: QPU_0 sends CLASSICAL to host_1 with sequence 3\n",
      "2021-07-18 00:56:43,503: QPU_0 awaits classical ACK from host_1 with sequence 3\n",
      "2021-07-18 00:56:43,504: sending ACK:4 from host_1 to QPU_0\n",
      "2021-07-18 00:56:43,505: host_1 received {\"QPU_0\": {\"type\": \"expectation_value\", \"val\": -0.5977214207152473}} with sequence number 3\n",
      "2021-07-18 00:56:43,506: QPU_0 received ACK from host_1 with sequence number 3\n"
     ]
    }
   ],
   "source": [
    "# Finally collect the results at the ControllerHost\n",
    "t1 = controller_host.run_protocol(\n",
    "    controller_host_protocol_expectation_collection,\n",
    "    (q_map,))\n",
    "\n",
    "threads = []\n",
    "\n",
    "for host in computing_hosts:\n",
    "    threads.append(host.run_protocol(computing_host_protocol_send_results))\n",
    "\n",
    "t1.join()\n",
    "for thread in threads:\n",
    "    thread.join()"
   ]
  },
  {
   "cell_type": "code",
   "execution_count": 26,
   "metadata": {},
   "outputs": [
    {
     "data": {
      "text/plain": [
       "-0.8074697622991748"
      ]
     },
     "execution_count": 26,
     "metadata": {},
     "output_type": "execute_result"
    }
   ],
   "source": [
    "# We can now aggregate the results from the ComputingHosts by simply summing up all the values.\n",
    "total_exp = 0\n",
    "for host in controller_host.computing_host_ids:\n",
    "    total_exp += controller_host.results[host]['val']\n",
    "    \n",
    "total_exp"
   ]
  },
  {
   "cell_type": "markdown",
   "metadata": {},
   "source": [
    "That's not very far from PennyLane's simulation value of -0.88179557 Ha! Such a small difference should be reconciled during the optimization process."
   ]
  },
  {
   "cell_type": "code",
   "execution_count": 27,
   "metadata": {},
   "outputs": [
    {
     "data": {
      "text/plain": [
       "8"
      ]
     },
     "execution_count": 27,
     "metadata": {},
     "output_type": "execute_result"
    }
   ],
   "source": [
    "clock.ticks"
   ]
  },
  {
   "cell_type": "markdown",
   "metadata": {},
   "source": [
    "## Optimise"
   ]
  },
  {
   "cell_type": "markdown",
   "metadata": {},
   "source": [
    "Now we can go on to attempt and optimize the parameters until we minimize the expecation value."
   ]
  },
  {
   "cell_type": "markdown",
   "metadata": {},
   "source": [
    "Since the scheduler of the controller host has to be run for each submitted set of parameters, it is more efficient to put the whole quantum circuit into one Circuit object."
   ]
  },
  {
   "cell_type": "code",
   "execution_count": 28,
   "metadata": {},
   "outputs": [],
   "source": [
    "def vqe_circuit(host, q_map, parameters):\n",
    "    layers = []\n",
    "    host_id = list(q_map.keys())\n",
    "    \n",
    "    # Initialise the qubits on the computing host\n",
    "    layers = layers + initialisation_operations(q_map)\n",
    "    \n",
    "    # Apply the ansatz\n",
    "    layers = layers + ansatz_operations(q_map, parameters)\n",
    "    \n",
    "    # Send the schedules\n",
    "    layers = layers + dispatch_hamiltonian_schedules(host, q_map)\n",
    "    \n",
    "    # Ask for the values\n",
    "    layers = layers + ask_for_expectation_values(q_map)\n",
    "    \n",
    "    circuit = Circuit(q_map, layers)\n",
    "    return circuit"
   ]
  },
  {
   "cell_type": "code",
   "execution_count": 29,
   "metadata": {},
   "outputs": [],
   "source": [
    "def controller_host_protocol_schedules(host, q_map, params, terms):\n",
    "    host.schedule_expectation_terms(terms, q_map)\n",
    "    \n",
    "    monolithic_circuit = vqe_circuit(host, q_map, params)\n",
    "\n",
    "    host.generate_and_send_schedules(monolithic_circuit)"
   ]
  },
  {
   "cell_type": "code",
   "execution_count": 30,
   "metadata": {},
   "outputs": [],
   "source": [
    "def controller_host_protocol_get_final_results(host, q_map, params):\n",
    "    host.receive_results()"
   ]
  },
  {
   "cell_type": "code",
   "execution_count": 31,
   "metadata": {},
   "outputs": [],
   "source": [
    "def computing_host_protocol_receive_schedules(host):\n",
    "    host.receive_schedule()"
   ]
  },
  {
   "cell_type": "code",
   "execution_count": 32,
   "metadata": {},
   "outputs": [],
   "source": [
    "def computing_host_protocol_send_final_results(host):\n",
    "    host.send_results('expectation')"
   ]
  },
  {
   "cell_type": "code",
   "execution_count": 33,
   "metadata": {},
   "outputs": [],
   "source": [
    "# Most of the contents of the following function are copied from the demonstration above.\n",
    "\n",
    "def cost_fn(params):\n",
    "    params = params.reshape(4, 3)\n",
    "    \n",
    "    network = Network.get_instance()\n",
    "    network.delay = 0\n",
    "    network.start()\n",
    "\n",
    "    Clock.reset_clock()\n",
    "\n",
    "    eqsn = EQSNBackend()\n",
    "\n",
    "    controller_host = ControllerHost(\n",
    "        host_id=\"host_1\",\n",
    "        backend=eqsn\n",
    "    )\n",
    "\n",
    "    computing_hosts, q_map = controller_host.create_distributed_network(\n",
    "        num_computing_hosts=2,\n",
    "        num_qubits_per_host=4)\n",
    "    \n",
    "    controller_host.start()\n",
    "\n",
    "    network.add_hosts(computing_hosts)\n",
    "    network.add_hosts([controller_host])\n",
    "    \n",
    "    #############################################################\n",
    "    \n",
    "    t1 = controller_host.run_protocol(controller_host_protocol_schedules, (q_map, params, terms))\n",
    "    \n",
    "    threads = []\n",
    "\n",
    "    for host in computing_hosts:\n",
    "        threads.append(host.run_protocol(computing_host_protocol_receive_schedules))\n",
    "\n",
    "    t1.join()\n",
    "    for thread in threads:\n",
    "        thread.join()\n",
    "        \n",
    "    #############################################################\n",
    "    \n",
    "    t1 = controller_host.run_protocol(controller_host_protocol_get_final_results, (q_map, params))\n",
    "    \n",
    "    threads = []\n",
    "\n",
    "    for host in computing_hosts:\n",
    "        threads.append(host.run_protocol(computing_host_protocol_send_final_results))\n",
    "\n",
    "    t1.join()\n",
    "    for thread in threads:\n",
    "        thread.join()\n",
    "        \n",
    "    #############################################################\n",
    "    \n",
    "    for host in computing_hosts:\n",
    "        network.remove_host(host)\n",
    "    network.remove_host(controller_host)\n",
    "    \n",
    "    total_exp = 0\n",
    "    for host in controller_host.computing_host_ids:\n",
    "        total_exp += controller_host.results[host]['val']\n",
    "    \n",
    "    return total_exp"
   ]
  },
  {
   "cell_type": "code",
   "execution_count": 34,
   "metadata": {},
   "outputs": [
    {
     "data": {
      "text/plain": [
       "array([[ 5.54193389,  1.25713095,  3.07479606],\n",
       "       [ 7.03997361,  5.86710646, -3.07020901],\n",
       "       [ 2.98479079, -0.47550269, -0.32427159],\n",
       "       [ 1.28993324,  0.45252622,  4.56873497]])"
      ]
     },
     "execution_count": 34,
     "metadata": {},
     "output_type": "execute_result"
    }
   ],
   "source": [
    "np.random.seed(0)\n",
    "params = np.random.normal(0, np.pi, (4, 3))\n",
    "\n",
    "params"
   ]
  },
  {
   "cell_type": "markdown",
   "metadata": {},
   "source": [
    "Let's see if the cost function returns only one final loss value as expected."
   ]
  },
  {
   "cell_type": "code",
   "execution_count": 35,
   "metadata": {},
   "outputs": [
    {
     "name": "stderr",
     "output_type": "stream",
     "text": [
      "2021-06-25 23:45:34,505: Host QPU_0 started processing\n",
      "2021-06-25 23:45:34,505: Host QPU_1 started processing\n",
      "2021-06-25 23:45:34,506: Host host_1 started processing\n",
      "2021-06-25 23:45:34,507: host_1 sends BROADCAST message\n",
      "2021-06-25 23:45:34,644: sending ACK:1 from QPU_1 to host_1\n",
      "2021-06-25 23:45:34,644: sending ACK:1 from QPU_0 to host_1\n",
      "2021-06-25 23:45:34,645: QPU_1 received {\"QPU_0\": [{\"name\": \"PREPARE_QUBITS\", \"qids\": [\"q_0_0\", \"q_0_1\", \"q_0_2\", \"q_0_3\"], \"cids\": null, \"gate\": null, \"gate_param\": null, \"computing_host_ids\": [\"QPU_0\"], \"pre_allocated_qubits\": false, \"layer_end\": 0}, {\"name\": \"TWO_QUBIT\", \"qids\": [\"q_0_0\", \"q_0_1\"], \"cids\": null, \"gate\": \"cnot\", \"gate_param\": null, \"computing_host_ids\": [\"QPU_0\"], \"pre_allocated_qubits\": false, \"layer_end\": 0}, {\"name\": \"TWO_QUBIT\", \"qids\": [\"q_0_0\", \"q_0_2\"], \"cids\": null, \"gate\": \"cnot\", \"gate_param\": null, \"computing_host_ids\": [\"QPU_0\"], \"pre_allocated_qubits\": false, \"layer_end\": 0}, {\"name\": \"TWO_QUBIT\", \"qids\": [\"q_0_0\", \"q_0_3\"], \"cids\": null, \"gate\": \"cnot\", \"gate_param\": null, \"computing_host_ids\": [\"QPU_0\"], \"pre_allocated_qubits\": false, \"layer_end\": 0}, {\"name\": \"SINGLE\", \"qids\": [\"q_0_0\"], \"cids\": null, \"gate\": \"X\", \"gate_param\": null, \"computing_host_ids\": [\"QPU_0\"], \"pre_allocated_qubits\": false, \"layer_end\": 0}, {\"name\": \"SINGLE\", \"qids\": [\"q_0_1\"], \"cids\": null, \"gate\": \"X\", \"gate_param\": null, \"computing_host_ids\": [\"QPU_0\"], \"pre_allocated_qubits\": false, \"layer_end\": 0}, {\"name\": \"SINGLE\", \"qids\": [\"q_0_0\"], \"cids\": null, \"gate\": \"custom_gate\", \"gate_param\": [[[-0.31798493034765196, 0.7437467353318117], [-0.19454774447448653, -0.5548671488518317]], [[0.19454774447448653, -0.5548671488518317], [-0.31798493034765196, -0.7437467353318117]]], \"computing_host_ids\": [\"QPU_0\"], \"pre_allocated_qubits\": false, \"layer_end\": 1}, {\"name\": \"SINGLE\", \"qids\": [\"q_0_1\"], \"cids\": null, \"gate\": \"custom_gate\", \"gate_param\": [[[0.39367767478169263, 0.8957445465285611], [-0.06940503059650993, 0.19453158476381135]], [[0.06940503059650993, 0.19453158476381135], [0.39367767478169263, -0.8957445465285611]]], \"computing_host_ids\": [\"QPU_0\"], \"pre_allocated_qubits\": false, \"layer_end\": 1}, {\"name\": \"SINGLE\", \"qids\": [\"q_0_2\"], \"cids\": null, \"gate\": \"custom_gate\", \"gate_param\": [[[0.2315227000379894, -0.9438901384346993], [-0.01969801507418892, 0.234692637581541]], [[0.01969801507418892, 0.234692637581541], [0.2315227000379894, 0.9438901384346993]]], \"computing_host_ids\": [\"QPU_0\"], \"pre_allocated_qubits\": false, \"layer_end\": 1}, {\"name\": \"SINGLE\", \"qids\": [\"q_0_3\"], \"cids\": null, \"gate\": \"custom_gate\", \"gate_param\": [[[-0.9526411467473749, -0.20529868550618627], [0.015378497582795967, 0.22380973407198954]], [[-0.015378497582795967, 0.22380973407198954], [-0.9526411467473749, 0.20529868550618627]]], \"computing_host_ids\": [\"QPU_0\"], \"pre_allocated_qubits\": false, \"layer_end\": 1}, {\"name\": \"TWO_QUBIT\", \"qids\": [\"q_0_2\", \"q_0_3\"], \"cids\": null, \"gate\": \"cnot\", \"gate_param\": null, \"computing_host_ids\": [\"QPU_0\"], \"pre_allocated_qubits\": false, \"layer_end\": 2}, {\"name\": \"TWO_QUBIT\", \"qids\": [\"q_0_2\", \"q_0_0\"], \"cids\": null, \"gate\": \"cnot\", \"gate_param\": null, \"computing_host_ids\": [\"QPU_0\"], \"pre_allocated_qubits\": false, \"layer_end\": 2}, {\"name\": \"TWO_QUBIT\", \"qids\": [\"q_0_3\", \"q_0_1\"], \"cids\": null, \"gate\": \"cnot\", \"gate_param\": null, \"computing_host_ids\": [\"QPU_0\"], \"pre_allocated_qubits\": false, \"layer_end\": 2}, {\"name\": \"REC_HAMILTON\", \"qids\": null, \"cids\": null, \"gate\": null, \"gate_param\": null, \"computing_host_ids\": [\"QPU_0\"], \"pre_allocated_qubits\": false, \"hamiltonian\": [[-0.04207897647782276, [[\"Identity\", 0]]], [0.17771287465139946, [[\"PauliZ\", 0]]], [0.1777128746513994, [[\"PauliZ\", 1]]], [-0.24274280513140462, [[\"PauliZ\", 2]]], [-0.24274280513140462, [[\"PauliZ\", 3]]], [0.17059738328801052, [[\"PauliZ\", 0], [\"PauliZ\", 1]]], [0.04475014401535161, [[\"PauliY\", 0], [\"PauliX\", 1], [\"PauliX\", 2], [\"PauliY\", 3]]], [-0.04475014401535161, [[\"PauliY\", 0], [\"PauliY\", 1], [\"PauliX\", 2], [\"PauliX\", 3]]]], \"layer_end\": 3}, {\"name\": \"SEND_EXP\", \"qids\": null, \"cids\": null, \"gate\": null, \"gate_param\": null, \"computing_host_ids\": [\"QPU_0\"], \"pre_allocated_qubits\": false, \"layer_end\": 4}], \"QPU_1\": [{\"name\": \"PREPARE_QUBITS\", \"qids\": [\"q_1_0\", \"q_1_1\", \"q_1_2\", \"q_1_3\"], \"cids\": null, \"gate\": null, \"gate_param\": null, \"computing_host_ids\": [\"QPU_1\"], \"pre_allocated_qubits\": false, \"layer_end\": 0}, {\"name\": \"TWO_QUBIT\", \"qids\": [\"q_1_0\", \"q_1_1\"], \"cids\": null, \"gate\": \"cnot\", \"gate_param\": null, \"computing_host_ids\": [\"QPU_1\"], \"pre_allocated_qubits\": false, \"layer_end\": 0}, {\"name\": \"TWO_QUBIT\", \"qids\": [\"q_1_0\", \"q_1_2\"], \"cids\": null, \"gate\": \"cnot\", \"gate_param\": null, \"computing_host_ids\": [\"QPU_1\"], \"pre_allocated_qubits\": false, \"layer_end\": 0}, {\"name\": \"TWO_QUBIT\", \"qids\": [\"q_1_0\", \"q_1_3\"], \"cids\": null, \"gate\": \"cnot\", \"gate_param\": null, \"computing_host_ids\": [\"QPU_1\"], \"pre_allocated_qubits\": false, \"layer_end\": 0}, {\"name\": \"SINGLE\", \"qids\": [\"q_1_0\"], \"cids\": null, \"gate\": \"X\", \"gate_param\": null, \"computing_host_ids\": [\"QPU_1\"], \"pre_allocated_qubits\": false, \"layer_end\": 0}, {\"name\": \"SINGLE\", \"qids\": [\"q_1_1\"], \"cids\": null, \"gate\": \"X\", \"gate_param\": null, \"computing_host_ids\": [\"QPU_1\"], \"pre_allocated_qubits\": false, \"layer_end\": 0}, {\"name\": \"SINGLE\", \"qids\": [\"q_1_0\"], \"cids\": null, \"gate\": \"custom_gate\", \"gate_param\": [[[-0.31798493034765196, 0.7437467353318117], [-0.19454774447448653, -0.5548671488518317]], [[0.19454774447448653, -0.5548671488518317], [-0.31798493034765196, -0.7437467353318117]]], \"computing_host_ids\": [\"QPU_1\"], \"pre_allocated_qubits\": false, \"layer_end\": 1}, {\"name\": \"SINGLE\", \"qids\": [\"q_1_1\"], \"cids\": null, \"gate\": \"custom_gate\", \"gate_param\": [[[0.39367767478169263, 0.8957445465285611], [-0.06940503059650993, 0.19453158476381135]], [[0.06940503059650993, 0.19453158476381135], [0.39367767478169263, -0.8957445465285611]]], \"computing_host_ids\": [\"QPU_1\"], \"pre_allocated_qubits\": false, \"layer_end\": 1}, {\"name\": \"SINGLE\", \"qids\": [\"q_1_2\"], \"cids\": null, \"gate\": \"custom_gate\", \"gate_param\": [[[0.2315227000379894, -0.9438901384346993], [-0.01969801507418892, 0.234692637581541]], [[0.01969801507418892, 0.234692637581541], [0.2315227000379894, 0.9438901384346993]]], \"computing_host_ids\": [\"QPU_1\"], \"pre_allocated_qubits\": false, \"layer_end\": 1}, {\"name\": \"SINGLE\", \"qids\": [\"q_1_3\"], \"cids\": null, \"gate\": \"custom_gate\", \"gate_param\": [[[-0.9526411467473749, -0.20529868550618627], [0.015378497582795967, 0.22380973407198954]], [[-0.015378497582795967, 0.22380973407198954], [-0.9526411467473749, 0.20529868550618627]]], \"computing_host_ids\": [\"QPU_1\"], \"pre_allocated_qubits\": false, \"layer_end\": 1}, {\"name\": \"TWO_QUBIT\", \"qids\": [\"q_1_2\", \"q_1_3\"], \"cids\": null, \"gate\": \"cnot\", \"gate_param\": null, \"computing_host_ids\": [\"QPU_1\"], \"pre_allocated_qubits\": false, \"layer_end\": 2}, {\"name\": \"TWO_QUBIT\", \"qids\": [\"q_1_2\", \"q_1_0\"], \"cids\": null, \"gate\": \"cnot\", \"gate_param\": null, \"computing_host_ids\": [\"QPU_1\"], \"pre_allocated_qubits\": false, \"layer_end\": 2}, {\"name\": \"TWO_QUBIT\", \"qids\": [\"q_1_3\", \"q_1_1\"], \"cids\": null, \"gate\": \"cnot\", \"gate_param\": null, \"computing_host_ids\": [\"QPU_1\"], \"pre_allocated_qubits\": false, \"layer_end\": 2}, {\"name\": \"REC_HAMILTON\", \"qids\": null, \"cids\": null, \"gate\": null, \"gate_param\": null, \"computing_host_ids\": [\"QPU_1\"], \"pre_allocated_qubits\": false, \"hamiltonian\": [[-0.04475014401535161, [[\"PauliX\", 0], [\"PauliX\", 1], [\"PauliY\", 2], [\"PauliY\", 3]]], [0.04475014401535161, [[\"PauliX\", 0], [\"PauliY\", 1], [\"PauliY\", 2], [\"PauliX\", 3]]], [0.12293305056183798, [[\"PauliZ\", 0], [\"PauliZ\", 2]]], [0.1676831945771896, [[\"PauliZ\", 0], [\"PauliZ\", 3]]], [0.1676831945771896, [[\"PauliZ\", 1], [\"PauliZ\", 2]]], [0.12293305056183798, [[\"PauliZ\", 1], [\"PauliZ\", 3]]], [0.17627640804319591, [[\"PauliZ\", 2], [\"PauliZ\", 3]]]], \"layer_end\": 3}, {\"name\": \"SEND_EXP\", \"qids\": null, \"cids\": null, \"gate\": null, \"gate_param\": null, \"computing_host_ids\": [\"QPU_1\"], \"pre_allocated_qubits\": false, \"layer_end\": 4}]} with sequence number 0\n",
      "2021-06-25 23:45:34,655: QPU_1 sends CLASSICAL to host_1 with sequence 0\n",
      "2021-06-25 23:45:34,681: QPU_0 received {\"QPU_0\": [{\"name\": \"PREPARE_QUBITS\", \"qids\": [\"q_0_0\", \"q_0_1\", \"q_0_2\", \"q_0_3\"], \"cids\": null, \"gate\": null, \"gate_param\": null, \"computing_host_ids\": [\"QPU_0\"], \"pre_allocated_qubits\": false, \"layer_end\": 0}, {\"name\": \"TWO_QUBIT\", \"qids\": [\"q_0_0\", \"q_0_1\"], \"cids\": null, \"gate\": \"cnot\", \"gate_param\": null, \"computing_host_ids\": [\"QPU_0\"], \"pre_allocated_qubits\": false, \"layer_end\": 0}, {\"name\": \"TWO_QUBIT\", \"qids\": [\"q_0_0\", \"q_0_2\"], \"cids\": null, \"gate\": \"cnot\", \"gate_param\": null, \"computing_host_ids\": [\"QPU_0\"], \"pre_allocated_qubits\": false, \"layer_end\": 0}, {\"name\": \"TWO_QUBIT\", \"qids\": [\"q_0_0\", \"q_0_3\"], \"cids\": null, \"gate\": \"cnot\", \"gate_param\": null, \"computing_host_ids\": [\"QPU_0\"], \"pre_allocated_qubits\": false, \"layer_end\": 0}, {\"name\": \"SINGLE\", \"qids\": [\"q_0_0\"], \"cids\": null, \"gate\": \"X\", \"gate_param\": null, \"computing_host_ids\": [\"QPU_0\"], \"pre_allocated_qubits\": false, \"layer_end\": 0}, {\"name\": \"SINGLE\", \"qids\": [\"q_0_1\"], \"cids\": null, \"gate\": \"X\", \"gate_param\": null, \"computing_host_ids\": [\"QPU_0\"], \"pre_allocated_qubits\": false, \"layer_end\": 0}, {\"name\": \"SINGLE\", \"qids\": [\"q_0_0\"], \"cids\": null, \"gate\": \"custom_gate\", \"gate_param\": [[[-0.31798493034765196, 0.7437467353318117], [-0.19454774447448653, -0.5548671488518317]], [[0.19454774447448653, -0.5548671488518317], [-0.31798493034765196, -0.7437467353318117]]], \"computing_host_ids\": [\"QPU_0\"], \"pre_allocated_qubits\": false, \"layer_end\": 1}, {\"name\": \"SINGLE\", \"qids\": [\"q_0_1\"], \"cids\": null, \"gate\": \"custom_gate\", \"gate_param\": [[[0.39367767478169263, 0.8957445465285611], [-0.06940503059650993, 0.19453158476381135]], [[0.06940503059650993, 0.19453158476381135], [0.39367767478169263, -0.8957445465285611]]], \"computing_host_ids\": [\"QPU_0\"], \"pre_allocated_qubits\": false, \"layer_end\": 1}, {\"name\": \"SINGLE\", \"qids\": [\"q_0_2\"], \"cids\": null, \"gate\": \"custom_gate\", \"gate_param\": [[[0.2315227000379894, -0.9438901384346993], [-0.01969801507418892, 0.234692637581541]], [[0.01969801507418892, 0.234692637581541], [0.2315227000379894, 0.9438901384346993]]], \"computing_host_ids\": [\"QPU_0\"], \"pre_allocated_qubits\": false, \"layer_end\": 1}, {\"name\": \"SINGLE\", \"qids\": [\"q_0_3\"], \"cids\": null, \"gate\": \"custom_gate\", \"gate_param\": [[[-0.9526411467473749, -0.20529868550618627], [0.015378497582795967, 0.22380973407198954]], [[-0.015378497582795967, 0.22380973407198954], [-0.9526411467473749, 0.20529868550618627]]], \"computing_host_ids\": [\"QPU_0\"], \"pre_allocated_qubits\": false, \"layer_end\": 1}, {\"name\": \"TWO_QUBIT\", \"qids\": [\"q_0_2\", \"q_0_3\"], \"cids\": null, \"gate\": \"cnot\", \"gate_param\": null, \"computing_host_ids\": [\"QPU_0\"], \"pre_allocated_qubits\": false, \"layer_end\": 2}, {\"name\": \"TWO_QUBIT\", \"qids\": [\"q_0_2\", \"q_0_0\"], \"cids\": null, \"gate\": \"cnot\", \"gate_param\": null, \"computing_host_ids\": [\"QPU_0\"], \"pre_allocated_qubits\": false, \"layer_end\": 2}, {\"name\": \"TWO_QUBIT\", \"qids\": [\"q_0_3\", \"q_0_1\"], \"cids\": null, \"gate\": \"cnot\", \"gate_param\": null, \"computing_host_ids\": [\"QPU_0\"], \"pre_allocated_qubits\": false, \"layer_end\": 2}, {\"name\": \"REC_HAMILTON\", \"qids\": null, \"cids\": null, \"gate\": null, \"gate_param\": null, \"computing_host_ids\": [\"QPU_0\"], \"pre_allocated_qubits\": false, \"hamiltonian\": [[-0.04207897647782276, [[\"Identity\", 0]]], [0.17771287465139946, [[\"PauliZ\", 0]]], [0.1777128746513994, [[\"PauliZ\", 1]]], [-0.24274280513140462, [[\"PauliZ\", 2]]], [-0.24274280513140462, [[\"PauliZ\", 3]]], [0.17059738328801052, [[\"PauliZ\", 0], [\"PauliZ\", 1]]], [0.04475014401535161, [[\"PauliY\", 0], [\"PauliX\", 1], [\"PauliX\", 2], [\"PauliY\", 3]]], [-0.04475014401535161, [[\"PauliY\", 0], [\"PauliY\", 1], [\"PauliX\", 2], [\"PauliX\", 3]]]], \"layer_end\": 3}, {\"name\": \"SEND_EXP\", \"qids\": null, \"cids\": null, \"gate\": null, \"gate_param\": null, \"computing_host_ids\": [\"QPU_0\"], \"pre_allocated_qubits\": false, \"layer_end\": 4}], \"QPU_1\": [{\"name\": \"PREPARE_QUBITS\", \"qids\": [\"q_1_0\", \"q_1_1\", \"q_1_2\", \"q_1_3\"], \"cids\": null, \"gate\": null, \"gate_param\": null, \"computing_host_ids\": [\"QPU_1\"], \"pre_allocated_qubits\": false, \"layer_end\": 0}, {\"name\": \"TWO_QUBIT\", \"qids\": [\"q_1_0\", \"q_1_1\"], \"cids\": null, \"gate\": \"cnot\", \"gate_param\": null, \"computing_host_ids\": [\"QPU_1\"], \"pre_allocated_qubits\": false, \"layer_end\": 0}, {\"name\": \"TWO_QUBIT\", \"qids\": [\"q_1_0\", \"q_1_2\"], \"cids\": null, \"gate\": \"cnot\", \"gate_param\": null, \"computing_host_ids\": [\"QPU_1\"], \"pre_allocated_qubits\": false, \"layer_end\": 0}, {\"name\": \"TWO_QUBIT\", \"qids\": [\"q_1_0\", \"q_1_3\"], \"cids\": null, \"gate\": \"cnot\", \"gate_param\": null, \"computing_host_ids\": [\"QPU_1\"], \"pre_allocated_qubits\": false, \"layer_end\": 0}, {\"name\": \"SINGLE\", \"qids\": [\"q_1_0\"], \"cids\": null, \"gate\": \"X\", \"gate_param\": null, \"computing_host_ids\": [\"QPU_1\"], \"pre_allocated_qubits\": false, \"layer_end\": 0}, {\"name\": \"SINGLE\", \"qids\": [\"q_1_1\"], \"cids\": null, \"gate\": \"X\", \"gate_param\": null, \"computing_host_ids\": [\"QPU_1\"], \"pre_allocated_qubits\": false, \"layer_end\": 0}, {\"name\": \"SINGLE\", \"qids\": [\"q_1_0\"], \"cids\": null, \"gate\": \"custom_gate\", \"gate_param\": [[[-0.31798493034765196, 0.7437467353318117], [-0.19454774447448653, -0.5548671488518317]], [[0.19454774447448653, -0.5548671488518317], [-0.31798493034765196, -0.7437467353318117]]], \"computing_host_ids\": [\"QPU_1\"], \"pre_allocated_qubits\": false, \"layer_end\": 1}, {\"name\": \"SINGLE\", \"qids\": [\"q_1_1\"], \"cids\": null, \"gate\": \"custom_gate\", \"gate_param\": [[[0.39367767478169263, 0.8957445465285611], [-0.06940503059650993, 0.19453158476381135]], [[0.06940503059650993, 0.19453158476381135], [0.39367767478169263, -0.8957445465285611]]], \"computing_host_ids\": [\"QPU_1\"], \"pre_allocated_qubits\": false, \"layer_end\": 1}, {\"name\": \"SINGLE\", \"qids\": [\"q_1_2\"], \"cids\": null, \"gate\": \"custom_gate\", \"gate_param\": [[[0.2315227000379894, -0.9438901384346993], [-0.01969801507418892, 0.234692637581541]], [[0.01969801507418892, 0.234692637581541], [0.2315227000379894, 0.9438901384346993]]], \"computing_host_ids\": [\"QPU_1\"], \"pre_allocated_qubits\": false, \"layer_end\": 1}, {\"name\": \"SINGLE\", \"qids\": [\"q_1_3\"], \"cids\": null, \"gate\": \"custom_gate\", \"gate_param\": [[[-0.9526411467473749, -0.20529868550618627], [0.015378497582795967, 0.22380973407198954]], [[-0.015378497582795967, 0.22380973407198954], [-0.9526411467473749, 0.20529868550618627]]], \"computing_host_ids\": [\"QPU_1\"], \"pre_allocated_qubits\": false, \"layer_end\": 1}, {\"name\": \"TWO_QUBIT\", \"qids\": [\"q_1_2\", \"q_1_3\"], \"cids\": null, \"gate\": \"cnot\", \"gate_param\": null, \"computing_host_ids\": [\"QPU_1\"], \"pre_allocated_qubits\": false, \"layer_end\": 2}, {\"name\": \"TWO_QUBIT\", \"qids\": [\"q_1_2\", \"q_1_0\"], \"cids\": null, \"gate\": \"cnot\", \"gate_param\": null, \"computing_host_ids\": [\"QPU_1\"], \"pre_allocated_qubits\": false, \"layer_end\": 2}, {\"name\": \"TWO_QUBIT\", \"qids\": [\"q_1_3\", \"q_1_1\"], \"cids\": null, \"gate\": \"cnot\", \"gate_param\": null, \"computing_host_ids\": [\"QPU_1\"], \"pre_allocated_qubits\": false, \"layer_end\": 2}, {\"name\": \"REC_HAMILTON\", \"qids\": null, \"cids\": null, \"gate\": null, \"gate_param\": null, \"computing_host_ids\": [\"QPU_1\"], \"pre_allocated_qubits\": false, \"hamiltonian\": [[-0.04475014401535161, [[\"PauliX\", 0], [\"PauliX\", 1], [\"PauliY\", 2], [\"PauliY\", 3]]], [0.04475014401535161, [[\"PauliX\", 0], [\"PauliY\", 1], [\"PauliY\", 2], [\"PauliX\", 3]]], [0.12293305056183798, [[\"PauliZ\", 0], [\"PauliZ\", 2]]], [0.1676831945771896, [[\"PauliZ\", 0], [\"PauliZ\", 3]]], [0.1676831945771896, [[\"PauliZ\", 1], [\"PauliZ\", 2]]], [0.12293305056183798, [[\"PauliZ\", 1], [\"PauliZ\", 3]]], [0.17627640804319591, [[\"PauliZ\", 2], [\"PauliZ\", 3]]]], \"layer_end\": 3}, {\"name\": \"SEND_EXP\", \"qids\": null, \"cids\": null, \"gate\": null, \"gate_param\": null, \"computing_host_ids\": [\"QPU_1\"], \"pre_allocated_qubits\": false, \"layer_end\": 4}]} with sequence number 0\n"
     ]
    },
    {
     "name": "stderr",
     "output_type": "stream",
     "text": [
      "2021-06-25 23:45:34,681: QPU_0 sends CLASSICAL to host_1 with sequence 0\n",
      "2021-06-25 23:45:34,684: host_1 received ACK from QPU_1 with sequence number 0\n",
      "2021-06-25 23:45:34,684: host_1 received ACK from QPU_0 with sequence number 0\n",
      "2021-06-25 23:45:34,684: QPU_1 awaits classical ACK from host_1 with sequence 0\n",
      "2021-06-25 23:45:34,686: sending ACK:1 from host_1 to QPU_1\n",
      "2021-06-25 23:45:34,687: QPU_0 awaits classical ACK from host_1 with sequence 0\n",
      "2021-06-25 23:45:34,689: sending ACK:1 from host_1 to QPU_0\n",
      "2021-06-25 23:45:34,691: host_1 received ACK with sequence number 0\n",
      "2021-06-25 23:45:34,692: QPU_1 received ACK from host_1 with sequence number 0\n",
      "2021-06-25 23:45:34,695: host_1 received ACK with sequence number 0\n",
      "2021-06-25 23:45:34,698: QPU_0 received ACK from host_1 with sequence number 0\n",
      "2021-06-25 23:45:38,804: QPU_0 sends CLASSICAL to host_1 with sequence 1\n",
      "2021-06-25 23:45:38,805: QPU_1 sends CLASSICAL to host_1 with sequence 1\n",
      "2021-06-25 23:45:38,805: QPU_0 awaits classical ACK from host_1 with sequence 1\n",
      "2021-06-25 23:45:38,806: sending ACK:2 from host_1 to QPU_0\n",
      "2021-06-25 23:45:38,807: QPU_1 awaits classical ACK from host_1 with sequence 1\n",
      "2021-06-25 23:45:38,809: host_1 received {\"QPU_0\": {\"type\": \"expectation_value\", \"val\": -0.5977214207152473}} with sequence number 1\n",
      "2021-06-25 23:45:38,810: sending ACK:2 from host_1 to QPU_1\n",
      "2021-06-25 23:45:38,810: QPU_0 received ACK from host_1 with sequence number 1\n",
      "2021-06-25 23:45:38,811: host_1 received {\"QPU_1\": {\"type\": \"expectation_value\", \"val\": -0.2097483415839275}} with sequence number 1\n",
      "2021-06-25 23:45:38,813: QPU_1 received ACK from host_1 with sequence number 1\n"
     ]
    },
    {
     "data": {
      "text/plain": [
       "-0.8074697622991748"
      ]
     },
     "execution_count": 35,
     "metadata": {},
     "output_type": "execute_result"
    }
   ],
   "source": [
    "cost_fn(params)"
   ]
  },
  {
   "cell_type": "markdown",
   "metadata": {},
   "source": [
    "Looks good! Let's disable the `Logger` to avoid clutter during the optimization process."
   ]
  },
  {
   "cell_type": "code",
   "execution_count": 36,
   "metadata": {},
   "outputs": [],
   "source": [
    "Logger.DISABLED = True"
   ]
  },
  {
   "cell_type": "markdown",
   "metadata": {},
   "source": [
    "It should be noted that the networking nature of this simulation makes it tricky to use gradient-based approaches for optimization, as Interlin-q does not support it yet. So we will go for non-gradient based optimizers. "
   ]
  },
  {
   "cell_type": "markdown",
   "metadata": {},
   "source": [
    "### SciPy Optimizers"
   ]
  },
  {
   "cell_type": "markdown",
   "metadata": {},
   "source": [
    "SciPy optimizers from the `minimize` API are too slow for the purely network version, thus they are not included in this notebook."
   ]
  },
  {
   "cell_type": "markdown",
   "metadata": {},
   "source": [
    "### Scikit-Quant Optimisers"
   ]
  },
  {
   "cell_type": "markdown",
   "metadata": {},
   "source": [
    "This library is specialized for non-gradient based optimization of parameterized quantum circuits, and thus is perfect for our needs. Here, the library takes as input `budget` value, which determines how \"long\" it should attempt minimizing the expectation value."
   ]
  },
  {
   "cell_type": "code",
   "execution_count": 37,
   "metadata": {},
   "outputs": [],
   "source": [
    "from skquant.interop.scipy import *"
   ]
  },
  {
   "cell_type": "code",
   "execution_count": 38,
   "metadata": {},
   "outputs": [
    {
     "data": {
      "text/plain": [
       "array([ 5.54193389,  1.25713095,  3.07479606,  7.03997361,  5.86710646,\n",
       "       -3.07020901,  2.98479079, -0.47550269, -0.32427159,  1.28993324,\n",
       "        0.45252622,  4.56873497])"
      ]
     },
     "execution_count": 38,
     "metadata": {},
     "output_type": "execute_result"
    }
   ],
   "source": [
    "# We need to bound our parameters for the optimization\n",
    "bounds = np.array([-3*np.pi, 3*np.pi])\n",
    "bounds = np.tile(bounds, (4*3, 1))\n",
    "\n",
    "np.random.seed(0)\n",
    "params = np.random.normal(0, np.pi, (4, 3))\n",
    "\n",
    "# The library must receive the parameters as a flat 1D array\n",
    "flattened_parameters = params.flatten()\n",
    "flattened_parameters"
   ]
  },
  {
   "cell_type": "markdown",
   "metadata": {},
   "source": [
    "Let's try the first optimizer."
   ]
  },
  {
   "cell_type": "code",
   "execution_count": 42,
   "metadata": {},
   "outputs": [
    {
     "data": {
      "text/plain": [
       "     fun: -1.1329627749839453\n",
       " message: 'completed'\n",
       "    nfev: 100\n",
       "  status: 0\n",
       " success: True\n",
       "       x: array([ 6.0388495 , -0.09447084,  2.57788046,  6.54305801,  6.27915045,\n",
       "       -3.56712461,  2.48787519, -0.2274104 ,  0.28697217,  0.79301763,\n",
       "       -0.01450685,  5.06565057])"
      ]
     },
     "execution_count": 42,
     "metadata": {},
     "output_type": "execute_result"
    }
   ],
   "source": [
    "budget = 100\n",
    "minimum_bobyqa = minimize(cost_fn, flattened_parameters, method=pybobyqa, bounds=bounds, options={'budget' : budget})\n",
    "\n",
    "minimum_bobyqa"
   ]
  },
  {
   "cell_type": "markdown",
   "metadata": {},
   "source": [
    "That's very close to PennyLane's -1.13613394 Ha!\n",
    "\n",
    "Let's try the two other optimizers."
   ]
  },
  {
   "cell_type": "code",
   "execution_count": 43,
   "metadata": {},
   "outputs": [
    {
     "data": {
      "text/plain": [
       "     fun: -0.9093011711618758\n",
       " message: 'completed'\n",
       "    nfev: 121\n",
       "  status: 0\n",
       " success: True\n",
       "       x: array([-7.67176926e-01, -6.06635258e+00,  5.90556587e-01, -4.01872532e-01,\n",
       "        1.31946891e-03, -3.19481123e+00,  3.95916073e+00, -3.13279619e-01,\n",
       "        2.32226529e-01, -3.31563689e+00, -5.25544469e+00,  2.24743255e+00])"
      ]
     },
     "execution_count": 43,
     "metadata": {},
     "output_type": "execute_result"
    }
   ],
   "source": [
    "budget = 100\n",
    "minimum_snobfit = minimize(cost_fn, flattened_parameters, method=snobfit, bounds=bounds, options={'budget' : budget})\n",
    "\n",
    "minimum_snobfit"
   ]
  },
  {
   "cell_type": "code",
   "execution_count": 44,
   "metadata": {},
   "outputs": [
    {
     "data": {
      "text/plain": [
       "     fun: -1.016230585889092\n",
       " message: 'completed'\n",
       "    nfev: 105\n",
       "  status: 0\n",
       " success: True\n",
       "       x: array([ 5.54193389,  5.96951993,  5.43099055,  7.03997361,  5.86710646,\n",
       "        6.35456895,  2.98479079, -0.47550269, -0.32427159,  1.28993324,\n",
       "        0.45252622,  4.56873497])"
      ]
     },
     "execution_count": 44,
     "metadata": {},
     "output_type": "execute_result"
    }
   ],
   "source": [
    "budget = 100\n",
    "minimum_imfil = minimize(cost_fn, flattened_parameters, method=imfil, bounds=bounds, options={'budget' : budget})\n",
    "\n",
    "minimum_imfil"
   ]
  },
  {
   "cell_type": "markdown",
   "metadata": {},
   "source": [
    "It seems that a budget of 100 was not sufficient for them, and thus were not able to reach the same minimum value as that of BOBYQA."
   ]
  },
  {
   "cell_type": "code",
   "execution_count": null,
   "metadata": {},
   "outputs": [],
   "source": []
  }
 ],
 "metadata": {
  "kernelspec": {
   "display_name": "Python 3",
   "language": "python",
   "name": "python3"
  },
  "language_info": {
   "codemirror_mode": {
    "name": "ipython",
    "version": 3
   },
   "file_extension": ".py",
   "mimetype": "text/x-python",
   "name": "python",
   "nbconvert_exporter": "python",
   "pygments_lexer": "ipython3",
   "version": "3.8.10"
  }
 },
 "nbformat": 4,
 "nbformat_minor": 2
}
