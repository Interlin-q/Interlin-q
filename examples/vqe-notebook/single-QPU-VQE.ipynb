{
 "cells": [
  {
   "cell_type": "markdown",
   "metadata": {},
   "source": [
    "# Single QPU VQE experiment\n",
    "\n",
    "This notebook goes through the running of a VQE algorithm using interlin-q. For simplicity, we only try out using one QPU."
   ]
  },
  {
   "cell_type": "markdown",
   "metadata": {},
   "source": [
    "## Step 1: Import libraries.\n",
    "\n",
    "First we import all the necessary libraries. Interlin-q is build using the python framework [QuNetSim](https://arxiv.org/abs/2003.06397) which is a python software framework that can be used to simulate quantum networks up to the network layer. We also need PennyLane's chemistry library for decomposing the Hamiltonian."
   ]
  },
  {
   "cell_type": "code",
   "execution_count": 13,
   "metadata": {},
   "outputs": [],
   "source": [
    "import sys\n",
    "import numpy as np\n",
    "sys.path.append(\"../../\")\n",
    "\n",
    "from qunetsim.components import Network\n",
    "from qunetsim.objects import Logger\n",
    "\n",
    "from interlinq import (ControllerHost, Constants, Clock,\n",
    "Circuit, Layer, ComputingHost, Operation)\n",
    "\n",
    "from hamiltonian_decomposition import decompose\n",
    "\n",
    "Logger.DISABLED = False"
   ]
  },
  {
   "cell_type": "markdown",
   "metadata": {},
   "source": [
    "## Step 2: Decompose the Hamiltonian."
   ]
  },
  {
   "cell_type": "code",
   "execution_count": 2,
   "metadata": {},
   "outputs": [],
   "source": [
    "geometry = 'h2.xyz'\n",
    "charge = 0\n",
    "multiplicity = 1\n",
    "basis_set = 'sto-3g'\n",
    "name = 'h2'"
   ]
  },
  {
   "cell_type": "code",
   "execution_count": 3,
   "metadata": {},
   "outputs": [
    {
     "data": {
      "text/plain": [
       "[[('Identity', 0)],\n",
       " [('PauliZ', 0)],\n",
       " [('PauliZ', 1)],\n",
       " [('PauliZ', 2)],\n",
       " [('PauliZ', 3)],\n",
       " [('PauliZ', 0), ('PauliZ', 1)],\n",
       " [('PauliY', 0), ('PauliX', 1), ('PauliX', 2), ('PauliY', 3)],\n",
       " [('PauliY', 0), ('PauliY', 1), ('PauliX', 2), ('PauliX', 3)],\n",
       " [('PauliX', 0), ('PauliX', 1), ('PauliY', 2), ('PauliY', 3)],\n",
       " [('PauliX', 0), ('PauliY', 1), ('PauliY', 2), ('PauliX', 3)],\n",
       " [('PauliZ', 0), ('PauliZ', 2)],\n",
       " [('PauliZ', 0), ('PauliZ', 3)],\n",
       " [('PauliZ', 1), ('PauliZ', 2)],\n",
       " [('PauliZ', 1), ('PauliZ', 3)],\n",
       " [('PauliZ', 2), ('PauliZ', 3)]]"
      ]
     },
     "execution_count": 3,
     "metadata": {},
     "output_type": "execute_result"
    }
   ],
   "source": [
    "observables, qubit_num = decompose(name, geometry, charge, multiplicity, basis_set)\n",
    "\n",
    "observables"
   ]
  },
  {
   "cell_type": "markdown",
   "metadata": {},
   "source": [
    "## Step 3: Running Circuit on Interlin-q"
   ]
  },
  {
   "cell_type": "markdown",
   "metadata": {},
   "source": [
    "### Single-step approach"
   ]
  },
  {
   "cell_type": "code",
   "execution_count": 4,
   "metadata": {},
   "outputs": [],
   "source": [
    "def rotational_gate(params):\n",
    "    phi, theta, omega = params\n",
    "    cos = np.cos(theta / 2)\n",
    "    sin = np.sin(theta / 2)\n",
    "    return np.array([[np.exp(-1j * (phi + omega) / 2) * cos, -np.exp(1j * (phi - omega) / 2) * sin], \n",
    "                     [np.exp(-1j * (phi - omega) / 2) * sin, np.exp(1j * (phi + omega) / 2) * cos]])\n",
    "\n",
    "def initialise_and_create_ansatz(q_map, parameters):\n",
    "    layers = []\n",
    "    host_id = list(q_map.keys())[0]\n",
    "    \n",
    "    # Initialise the qubits on the computing host\n",
    "    ops = []\n",
    "    \n",
    "    op = Operation(\n",
    "        name=Constants.PREPARE_QUBITS,\n",
    "        qids=q_map[host_id],\n",
    "        computing_host_ids=[host_id])\n",
    "    ops.append(op)\n",
    "    \n",
    "    # Prepare the qubits on the computing host\n",
    "    op = Operation(\n",
    "        name=Constants.SINGLE,\n",
    "        qids=[q_map[host_id][0]],\n",
    "        gate=Operation.X,\n",
    "        computing_host_ids=[host_id])\n",
    "    ops.append(op)\n",
    "    \n",
    "    op = Operation(\n",
    "        name=Constants.SINGLE,\n",
    "        qids=[q_map[host_id][1]],\n",
    "        gate=Operation.X,\n",
    "        computing_host_ids=[host_id])\n",
    "    ops.append(op)\n",
    "    \n",
    "    layers.append(Layer(ops))\n",
    "    \n",
    "    ########################################################\n",
    "    \n",
    "    # Apply the ansatz\n",
    "    for i in range(len(q_map[host_id])):\n",
    "        ops = list()\n",
    "        \n",
    "        op = Operation(\n",
    "            name=Constants.SINGLE,\n",
    "            qids=[q_map[host_id][i]],\n",
    "            gate=Operation.CUSTOM,\n",
    "            gate_param=rotational_gate(parameters[i]),\n",
    "            computing_host_ids=[host_id])\n",
    "        \n",
    "        ops.append(op)\n",
    "    \n",
    "    layers.append(Layer(ops))\n",
    "    \n",
    "    op = Operation(\n",
    "        name=Constants.TWO_QUBIT,\n",
    "        qids=[q_map[host_id][2], q_map[host_id][3]],\n",
    "        gate=Operation.CNOT,\n",
    "        computing_host_ids=[host_id])\n",
    "    \n",
    "    layers.append(Layer([op]))\n",
    "    \n",
    "    op = Operation(\n",
    "        name=Constants.TWO_QUBIT,\n",
    "        qids=[q_map[host_id][2], q_map[host_id][0]],\n",
    "        gate=Operation.CNOT,\n",
    "        computing_host_ids=[host_id])\n",
    "    \n",
    "    layers.append(Layer([op]))\n",
    "    \n",
    "    op = Operation(\n",
    "        name=Constants.TWO_QUBIT,\n",
    "        qids=[q_map[host_id][3], q_map[host_id][1]],\n",
    "        gate=Operation.CNOT,\n",
    "        computing_host_ids=[host_id])\n",
    "    \n",
    "    layers.append(Layer([op]))\n",
    "    \n",
    "    ########################################################\n",
    "    \n",
    "    ops = []\n",
    "    # Measuring only the first qubit\n",
    "    op = Operation(\n",
    "        name=Constants.MEASURE,\n",
    "        qids=['q_0_0'],\n",
    "        cids=['q_0_0'],\n",
    "        computing_host_ids=[host_id])\n",
    "    ops.append(op)\n",
    "    layers.append(Layer(ops))\n",
    "    \n",
    "    # Measuring all qubits\n",
    "    #q_ids = q_map[host_id].copy()\n",
    "    #ops = []\n",
    "    #for q_id in q_ids:\n",
    "    #    op = Operation(\n",
    "    #        name=Constants.MEASURE,\n",
    "    #        qids=[q_id],\n",
    "    #        cids=[q_id],\n",
    "    #        computing_host_ids=[computing_host_ids[0]])\n",
    "    #    ops.append(op)\n",
    "    #layers.append(Layer(ops))\n",
    "    \n",
    "    circuit = Circuit(q_map, layers)\n",
    "    return circuit"
   ]
  },
  {
   "cell_type": "code",
   "execution_count": 5,
   "metadata": {},
   "outputs": [],
   "source": [
    "def controller_host_protocol(host, q_map, params):\n",
    "    \"\"\"\n",
    "    Protocol for the controller host\n",
    "    \"\"\"\n",
    "    \n",
    "    monolithic_circuit = initialise_and_create_ansatz(q_map, params)\n",
    "\n",
    "    host.generate_and_send_schedules(monolithic_circuit)\n",
    "    \n",
    "    host.receive_results()\n",
    "\n",
    "    results = host.results\n",
    "\n",
    "    print(results)\n",
    "    print(list(results['QPU_0']['bits'].values()))"
   ]
  },
  {
   "cell_type": "code",
   "execution_count": 6,
   "metadata": {},
   "outputs": [],
   "source": [
    "def computing_host_protocol(host):\n",
    "    host.receive_schedule()\n",
    "    host.send_results()"
   ]
  },
  {
   "cell_type": "code",
   "execution_count": 7,
   "metadata": {},
   "outputs": [
    {
     "name": "stderr",
     "output_type": "stream",
     "text": [
      "2021-03-24 03:11:15,559: Host QPU_0 started processing\n",
      "2021-03-24 03:11:15,560: Host host_1 started processing\n"
     ]
    }
   ],
   "source": [
    "network = Network.get_instance()\n",
    "network.delay = 0\n",
    "network.start()\n",
    "\n",
    "clock = Clock()\n",
    "\n",
    "controller_host = ControllerHost(\n",
    "    host_id=\"host_1\",\n",
    "    clock=clock\n",
    ")\n",
    "\n",
    "computing_hosts, q_map = controller_host.create_distributed_network(\n",
    "    num_computing_hosts=1,\n",
    "    num_qubits_per_host=4)\n",
    "controller_host.start()\n",
    "\n",
    "network.add_hosts([\n",
    "    computing_hosts[0],\n",
    "    controller_host])"
   ]
  },
  {
   "cell_type": "code",
   "execution_count": 8,
   "metadata": {},
   "outputs": [],
   "source": [
    "params = np.random.rand(4, 3)"
   ]
  },
  {
   "cell_type": "code",
   "execution_count": 11,
   "metadata": {},
   "outputs": [
    {
     "name": "stderr",
     "output_type": "stream",
     "text": [
      "2021-03-24 03:11:45,503: host_1 sends BROADCAST message\n",
      "2021-03-24 03:11:45,659: sending ACK:2 from QPU_0 to host_1\n",
      "2021-03-24 03:11:45,697: QPU_0 received {\"QPU_0\": [{\"name\": \"PREPARE_QUBITS\", \"qids\": [\"q_0_0\", \"q_0_1\", \"q_0_2\", \"q_0_3\"], \"cids\": null, \"gate\": null, \"gate_param\": null, \"computing_host_ids\": [\"QPU_0\"], \"pre_allocated_qubits\": false, \"layer_end\": 7}, {\"name\": \"SINGLE\", \"qids\": [\"q_0_0\"], \"cids\": null, \"gate\": \"X\", \"gate_param\": null, \"computing_host_ids\": [\"QPU_0\"], \"pre_allocated_qubits\": false, \"layer_end\": 7}, {\"name\": \"SINGLE\", \"qids\": [\"q_0_1\"], \"cids\": null, \"gate\": \"X\", \"gate_param\": null, \"computing_host_ids\": [\"QPU_0\"], \"pre_allocated_qubits\": false, \"layer_end\": 7}, {\"name\": \"SINGLE\", \"qids\": [\"q_0_3\"], \"cids\": null, \"gate\": \"custom_gate\", \"gate_param\": [[[0.9418392348578628, -0.3275094061608439], [-0.0736024530229415, 0.016097312431972922]], [[0.0736024530229415, 0.016097312431972922], [0.9418392348578628, 0.3275094061608439]]], \"computing_host_ids\": [\"QPU_0\"], \"pre_allocated_qubits\": false, \"layer_end\": 8}, {\"name\": \"TWO_QUBIT\", \"qids\": [\"q_0_2\", \"q_0_3\"], \"cids\": null, \"gate\": \"cnot\", \"gate_param\": null, \"computing_host_ids\": [\"QPU_0\"], \"pre_allocated_qubits\": false, \"layer_end\": 9}, {\"name\": \"TWO_QUBIT\", \"qids\": [\"q_0_2\", \"q_0_0\"], \"cids\": null, \"gate\": \"cnot\", \"gate_param\": null, \"computing_host_ids\": [\"QPU_0\"], \"pre_allocated_qubits\": false, \"layer_end\": 10}, {\"name\": \"TWO_QUBIT\", \"qids\": [\"q_0_3\", \"q_0_1\"], \"cids\": null, \"gate\": \"cnot\", \"gate_param\": null, \"computing_host_ids\": [\"QPU_0\"], \"pre_allocated_qubits\": false, \"layer_end\": 11}, {\"name\": \"MEASURE\", \"qids\": [\"q_0_0\"], \"cids\": [\"q_0_0\"], \"gate\": null, \"gate_param\": null, \"computing_host_ids\": [\"QPU_0\"], \"pre_allocated_qubits\": false, \"layer_end\": 12}]} with sequence number 1\n",
      "2021-03-24 03:11:45,697: QPU_0 sends CLASSICAL to host_1 with sequence 2\n",
      "2021-03-24 03:11:45,698: host_1 received ACK from QPU_0 with sequence number 1\n",
      "2021-03-24 03:11:45,699: QPU_0 awaits classical ACK from host_1 with sequence 2\n",
      "2021-03-24 03:11:45,701: sending ACK:3 from host_1 to QPU_0\n",
      "2021-03-24 03:11:45,702: host_1 received ACK with sequence number 2\n",
      "2021-03-24 03:11:45,704: QPU_0 received ACK from host_1 with sequence number 2\n",
      "2021-03-24 03:11:45,704: QPU_0 sends CLASSICAL to host_1 with sequence 3\n",
      "2021-03-24 03:11:45,705: QPU_0 awaits classical ACK from host_1 with sequence 3\n",
      "2021-03-24 03:11:45,706: sending ACK:4 from host_1 to QPU_0\n",
      "2021-03-24 03:11:45,706: host_1 received {\"QPU_0\": {\"type\": \"result\", \"bits\": {\"q_0_0\": 1}}} with sequence number 3\n",
      "2021-03-24 03:11:45,709: QPU_0 received ACK from host_1 with sequence number 3\n"
     ]
    },
    {
     "name": "stdout",
     "output_type": "stream",
     "text": [
      "7\n",
      "8\n",
      "9\n",
      "10\n",
      "11\n",
      "12\n",
      "13\n",
      "{'QPU_0': {'type': 'result', 'bits': {'q_0_0': 1}}}\n",
      "[1]\n",
      "2\n",
      "dict_keys([7, 8, 9, 10, 11, 12])\n"
     ]
    }
   ],
   "source": [
    "t1 = controller_host.run_protocol(\n",
    "    controller_host_protocol,\n",
    "    (q_map, params))\n",
    "t2 = computing_hosts[0].run_protocol(computing_host_protocol)\n",
    "\n",
    "t1.join()\n",
    "t2.join()"
   ]
  },
  {
   "cell_type": "code",
   "execution_count": 12,
   "metadata": {},
   "outputs": [
    {
     "data": {
      "text/plain": [
       "14"
      ]
     },
     "execution_count": 12,
     "metadata": {},
     "output_type": "execute_result"
    }
   ],
   "source": [
    "# This should be 7 after the first invocation. \n",
    "# For any further invocations, it would increase by 6: 13,19, 25, etc. So is that expected behaviour?\n",
    "clock.ticks"
   ]
  },
  {
   "cell_type": "markdown",
   "metadata": {},
   "source": [
    "### Split-steps approach"
   ]
  },
  {
   "cell_type": "code",
   "execution_count": null,
   "metadata": {},
   "outputs": [],
   "source": [
    "def prepare_qubits(q_map):\n",
    "    layers = []\n",
    "    host_id = list(q_map.keys())[0]\n",
    "    \n",
    "    # Initialise the qubits on the computing host\n",
    "    ops = []\n",
    "    \n",
    "    op = Operation(\n",
    "        name=Constants.PREPARE_QUBITS,\n",
    "        qids=q_map[host_id],\n",
    "        computing_host_ids=[host_id])\n",
    "    ops.append(op)\n",
    "    \n",
    "    # Prepare the qubits on the computing host\n",
    "    op = Operation(\n",
    "        name=Constants.SINGLE,\n",
    "        qids=[q_map[host_id][0]],\n",
    "        gate=Operation.X,\n",
    "        computing_host_ids=[host_id])\n",
    "    ops.append(op)\n",
    "    \n",
    "    op = Operation(\n",
    "        name=Constants.SINGLE,\n",
    "        qids=[q_map[host_id][1]],\n",
    "        gate=Operation.X,\n",
    "        computing_host_ids=[host_id])\n",
    "    ops.append(op)\n",
    "    \n",
    "    layers.append(Layer(ops))\n",
    "    \n",
    "    circuit = Circuit(q_map, layers)\n",
    "    return circuit"
   ]
  },
  {
   "cell_type": "code",
   "execution_count": null,
   "metadata": {},
   "outputs": [],
   "source": [
    "def rotational_gate(params):\n",
    "    phi, theta, omega = params\n",
    "    cos = np.cos(theta / 2)\n",
    "    sin = np.sin(theta / 2)\n",
    "    return np.array([[np.exp(-1j * (phi + omega) / 2) * cos, -np.exp(1j * (phi - omega) / 2) * sin], \n",
    "                     [np.exp(-1j * (phi - omega) / 2) * sin, np.exp(1j * (phi + omega) / 2) * cos]])\n",
    "\n",
    "\n",
    "def apply_ansatz(q_map, parameters):\n",
    "    layers = []\n",
    "    host_id = list(q_map.keys())[0]\n",
    "    \n",
    "    # Initialise the qubits on the computing host\n",
    "    ops = []\n",
    "    \n",
    "    # Apply ansatz\n",
    "    for i in range(len(q_map[host_id])):\n",
    "        ops = list()\n",
    "        \n",
    "        op = Operation(\n",
    "            name=Constants.SINGLE,\n",
    "            qids=[q_map[host_id][i]],\n",
    "            gate=Operation.CUSTOM,\n",
    "            gate_param=rotational_gate(parameters[i]),\n",
    "            computing_host_ids=[host_id])\n",
    "        \n",
    "        ops.append(op)\n",
    "    \n",
    "    layers.append(Layer(ops))\n",
    "    \n",
    "    op = Operation(\n",
    "        name=Constants.TWO_QUBIT,\n",
    "        qids=[q_map[host_id][2], q_map[host_id][3]],\n",
    "        gate=Operation.CNOT,\n",
    "        computing_host_ids=[host_id])\n",
    "    \n",
    "    layers.append(Layer([op]))\n",
    "    \n",
    "    op = Operation(\n",
    "        name=Constants.TWO_QUBIT,\n",
    "        qids=[q_map[host_id][2], q_map[host_id][0]],\n",
    "        gate=Operation.CNOT,\n",
    "        computing_host_ids=[host_id])\n",
    "    \n",
    "    layers.append(Layer([op]))\n",
    "    \n",
    "    op = Operation(\n",
    "        name=Constants.TWO_QUBIT,\n",
    "        qids=[q_map[host_id][3], q_map[host_id][1]],\n",
    "        gate=Operation.CNOT,\n",
    "        computing_host_ids=[host_id])\n",
    "    \n",
    "    layers.append(Layer([op]))\n",
    "    \n",
    "    circuit = Circuit(q_map, layers)\n",
    "    return circuit"
   ]
  },
  {
   "cell_type": "code",
   "execution_count": null,
   "metadata": {},
   "outputs": [],
   "source": [
    "def measure(q_map):\n",
    "    layers = []\n",
    "    host_id = list(q_map.keys())[0]\n",
    "    \n",
    "    ops = []\n",
    "    \n",
    "    #q_ids = q_map[host_id].copy()\n",
    "    #for q_id in q_ids:\n",
    "    #    print(q_id)\n",
    "    #print(host_id)\n",
    "    \n",
    "    op = Operation(\n",
    "        name=Constants.MEASURE,\n",
    "        qids=['q_0_0'],\n",
    "        cids=['q_0_0'],\n",
    "        computing_host_ids=[host_id])\n",
    "\n",
    "    layers.append(Layer([op]))\n",
    "    \n",
    "    circuit = Circuit(q_map, layers)\n",
    "    return circuit"
   ]
  },
  {
   "cell_type": "code",
   "execution_count": null,
   "metadata": {},
   "outputs": [],
   "source": [
    "def controller_host_protocol_preparation(host, q_map, params):\n",
    "    \"\"\"\n",
    "    Protocol for the controller host\n",
    "    \"\"\"\n",
    "    host.generate_and_send_schedules(prepare_qubits(q_map))\n",
    "    \n",
    "    #host.receive_results()"
   ]
  },
  {
   "cell_type": "code",
   "execution_count": null,
   "metadata": {},
   "outputs": [],
   "source": [
    "def controller_host_protocol_ansatz(host, q_map, params):\n",
    "    \"\"\"\n",
    "    Protocol for the controller host\n",
    "    \"\"\"\n",
    "    host.generate_and_send_schedules(apply_ansatz(q_map, params))\n",
    "    \n",
    "    #host.receive_results()"
   ]
  },
  {
   "cell_type": "code",
   "execution_count": null,
   "metadata": {},
   "outputs": [],
   "source": [
    "def controller_host_protocol_measure(host, q_map, params):\n",
    "    host.generate_and_send_schedules(measure(q_map))\n",
    "\n",
    "    host.receive_results()\n",
    "\n",
    "    print(host.results)"
   ]
  },
  {
   "cell_type": "markdown",
   "metadata": {},
   "source": [
    "### Computing and Network Set-up"
   ]
  },
  {
   "cell_type": "code",
   "execution_count": null,
   "metadata": {},
   "outputs": [],
   "source": [
    "# Used for the first two invocations\n",
    "def computing_host_protocol_rec(host):\n",
    "    host.receive_schedule()"
   ]
  },
  {
   "cell_type": "code",
   "execution_count": null,
   "metadata": {},
   "outputs": [],
   "source": [
    "# Used for the last one\n",
    "def computing_host_protocol(host):\n",
    "    host.receive_schedule()\n",
    "    host.send_results()"
   ]
  },
  {
   "cell_type": "code",
   "execution_count": null,
   "metadata": {},
   "outputs": [],
   "source": [
    "network = Network.get_instance()\n",
    "network.delay = 0\n",
    "network.start()\n",
    "\n",
    "clock = Clock()\n",
    "\n",
    "controller_host = ControllerHost(\n",
    "    host_id=\"host_1\",\n",
    "    clock=clock\n",
    ")\n",
    "\n",
    "computing_hosts, q_map = controller_host.create_distributed_network(\n",
    "    num_computing_hosts=1,\n",
    "    num_qubits_per_host=4)\n",
    "controller_host.start()\n",
    "\n",
    "network.add_hosts([\n",
    "    computing_hosts[0],\n",
    "    controller_host])"
   ]
  },
  {
   "cell_type": "code",
   "execution_count": null,
   "metadata": {},
   "outputs": [],
   "source": [
    "params = np.random.rand(4, 3)"
   ]
  },
  {
   "cell_type": "code",
   "execution_count": null,
   "metadata": {},
   "outputs": [],
   "source": [
    "t1 = controller_host.run_protocol(\n",
    "    controller_host_protocol_preparation,\n",
    "    (q_map, params))\n",
    "t2 = computing_hosts[0].run_protocol(computing_host_protocol_rec)\n",
    "\n",
    "t1.join()\n",
    "t2.join()"
   ]
  },
  {
   "cell_type": "code",
   "execution_count": null,
   "metadata": {},
   "outputs": [],
   "source": [
    "clock.ticks"
   ]
  },
  {
   "cell_type": "code",
   "execution_count": null,
   "metadata": {},
   "outputs": [],
   "source": [
    "t1 = controller_host.run_protocol(\n",
    "    controller_host_protocol_ansatz,\n",
    "    (q_map, params))\n",
    "t2 = computing_hosts[0].run_protocol(computing_host_protocol_rec)\n",
    "\n",
    "t1.join()\n",
    "t2.join()"
   ]
  },
  {
   "cell_type": "code",
   "execution_count": null,
   "metadata": {},
   "outputs": [],
   "source": [
    "clock.ticks"
   ]
  },
  {
   "cell_type": "code",
   "execution_count": null,
   "metadata": {},
   "outputs": [],
   "source": [
    "# For some reason, this returns empty results, not sure why. \n",
    "# And even a print statement in the _process_measurement function is not reached\n",
    "t1 = controller_host.run_protocol(\n",
    "    controller_host_protocol_measure,\n",
    "    (q_map, params))\n",
    "t2 = computing_hosts[0].run_protocol(computing_host_protocol)\n",
    "\n",
    "t1.join()\n",
    "t2.join()"
   ]
  },
  {
   "cell_type": "code",
   "execution_count": null,
   "metadata": {},
   "outputs": [],
   "source": [
    "clock.ticks"
   ]
  },
  {
   "cell_type": "markdown",
   "metadata": {},
   "source": [
    "### Misc"
   ]
  },
  {
   "cell_type": "code",
   "execution_count": null,
   "metadata": {},
   "outputs": [],
   "source": [
    "for _ in range(20):\n",
    "    network = Network.get_instance()\n",
    "    network.delay = 0\n",
    "    network.start()\n",
    "\n",
    "    clock = Clock()\n",
    "\n",
    "    controller_host = ControllerHost(\n",
    "        host_id=\"host_1\",\n",
    "        clock=clock,\n",
    "    )\n",
    "\n",
    "    computing_hosts, q_map = controller_host.create_distributed_network(\n",
    "        num_computing_hosts=1,\n",
    "        num_qubits_per_host=4)\n",
    "    controller_host.start()\n",
    "\n",
    "    network.add_hosts([\n",
    "        computing_hosts[0],\n",
    "        controller_host])\n",
    "    \n",
    "    t1 = controller_host.run_protocol(\n",
    "        controller_host_protocol,\n",
    "        (q_map, params))\n",
    "    t2 = computing_hosts[0].run_protocol(computing_host_protocol)\n",
    "\n",
    "    t1.join()\n",
    "    t2.join()\n",
    "    network.stop(False)"
   ]
  },
  {
   "cell_type": "code",
   "execution_count": null,
   "metadata": {},
   "outputs": [],
   "source": []
  }
 ],
 "metadata": {
  "kernelspec": {
   "display_name": "Python 3",
   "language": "python",
   "name": "python3"
  },
  "language_info": {
   "codemirror_mode": {
    "name": "ipython",
    "version": 3
   },
   "file_extension": ".py",
   "mimetype": "text/x-python",
   "name": "python",
   "nbconvert_exporter": "python",
   "pygments_lexer": "ipython3",
   "version": "3.8.5"
  }
 },
 "nbformat": 4,
 "nbformat_minor": 2
}
